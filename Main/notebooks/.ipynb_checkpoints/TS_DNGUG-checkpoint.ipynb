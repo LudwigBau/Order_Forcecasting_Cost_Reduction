{
 "cells": [
  {
   "cell_type": "code",
   "execution_count": 7,
   "id": "ec1cb497-699e-44e9-a98b-facd65117b7f",
   "metadata": {},
   "outputs": [],
   "source": [
    "import pandas as pd\n",
    "import numpy as np\n",
    "import pickle\n",
    "\n",
    "import pmdarima as pm\n",
    "\n",
    "from statsmodels.tsa.holtwinters import ExponentialSmoothing\n",
    "from statsmodels.tsa.statespace.sarimax import SARIMAX\n",
    "\n",
    "from sklearn.model_selection import TimeSeriesSplit\n",
    "\n",
    "import sys \n",
    "sys.path.append('/Users/ludwigbaunach/Documents/Studium/PhD/Alaiko/Paper_1_Project/Main/src')\n",
    "from utils.data_split import ml_data_date_split"
   ]
  },
  {
   "cell_type": "markdown",
   "id": "daae6fc5-6bad-40da-9f8b-9079caf40cc8",
   "metadata": {
    "tags": []
   },
   "source": [
    "## Custom Functions"
   ]
  },
  {
   "cell_type": "code",
   "execution_count": 8,
   "id": "4f3f40aa-dfaa-4e6a-bd71-0663a4874bd0",
   "metadata": {},
   "outputs": [],
   "source": [
    "# backtest\n",
    "def ts_backtest(train_data, tscv):\n",
    "    # Initialize DataFrames to store the backtest and forecasted values\n",
    "    backtest_values = pd.DataFrame(columns=['sarima', 'sarimax', 'ets', 'naive_drift', 'naive_seasonal'])\n",
    "\n",
    "    # Loop through the time series splits\n",
    "    for i, (train_index, test_index) in enumerate(tscv.split(train_data)):\n",
    "        train, test = train_data.iloc[train_index], train_data.iloc[test_index]\n",
    "        sales_train, sales_test = train['quantity'], test['quantity']\n",
    "        exog_train, exog_test = train.drop('quantity', axis=1), test.drop('quantity', axis=1)\n",
    "\n",
    "        print(f\"Split {i + 1}\")\n",
    "\n",
    "        print(\"Get Paramters from Auto ARIMA\")\n",
    "        # Auto ARIMA\n",
    "        auto_arima_model = pm.auto_arima(sales_train, seasonal=True, m=7,\n",
    "                                         suppress_warnings=True,\n",
    "                                         stepwise=False,\n",
    "                                         n_jobs=-1)\n",
    "        print(\"SARIMA\")\n",
    "        # SARIMA\n",
    "        sarima_model = SARIMAX(sales_train,\n",
    "                               order=auto_arima_model.order,\n",
    "                               seasonal_order=auto_arima_model.seasonal_order)\n",
    "        sarima_fit = sarima_model.fit(disp=0)\n",
    "        sarima_forecast = sarima_fit.forecast(steps=len(test))\n",
    "\n",
    "        print(\"SARIMAX\")\n",
    "        # SARIMAX\n",
    "        sarimax_model = SARIMAX(sales_train, exog=exog_train,\n",
    "                                order=auto_arima_model.order,\n",
    "                                seasonal_order=auto_arima_model.seasonal_order)\n",
    "        sarimax_fit = sarimax_model.fit(disp=0)\n",
    "        sarimax_forecast = sarimax_fit.forecast(steps=len(test), exog=exog_test)\n",
    "\n",
    "        print(\"ETS\")\n",
    "        # Auto ETS\n",
    "        ets_model = ExponentialSmoothing(sales_train, seasonal_periods=7,\n",
    "                                         trend='add',\n",
    "                                         seasonal='add',\n",
    "                                         damped_trend=True)\n",
    "        auto_ets_model = ets_model.fit()\n",
    "        ets_forecast = auto_ets_model.forecast(len(test))\n",
    "\n",
    "        print(\"Naive Benchmarks\")\n",
    "        # NaiveDrift\n",
    "        naive_drift_forecast = sales_train.iloc[-1] + np.cumsum(sales_train.diff().mean()) * np.arange(1, len(test) + 1)\n",
    "\n",
    "        # NaiveSeasonal\n",
    "        naive_seasonal_model = SARIMAX(sales_train, order=(0, 0, 0), seasonal_order=(0, 1, 0, 7))\n",
    "        naive_seasonal_fit = naive_seasonal_model.fit(disp=0)\n",
    "        naive_seasonal_forecast = naive_seasonal_fit.forecast(steps=len(test))\n",
    "\n",
    "        # Save backtest values\n",
    "        temp_df = pd.DataFrame({'sarima': sarima_forecast,\n",
    "                                'sarimax': sarimax_forecast,\n",
    "                                'ets': ets_forecast,\n",
    "                                'naive_drift': naive_drift_forecast,\n",
    "                                'naive_seasonal': naive_seasonal_forecast}, index=test.index)\n",
    "\n",
    "        backtest_values = pd.concat([backtest_values, temp_df])\n",
    "\n",
    "    return backtest_values\n",
    "\n",
    "\n",
    "# Forecast\n",
    "def ts_forecast(train_data, test_data):\n",
    "    # data\n",
    "    sales_train = train_data[\"quantity\"]\n",
    "    exog_train = train_data.drop('quantity', axis=1)\n",
    "    exog_test = test_data.drop('quantity', axis=1)\n",
    "\n",
    "    print(\"Get Paramters from Auto ARIMA\")\n",
    "\n",
    "    # Auto ARIMA (get parameters)\n",
    "    auto_arima_model = pm.auto_arima(sales_train, seasonal=True, m=7,\n",
    "                                     suppress_warnings=True,\n",
    "                                     stepwise=False,\n",
    "                                     n_jobs=-1)\n",
    "    print(f\"auto_arima Parameters: {auto_arima_model.order}\")\n",
    "    print(f\"auto_arima Seasonal Parameters: {auto_arima_model.seasonal_order}\")\n",
    "\n",
    "    # Train Models\n",
    "    print(\"SARIMA\")\n",
    "    # SARIMA\n",
    "    sarima_model = SARIMAX(sales_train,\n",
    "                           order=auto_arima_model.order,\n",
    "                           seasonal_order=auto_arima_model.seasonal_order)\n",
    "    sarima_fit = sarima_model.fit(disp=0)\n",
    "\n",
    "    # SARIMAX\n",
    "    print(\"SARIMAX\")\n",
    "    sarimax_model = SARIMAX(sales_train, exog=exog_train,\n",
    "                            order=auto_arima_model.order,\n",
    "                            seasonal_order=auto_arima_model.seasonal_order)\n",
    "    sarimax_fit = sarimax_model.fit(disp=0)\n",
    "\n",
    "    # Auto ETS\n",
    "    print(\"ETS\")\n",
    "    ets_model = ExponentialSmoothing(sales_train, seasonal_periods=7,\n",
    "                                     trend='add',\n",
    "                                     seasonal='add',\n",
    "                                     damped_trend=True)\n",
    "    auto_ets_model = ets_model.fit()\n",
    "\n",
    "    # NaiveDrift\n",
    "    print(\"NAIVE Benchmarks\")\n",
    "    naive_drift_forecast = sales_train.iloc[-1] + np.cumsum(sales_train.diff().mean()) * np.arange(1, 10)\n",
    "\n",
    "    # NaiveSeasonal\n",
    "    naive_seasonal_model = SARIMAX(sales_train, order=(0, 0, 0), seasonal_order=(0, 1, 0, 7))\n",
    "    naive_seasonal_fit = naive_seasonal_model.fit(disp=0)\n",
    "    naive_seasonal_forecast = naive_seasonal_fit.forecast(steps=9)\n",
    "\n",
    "    # Forecast the next 9 days\n",
    "    sarima_forecast = sarima_fit.forecast(steps=9)\n",
    "    sarimax_forecast = sarimax_fit.forecast(steps=9, exog=exog_test)\n",
    "    ets_forecast = auto_ets_model.forecast(9)\n",
    "\n",
    "    # Save forecasted values\n",
    "    forecast_values = pd.DataFrame({'sarima': sarima_forecast,\n",
    "                                    'sarimax': sarimax_forecast,\n",
    "                                    'ets': ets_forecast,\n",
    "                                    'naive_drift': naive_drift_forecast,\n",
    "                                    'naive_seasonal': naive_seasonal_forecast},\n",
    "                                   index=pd.date_range(train_data.index[-1], periods=10, inclusive='right'))\n",
    "\n",
    "    return forecast_values"
   ]
  },
  {
   "cell_type": "markdown",
   "id": "84176e98-ee6e-4b10-b2fc-e3699e51bfac",
   "metadata": {},
   "source": [
    "## Data Exploration"
   ]
  },
  {
   "cell_type": "code",
   "execution_count": 9,
   "id": "fae6d582-567f-4ff6-9e98-5e3fce2a9241",
   "metadata": {},
   "outputs": [],
   "source": [
    "holiday = pd.read_csv(\"../data/intermediate/calender.csv\")\n",
    "\n",
    "holiday_selection = ['is_holiday', 'is_event', 'xmas_1_week', 'xmas_2_week',\n",
    "       'after_xmas_week', 'event_Black_Friday', 'event_Cyber_Monday',\n",
    "       'event_Thanksgiving', 'event_Valentines_Day']"
   ]
  },
  {
   "cell_type": "markdown",
   "id": "7f013c03-0078-491a-830f-877cd79008d3",
   "metadata": {
    "tags": []
   },
   "source": [
    "## Forecast"
   ]
  },
  {
   "cell_type": "code",
   "execution_count": 10,
   "id": "9ebc1d0d-164c-44c8-a9df-6f3efe824610",
   "metadata": {},
   "outputs": [
    {
     "name": "stdout",
     "output_type": "stream",
     "text": [
      "WH-Chain-1\n",
      "Set up data\n",
      "start backtest\n",
      "Split 1\n",
      "Get Paramters from Auto ARIMA\n",
      "SARIMA\n",
      "SARIMAX\n",
      "ETS\n"
     ]
    },
    {
     "name": "stderr",
     "output_type": "stream",
     "text": [
      "/opt/miniconda3/envs/snowflakes/lib/python3.10/site-packages/statsmodels/tsa/holtwinters/model.py:915: ConvergenceWarning: Optimization failed to converge. Check mle_retvals.\n",
      "  warnings.warn(\n"
     ]
    },
    {
     "name": "stdout",
     "output_type": "stream",
     "text": [
      "Naive Benchmarks\n",
      "Split 2\n",
      "Get Paramters from Auto ARIMA\n",
      "SARIMA\n",
      "SARIMAX\n",
      "ETS\n",
      "Naive Benchmarks\n"
     ]
    },
    {
     "name": "stderr",
     "output_type": "stream",
     "text": [
      "/opt/miniconda3/envs/snowflakes/lib/python3.10/site-packages/statsmodels/tsa/holtwinters/model.py:915: ConvergenceWarning: Optimization failed to converge. Check mle_retvals.\n",
      "  warnings.warn(\n"
     ]
    },
    {
     "name": "stdout",
     "output_type": "stream",
     "text": [
      "Split 3\n",
      "Get Paramters from Auto ARIMA\n",
      "SARIMA\n",
      "SARIMAX\n",
      "ETS\n",
      "Naive Benchmarks\n"
     ]
    },
    {
     "name": "stderr",
     "output_type": "stream",
     "text": [
      "/opt/miniconda3/envs/snowflakes/lib/python3.10/site-packages/statsmodels/tsa/holtwinters/model.py:915: ConvergenceWarning: Optimization failed to converge. Check mle_retvals.\n",
      "  warnings.warn(\n"
     ]
    },
    {
     "name": "stdout",
     "output_type": "stream",
     "text": [
      "Split 4\n",
      "Get Paramters from Auto ARIMA\n",
      "SARIMA\n",
      "SARIMAX\n",
      "ETS\n",
      "Naive Benchmarks\n",
      "Split 5\n",
      "Get Paramters from Auto ARIMA\n"
     ]
    },
    {
     "name": "stderr",
     "output_type": "stream",
     "text": [
      "/opt/miniconda3/envs/snowflakes/lib/python3.10/site-packages/statsmodels/tsa/holtwinters/model.py:915: ConvergenceWarning: Optimization failed to converge. Check mle_retvals.\n",
      "  warnings.warn(\n"
     ]
    },
    {
     "name": "stdout",
     "output_type": "stream",
     "text": [
      "SARIMA\n",
      "SARIMAX\n"
     ]
    },
    {
     "name": "stderr",
     "output_type": "stream",
     "text": [
      "/opt/miniconda3/envs/snowflakes/lib/python3.10/site-packages/statsmodels/tsa/statespace/sarimax.py:978: UserWarning: Non-invertible starting MA parameters found. Using zeros as starting parameters.\n",
      "  warn('Non-invertible starting MA parameters found.'\n"
     ]
    },
    {
     "name": "stdout",
     "output_type": "stream",
     "text": [
      "ETS\n"
     ]
    },
    {
     "name": "stderr",
     "output_type": "stream",
     "text": [
      "/opt/miniconda3/envs/snowflakes/lib/python3.10/site-packages/statsmodels/tsa/holtwinters/model.py:915: ConvergenceWarning: Optimization failed to converge. Check mle_retvals.\n",
      "  warnings.warn(\n"
     ]
    },
    {
     "name": "stdout",
     "output_type": "stream",
     "text": [
      "Naive Benchmarks\n",
      "start forecast\n",
      "Get Paramters from Auto ARIMA\n",
      "auto_arima Parameters: (0, 1, 2)\n",
      "auto_arima Seasonal Parameters: (1, 0, 0, 7)\n",
      "SARIMA\n",
      "SARIMAX\n",
      "ETS\n",
      "NAIVE Benchmarks\n"
     ]
    },
    {
     "name": "stderr",
     "output_type": "stream",
     "text": [
      "/opt/miniconda3/envs/snowflakes/lib/python3.10/site-packages/statsmodels/tsa/holtwinters/model.py:915: ConvergenceWarning: Optimization failed to converge. Check mle_retvals.\n",
      "  warnings.warn(\n"
     ]
    },
    {
     "name": "stdout",
     "output_type": "stream",
     "text": [
      "WH-Chain-3\n",
      "Set up data\n",
      "start backtest\n",
      "Split 1\n",
      "Get Paramters from Auto ARIMA\n",
      "SARIMA\n",
      "SARIMAX\n",
      "ETS\n",
      "Naive Benchmarks\n",
      "Split 2\n",
      "Get Paramters from Auto ARIMA\n"
     ]
    },
    {
     "name": "stderr",
     "output_type": "stream",
     "text": [
      "/opt/miniconda3/envs/snowflakes/lib/python3.10/site-packages/statsmodels/tsa/holtwinters/model.py:915: ConvergenceWarning: Optimization failed to converge. Check mle_retvals.\n",
      "  warnings.warn(\n"
     ]
    },
    {
     "name": "stdout",
     "output_type": "stream",
     "text": [
      "SARIMA\n"
     ]
    },
    {
     "name": "stderr",
     "output_type": "stream",
     "text": [
      "/opt/miniconda3/envs/snowflakes/lib/python3.10/site-packages/statsmodels/base/model.py:604: ConvergenceWarning: Maximum Likelihood optimization failed to converge. Check mle_retvals\n",
      "  warnings.warn(\"Maximum Likelihood optimization failed to \"\n"
     ]
    },
    {
     "name": "stdout",
     "output_type": "stream",
     "text": [
      "SARIMAX\n"
     ]
    },
    {
     "name": "stderr",
     "output_type": "stream",
     "text": [
      "/opt/miniconda3/envs/snowflakes/lib/python3.10/site-packages/statsmodels/base/model.py:604: ConvergenceWarning: Maximum Likelihood optimization failed to converge. Check mle_retvals\n",
      "  warnings.warn(\"Maximum Likelihood optimization failed to \"\n"
     ]
    },
    {
     "name": "stdout",
     "output_type": "stream",
     "text": [
      "ETS\n"
     ]
    },
    {
     "name": "stderr",
     "output_type": "stream",
     "text": [
      "/opt/miniconda3/envs/snowflakes/lib/python3.10/site-packages/statsmodels/tsa/holtwinters/model.py:915: ConvergenceWarning: Optimization failed to converge. Check mle_retvals.\n",
      "  warnings.warn(\n"
     ]
    },
    {
     "name": "stdout",
     "output_type": "stream",
     "text": [
      "Naive Benchmarks\n",
      "Split 3\n",
      "Get Paramters from Auto ARIMA\n",
      "SARIMA\n",
      "SARIMAX\n",
      "ETS\n",
      "Naive Benchmarks\n",
      "Split 4\n",
      "Get Paramters from Auto ARIMA\n"
     ]
    },
    {
     "name": "stderr",
     "output_type": "stream",
     "text": [
      "/opt/miniconda3/envs/snowflakes/lib/python3.10/site-packages/statsmodels/tsa/holtwinters/model.py:915: ConvergenceWarning: Optimization failed to converge. Check mle_retvals.\n",
      "  warnings.warn(\n"
     ]
    },
    {
     "name": "stdout",
     "output_type": "stream",
     "text": [
      "SARIMA\n",
      "SARIMAX\n",
      "ETS\n",
      "Naive Benchmarks\n",
      "Split 5\n",
      "Get Paramters from Auto ARIMA\n"
     ]
    },
    {
     "name": "stderr",
     "output_type": "stream",
     "text": [
      "/opt/miniconda3/envs/snowflakes/lib/python3.10/site-packages/statsmodels/tsa/holtwinters/model.py:915: ConvergenceWarning: Optimization failed to converge. Check mle_retvals.\n",
      "  warnings.warn(\n"
     ]
    },
    {
     "name": "stdout",
     "output_type": "stream",
     "text": [
      "SARIMA\n"
     ]
    },
    {
     "name": "stderr",
     "output_type": "stream",
     "text": [
      "/opt/miniconda3/envs/snowflakes/lib/python3.10/site-packages/statsmodels/tsa/statespace/sarimax.py:978: UserWarning: Non-invertible starting MA parameters found. Using zeros as starting parameters.\n",
      "  warn('Non-invertible starting MA parameters found.'\n"
     ]
    },
    {
     "name": "stdout",
     "output_type": "stream",
     "text": [
      "SARIMAX\n",
      "ETS\n",
      "Naive Benchmarks\n",
      "start forecast\n",
      "Get Paramters from Auto ARIMA\n"
     ]
    },
    {
     "name": "stderr",
     "output_type": "stream",
     "text": [
      "/opt/miniconda3/envs/snowflakes/lib/python3.10/site-packages/statsmodels/tsa/holtwinters/model.py:915: ConvergenceWarning: Optimization failed to converge. Check mle_retvals.\n",
      "  warnings.warn(\n"
     ]
    },
    {
     "name": "stdout",
     "output_type": "stream",
     "text": [
      "auto_arima Parameters: (1, 1, 2)\n",
      "auto_arima Seasonal Parameters: (1, 0, 1, 7)\n",
      "SARIMA\n"
     ]
    },
    {
     "name": "stderr",
     "output_type": "stream",
     "text": [
      "/opt/miniconda3/envs/snowflakes/lib/python3.10/site-packages/statsmodels/tsa/statespace/sarimax.py:966: UserWarning: Non-stationary starting autoregressive parameters found. Using zeros as starting parameters.\n",
      "  warn('Non-stationary starting autoregressive parameters'\n",
      "/opt/miniconda3/envs/snowflakes/lib/python3.10/site-packages/statsmodels/tsa/statespace/sarimax.py:978: UserWarning: Non-invertible starting MA parameters found. Using zeros as starting parameters.\n",
      "  warn('Non-invertible starting MA parameters found.'\n"
     ]
    },
    {
     "name": "stdout",
     "output_type": "stream",
     "text": [
      "SARIMAX\n"
     ]
    },
    {
     "name": "stderr",
     "output_type": "stream",
     "text": [
      "/opt/miniconda3/envs/snowflakes/lib/python3.10/site-packages/statsmodels/tsa/statespace/sarimax.py:966: UserWarning: Non-stationary starting autoregressive parameters found. Using zeros as starting parameters.\n",
      "  warn('Non-stationary starting autoregressive parameters'\n",
      "/opt/miniconda3/envs/snowflakes/lib/python3.10/site-packages/statsmodels/tsa/statespace/sarimax.py:978: UserWarning: Non-invertible starting MA parameters found. Using zeros as starting parameters.\n",
      "  warn('Non-invertible starting MA parameters found.'\n"
     ]
    },
    {
     "name": "stdout",
     "output_type": "stream",
     "text": [
      "ETS\n",
      "NAIVE Benchmarks\n",
      "WH-Chain-2\n",
      "Set up data\n"
     ]
    },
    {
     "name": "stderr",
     "output_type": "stream",
     "text": [
      "/opt/miniconda3/envs/snowflakes/lib/python3.10/site-packages/statsmodels/tsa/holtwinters/model.py:915: ConvergenceWarning: Optimization failed to converge. Check mle_retvals.\n",
      "  warnings.warn(\n"
     ]
    },
    {
     "name": "stdout",
     "output_type": "stream",
     "text": [
      "start backtest\n",
      "Split 1\n",
      "Get Paramters from Auto ARIMA\n",
      "SARIMA\n",
      "SARIMAX\n",
      "ETS\n",
      "Naive Benchmarks\n",
      "Split 2\n",
      "Get Paramters from Auto ARIMA\n"
     ]
    },
    {
     "name": "stderr",
     "output_type": "stream",
     "text": [
      "/opt/miniconda3/envs/snowflakes/lib/python3.10/site-packages/statsmodels/tsa/holtwinters/model.py:915: ConvergenceWarning: Optimization failed to converge. Check mle_retvals.\n",
      "  warnings.warn(\n"
     ]
    },
    {
     "name": "stdout",
     "output_type": "stream",
     "text": [
      "SARIMA\n",
      "SARIMAX\n",
      "ETS\n",
      "Naive Benchmarks\n",
      "Split 3\n",
      "Get Paramters from Auto ARIMA\n"
     ]
    },
    {
     "name": "stderr",
     "output_type": "stream",
     "text": [
      "/opt/miniconda3/envs/snowflakes/lib/python3.10/site-packages/statsmodels/tsa/holtwinters/model.py:915: ConvergenceWarning: Optimization failed to converge. Check mle_retvals.\n",
      "  warnings.warn(\n"
     ]
    },
    {
     "name": "stdout",
     "output_type": "stream",
     "text": [
      "SARIMA\n",
      "SARIMAX\n",
      "ETS\n",
      "Naive Benchmarks\n",
      "Split 4\n",
      "Get Paramters from Auto ARIMA\n"
     ]
    },
    {
     "name": "stderr",
     "output_type": "stream",
     "text": [
      "/opt/miniconda3/envs/snowflakes/lib/python3.10/site-packages/statsmodels/tsa/holtwinters/model.py:915: ConvergenceWarning: Optimization failed to converge. Check mle_retvals.\n",
      "  warnings.warn(\n"
     ]
    },
    {
     "name": "stdout",
     "output_type": "stream",
     "text": [
      "SARIMA\n",
      "SARIMAX\n",
      "ETS\n",
      "Naive Benchmarks\n",
      "Split 5\n",
      "Get Paramters from Auto ARIMA\n"
     ]
    },
    {
     "name": "stderr",
     "output_type": "stream",
     "text": [
      "/opt/miniconda3/envs/snowflakes/lib/python3.10/site-packages/statsmodels/tsa/holtwinters/model.py:915: ConvergenceWarning: Optimization failed to converge. Check mle_retvals.\n",
      "  warnings.warn(\n"
     ]
    },
    {
     "name": "stdout",
     "output_type": "stream",
     "text": [
      "SARIMA\n",
      "SARIMAX\n",
      "ETS\n",
      "Naive Benchmarks\n",
      "start forecast\n",
      "Get Paramters from Auto ARIMA\n"
     ]
    },
    {
     "name": "stderr",
     "output_type": "stream",
     "text": [
      "/opt/miniconda3/envs/snowflakes/lib/python3.10/site-packages/statsmodels/tsa/holtwinters/model.py:915: ConvergenceWarning: Optimization failed to converge. Check mle_retvals.\n",
      "  warnings.warn(\n"
     ]
    },
    {
     "name": "stdout",
     "output_type": "stream",
     "text": [
      "auto_arima Parameters: (4, 0, 0)\n",
      "auto_arima Seasonal Parameters: (0, 0, 1, 7)\n",
      "SARIMA\n",
      "SARIMAX\n",
      "ETS\n",
      "NAIVE Benchmarks\n"
     ]
    },
    {
     "name": "stderr",
     "output_type": "stream",
     "text": [
      "/opt/miniconda3/envs/snowflakes/lib/python3.10/site-packages/statsmodels/tsa/holtwinters/model.py:915: ConvergenceWarning: Optimization failed to converge. Check mle_retvals.\n",
      "  warnings.warn(\n"
     ]
    },
    {
     "name": "stdout",
     "output_type": "stream",
     "text": [
      "{'backtest':                  sarima       sarimax          ets  naive_drift  \\\n",
      "2022-10-13  2619.694489   2630.044195  2552.591823  2722.924324   \n",
      "2022-10-14  2542.563542   2731.354950  2278.381812  2725.848649   \n",
      "2022-10-15  2657.325697   2657.544638  2194.044296  2728.772973   \n",
      "2022-10-16  2574.718673   2735.496483  3087.592502  2731.697297   \n",
      "2022-10-17  2580.898780   2677.152672  2681.004246  2734.621621   \n",
      "...                 ...           ...          ...          ...   \n",
      "2022-11-22  3811.153047  16894.387322  7038.463668  5776.387325   \n",
      "2022-11-23  3484.335139  16604.807734  6833.115915  5786.464790   \n",
      "2022-11-24  2911.057997  23282.421773  6732.153040  5796.542255   \n",
      "2022-11-25  2414.310661  22670.857419  6569.359463  5806.619720   \n",
      "2022-11-26  1997.571834  19478.593954  6386.342791  5816.697186   \n",
      "\n",
      "            naive_seasonal level       group  \n",
      "2022-10-13          2316.0   L_3  WH-Chain-1  \n",
      "2022-10-14          2103.0   L_3  WH-Chain-1  \n",
      "2022-10-15          2245.0   L_3  WH-Chain-1  \n",
      "2022-10-16          2846.0   L_3  WH-Chain-1  \n",
      "2022-10-17          2609.0   L_3  WH-Chain-1  \n",
      "...                    ...   ...         ...  \n",
      "2022-11-22          6739.0   L_3  WH-Chain-2  \n",
      "2022-11-23          6898.0   L_3  WH-Chain-2  \n",
      "2022-11-24          5726.0   L_3  WH-Chain-2  \n",
      "2022-11-25          1600.0   L_3  WH-Chain-2  \n",
      "2022-11-26          1555.0   L_3  WH-Chain-2  \n",
      "\n",
      "[135 rows x 7 columns], 'pred':                   sarima       sarimax           ets   naive_drift  \\\n",
      "2022-11-27   8209.887356   9075.056831   9576.261747   7416.622680   \n",
      "2022-11-28   8337.217550   2300.023315   8975.556318   7424.245360   \n",
      "2022-11-29   8312.186570   1277.021563   8947.806754   7431.868041   \n",
      "2022-11-30   8330.381978   1308.964590   8933.590184   7439.490721   \n",
      "2022-12-01   8507.418380   1422.754245   8956.120592   7447.113401   \n",
      "2022-12-02   8934.026931   1690.474733   9074.997530   7454.736081   \n",
      "2022-12-03   8440.095370   1262.729280   8627.536415   7462.358761   \n",
      "2022-12-04   8479.480430   1406.564141   9580.151505   7469.981441   \n",
      "2022-12-05   8485.742119   1757.738077   8979.407178   7477.604122   \n",
      "2022-11-27  18066.036588  14942.314609  18838.298469  13169.694719   \n",
      "2022-11-28  17524.002570  13072.400346  16569.373145  13191.389439   \n",
      "2022-11-29  16617.774150  12451.764202  16811.768258  13213.084158   \n",
      "2022-11-30  17378.033824  11801.123368  16657.017292  13234.778877   \n",
      "2022-12-01  17372.103240  11937.885712  17696.465008  13256.473597   \n",
      "2022-12-02  19824.830496  12699.258304  20036.953661  13278.168316   \n",
      "2022-12-03  17266.725690  10829.497710  16743.508184  13299.863035   \n",
      "2022-12-04  19580.205465  12191.379121  18841.941040  13321.557755   \n",
      "2022-12-05  17548.376674  10671.789673  16572.979291  13343.252474   \n",
      "2022-11-27   9698.558293  12967.796910  17519.426337   7514.998267   \n",
      "2022-11-28   9753.056468   4882.383624  15154.186600   7527.996534   \n",
      "2022-11-29   9474.756928  -1689.913021  14299.081667   7540.994802   \n",
      "2022-11-30   7729.397230  -1067.173893  14266.413580   7553.993069   \n",
      "2022-12-01   8955.019269   -721.728634  14443.537462   7566.991336   \n",
      "2022-12-02  11907.424133   1228.584339  14992.877349   7579.989603   \n",
      "2022-12-03   5394.154696  -1485.437491  13540.849421   7592.987870   \n",
      "2022-12-04   5430.270234     63.553322  17527.200314   7605.986137   \n",
      "2022-12-05   4889.190839   -782.155420  15161.882837   7618.984405   \n",
      "\n",
      "            naive_seasonal level       group  \n",
      "2022-11-27          5681.0   L_3  WH-Chain-1  \n",
      "2022-11-28          5317.0   L_3  WH-Chain-1  \n",
      "2022-11-29          4808.0   L_3  WH-Chain-1  \n",
      "2022-11-30          5178.0   L_3  WH-Chain-1  \n",
      "2022-12-01          8778.0   L_3  WH-Chain-1  \n",
      "2022-12-02         17453.0   L_3  WH-Chain-1  \n",
      "2022-12-03          7409.0   L_3  WH-Chain-1  \n",
      "2022-12-04          5681.0   L_3  WH-Chain-1  \n",
      "2022-12-05          5317.0   L_3  WH-Chain-1  \n",
      "2022-11-27         18493.0   L_3  WH-Chain-3  \n",
      "2022-11-28         15405.0   L_3  WH-Chain-3  \n",
      "2022-11-29         15549.0   L_3  WH-Chain-3  \n",
      "2022-11-30         13174.0   L_3  WH-Chain-3  \n",
      "2022-12-01         13607.0   L_3  WH-Chain-3  \n",
      "2022-12-02         29451.0   L_3  WH-Chain-3  \n",
      "2022-12-03         13148.0   L_3  WH-Chain-3  \n",
      "2022-12-04         18493.0   L_3  WH-Chain-3  \n",
      "2022-12-05         15405.0   L_3  WH-Chain-3  \n",
      "2022-11-27          7749.0   L_3  WH-Chain-2  \n",
      "2022-11-28          6160.0   L_3  WH-Chain-2  \n",
      "2022-11-29          6364.0   L_3  WH-Chain-2  \n",
      "2022-11-30          9333.0   L_3  WH-Chain-2  \n",
      "2022-12-01         16537.0   L_3  WH-Chain-2  \n",
      "2022-12-02         31046.0   L_3  WH-Chain-2  \n",
      "2022-12-03          7502.0   L_3  WH-Chain-2  \n",
      "2022-12-04          7749.0   L_3  WH-Chain-2  \n",
      "2022-12-05          6160.0   L_3  WH-Chain-2  }\n",
      "Set up data\n",
      "start backtest\n",
      "Split 1\n",
      "Get Paramters from Auto ARIMA\n",
      "SARIMA\n",
      "SARIMAX\n",
      "ETS\n"
     ]
    },
    {
     "name": "stderr",
     "output_type": "stream",
     "text": [
      "/opt/miniconda3/envs/snowflakes/lib/python3.10/site-packages/statsmodels/tsa/holtwinters/model.py:915: ConvergenceWarning: Optimization failed to converge. Check mle_retvals.\n",
      "  warnings.warn(\n"
     ]
    },
    {
     "name": "stdout",
     "output_type": "stream",
     "text": [
      "Naive Benchmarks\n",
      "Split 2\n",
      "Get Paramters from Auto ARIMA\n",
      "SARIMA\n"
     ]
    },
    {
     "name": "stderr",
     "output_type": "stream",
     "text": [
      "/opt/miniconda3/envs/snowflakes/lib/python3.10/site-packages/statsmodels/base/model.py:604: ConvergenceWarning: Maximum Likelihood optimization failed to converge. Check mle_retvals\n",
      "  warnings.warn(\"Maximum Likelihood optimization failed to \"\n"
     ]
    },
    {
     "name": "stdout",
     "output_type": "stream",
     "text": [
      "SARIMAX\n",
      "ETS\n"
     ]
    },
    {
     "name": "stderr",
     "output_type": "stream",
     "text": [
      "/opt/miniconda3/envs/snowflakes/lib/python3.10/site-packages/statsmodels/tsa/holtwinters/model.py:915: ConvergenceWarning: Optimization failed to converge. Check mle_retvals.\n",
      "  warnings.warn(\n"
     ]
    },
    {
     "name": "stdout",
     "output_type": "stream",
     "text": [
      "Naive Benchmarks\n",
      "Split 3\n",
      "Get Paramters from Auto ARIMA\n",
      "SARIMA\n",
      "SARIMAX\n",
      "ETS\n"
     ]
    },
    {
     "name": "stderr",
     "output_type": "stream",
     "text": [
      "/opt/miniconda3/envs/snowflakes/lib/python3.10/site-packages/statsmodels/tsa/holtwinters/model.py:915: ConvergenceWarning: Optimization failed to converge. Check mle_retvals.\n",
      "  warnings.warn(\n"
     ]
    },
    {
     "name": "stdout",
     "output_type": "stream",
     "text": [
      "Naive Benchmarks\n",
      "Split 4\n",
      "Get Paramters from Auto ARIMA\n",
      "SARIMA\n",
      "SARIMAX\n",
      "ETS\n",
      "Naive Benchmarks\n"
     ]
    },
    {
     "name": "stderr",
     "output_type": "stream",
     "text": [
      "/opt/miniconda3/envs/snowflakes/lib/python3.10/site-packages/statsmodels/tsa/holtwinters/model.py:915: ConvergenceWarning: Optimization failed to converge. Check mle_retvals.\n",
      "  warnings.warn(\n"
     ]
    },
    {
     "name": "stdout",
     "output_type": "stream",
     "text": [
      "Split 5\n",
      "Get Paramters from Auto ARIMA\n",
      "SARIMA\n",
      "SARIMAX\n",
      "ETS\n",
      "Naive Benchmarks\n"
     ]
    },
    {
     "name": "stderr",
     "output_type": "stream",
     "text": [
      "/opt/miniconda3/envs/snowflakes/lib/python3.10/site-packages/statsmodels/tsa/holtwinters/model.py:915: ConvergenceWarning: Optimization failed to converge. Check mle_retvals.\n",
      "  warnings.warn(\n"
     ]
    },
    {
     "name": "stdout",
     "output_type": "stream",
     "text": [
      "start forecast\n",
      "Get Paramters from Auto ARIMA\n",
      "auto_arima Parameters: (0, 1, 1)\n",
      "auto_arima Seasonal Parameters: (2, 0, 2, 7)\n",
      "SARIMA\n",
      "SARIMAX\n",
      "ETS\n"
     ]
    },
    {
     "name": "stderr",
     "output_type": "stream",
     "text": [
      "/opt/miniconda3/envs/snowflakes/lib/python3.10/site-packages/statsmodels/tsa/holtwinters/model.py:915: ConvergenceWarning: Optimization failed to converge. Check mle_retvals.\n",
      "  warnings.warn(\n"
     ]
    },
    {
     "name": "stdout",
     "output_type": "stream",
     "text": [
      "NAIVE Benchmarks\n",
      "{'backtest':                   sarima       sarimax           ets   naive_drift  \\\n",
      "2022-10-13   8605.405212   8747.897116   8423.048927   9120.833514   \n",
      "2022-10-14   8466.306515   8587.343114   8235.351105   9130.667027   \n",
      "2022-10-15   7858.678469   7991.764154   7327.708302   9140.500541   \n",
      "2022-10-16  13199.663027  13296.072618  13898.905328   9150.334054   \n",
      "2022-10-17   9371.374261   9517.380056   9561.913266   9160.167568   \n",
      "2022-10-18   9223.421639   9376.906394   8858.190049   9170.001081   \n",
      "2022-10-19   8914.189594   9067.212050   8371.156146   9179.834595   \n",
      "2022-10-20   8873.849470   9030.790825   8423.058258   9189.668108   \n",
      "2022-10-21   8778.132334   8909.213665   8235.360338   9199.501622   \n",
      "2022-10-22   7381.420581   7223.871984   7107.008627   7370.867238   \n",
      "2022-10-23  12203.508609  11941.532173  13627.413135   7378.734475   \n",
      "2022-10-24   8213.160066   8057.434499   9230.776239   7386.601713   \n",
      "2022-10-25   7986.324994   7898.448007   8709.372956   7394.468951   \n",
      "2022-10-26   7408.404290   7326.293633   8193.852664   7402.336188   \n",
      "2022-10-27   7278.497726   7240.284185   8508.985183   7410.203426   \n",
      "2022-10-28   7196.879685   7084.035570   8021.009608   7418.070664   \n",
      "2022-10-29   6560.034495   6460.047104   7106.813619   7425.937901   \n",
      "2022-10-30  11870.269240  11553.452526  13627.220077   7433.805139   \n",
      "2022-10-31  10606.901298  10385.221988  10747.242492   9781.345705   \n",
      "2022-11-01  10248.061167  10049.724192  10141.048057   9791.691410   \n",
      "2022-11-02   9864.697809   9663.055213   9641.195142   9802.037116   \n",
      "2022-11-03  10305.978992  10092.422002   9973.583806   9812.382821   \n",
      "2022-11-04  10625.774619  10407.448397  10069.278732   9822.728526   \n",
      "2022-11-05   9506.257867   9292.213787   8615.058002   9833.074231   \n",
      "2022-11-06  13987.909086  13745.492539  15169.384525   9843.419936   \n",
      "2022-11-07  10691.200604  10455.095269  10747.975377   9853.765642   \n",
      "2022-11-08  10337.524581  10124.450644  10141.773614   9864.111347   \n",
      "2022-11-09  12210.546923  12188.384220  12007.810256  11226.764706   \n",
      "2022-11-10  12599.811228  12564.727916  12329.568473  11238.529412   \n",
      "2022-11-11  12827.783826  12785.881871  12385.151330  11250.294118   \n",
      "2022-11-12  12250.250557  12221.307475  11437.828536  11262.058824   \n",
      "2022-11-13  17032.344005  16970.967760  17466.862812  11273.823529   \n",
      "2022-11-14  13152.712926  13113.661174  12955.731308  11285.588235   \n",
      "2022-11-15  12767.043063  12748.232268  12541.007730  11297.352941   \n",
      "2022-11-16  12450.283097  12427.674907  12010.023423  11309.117647   \n",
      "2022-11-17  12834.591749  12799.173013  12331.759507  11320.882353   \n",
      "2022-11-18  21260.000422  21592.658010  20220.100732  22745.628512   \n",
      "2022-11-19  19878.392992  20249.969354  18977.273962  22769.257024   \n",
      "2022-11-20  28021.092446  28267.097873  25883.321549  22792.885536   \n",
      "2022-11-21  22046.362170   9485.694213  20505.179708  22816.514048   \n",
      "2022-11-22  21065.892400   8537.394594  19830.850313  22840.142560   \n",
      "2022-11-23  21714.497210   9152.036035  19705.485279  22863.771072   \n",
      "2022-11-24  22429.092409  21393.712548  19862.470840  22887.399584   \n",
      "2022-11-25  22488.863095  32441.840461  20227.013541  22911.028096   \n",
      "2022-11-26  21560.283905  27010.588169  18984.117643  22934.656608   \n",
      "\n",
      "            naive_seasonal level group  \n",
      "2022-10-13          6879.0   L_6  none  \n",
      "2022-10-14          6444.0   L_6  none  \n",
      "2022-10-15          6478.0   L_6  none  \n",
      "2022-10-16         12481.0   L_6  none  \n",
      "2022-10-17          8209.0   L_6  none  \n",
      "2022-10-18          9884.0   L_6  none  \n",
      "2022-10-19          9111.0   L_6  none  \n",
      "2022-10-20          6879.0   L_6  none  \n",
      "2022-10-21          6444.0   L_6  none  \n",
      "2022-10-22          8686.0   L_6  none  \n",
      "2022-10-23         13636.0   L_6  none  \n",
      "2022-10-24          8245.0   L_6  none  \n",
      "2022-10-25         10087.0   L_6  none  \n",
      "2022-10-26          8213.0   L_6  none  \n",
      "2022-10-27          8721.0   L_6  none  \n",
      "2022-10-28          7363.0   L_6  none  \n",
      "2022-10-29          8686.0   L_6  none  \n",
      "2022-10-30         13636.0   L_6  none  \n",
      "2022-10-31         10396.0   L_6  none  \n",
      "2022-11-01          8628.0   L_6  none  \n",
      "2022-11-02          8121.0   L_6  none  \n",
      "2022-11-03          8573.0   L_6  none  \n",
      "2022-11-04         19456.0   L_6  none  \n",
      "2022-11-05         12055.0   L_6  none  \n",
      "2022-11-06          9771.0   L_6  none  \n",
      "2022-11-07         10396.0   L_6  none  \n",
      "2022-11-08          8628.0   L_6  none  \n",
      "2022-11-09          9099.0   L_6  none  \n",
      "2022-11-10          9074.0   L_6  none  \n",
      "2022-11-11          8214.0   L_6  none  \n",
      "2022-11-12         15352.0   L_6  none  \n",
      "2022-11-13         23196.0   L_6  none  \n",
      "2022-11-14         11955.0   L_6  none  \n",
      "2022-11-15         11215.0   L_6  none  \n",
      "2022-11-16          9099.0   L_6  none  \n",
      "2022-11-17          9074.0   L_6  none  \n",
      "2022-11-18         16236.0   L_6  none  \n",
      "2022-11-19         11646.0   L_6  none  \n",
      "2022-11-20         33150.0   L_6  none  \n",
      "2022-11-21         18480.0   L_6  none  \n",
      "2022-11-22         15167.0   L_6  none  \n",
      "2022-11-23         20113.0   L_6  none  \n",
      "2022-11-24         22722.0   L_6  none  \n",
      "2022-11-25         16236.0   L_6  none  \n",
      "2022-11-26         11646.0   L_6  none  , 'pred':                   sarima       sarimax           ets   naive_drift  \\\n",
      "2022-11-27  46338.082126  44262.799467  46723.256879  28087.911340   \n",
      "2022-11-28  42345.012332  32414.665441  41159.790644  28116.822680   \n",
      "2022-11-29  42102.095996  32930.910308  40562.056617  28145.734021   \n",
      "2022-11-30  41841.351411  32663.451219  40586.498182  28174.645361   \n",
      "2022-12-01  44761.403317  32668.975406  42033.700420  28203.556701   \n",
      "2022-12-02  54617.503570  37076.092837  46033.807422  28232.468041   \n",
      "2022-12-03  41794.832526  29577.966798  39820.036850  28261.379381   \n",
      "2022-12-04  50838.388871  37929.091960  46742.856373  28290.290722   \n",
      "2022-12-05  46381.786556  39512.749923  41179.194142  28319.202062   \n",
      "\n",
      "            naive_seasonal level group  \n",
      "2022-11-27         31923.0   L_6  none  \n",
      "2022-11-28         26882.0   L_6  none  \n",
      "2022-11-29         26721.0   L_6  none  \n",
      "2022-11-30         27685.0   L_6  none  \n",
      "2022-12-01         38922.0   L_6  none  \n",
      "2022-12-02         77950.0   L_6  none  \n",
      "2022-12-03         28059.0   L_6  none  \n",
      "2022-12-04         31923.0   L_6  none  \n",
      "2022-12-05         26882.0   L_6  none  }\n",
      "11\n",
      "Set up data\n",
      "start backtest\n",
      "Split 1\n",
      "Get Paramters from Auto ARIMA\n",
      "SARIMA\n",
      "SARIMAX\n"
     ]
    },
    {
     "name": "stderr",
     "output_type": "stream",
     "text": [
      "/opt/miniconda3/envs/snowflakes/lib/python3.10/site-packages/statsmodels/base/model.py:604: ConvergenceWarning: Maximum Likelihood optimization failed to converge. Check mle_retvals\n",
      "  warnings.warn(\"Maximum Likelihood optimization failed to \"\n"
     ]
    },
    {
     "name": "stdout",
     "output_type": "stream",
     "text": [
      "ETS\n",
      "Naive Benchmarks\n",
      "Split 2\n",
      "Get Paramters from Auto ARIMA\n",
      "SARIMA\n",
      "SARIMAX\n"
     ]
    },
    {
     "name": "stderr",
     "output_type": "stream",
     "text": [
      "/opt/miniconda3/envs/snowflakes/lib/python3.10/site-packages/statsmodels/base/model.py:604: ConvergenceWarning: Maximum Likelihood optimization failed to converge. Check mle_retvals\n",
      "  warnings.warn(\"Maximum Likelihood optimization failed to \"\n"
     ]
    },
    {
     "name": "stdout",
     "output_type": "stream",
     "text": [
      "ETS\n",
      "Naive Benchmarks\n",
      "Split 3\n",
      "Get Paramters from Auto ARIMA\n",
      "SARIMA\n",
      "SARIMAX\n"
     ]
    },
    {
     "name": "stderr",
     "output_type": "stream",
     "text": [
      "/opt/miniconda3/envs/snowflakes/lib/python3.10/site-packages/statsmodels/base/model.py:604: ConvergenceWarning: Maximum Likelihood optimization failed to converge. Check mle_retvals\n",
      "  warnings.warn(\"Maximum Likelihood optimization failed to \"\n"
     ]
    },
    {
     "name": "stdout",
     "output_type": "stream",
     "text": [
      "ETS\n",
      "Naive Benchmarks\n",
      "Split 4\n",
      "Get Paramters from Auto ARIMA\n",
      "SARIMA\n",
      "SARIMAX\n"
     ]
    },
    {
     "name": "stderr",
     "output_type": "stream",
     "text": [
      "/opt/miniconda3/envs/snowflakes/lib/python3.10/site-packages/statsmodels/base/model.py:604: ConvergenceWarning: Maximum Likelihood optimization failed to converge. Check mle_retvals\n",
      "  warnings.warn(\"Maximum Likelihood optimization failed to \"\n"
     ]
    },
    {
     "name": "stdout",
     "output_type": "stream",
     "text": [
      "ETS\n",
      "Naive Benchmarks\n",
      "Split 5\n",
      "Get Paramters from Auto ARIMA\n",
      "SARIMA\n",
      "SARIMAX\n",
      "ETS\n",
      "Naive Benchmarks\n",
      "start forecast\n",
      "Get Paramters from Auto ARIMA\n",
      "auto_arima Parameters: (1, 0, 2)\n",
      "auto_arima Seasonal Parameters: (0, 0, 0, 7)\n",
      "SARIMA\n",
      "SARIMAX\n"
     ]
    },
    {
     "name": "stderr",
     "output_type": "stream",
     "text": [
      "/opt/miniconda3/envs/snowflakes/lib/python3.10/site-packages/statsmodels/base/model.py:604: ConvergenceWarning: Maximum Likelihood optimization failed to converge. Check mle_retvals\n",
      "  warnings.warn(\"Maximum Likelihood optimization failed to \"\n"
     ]
    },
    {
     "name": "stdout",
     "output_type": "stream",
     "text": [
      "ETS\n",
      "NAIVE Benchmarks\n",
      "88\n",
      "Set up data\n",
      "start backtest\n",
      "Split 1\n",
      "Get Paramters from Auto ARIMA\n",
      "SARIMA\n"
     ]
    },
    {
     "name": "stderr",
     "output_type": "stream",
     "text": [
      "/opt/miniconda3/envs/snowflakes/lib/python3.10/site-packages/statsmodels/tsa/statespace/sarimax.py:966: UserWarning: Non-stationary starting autoregressive parameters found. Using zeros as starting parameters.\n",
      "  warn('Non-stationary starting autoregressive parameters'\n"
     ]
    },
    {
     "name": "stdout",
     "output_type": "stream",
     "text": [
      "SARIMAX\n"
     ]
    },
    {
     "name": "stderr",
     "output_type": "stream",
     "text": [
      "/opt/miniconda3/envs/snowflakes/lib/python3.10/site-packages/statsmodels/tsa/statespace/sarimax.py:966: UserWarning: Non-stationary starting autoregressive parameters found. Using zeros as starting parameters.\n",
      "  warn('Non-stationary starting autoregressive parameters'\n",
      "/opt/miniconda3/envs/snowflakes/lib/python3.10/site-packages/statsmodels/tsa/statespace/sarimax.py:978: UserWarning: Non-invertible starting MA parameters found. Using zeros as starting parameters.\n",
      "  warn('Non-invertible starting MA parameters found.'\n"
     ]
    },
    {
     "name": "stdout",
     "output_type": "stream",
     "text": [
      "ETS\n"
     ]
    },
    {
     "name": "stderr",
     "output_type": "stream",
     "text": [
      "/opt/miniconda3/envs/snowflakes/lib/python3.10/site-packages/statsmodels/tsa/holtwinters/model.py:915: ConvergenceWarning: Optimization failed to converge. Check mle_retvals.\n",
      "  warnings.warn(\n"
     ]
    },
    {
     "name": "stdout",
     "output_type": "stream",
     "text": [
      "Naive Benchmarks\n",
      "Split 2\n",
      "Get Paramters from Auto ARIMA\n",
      "SARIMA\n"
     ]
    },
    {
     "name": "stderr",
     "output_type": "stream",
     "text": [
      "/opt/miniconda3/envs/snowflakes/lib/python3.10/site-packages/statsmodels/tsa/statespace/sarimax.py:966: UserWarning: Non-stationary starting autoregressive parameters found. Using zeros as starting parameters.\n",
      "  warn('Non-stationary starting autoregressive parameters'\n"
     ]
    },
    {
     "name": "stdout",
     "output_type": "stream",
     "text": [
      "SARIMAX\n"
     ]
    },
    {
     "name": "stderr",
     "output_type": "stream",
     "text": [
      "/opt/miniconda3/envs/snowflakes/lib/python3.10/site-packages/statsmodels/tsa/statespace/sarimax.py:966: UserWarning: Non-stationary starting autoregressive parameters found. Using zeros as starting parameters.\n",
      "  warn('Non-stationary starting autoregressive parameters'\n",
      "/opt/miniconda3/envs/snowflakes/lib/python3.10/site-packages/statsmodels/tsa/statespace/sarimax.py:978: UserWarning: Non-invertible starting MA parameters found. Using zeros as starting parameters.\n",
      "  warn('Non-invertible starting MA parameters found.'\n",
      "/opt/miniconda3/envs/snowflakes/lib/python3.10/site-packages/statsmodels/base/model.py:604: ConvergenceWarning: Maximum Likelihood optimization failed to converge. Check mle_retvals\n",
      "  warnings.warn(\"Maximum Likelihood optimization failed to \"\n",
      "/opt/miniconda3/envs/snowflakes/lib/python3.10/site-packages/statsmodels/tsa/holtwinters/model.py:915: ConvergenceWarning: Optimization failed to converge. Check mle_retvals.\n",
      "  warnings.warn(\n"
     ]
    },
    {
     "name": "stdout",
     "output_type": "stream",
     "text": [
      "ETS\n",
      "Naive Benchmarks\n",
      "Split 3\n",
      "Get Paramters from Auto ARIMA\n",
      "SARIMA\n",
      "SARIMAX\n",
      "ETS\n",
      "Naive Benchmarks\n"
     ]
    },
    {
     "name": "stderr",
     "output_type": "stream",
     "text": [
      "/opt/miniconda3/envs/snowflakes/lib/python3.10/site-packages/statsmodels/tsa/holtwinters/model.py:915: ConvergenceWarning: Optimization failed to converge. Check mle_retvals.\n",
      "  warnings.warn(\n"
     ]
    },
    {
     "name": "stdout",
     "output_type": "stream",
     "text": [
      "Split 4\n",
      "Get Paramters from Auto ARIMA\n",
      "SARIMA\n"
     ]
    },
    {
     "name": "stderr",
     "output_type": "stream",
     "text": [
      "/opt/miniconda3/envs/snowflakes/lib/python3.10/site-packages/statsmodels/tsa/statespace/sarimax.py:966: UserWarning: Non-stationary starting autoregressive parameters found. Using zeros as starting parameters.\n",
      "  warn('Non-stationary starting autoregressive parameters'\n"
     ]
    },
    {
     "name": "stdout",
     "output_type": "stream",
     "text": [
      "SARIMAX\n"
     ]
    },
    {
     "name": "stderr",
     "output_type": "stream",
     "text": [
      "/opt/miniconda3/envs/snowflakes/lib/python3.10/site-packages/statsmodels/tsa/statespace/sarimax.py:966: UserWarning: Non-stationary starting autoregressive parameters found. Using zeros as starting parameters.\n",
      "  warn('Non-stationary starting autoregressive parameters'\n",
      "/opt/miniconda3/envs/snowflakes/lib/python3.10/site-packages/statsmodels/tsa/statespace/sarimax.py:978: UserWarning: Non-invertible starting MA parameters found. Using zeros as starting parameters.\n",
      "  warn('Non-invertible starting MA parameters found.'\n"
     ]
    },
    {
     "name": "stdout",
     "output_type": "stream",
     "text": [
      "ETS\n",
      "Naive Benchmarks\n",
      "Split 5\n",
      "Get Paramters from Auto ARIMA\n"
     ]
    },
    {
     "name": "stderr",
     "output_type": "stream",
     "text": [
      "/opt/miniconda3/envs/snowflakes/lib/python3.10/site-packages/statsmodels/tsa/holtwinters/model.py:915: ConvergenceWarning: Optimization failed to converge. Check mle_retvals.\n",
      "  warnings.warn(\n"
     ]
    },
    {
     "name": "stdout",
     "output_type": "stream",
     "text": [
      "SARIMA\n"
     ]
    },
    {
     "name": "stderr",
     "output_type": "stream",
     "text": [
      "/opt/miniconda3/envs/snowflakes/lib/python3.10/site-packages/statsmodels/tsa/statespace/sarimax.py:966: UserWarning: Non-stationary starting autoregressive parameters found. Using zeros as starting parameters.\n",
      "  warn('Non-stationary starting autoregressive parameters'\n"
     ]
    },
    {
     "name": "stdout",
     "output_type": "stream",
     "text": [
      "SARIMAX\n"
     ]
    },
    {
     "name": "stderr",
     "output_type": "stream",
     "text": [
      "/opt/miniconda3/envs/snowflakes/lib/python3.10/site-packages/statsmodels/base/model.py:604: ConvergenceWarning: Maximum Likelihood optimization failed to converge. Check mle_retvals\n",
      "  warnings.warn(\"Maximum Likelihood optimization failed to \"\n"
     ]
    },
    {
     "name": "stdout",
     "output_type": "stream",
     "text": [
      "ETS\n",
      "Naive Benchmarks\n",
      "start forecast\n",
      "Get Paramters from Auto ARIMA\n"
     ]
    },
    {
     "name": "stderr",
     "output_type": "stream",
     "text": [
      "/opt/miniconda3/envs/snowflakes/lib/python3.10/site-packages/statsmodels/tsa/holtwinters/model.py:915: ConvergenceWarning: Optimization failed to converge. Check mle_retvals.\n",
      "  warnings.warn(\n"
     ]
    },
    {
     "name": "stdout",
     "output_type": "stream",
     "text": [
      "auto_arima Parameters: (1, 0, 1)\n",
      "auto_arima Seasonal Parameters: (0, 0, 1, 7)\n",
      "SARIMA\n",
      "SARIMAX\n"
     ]
    },
    {
     "name": "stderr",
     "output_type": "stream",
     "text": [
      "/opt/miniconda3/envs/snowflakes/lib/python3.10/site-packages/statsmodels/tsa/statespace/sarimax.py:966: UserWarning: Non-stationary starting autoregressive parameters found. Using zeros as starting parameters.\n",
      "  warn('Non-stationary starting autoregressive parameters'\n",
      "/opt/miniconda3/envs/snowflakes/lib/python3.10/site-packages/statsmodels/tsa/statespace/sarimax.py:978: UserWarning: Non-invertible starting MA parameters found. Using zeros as starting parameters.\n",
      "  warn('Non-invertible starting MA parameters found.'\n"
     ]
    },
    {
     "name": "stdout",
     "output_type": "stream",
     "text": [
      "ETS\n",
      "NAIVE Benchmarks\n"
     ]
    },
    {
     "name": "stderr",
     "output_type": "stream",
     "text": [
      "/opt/miniconda3/envs/snowflakes/lib/python3.10/site-packages/statsmodels/tsa/holtwinters/model.py:915: ConvergenceWarning: Optimization failed to converge. Check mle_retvals.\n",
      "  warnings.warn(\n"
     ]
    },
    {
     "name": "stdout",
     "output_type": "stream",
     "text": [
      "72\n",
      "Set up data\n",
      "start backtest\n",
      "Split 1\n",
      "Get Paramters from Auto ARIMA\n",
      "SARIMA\n",
      "SARIMAX\n",
      "ETS\n",
      "Naive Benchmarks\n"
     ]
    },
    {
     "name": "stderr",
     "output_type": "stream",
     "text": [
      "/opt/miniconda3/envs/snowflakes/lib/python3.10/site-packages/statsmodels/tsa/holtwinters/model.py:915: ConvergenceWarning: Optimization failed to converge. Check mle_retvals.\n",
      "  warnings.warn(\n"
     ]
    },
    {
     "name": "stdout",
     "output_type": "stream",
     "text": [
      "Split 2\n",
      "Get Paramters from Auto ARIMA\n",
      "SARIMA\n",
      "SARIMAX\n",
      "ETS\n",
      "Naive Benchmarks\n"
     ]
    },
    {
     "name": "stderr",
     "output_type": "stream",
     "text": [
      "/opt/miniconda3/envs/snowflakes/lib/python3.10/site-packages/statsmodels/tsa/holtwinters/model.py:915: ConvergenceWarning: Optimization failed to converge. Check mle_retvals.\n",
      "  warnings.warn(\n"
     ]
    },
    {
     "name": "stdout",
     "output_type": "stream",
     "text": [
      "Split 3\n",
      "Get Paramters from Auto ARIMA\n",
      "SARIMA\n",
      "SARIMAX\n",
      "ETS\n",
      "Naive Benchmarks\n",
      "Split 4\n",
      "Get Paramters from Auto ARIMA\n"
     ]
    },
    {
     "name": "stderr",
     "output_type": "stream",
     "text": [
      "/opt/miniconda3/envs/snowflakes/lib/python3.10/site-packages/statsmodels/tsa/holtwinters/model.py:915: ConvergenceWarning: Optimization failed to converge. Check mle_retvals.\n",
      "  warnings.warn(\n"
     ]
    },
    {
     "name": "stdout",
     "output_type": "stream",
     "text": [
      "SARIMA\n",
      "SARIMAX\n",
      "ETS\n",
      "Naive Benchmarks\n",
      "Split 5\n",
      "Get Paramters from Auto ARIMA\n"
     ]
    },
    {
     "name": "stderr",
     "output_type": "stream",
     "text": [
      "/opt/miniconda3/envs/snowflakes/lib/python3.10/site-packages/statsmodels/tsa/holtwinters/model.py:915: ConvergenceWarning: Optimization failed to converge. Check mle_retvals.\n",
      "  warnings.warn(\n"
     ]
    },
    {
     "name": "stdout",
     "output_type": "stream",
     "text": [
      "SARIMA\n",
      "SARIMAX\n",
      "ETS\n",
      "Naive Benchmarks\n",
      "start forecast\n",
      "Get Paramters from Auto ARIMA\n"
     ]
    },
    {
     "name": "stderr",
     "output_type": "stream",
     "text": [
      "/opt/miniconda3/envs/snowflakes/lib/python3.10/site-packages/statsmodels/tsa/holtwinters/model.py:915: ConvergenceWarning: Optimization failed to converge. Check mle_retvals.\n",
      "  warnings.warn(\n"
     ]
    },
    {
     "name": "stdout",
     "output_type": "stream",
     "text": [
      "auto_arima Parameters: (4, 1, 1)\n",
      "auto_arima Seasonal Parameters: (0, 0, 0, 7)\n",
      "SARIMA\n",
      "SARIMAX\n",
      "ETS\n",
      "NAIVE Benchmarks\n"
     ]
    },
    {
     "name": "stderr",
     "output_type": "stream",
     "text": [
      "/opt/miniconda3/envs/snowflakes/lib/python3.10/site-packages/statsmodels/tsa/holtwinters/model.py:915: ConvergenceWarning: Optimization failed to converge. Check mle_retvals.\n",
      "  warnings.warn(\n"
     ]
    },
    {
     "name": "stdout",
     "output_type": "stream",
     "text": [
      "96\n",
      "Set up data\n",
      "start backtest\n",
      "Split 1\n",
      "Get Paramters from Auto ARIMA\n",
      "SARIMA\n",
      "SARIMAX\n"
     ]
    },
    {
     "name": "stderr",
     "output_type": "stream",
     "text": [
      "/opt/miniconda3/envs/snowflakes/lib/python3.10/site-packages/statsmodels/tsa/statespace/sarimax.py:966: UserWarning: Non-stationary starting autoregressive parameters found. Using zeros as starting parameters.\n",
      "  warn('Non-stationary starting autoregressive parameters'\n",
      "/opt/miniconda3/envs/snowflakes/lib/python3.10/site-packages/statsmodels/tsa/statespace/sarimax.py:978: UserWarning: Non-invertible starting MA parameters found. Using zeros as starting parameters.\n",
      "  warn('Non-invertible starting MA parameters found.'\n",
      "/opt/miniconda3/envs/snowflakes/lib/python3.10/site-packages/statsmodels/base/model.py:604: ConvergenceWarning: Maximum Likelihood optimization failed to converge. Check mle_retvals\n",
      "  warnings.warn(\"Maximum Likelihood optimization failed to \"\n"
     ]
    },
    {
     "name": "stdout",
     "output_type": "stream",
     "text": [
      "ETS\n",
      "Naive Benchmarks\n",
      "Split 2\n",
      "Get Paramters from Auto ARIMA\n",
      "SARIMA\n",
      "SARIMAX\n"
     ]
    },
    {
     "name": "stderr",
     "output_type": "stream",
     "text": [
      "/opt/miniconda3/envs/snowflakes/lib/python3.10/site-packages/statsmodels/tsa/statespace/sarimax.py:966: UserWarning: Non-stationary starting autoregressive parameters found. Using zeros as starting parameters.\n",
      "  warn('Non-stationary starting autoregressive parameters'\n",
      "/opt/miniconda3/envs/snowflakes/lib/python3.10/site-packages/statsmodels/tsa/statespace/sarimax.py:978: UserWarning: Non-invertible starting MA parameters found. Using zeros as starting parameters.\n",
      "  warn('Non-invertible starting MA parameters found.'\n",
      "/opt/miniconda3/envs/snowflakes/lib/python3.10/site-packages/statsmodels/base/model.py:604: ConvergenceWarning: Maximum Likelihood optimization failed to converge. Check mle_retvals\n",
      "  warnings.warn(\"Maximum Likelihood optimization failed to \"\n"
     ]
    },
    {
     "name": "stdout",
     "output_type": "stream",
     "text": [
      "ETS\n",
      "Naive Benchmarks\n",
      "Split 3\n",
      "Get Paramters from Auto ARIMA\n",
      "SARIMA\n",
      "SARIMAX\n"
     ]
    },
    {
     "name": "stderr",
     "output_type": "stream",
     "text": [
      "/opt/miniconda3/envs/snowflakes/lib/python3.10/site-packages/statsmodels/tsa/statespace/sarimax.py:966: UserWarning: Non-stationary starting autoregressive parameters found. Using zeros as starting parameters.\n",
      "  warn('Non-stationary starting autoregressive parameters'\n",
      "/opt/miniconda3/envs/snowflakes/lib/python3.10/site-packages/statsmodels/tsa/statespace/sarimax.py:978: UserWarning: Non-invertible starting MA parameters found. Using zeros as starting parameters.\n",
      "  warn('Non-invertible starting MA parameters found.'\n"
     ]
    },
    {
     "name": "stdout",
     "output_type": "stream",
     "text": [
      "ETS\n",
      "Naive Benchmarks\n",
      "Split 4\n",
      "Get Paramters from Auto ARIMA\n",
      "SARIMA\n"
     ]
    },
    {
     "name": "stderr",
     "output_type": "stream",
     "text": [
      "/opt/miniconda3/envs/snowflakes/lib/python3.10/site-packages/statsmodels/tsa/statespace/sarimax.py:978: UserWarning: Non-invertible starting MA parameters found. Using zeros as starting parameters.\n",
      "  warn('Non-invertible starting MA parameters found.'\n"
     ]
    },
    {
     "name": "stdout",
     "output_type": "stream",
     "text": [
      "SARIMAX\n"
     ]
    },
    {
     "name": "stderr",
     "output_type": "stream",
     "text": [
      "/opt/miniconda3/envs/snowflakes/lib/python3.10/site-packages/statsmodels/tsa/statespace/sarimax.py:966: UserWarning: Non-stationary starting autoregressive parameters found. Using zeros as starting parameters.\n",
      "  warn('Non-stationary starting autoregressive parameters'\n",
      "/opt/miniconda3/envs/snowflakes/lib/python3.10/site-packages/statsmodels/tsa/statespace/sarimax.py:978: UserWarning: Non-invertible starting MA parameters found. Using zeros as starting parameters.\n",
      "  warn('Non-invertible starting MA parameters found.'\n",
      "/opt/miniconda3/envs/snowflakes/lib/python3.10/site-packages/statsmodels/base/model.py:604: ConvergenceWarning: Maximum Likelihood optimization failed to converge. Check mle_retvals\n",
      "  warnings.warn(\"Maximum Likelihood optimization failed to \"\n"
     ]
    },
    {
     "name": "stdout",
     "output_type": "stream",
     "text": [
      "ETS\n",
      "Naive Benchmarks\n",
      "Split 5\n",
      "Get Paramters from Auto ARIMA\n",
      "SARIMA\n"
     ]
    },
    {
     "name": "stderr",
     "output_type": "stream",
     "text": [
      "/opt/miniconda3/envs/snowflakes/lib/python3.10/site-packages/statsmodels/tsa/statespace/sarimax.py:978: UserWarning: Non-invertible starting MA parameters found. Using zeros as starting parameters.\n",
      "  warn('Non-invertible starting MA parameters found.'\n"
     ]
    },
    {
     "name": "stdout",
     "output_type": "stream",
     "text": [
      "SARIMAX\n"
     ]
    },
    {
     "name": "stderr",
     "output_type": "stream",
     "text": [
      "/opt/miniconda3/envs/snowflakes/lib/python3.10/site-packages/statsmodels/tsa/statespace/sarimax.py:978: UserWarning: Non-invertible starting MA parameters found. Using zeros as starting parameters.\n",
      "  warn('Non-invertible starting MA parameters found.'\n",
      "/opt/miniconda3/envs/snowflakes/lib/python3.10/site-packages/statsmodels/base/model.py:604: ConvergenceWarning: Maximum Likelihood optimization failed to converge. Check mle_retvals\n",
      "  warnings.warn(\"Maximum Likelihood optimization failed to \"\n"
     ]
    },
    {
     "name": "stdout",
     "output_type": "stream",
     "text": [
      "ETS\n",
      "Naive Benchmarks\n",
      "start forecast\n",
      "Get Paramters from Auto ARIMA\n",
      "auto_arima Parameters: (5, 1, 0)\n",
      "auto_arima Seasonal Parameters: (0, 0, 0, 7)\n",
      "SARIMA\n",
      "SARIMAX\n",
      "ETS\n",
      "NAIVE Benchmarks\n",
      "84\n",
      "Set up data\n",
      "start backtest\n",
      "Split 1\n",
      "Get Paramters from Auto ARIMA\n",
      "SARIMA\n",
      "SARIMAX\n",
      "ETS\n",
      "Naive Benchmarks\n",
      "Split 2\n",
      "Get Paramters from Auto ARIMA\n"
     ]
    },
    {
     "name": "stderr",
     "output_type": "stream",
     "text": [
      "/opt/miniconda3/envs/snowflakes/lib/python3.10/site-packages/statsmodels/tsa/holtwinters/model.py:915: ConvergenceWarning: Optimization failed to converge. Check mle_retvals.\n",
      "  warnings.warn(\n",
      "/opt/miniconda3/envs/snowflakes/lib/python3.10/site-packages/pmdarima/arima/_auto_solvers.py:522: ModelFitWarning: Error fitting  ARIMA(2,1,1)(1,0,1)[7] intercept (if you do not want to see these warnings, run with error_action=\"ignore\").\n",
      "Traceback:\n",
      "Traceback (most recent call last):\n",
      "  File \"/opt/miniconda3/envs/snowflakes/lib/python3.10/site-packages/pmdarima/arima/_auto_solvers.py\", line 506, in _fit_candidate_model\n",
      "    fit.fit(y, X=X, **fit_params)\n",
      "  File \"/opt/miniconda3/envs/snowflakes/lib/python3.10/site-packages/pmdarima/arima/arima.py\", line 603, in fit\n",
      "    self._fit(y, X, **fit_args)\n",
      "  File \"/opt/miniconda3/envs/snowflakes/lib/python3.10/site-packages/pmdarima/arima/arima.py\", line 524, in _fit\n",
      "    fit, self.arima_res_ = _fit_wrapper()\n",
      "  File \"/opt/miniconda3/envs/snowflakes/lib/python3.10/site-packages/pmdarima/arima/arima.py\", line 510, in _fit_wrapper\n",
      "    fitted = arima.fit(\n",
      "  File \"/opt/miniconda3/envs/snowflakes/lib/python3.10/site-packages/statsmodels/tsa/statespace/mlemodel.py\", line 704, in fit\n",
      "    mlefit = super(MLEModel, self).fit(start_params, method=method,\n",
      "  File \"/opt/miniconda3/envs/snowflakes/lib/python3.10/site-packages/statsmodels/base/model.py\", line 563, in fit\n",
      "    xopt, retvals, optim_settings = optimizer._fit(f, score, start_params,\n",
      "  File \"/opt/miniconda3/envs/snowflakes/lib/python3.10/site-packages/statsmodels/base/optimizer.py\", line 241, in _fit\n",
      "    xopt, retvals = func(objective, gradient, start_params, fargs, kwargs,\n",
      "  File \"/opt/miniconda3/envs/snowflakes/lib/python3.10/site-packages/statsmodels/base/optimizer.py\", line 651, in _fit_lbfgs\n",
      "    retvals = optimize.fmin_l_bfgs_b(func, start_params, maxiter=maxiter,\n",
      "  File \"/opt/miniconda3/envs/snowflakes/lib/python3.10/site-packages/scipy/optimize/_lbfgsb_py.py\", line 197, in fmin_l_bfgs_b\n",
      "    res = _minimize_lbfgsb(fun, x0, args=args, jac=jac, bounds=bounds,\n",
      "  File \"/opt/miniconda3/envs/snowflakes/lib/python3.10/site-packages/scipy/optimize/_lbfgsb_py.py\", line 360, in _minimize_lbfgsb\n",
      "    f, g = func_and_grad(x)\n",
      "  File \"/opt/miniconda3/envs/snowflakes/lib/python3.10/site-packages/scipy/optimize/_differentiable_functions.py\", line 285, in fun_and_grad\n",
      "    self._update_fun()\n",
      "  File \"/opt/miniconda3/envs/snowflakes/lib/python3.10/site-packages/scipy/optimize/_differentiable_functions.py\", line 251, in _update_fun\n",
      "    self._update_fun_impl()\n",
      "  File \"/opt/miniconda3/envs/snowflakes/lib/python3.10/site-packages/scipy/optimize/_differentiable_functions.py\", line 155, in update_fun\n",
      "    self.f = fun_wrapped(self.x)\n",
      "  File \"/opt/miniconda3/envs/snowflakes/lib/python3.10/site-packages/scipy/optimize/_differentiable_functions.py\", line 137, in fun_wrapped\n",
      "    fx = fun(np.copy(x), *args)\n",
      "  File \"/opt/miniconda3/envs/snowflakes/lib/python3.10/site-packages/statsmodels/base/model.py\", line 531, in f\n",
      "    return -self.loglike(params, *args) / nobs\n",
      "  File \"/opt/miniconda3/envs/snowflakes/lib/python3.10/site-packages/statsmodels/tsa/statespace/mlemodel.py\", line 939, in loglike\n",
      "    loglike = self.ssm.loglike(complex_step=complex_step, **kwargs)\n",
      "  File \"/opt/miniconda3/envs/snowflakes/lib/python3.10/site-packages/statsmodels/tsa/statespace/kalman_filter.py\", line 983, in loglike\n",
      "    kfilter = self._filter(**kwargs)\n",
      "  File \"/opt/miniconda3/envs/snowflakes/lib/python3.10/site-packages/statsmodels/tsa/statespace/kalman_filter.py\", line 903, in _filter\n",
      "    self._initialize_state(prefix=prefix, complex_step=complex_step)\n",
      "  File \"/opt/miniconda3/envs/snowflakes/lib/python3.10/site-packages/statsmodels/tsa/statespace/representation.py\", line 983, in _initialize_state\n",
      "    self._statespaces[prefix].initialize(self.initialization,\n",
      "  File \"statsmodels/tsa/statespace/_representation.pyx\", line 1373, in statsmodels.tsa.statespace._representation.dStatespace.initialize\n",
      "  File \"statsmodels/tsa/statespace/_representation.pyx\", line 1362, in statsmodels.tsa.statespace._representation.dStatespace.initialize\n",
      "  File \"statsmodels/tsa/statespace/_initialization.pyx\", line 288, in statsmodels.tsa.statespace._initialization.dInitialization.initialize\n",
      "  File \"statsmodels/tsa/statespace/_initialization.pyx\", line 406, in statsmodels.tsa.statespace._initialization.dInitialization.initialize_stationary_stationary_cov\n",
      "  File \"statsmodels/tsa/statespace/_tools.pyx\", line 1206, in statsmodels.tsa.statespace._tools._dsolve_discrete_lyapunov\n",
      "numpy.linalg.LinAlgError: LU decomposition error.\n",
      "\n",
      "  warnings.warn(warning_str, ModelFitWarning)\n",
      "/opt/miniconda3/envs/snowflakes/lib/python3.10/site-packages/pmdarima/arima/_auto_solvers.py:522: ModelFitWarning: Error fitting  ARIMA(2,1,3)(0,0,0)[7] intercept (if you do not want to see these warnings, run with error_action=\"ignore\").\n",
      "Traceback:\n",
      "Traceback (most recent call last):\n",
      "  File \"/opt/miniconda3/envs/snowflakes/lib/python3.10/site-packages/pmdarima/arima/_auto_solvers.py\", line 506, in _fit_candidate_model\n",
      "    fit.fit(y, X=X, **fit_params)\n",
      "  File \"/opt/miniconda3/envs/snowflakes/lib/python3.10/site-packages/pmdarima/arima/arima.py\", line 603, in fit\n",
      "    self._fit(y, X, **fit_args)\n",
      "  File \"/opt/miniconda3/envs/snowflakes/lib/python3.10/site-packages/pmdarima/arima/arima.py\", line 524, in _fit\n",
      "    fit, self.arima_res_ = _fit_wrapper()\n",
      "  File \"/opt/miniconda3/envs/snowflakes/lib/python3.10/site-packages/pmdarima/arima/arima.py\", line 510, in _fit_wrapper\n",
      "    fitted = arima.fit(\n",
      "  File \"/opt/miniconda3/envs/snowflakes/lib/python3.10/site-packages/statsmodels/tsa/statespace/mlemodel.py\", line 704, in fit\n",
      "    mlefit = super(MLEModel, self).fit(start_params, method=method,\n",
      "  File \"/opt/miniconda3/envs/snowflakes/lib/python3.10/site-packages/statsmodels/base/model.py\", line 563, in fit\n",
      "    xopt, retvals, optim_settings = optimizer._fit(f, score, start_params,\n",
      "  File \"/opt/miniconda3/envs/snowflakes/lib/python3.10/site-packages/statsmodels/base/optimizer.py\", line 241, in _fit\n",
      "    xopt, retvals = func(objective, gradient, start_params, fargs, kwargs,\n",
      "  File \"/opt/miniconda3/envs/snowflakes/lib/python3.10/site-packages/statsmodels/base/optimizer.py\", line 651, in _fit_lbfgs\n",
      "    retvals = optimize.fmin_l_bfgs_b(func, start_params, maxiter=maxiter,\n",
      "  File \"/opt/miniconda3/envs/snowflakes/lib/python3.10/site-packages/scipy/optimize/_lbfgsb_py.py\", line 197, in fmin_l_bfgs_b\n",
      "    res = _minimize_lbfgsb(fun, x0, args=args, jac=jac, bounds=bounds,\n",
      "  File \"/opt/miniconda3/envs/snowflakes/lib/python3.10/site-packages/scipy/optimize/_lbfgsb_py.py\", line 360, in _minimize_lbfgsb\n",
      "    f, g = func_and_grad(x)\n",
      "  File \"/opt/miniconda3/envs/snowflakes/lib/python3.10/site-packages/scipy/optimize/_differentiable_functions.py\", line 285, in fun_and_grad\n",
      "    self._update_fun()\n",
      "  File \"/opt/miniconda3/envs/snowflakes/lib/python3.10/site-packages/scipy/optimize/_differentiable_functions.py\", line 251, in _update_fun\n",
      "    self._update_fun_impl()\n",
      "  File \"/opt/miniconda3/envs/snowflakes/lib/python3.10/site-packages/scipy/optimize/_differentiable_functions.py\", line 155, in update_fun\n",
      "    self.f = fun_wrapped(self.x)\n",
      "  File \"/opt/miniconda3/envs/snowflakes/lib/python3.10/site-packages/scipy/optimize/_differentiable_functions.py\", line 137, in fun_wrapped\n",
      "    fx = fun(np.copy(x), *args)\n",
      "  File \"/opt/miniconda3/envs/snowflakes/lib/python3.10/site-packages/statsmodels/base/model.py\", line 531, in f\n",
      "    return -self.loglike(params, *args) / nobs\n",
      "  File \"/opt/miniconda3/envs/snowflakes/lib/python3.10/site-packages/statsmodels/tsa/statespace/mlemodel.py\", line 939, in loglike\n",
      "    loglike = self.ssm.loglike(complex_step=complex_step, **kwargs)\n",
      "  File \"/opt/miniconda3/envs/snowflakes/lib/python3.10/site-packages/statsmodels/tsa/statespace/kalman_filter.py\", line 983, in loglike\n",
      "    kfilter = self._filter(**kwargs)\n",
      "  File \"/opt/miniconda3/envs/snowflakes/lib/python3.10/site-packages/statsmodels/tsa/statespace/kalman_filter.py\", line 903, in _filter\n",
      "    self._initialize_state(prefix=prefix, complex_step=complex_step)\n",
      "  File \"/opt/miniconda3/envs/snowflakes/lib/python3.10/site-packages/statsmodels/tsa/statespace/representation.py\", line 983, in _initialize_state\n",
      "    self._statespaces[prefix].initialize(self.initialization,\n",
      "  File \"statsmodels/tsa/statespace/_representation.pyx\", line 1373, in statsmodels.tsa.statespace._representation.dStatespace.initialize\n",
      "  File \"statsmodels/tsa/statespace/_representation.pyx\", line 1362, in statsmodels.tsa.statespace._representation.dStatespace.initialize\n",
      "  File \"statsmodels/tsa/statespace/_initialization.pyx\", line 288, in statsmodels.tsa.statespace._initialization.dInitialization.initialize\n",
      "  File \"statsmodels/tsa/statespace/_initialization.pyx\", line 406, in statsmodels.tsa.statespace._initialization.dInitialization.initialize_stationary_stationary_cov\n",
      "  File \"statsmodels/tsa/statespace/_tools.pyx\", line 1206, in statsmodels.tsa.statespace._tools._dsolve_discrete_lyapunov\n",
      "numpy.linalg.LinAlgError: LU decomposition error.\n",
      "\n",
      "  warnings.warn(warning_str, ModelFitWarning)\n",
      "/opt/miniconda3/envs/snowflakes/lib/python3.10/site-packages/pmdarima/arima/_auto_solvers.py:522: ModelFitWarning: Error fitting  ARIMA(3,1,0)(2,0,0)[7] intercept (if you do not want to see these warnings, run with error_action=\"ignore\").\n",
      "Traceback:\n",
      "Traceback (most recent call last):\n",
      "  File \"/opt/miniconda3/envs/snowflakes/lib/python3.10/site-packages/pmdarima/arima/_auto_solvers.py\", line 506, in _fit_candidate_model\n",
      "    fit.fit(y, X=X, **fit_params)\n",
      "  File \"/opt/miniconda3/envs/snowflakes/lib/python3.10/site-packages/pmdarima/arima/arima.py\", line 603, in fit\n",
      "    self._fit(y, X, **fit_args)\n",
      "  File \"/opt/miniconda3/envs/snowflakes/lib/python3.10/site-packages/pmdarima/arima/arima.py\", line 524, in _fit\n",
      "    fit, self.arima_res_ = _fit_wrapper()\n",
      "  File \"/opt/miniconda3/envs/snowflakes/lib/python3.10/site-packages/pmdarima/arima/arima.py\", line 510, in _fit_wrapper\n",
      "    fitted = arima.fit(\n",
      "  File \"/opt/miniconda3/envs/snowflakes/lib/python3.10/site-packages/statsmodels/tsa/statespace/mlemodel.py\", line 704, in fit\n",
      "    mlefit = super(MLEModel, self).fit(start_params, method=method,\n",
      "  File \"/opt/miniconda3/envs/snowflakes/lib/python3.10/site-packages/statsmodels/base/model.py\", line 563, in fit\n",
      "    xopt, retvals, optim_settings = optimizer._fit(f, score, start_params,\n",
      "  File \"/opt/miniconda3/envs/snowflakes/lib/python3.10/site-packages/statsmodels/base/optimizer.py\", line 241, in _fit\n",
      "    xopt, retvals = func(objective, gradient, start_params, fargs, kwargs,\n",
      "  File \"/opt/miniconda3/envs/snowflakes/lib/python3.10/site-packages/statsmodels/base/optimizer.py\", line 651, in _fit_lbfgs\n",
      "    retvals = optimize.fmin_l_bfgs_b(func, start_params, maxiter=maxiter,\n",
      "  File \"/opt/miniconda3/envs/snowflakes/lib/python3.10/site-packages/scipy/optimize/_lbfgsb_py.py\", line 197, in fmin_l_bfgs_b\n",
      "    res = _minimize_lbfgsb(fun, x0, args=args, jac=jac, bounds=bounds,\n",
      "  File \"/opt/miniconda3/envs/snowflakes/lib/python3.10/site-packages/scipy/optimize/_lbfgsb_py.py\", line 360, in _minimize_lbfgsb\n",
      "    f, g = func_and_grad(x)\n",
      "  File \"/opt/miniconda3/envs/snowflakes/lib/python3.10/site-packages/scipy/optimize/_differentiable_functions.py\", line 285, in fun_and_grad\n",
      "    self._update_fun()\n",
      "  File \"/opt/miniconda3/envs/snowflakes/lib/python3.10/site-packages/scipy/optimize/_differentiable_functions.py\", line 251, in _update_fun\n",
      "    self._update_fun_impl()\n",
      "  File \"/opt/miniconda3/envs/snowflakes/lib/python3.10/site-packages/scipy/optimize/_differentiable_functions.py\", line 155, in update_fun\n",
      "    self.f = fun_wrapped(self.x)\n",
      "  File \"/opt/miniconda3/envs/snowflakes/lib/python3.10/site-packages/scipy/optimize/_differentiable_functions.py\", line 137, in fun_wrapped\n",
      "    fx = fun(np.copy(x), *args)\n",
      "  File \"/opt/miniconda3/envs/snowflakes/lib/python3.10/site-packages/statsmodels/base/model.py\", line 531, in f\n",
      "    return -self.loglike(params, *args) / nobs\n",
      "  File \"/opt/miniconda3/envs/snowflakes/lib/python3.10/site-packages/statsmodels/tsa/statespace/mlemodel.py\", line 939, in loglike\n",
      "    loglike = self.ssm.loglike(complex_step=complex_step, **kwargs)\n",
      "  File \"/opt/miniconda3/envs/snowflakes/lib/python3.10/site-packages/statsmodels/tsa/statespace/kalman_filter.py\", line 983, in loglike\n",
      "    kfilter = self._filter(**kwargs)\n",
      "  File \"/opt/miniconda3/envs/snowflakes/lib/python3.10/site-packages/statsmodels/tsa/statespace/kalman_filter.py\", line 903, in _filter\n",
      "    self._initialize_state(prefix=prefix, complex_step=complex_step)\n",
      "  File \"/opt/miniconda3/envs/snowflakes/lib/python3.10/site-packages/statsmodels/tsa/statespace/representation.py\", line 983, in _initialize_state\n",
      "    self._statespaces[prefix].initialize(self.initialization,\n",
      "  File \"statsmodels/tsa/statespace/_representation.pyx\", line 1373, in statsmodels.tsa.statespace._representation.dStatespace.initialize\n",
      "  File \"statsmodels/tsa/statespace/_representation.pyx\", line 1362, in statsmodels.tsa.statespace._representation.dStatespace.initialize\n",
      "  File \"statsmodels/tsa/statespace/_initialization.pyx\", line 288, in statsmodels.tsa.statespace._initialization.dInitialization.initialize\n",
      "  File \"statsmodels/tsa/statespace/_initialization.pyx\", line 406, in statsmodels.tsa.statespace._initialization.dInitialization.initialize_stationary_stationary_cov\n",
      "  File \"statsmodels/tsa/statespace/_tools.pyx\", line 1206, in statsmodels.tsa.statespace._tools._dsolve_discrete_lyapunov\n",
      "numpy.linalg.LinAlgError: LU decomposition error.\n",
      "\n",
      "  warnings.warn(warning_str, ModelFitWarning)\n"
     ]
    },
    {
     "name": "stdout",
     "output_type": "stream",
     "text": [
      "SARIMA\n",
      "SARIMAX\n",
      "ETS\n",
      "Naive Benchmarks\n",
      "Split 3\n",
      "Get Paramters from Auto ARIMA\n"
     ]
    },
    {
     "name": "stderr",
     "output_type": "stream",
     "text": [
      "/opt/miniconda3/envs/snowflakes/lib/python3.10/site-packages/statsmodels/tsa/holtwinters/model.py:915: ConvergenceWarning: Optimization failed to converge. Check mle_retvals.\n",
      "  warnings.warn(\n",
      "/opt/miniconda3/envs/snowflakes/lib/python3.10/site-packages/pmdarima/arima/_auto_solvers.py:522: ModelFitWarning: Error fitting  ARIMA(2,1,1)(1,0,1)[7] intercept (if you do not want to see these warnings, run with error_action=\"ignore\").\n",
      "Traceback:\n",
      "Traceback (most recent call last):\n",
      "  File \"/opt/miniconda3/envs/snowflakes/lib/python3.10/site-packages/pmdarima/arima/_auto_solvers.py\", line 506, in _fit_candidate_model\n",
      "    fit.fit(y, X=X, **fit_params)\n",
      "  File \"/opt/miniconda3/envs/snowflakes/lib/python3.10/site-packages/pmdarima/arima/arima.py\", line 603, in fit\n",
      "    self._fit(y, X, **fit_args)\n",
      "  File \"/opt/miniconda3/envs/snowflakes/lib/python3.10/site-packages/pmdarima/arima/arima.py\", line 524, in _fit\n",
      "    fit, self.arima_res_ = _fit_wrapper()\n",
      "  File \"/opt/miniconda3/envs/snowflakes/lib/python3.10/site-packages/pmdarima/arima/arima.py\", line 510, in _fit_wrapper\n",
      "    fitted = arima.fit(\n",
      "  File \"/opt/miniconda3/envs/snowflakes/lib/python3.10/site-packages/statsmodels/tsa/statespace/mlemodel.py\", line 704, in fit\n",
      "    mlefit = super(MLEModel, self).fit(start_params, method=method,\n",
      "  File \"/opt/miniconda3/envs/snowflakes/lib/python3.10/site-packages/statsmodels/base/model.py\", line 563, in fit\n",
      "    xopt, retvals, optim_settings = optimizer._fit(f, score, start_params,\n",
      "  File \"/opt/miniconda3/envs/snowflakes/lib/python3.10/site-packages/statsmodels/base/optimizer.py\", line 241, in _fit\n",
      "    xopt, retvals = func(objective, gradient, start_params, fargs, kwargs,\n",
      "  File \"/opt/miniconda3/envs/snowflakes/lib/python3.10/site-packages/statsmodels/base/optimizer.py\", line 651, in _fit_lbfgs\n",
      "    retvals = optimize.fmin_l_bfgs_b(func, start_params, maxiter=maxiter,\n",
      "  File \"/opt/miniconda3/envs/snowflakes/lib/python3.10/site-packages/scipy/optimize/_lbfgsb_py.py\", line 197, in fmin_l_bfgs_b\n",
      "    res = _minimize_lbfgsb(fun, x0, args=args, jac=jac, bounds=bounds,\n",
      "  File \"/opt/miniconda3/envs/snowflakes/lib/python3.10/site-packages/scipy/optimize/_lbfgsb_py.py\", line 360, in _minimize_lbfgsb\n",
      "    f, g = func_and_grad(x)\n",
      "  File \"/opt/miniconda3/envs/snowflakes/lib/python3.10/site-packages/scipy/optimize/_differentiable_functions.py\", line 285, in fun_and_grad\n",
      "    self._update_fun()\n",
      "  File \"/opt/miniconda3/envs/snowflakes/lib/python3.10/site-packages/scipy/optimize/_differentiable_functions.py\", line 251, in _update_fun\n",
      "    self._update_fun_impl()\n",
      "  File \"/opt/miniconda3/envs/snowflakes/lib/python3.10/site-packages/scipy/optimize/_differentiable_functions.py\", line 155, in update_fun\n",
      "    self.f = fun_wrapped(self.x)\n",
      "  File \"/opt/miniconda3/envs/snowflakes/lib/python3.10/site-packages/scipy/optimize/_differentiable_functions.py\", line 137, in fun_wrapped\n",
      "    fx = fun(np.copy(x), *args)\n",
      "  File \"/opt/miniconda3/envs/snowflakes/lib/python3.10/site-packages/statsmodels/base/model.py\", line 531, in f\n",
      "    return -self.loglike(params, *args) / nobs\n",
      "  File \"/opt/miniconda3/envs/snowflakes/lib/python3.10/site-packages/statsmodels/tsa/statespace/mlemodel.py\", line 939, in loglike\n",
      "    loglike = self.ssm.loglike(complex_step=complex_step, **kwargs)\n",
      "  File \"/opt/miniconda3/envs/snowflakes/lib/python3.10/site-packages/statsmodels/tsa/statespace/kalman_filter.py\", line 983, in loglike\n",
      "    kfilter = self._filter(**kwargs)\n",
      "  File \"/opt/miniconda3/envs/snowflakes/lib/python3.10/site-packages/statsmodels/tsa/statespace/kalman_filter.py\", line 903, in _filter\n",
      "    self._initialize_state(prefix=prefix, complex_step=complex_step)\n",
      "  File \"/opt/miniconda3/envs/snowflakes/lib/python3.10/site-packages/statsmodels/tsa/statespace/representation.py\", line 983, in _initialize_state\n",
      "    self._statespaces[prefix].initialize(self.initialization,\n",
      "  File \"statsmodels/tsa/statespace/_representation.pyx\", line 1373, in statsmodels.tsa.statespace._representation.dStatespace.initialize\n",
      "  File \"statsmodels/tsa/statespace/_representation.pyx\", line 1362, in statsmodels.tsa.statespace._representation.dStatespace.initialize\n",
      "  File \"statsmodels/tsa/statespace/_initialization.pyx\", line 288, in statsmodels.tsa.statespace._initialization.dInitialization.initialize\n",
      "  File \"statsmodels/tsa/statespace/_initialization.pyx\", line 406, in statsmodels.tsa.statespace._initialization.dInitialization.initialize_stationary_stationary_cov\n",
      "  File \"statsmodels/tsa/statespace/_tools.pyx\", line 1206, in statsmodels.tsa.statespace._tools._dsolve_discrete_lyapunov\n",
      "numpy.linalg.LinAlgError: LU decomposition error.\n",
      "\n",
      "  warnings.warn(warning_str, ModelFitWarning)\n"
     ]
    },
    {
     "name": "stdout",
     "output_type": "stream",
     "text": [
      "SARIMA\n",
      "SARIMAX\n",
      "ETS\n",
      "Naive Benchmarks\n"
     ]
    },
    {
     "name": "stderr",
     "output_type": "stream",
     "text": [
      "/opt/miniconda3/envs/snowflakes/lib/python3.10/site-packages/statsmodels/tsa/holtwinters/model.py:915: ConvergenceWarning: Optimization failed to converge. Check mle_retvals.\n",
      "  warnings.warn(\n"
     ]
    },
    {
     "name": "stdout",
     "output_type": "stream",
     "text": [
      "Split 4\n",
      "Get Paramters from Auto ARIMA\n",
      "SARIMA\n",
      "SARIMAX\n",
      "ETS\n",
      "Naive Benchmarks\n",
      "Split 5\n",
      "Get Paramters from Auto ARIMA\n"
     ]
    },
    {
     "name": "stderr",
     "output_type": "stream",
     "text": [
      "/opt/miniconda3/envs/snowflakes/lib/python3.10/site-packages/statsmodels/tsa/holtwinters/model.py:915: ConvergenceWarning: Optimization failed to converge. Check mle_retvals.\n",
      "  warnings.warn(\n"
     ]
    },
    {
     "name": "stdout",
     "output_type": "stream",
     "text": [
      "SARIMA\n",
      "SARIMAX\n",
      "ETS\n"
     ]
    },
    {
     "name": "stderr",
     "output_type": "stream",
     "text": [
      "/opt/miniconda3/envs/snowflakes/lib/python3.10/site-packages/statsmodels/tsa/holtwinters/model.py:915: ConvergenceWarning: Optimization failed to converge. Check mle_retvals.\n",
      "  warnings.warn(\n"
     ]
    },
    {
     "name": "stdout",
     "output_type": "stream",
     "text": [
      "Naive Benchmarks\n",
      "start forecast\n",
      "Get Paramters from Auto ARIMA\n",
      "auto_arima Parameters: (0, 1, 3)\n",
      "auto_arima Seasonal Parameters: (0, 0, 0, 7)\n",
      "SARIMA\n",
      "SARIMAX\n",
      "ETS\n"
     ]
    },
    {
     "name": "stderr",
     "output_type": "stream",
     "text": [
      "/opt/miniconda3/envs/snowflakes/lib/python3.10/site-packages/statsmodels/tsa/holtwinters/model.py:915: ConvergenceWarning: Optimization failed to converge. Check mle_retvals.\n",
      "  warnings.warn(\n"
     ]
    },
    {
     "name": "stdout",
     "output_type": "stream",
     "text": [
      "NAIVE Benchmarks\n",
      "86\n",
      "Set up data\n",
      "start backtest\n",
      "Split 1\n",
      "Get Paramters from Auto ARIMA\n",
      "SARIMA\n",
      "SARIMAX\n",
      "ETS\n",
      "Naive Benchmarks\n",
      "Split 2\n",
      "Get Paramters from Auto ARIMA\n",
      "SARIMA\n",
      "SARIMAX\n",
      "ETS\n",
      "Naive Benchmarks\n",
      "Split 3\n",
      "Get Paramters from Auto ARIMA\n",
      "SARIMA\n",
      "SARIMAX\n",
      "ETS\n",
      "Naive Benchmarks\n",
      "Split 4\n",
      "Get Paramters from Auto ARIMA\n",
      "SARIMA\n",
      "SARIMAX\n",
      "ETS\n",
      "Naive Benchmarks\n",
      "Split 5\n",
      "Get Paramters from Auto ARIMA\n",
      "SARIMA\n",
      "SARIMAX\n"
     ]
    },
    {
     "name": "stderr",
     "output_type": "stream",
     "text": [
      "/opt/miniconda3/envs/snowflakes/lib/python3.10/site-packages/statsmodels/base/model.py:604: ConvergenceWarning: Maximum Likelihood optimization failed to converge. Check mle_retvals\n",
      "  warnings.warn(\"Maximum Likelihood optimization failed to \"\n"
     ]
    },
    {
     "name": "stdout",
     "output_type": "stream",
     "text": [
      "ETS\n",
      "Naive Benchmarks\n",
      "start forecast\n",
      "Get Paramters from Auto ARIMA\n",
      "auto_arima Parameters: (0, 1, 2)\n",
      "auto_arima Seasonal Parameters: (0, 0, 0, 7)\n",
      "SARIMA\n",
      "SARIMAX\n"
     ]
    },
    {
     "name": "stderr",
     "output_type": "stream",
     "text": [
      "/opt/miniconda3/envs/snowflakes/lib/python3.10/site-packages/statsmodels/base/model.py:604: ConvergenceWarning: Maximum Likelihood optimization failed to converge. Check mle_retvals\n",
      "  warnings.warn(\"Maximum Likelihood optimization failed to \"\n"
     ]
    },
    {
     "name": "stdout",
     "output_type": "stream",
     "text": [
      "ETS\n",
      "NAIVE Benchmarks\n",
      "82\n",
      "Set up data\n",
      "start backtest\n",
      "Split 1\n",
      "Get Paramters from Auto ARIMA\n",
      "SARIMA\n",
      "SARIMAX\n"
     ]
    },
    {
     "name": "stderr",
     "output_type": "stream",
     "text": [
      "/opt/miniconda3/envs/snowflakes/lib/python3.10/site-packages/statsmodels/base/model.py:604: ConvergenceWarning: Maximum Likelihood optimization failed to converge. Check mle_retvals\n",
      "  warnings.warn(\"Maximum Likelihood optimization failed to \"\n"
     ]
    },
    {
     "name": "stdout",
     "output_type": "stream",
     "text": [
      "ETS\n",
      "Naive Benchmarks\n",
      "Split 2\n",
      "Get Paramters from Auto ARIMA\n",
      "SARIMA\n",
      "SARIMAX\n"
     ]
    },
    {
     "name": "stderr",
     "output_type": "stream",
     "text": [
      "/opt/miniconda3/envs/snowflakes/lib/python3.10/site-packages/statsmodels/base/model.py:604: ConvergenceWarning: Maximum Likelihood optimization failed to converge. Check mle_retvals\n",
      "  warnings.warn(\"Maximum Likelihood optimization failed to \"\n"
     ]
    },
    {
     "name": "stdout",
     "output_type": "stream",
     "text": [
      "ETS\n",
      "Naive Benchmarks\n",
      "Split 3\n",
      "Get Paramters from Auto ARIMA\n",
      "SARIMA\n",
      "SARIMAX\n"
     ]
    },
    {
     "name": "stderr",
     "output_type": "stream",
     "text": [
      "/opt/miniconda3/envs/snowflakes/lib/python3.10/site-packages/statsmodels/base/model.py:604: ConvergenceWarning: Maximum Likelihood optimization failed to converge. Check mle_retvals\n",
      "  warnings.warn(\"Maximum Likelihood optimization failed to \"\n"
     ]
    },
    {
     "name": "stdout",
     "output_type": "stream",
     "text": [
      "ETS\n",
      "Naive Benchmarks\n",
      "Split 4\n",
      "Get Paramters from Auto ARIMA\n",
      "SARIMA\n",
      "SARIMAX\n"
     ]
    },
    {
     "name": "stderr",
     "output_type": "stream",
     "text": [
      "/opt/miniconda3/envs/snowflakes/lib/python3.10/site-packages/statsmodels/base/model.py:604: ConvergenceWarning: Maximum Likelihood optimization failed to converge. Check mle_retvals\n",
      "  warnings.warn(\"Maximum Likelihood optimization failed to \"\n"
     ]
    },
    {
     "name": "stdout",
     "output_type": "stream",
     "text": [
      "ETS\n",
      "Naive Benchmarks\n",
      "Split 5\n",
      "Get Paramters from Auto ARIMA\n",
      "SARIMA\n",
      "SARIMAX\n"
     ]
    },
    {
     "name": "stderr",
     "output_type": "stream",
     "text": [
      "/opt/miniconda3/envs/snowflakes/lib/python3.10/site-packages/statsmodels/base/model.py:604: ConvergenceWarning: Maximum Likelihood optimization failed to converge. Check mle_retvals\n",
      "  warnings.warn(\"Maximum Likelihood optimization failed to \"\n"
     ]
    },
    {
     "name": "stdout",
     "output_type": "stream",
     "text": [
      "ETS\n",
      "Naive Benchmarks\n",
      "start forecast\n",
      "Get Paramters from Auto ARIMA\n",
      "auto_arima Parameters: (1, 0, 2)\n",
      "auto_arima Seasonal Parameters: (1, 0, 1, 7)\n",
      "SARIMA\n"
     ]
    },
    {
     "name": "stderr",
     "output_type": "stream",
     "text": [
      "/opt/miniconda3/envs/snowflakes/lib/python3.10/site-packages/statsmodels/tsa/statespace/sarimax.py:966: UserWarning: Non-stationary starting autoregressive parameters found. Using zeros as starting parameters.\n",
      "  warn('Non-stationary starting autoregressive parameters'\n",
      "/opt/miniconda3/envs/snowflakes/lib/python3.10/site-packages/statsmodels/base/model.py:604: ConvergenceWarning: Maximum Likelihood optimization failed to converge. Check mle_retvals\n",
      "  warnings.warn(\"Maximum Likelihood optimization failed to \"\n"
     ]
    },
    {
     "name": "stdout",
     "output_type": "stream",
     "text": [
      "SARIMAX\n"
     ]
    },
    {
     "name": "stderr",
     "output_type": "stream",
     "text": [
      "/opt/miniconda3/envs/snowflakes/lib/python3.10/site-packages/statsmodels/base/model.py:604: ConvergenceWarning: Maximum Likelihood optimization failed to converge. Check mle_retvals\n",
      "  warnings.warn(\"Maximum Likelihood optimization failed to \"\n"
     ]
    },
    {
     "name": "stdout",
     "output_type": "stream",
     "text": [
      "ETS\n",
      "NAIVE Benchmarks\n",
      "21\n",
      "Set up data\n",
      "start backtest\n",
      "Split 1\n",
      "Get Paramters from Auto ARIMA\n",
      "SARIMA\n",
      "SARIMAX\n"
     ]
    },
    {
     "name": "stderr",
     "output_type": "stream",
     "text": [
      "/opt/miniconda3/envs/snowflakes/lib/python3.10/site-packages/statsmodels/base/model.py:604: ConvergenceWarning: Maximum Likelihood optimization failed to converge. Check mle_retvals\n",
      "  warnings.warn(\"Maximum Likelihood optimization failed to \"\n"
     ]
    },
    {
     "name": "stdout",
     "output_type": "stream",
     "text": [
      "ETS\n",
      "Naive Benchmarks\n",
      "Split 2\n",
      "Get Paramters from Auto ARIMA\n",
      "SARIMA\n",
      "SARIMAX\n",
      "ETS\n",
      "Naive Benchmarks\n",
      "Split 3\n",
      "Get Paramters from Auto ARIMA\n",
      "SARIMA\n",
      "SARIMAX\n"
     ]
    },
    {
     "name": "stderr",
     "output_type": "stream",
     "text": [
      "/opt/miniconda3/envs/snowflakes/lib/python3.10/site-packages/statsmodels/base/model.py:604: ConvergenceWarning: Maximum Likelihood optimization failed to converge. Check mle_retvals\n",
      "  warnings.warn(\"Maximum Likelihood optimization failed to \"\n"
     ]
    },
    {
     "name": "stdout",
     "output_type": "stream",
     "text": [
      "ETS\n",
      "Naive Benchmarks\n",
      "Split 4\n",
      "Get Paramters from Auto ARIMA\n",
      "SARIMA\n",
      "SARIMAX\n"
     ]
    },
    {
     "name": "stderr",
     "output_type": "stream",
     "text": [
      "/opt/miniconda3/envs/snowflakes/lib/python3.10/site-packages/statsmodels/base/model.py:604: ConvergenceWarning: Maximum Likelihood optimization failed to converge. Check mle_retvals\n",
      "  warnings.warn(\"Maximum Likelihood optimization failed to \"\n"
     ]
    },
    {
     "name": "stdout",
     "output_type": "stream",
     "text": [
      "ETS\n",
      "Naive Benchmarks\n",
      "Split 5\n",
      "Get Paramters from Auto ARIMA\n",
      "SARIMA\n",
      "SARIMAX\n"
     ]
    },
    {
     "name": "stderr",
     "output_type": "stream",
     "text": [
      "/opt/miniconda3/envs/snowflakes/lib/python3.10/site-packages/statsmodels/base/model.py:604: ConvergenceWarning: Maximum Likelihood optimization failed to converge. Check mle_retvals\n",
      "  warnings.warn(\"Maximum Likelihood optimization failed to \"\n"
     ]
    },
    {
     "name": "stdout",
     "output_type": "stream",
     "text": [
      "ETS\n",
      "Naive Benchmarks\n",
      "start forecast\n",
      "Get Paramters from Auto ARIMA\n",
      "auto_arima Parameters: (5, 1, 0)\n",
      "auto_arima Seasonal Parameters: (0, 0, 0, 7)\n",
      "SARIMA\n",
      "SARIMAX\n"
     ]
    },
    {
     "name": "stderr",
     "output_type": "stream",
     "text": [
      "/opt/miniconda3/envs/snowflakes/lib/python3.10/site-packages/statsmodels/base/model.py:604: ConvergenceWarning: Maximum Likelihood optimization failed to converge. Check mle_retvals\n",
      "  warnings.warn(\"Maximum Likelihood optimization failed to \"\n"
     ]
    },
    {
     "name": "stdout",
     "output_type": "stream",
     "text": [
      "ETS\n",
      "NAIVE Benchmarks\n",
      "12\n",
      "Set up data\n",
      "start backtest\n",
      "Split 1\n",
      "Get Paramters from Auto ARIMA\n",
      "SARIMA\n",
      "SARIMAX\n"
     ]
    },
    {
     "name": "stderr",
     "output_type": "stream",
     "text": [
      "/opt/miniconda3/envs/snowflakes/lib/python3.10/site-packages/statsmodels/base/model.py:604: ConvergenceWarning: Maximum Likelihood optimization failed to converge. Check mle_retvals\n",
      "  warnings.warn(\"Maximum Likelihood optimization failed to \"\n"
     ]
    },
    {
     "name": "stdout",
     "output_type": "stream",
     "text": [
      "ETS\n",
      "Naive Benchmarks\n",
      "Split 2\n",
      "Get Paramters from Auto ARIMA\n",
      "SARIMA\n",
      "SARIMAX\n"
     ]
    },
    {
     "name": "stderr",
     "output_type": "stream",
     "text": [
      "/opt/miniconda3/envs/snowflakes/lib/python3.10/site-packages/statsmodels/base/model.py:604: ConvergenceWarning: Maximum Likelihood optimization failed to converge. Check mle_retvals\n",
      "  warnings.warn(\"Maximum Likelihood optimization failed to \"\n"
     ]
    },
    {
     "name": "stdout",
     "output_type": "stream",
     "text": [
      "ETS\n",
      "Naive Benchmarks\n",
      "Split 3\n",
      "Get Paramters from Auto ARIMA\n",
      "SARIMA\n",
      "SARIMAX\n"
     ]
    },
    {
     "name": "stderr",
     "output_type": "stream",
     "text": [
      "/opt/miniconda3/envs/snowflakes/lib/python3.10/site-packages/statsmodels/base/model.py:604: ConvergenceWarning: Maximum Likelihood optimization failed to converge. Check mle_retvals\n",
      "  warnings.warn(\"Maximum Likelihood optimization failed to \"\n"
     ]
    },
    {
     "name": "stdout",
     "output_type": "stream",
     "text": [
      "ETS\n",
      "Naive Benchmarks\n",
      "Split 4\n",
      "Get Paramters from Auto ARIMA\n",
      "SARIMA\n",
      "SARIMAX\n"
     ]
    },
    {
     "name": "stderr",
     "output_type": "stream",
     "text": [
      "/opt/miniconda3/envs/snowflakes/lib/python3.10/site-packages/statsmodels/base/model.py:604: ConvergenceWarning: Maximum Likelihood optimization failed to converge. Check mle_retvals\n",
      "  warnings.warn(\"Maximum Likelihood optimization failed to \"\n"
     ]
    },
    {
     "name": "stdout",
     "output_type": "stream",
     "text": [
      "ETS\n",
      "Naive Benchmarks\n",
      "Split 5\n",
      "Get Paramters from Auto ARIMA\n",
      "SARIMA\n",
      "SARIMAX\n"
     ]
    },
    {
     "name": "stderr",
     "output_type": "stream",
     "text": [
      "/opt/miniconda3/envs/snowflakes/lib/python3.10/site-packages/statsmodels/base/model.py:604: ConvergenceWarning: Maximum Likelihood optimization failed to converge. Check mle_retvals\n",
      "  warnings.warn(\"Maximum Likelihood optimization failed to \"\n"
     ]
    },
    {
     "name": "stdout",
     "output_type": "stream",
     "text": [
      "ETS\n",
      "Naive Benchmarks\n",
      "start forecast\n",
      "Get Paramters from Auto ARIMA\n",
      "auto_arima Parameters: (3, 1, 1)\n",
      "auto_arima Seasonal Parameters: (0, 0, 0, 7)\n",
      "SARIMA\n",
      "SARIMAX\n"
     ]
    },
    {
     "name": "stderr",
     "output_type": "stream",
     "text": [
      "/opt/miniconda3/envs/snowflakes/lib/python3.10/site-packages/statsmodels/base/model.py:604: ConvergenceWarning: Maximum Likelihood optimization failed to converge. Check mle_retvals\n",
      "  warnings.warn(\"Maximum Likelihood optimization failed to \"\n"
     ]
    },
    {
     "name": "stdout",
     "output_type": "stream",
     "text": [
      "ETS\n",
      "NAIVE Benchmarks\n",
      "71\n",
      "Set up data\n",
      "start backtest\n",
      "Split 1\n",
      "Get Paramters from Auto ARIMA\n",
      "SARIMA\n",
      "SARIMAX\n"
     ]
    },
    {
     "name": "stderr",
     "output_type": "stream",
     "text": [
      "/opt/miniconda3/envs/snowflakes/lib/python3.10/site-packages/statsmodels/base/model.py:604: ConvergenceWarning: Maximum Likelihood optimization failed to converge. Check mle_retvals\n",
      "  warnings.warn(\"Maximum Likelihood optimization failed to \"\n"
     ]
    },
    {
     "name": "stdout",
     "output_type": "stream",
     "text": [
      "ETS\n",
      "Naive Benchmarks\n",
      "Split 2\n",
      "Get Paramters from Auto ARIMA\n",
      "SARIMA\n",
      "SARIMAX\n"
     ]
    },
    {
     "name": "stderr",
     "output_type": "stream",
     "text": [
      "/opt/miniconda3/envs/snowflakes/lib/python3.10/site-packages/statsmodels/base/model.py:604: ConvergenceWarning: Maximum Likelihood optimization failed to converge. Check mle_retvals\n",
      "  warnings.warn(\"Maximum Likelihood optimization failed to \"\n"
     ]
    },
    {
     "name": "stdout",
     "output_type": "stream",
     "text": [
      "ETS\n",
      "Naive Benchmarks\n",
      "Split 3\n",
      "Get Paramters from Auto ARIMA\n",
      "SARIMA\n",
      "SARIMAX\n"
     ]
    },
    {
     "name": "stderr",
     "output_type": "stream",
     "text": [
      "/opt/miniconda3/envs/snowflakes/lib/python3.10/site-packages/statsmodels/base/model.py:604: ConvergenceWarning: Maximum Likelihood optimization failed to converge. Check mle_retvals\n",
      "  warnings.warn(\"Maximum Likelihood optimization failed to \"\n"
     ]
    },
    {
     "name": "stdout",
     "output_type": "stream",
     "text": [
      "ETS\n",
      "Naive Benchmarks\n",
      "Split 4\n",
      "Get Paramters from Auto ARIMA\n",
      "SARIMA\n",
      "SARIMAX\n"
     ]
    },
    {
     "name": "stderr",
     "output_type": "stream",
     "text": [
      "/opt/miniconda3/envs/snowflakes/lib/python3.10/site-packages/statsmodels/base/model.py:604: ConvergenceWarning: Maximum Likelihood optimization failed to converge. Check mle_retvals\n",
      "  warnings.warn(\"Maximum Likelihood optimization failed to \"\n"
     ]
    },
    {
     "name": "stdout",
     "output_type": "stream",
     "text": [
      "ETS\n",
      "Naive Benchmarks\n",
      "Split 5\n",
      "Get Paramters from Auto ARIMA\n",
      "SARIMA\n",
      "SARIMAX\n"
     ]
    },
    {
     "name": "stderr",
     "output_type": "stream",
     "text": [
      "/opt/miniconda3/envs/snowflakes/lib/python3.10/site-packages/statsmodels/base/model.py:604: ConvergenceWarning: Maximum Likelihood optimization failed to converge. Check mle_retvals\n",
      "  warnings.warn(\"Maximum Likelihood optimization failed to \"\n"
     ]
    },
    {
     "name": "stdout",
     "output_type": "stream",
     "text": [
      "ETS\n",
      "Naive Benchmarks\n",
      "start forecast\n",
      "Get Paramters from Auto ARIMA\n",
      "auto_arima Parameters: (1, 1, 4)\n",
      "auto_arima Seasonal Parameters: (0, 0, 0, 7)\n",
      "SARIMA\n",
      "SARIMAX\n"
     ]
    },
    {
     "name": "stderr",
     "output_type": "stream",
     "text": [
      "/opt/miniconda3/envs/snowflakes/lib/python3.10/site-packages/statsmodels/base/model.py:604: ConvergenceWarning: Maximum Likelihood optimization failed to converge. Check mle_retvals\n",
      "  warnings.warn(\"Maximum Likelihood optimization failed to \"\n"
     ]
    },
    {
     "name": "stdout",
     "output_type": "stream",
     "text": [
      "ETS\n",
      "NAIVE Benchmarks\n",
      "40\n",
      "Set up data\n",
      "start backtest\n",
      "Split 1\n",
      "Get Paramters from Auto ARIMA\n",
      "SARIMA\n",
      "SARIMAX\n"
     ]
    },
    {
     "name": "stderr",
     "output_type": "stream",
     "text": [
      "/opt/miniconda3/envs/snowflakes/lib/python3.10/site-packages/statsmodels/base/model.py:604: ConvergenceWarning: Maximum Likelihood optimization failed to converge. Check mle_retvals\n",
      "  warnings.warn(\"Maximum Likelihood optimization failed to \"\n"
     ]
    },
    {
     "name": "stdout",
     "output_type": "stream",
     "text": [
      "ETS\n",
      "Naive Benchmarks\n",
      "Split 2\n",
      "Get Paramters from Auto ARIMA\n",
      "SARIMA\n",
      "SARIMAX\n"
     ]
    },
    {
     "name": "stderr",
     "output_type": "stream",
     "text": [
      "/opt/miniconda3/envs/snowflakes/lib/python3.10/site-packages/statsmodels/base/model.py:604: ConvergenceWarning: Maximum Likelihood optimization failed to converge. Check mle_retvals\n",
      "  warnings.warn(\"Maximum Likelihood optimization failed to \"\n"
     ]
    },
    {
     "name": "stdout",
     "output_type": "stream",
     "text": [
      "ETS\n",
      "Naive Benchmarks\n",
      "Split 3\n",
      "Get Paramters from Auto ARIMA\n",
      "SARIMA\n",
      "SARIMAX\n"
     ]
    },
    {
     "name": "stderr",
     "output_type": "stream",
     "text": [
      "/opt/miniconda3/envs/snowflakes/lib/python3.10/site-packages/statsmodels/base/model.py:604: ConvergenceWarning: Maximum Likelihood optimization failed to converge. Check mle_retvals\n",
      "  warnings.warn(\"Maximum Likelihood optimization failed to \"\n"
     ]
    },
    {
     "name": "stdout",
     "output_type": "stream",
     "text": [
      "ETS\n",
      "Naive Benchmarks\n",
      "Split 4\n",
      "Get Paramters from Auto ARIMA\n",
      "SARIMA\n",
      "SARIMAX\n"
     ]
    },
    {
     "name": "stderr",
     "output_type": "stream",
     "text": [
      "/opt/miniconda3/envs/snowflakes/lib/python3.10/site-packages/statsmodels/base/model.py:604: ConvergenceWarning: Maximum Likelihood optimization failed to converge. Check mle_retvals\n",
      "  warnings.warn(\"Maximum Likelihood optimization failed to \"\n"
     ]
    },
    {
     "name": "stdout",
     "output_type": "stream",
     "text": [
      "ETS\n",
      "Naive Benchmarks\n",
      "Split 5\n",
      "Get Paramters from Auto ARIMA\n",
      "SARIMA\n",
      "SARIMAX\n"
     ]
    },
    {
     "name": "stderr",
     "output_type": "stream",
     "text": [
      "/opt/miniconda3/envs/snowflakes/lib/python3.10/site-packages/statsmodels/base/model.py:604: ConvergenceWarning: Maximum Likelihood optimization failed to converge. Check mle_retvals\n",
      "  warnings.warn(\"Maximum Likelihood optimization failed to \"\n"
     ]
    },
    {
     "name": "stdout",
     "output_type": "stream",
     "text": [
      "ETS\n",
      "Naive Benchmarks\n",
      "start forecast\n",
      "Get Paramters from Auto ARIMA\n",
      "auto_arima Parameters: (1, 0, 0)\n",
      "auto_arima Seasonal Parameters: (0, 0, 0, 7)\n",
      "SARIMA\n",
      "SARIMAX\n"
     ]
    },
    {
     "name": "stderr",
     "output_type": "stream",
     "text": [
      "/opt/miniconda3/envs/snowflakes/lib/python3.10/site-packages/statsmodels/base/model.py:604: ConvergenceWarning: Maximum Likelihood optimization failed to converge. Check mle_retvals\n",
      "  warnings.warn(\"Maximum Likelihood optimization failed to \"\n"
     ]
    },
    {
     "name": "stdout",
     "output_type": "stream",
     "text": [
      "ETS\n",
      "NAIVE Benchmarks\n",
      "78\n",
      "Set up data\n",
      "start backtest\n",
      "Split 1\n",
      "Get Paramters from Auto ARIMA\n",
      "SARIMA\n",
      "SARIMAX\n",
      "ETS\n",
      "Naive Benchmarks\n",
      "Split 2\n",
      "Get Paramters from Auto ARIMA\n",
      "SARIMA\n",
      "SARIMAX\n",
      "ETS\n",
      "Naive Benchmarks\n",
      "Split 3\n",
      "Get Paramters from Auto ARIMA\n",
      "SARIMA\n",
      "SARIMAX\n",
      "ETS\n",
      "Naive Benchmarks\n",
      "Split 4\n",
      "Get Paramters from Auto ARIMA\n",
      "SARIMA\n",
      "SARIMAX\n",
      "ETS\n",
      "Naive Benchmarks\n",
      "Split 5\n",
      "Get Paramters from Auto ARIMA\n",
      "SARIMA\n",
      "SARIMAX\n",
      "ETS\n",
      "Naive Benchmarks\n",
      "start forecast\n",
      "Get Paramters from Auto ARIMA\n",
      "auto_arima Parameters: (0, 1, 5)\n",
      "auto_arima Seasonal Parameters: (0, 0, 0, 7)\n",
      "SARIMA\n",
      "SARIMAX\n",
      "ETS\n",
      "NAIVE Benchmarks\n",
      "25\n",
      "Set up data\n",
      "start backtest\n",
      "Split 1\n",
      "Get Paramters from Auto ARIMA\n",
      "SARIMA\n",
      "SARIMAX\n"
     ]
    },
    {
     "name": "stderr",
     "output_type": "stream",
     "text": [
      "/opt/miniconda3/envs/snowflakes/lib/python3.10/site-packages/statsmodels/base/model.py:604: ConvergenceWarning: Maximum Likelihood optimization failed to converge. Check mle_retvals\n",
      "  warnings.warn(\"Maximum Likelihood optimization failed to \"\n"
     ]
    },
    {
     "name": "stdout",
     "output_type": "stream",
     "text": [
      "ETS\n",
      "Naive Benchmarks\n",
      "Split 2\n",
      "Get Paramters from Auto ARIMA\n",
      "SARIMA\n",
      "SARIMAX\n"
     ]
    },
    {
     "name": "stderr",
     "output_type": "stream",
     "text": [
      "/opt/miniconda3/envs/snowflakes/lib/python3.10/site-packages/statsmodels/base/model.py:604: ConvergenceWarning: Maximum Likelihood optimization failed to converge. Check mle_retvals\n",
      "  warnings.warn(\"Maximum Likelihood optimization failed to \"\n"
     ]
    },
    {
     "name": "stdout",
     "output_type": "stream",
     "text": [
      "ETS\n",
      "Naive Benchmarks\n",
      "Split 3\n",
      "Get Paramters from Auto ARIMA\n",
      "SARIMA\n",
      "SARIMAX\n"
     ]
    },
    {
     "name": "stderr",
     "output_type": "stream",
     "text": [
      "/opt/miniconda3/envs/snowflakes/lib/python3.10/site-packages/statsmodels/base/model.py:604: ConvergenceWarning: Maximum Likelihood optimization failed to converge. Check mle_retvals\n",
      "  warnings.warn(\"Maximum Likelihood optimization failed to \"\n"
     ]
    },
    {
     "name": "stdout",
     "output_type": "stream",
     "text": [
      "ETS\n",
      "Naive Benchmarks\n",
      "Split 4\n",
      "Get Paramters from Auto ARIMA\n",
      "SARIMA\n",
      "SARIMAX\n"
     ]
    },
    {
     "name": "stderr",
     "output_type": "stream",
     "text": [
      "/opt/miniconda3/envs/snowflakes/lib/python3.10/site-packages/statsmodels/base/model.py:604: ConvergenceWarning: Maximum Likelihood optimization failed to converge. Check mle_retvals\n",
      "  warnings.warn(\"Maximum Likelihood optimization failed to \"\n"
     ]
    },
    {
     "name": "stdout",
     "output_type": "stream",
     "text": [
      "ETS\n",
      "Naive Benchmarks\n",
      "Split 5\n",
      "Get Paramters from Auto ARIMA\n",
      "SARIMA\n",
      "SARIMAX\n"
     ]
    },
    {
     "name": "stderr",
     "output_type": "stream",
     "text": [
      "/opt/miniconda3/envs/snowflakes/lib/python3.10/site-packages/statsmodels/base/model.py:604: ConvergenceWarning: Maximum Likelihood optimization failed to converge. Check mle_retvals\n",
      "  warnings.warn(\"Maximum Likelihood optimization failed to \"\n"
     ]
    },
    {
     "name": "stdout",
     "output_type": "stream",
     "text": [
      "ETS\n",
      "Naive Benchmarks\n",
      "start forecast\n",
      "Get Paramters from Auto ARIMA\n",
      "auto_arima Parameters: (1, 1, 4)\n",
      "auto_arima Seasonal Parameters: (0, 0, 0, 7)\n",
      "SARIMA\n",
      "SARIMAX\n"
     ]
    },
    {
     "name": "stderr",
     "output_type": "stream",
     "text": [
      "/opt/miniconda3/envs/snowflakes/lib/python3.10/site-packages/statsmodels/base/model.py:604: ConvergenceWarning: Maximum Likelihood optimization failed to converge. Check mle_retvals\n",
      "  warnings.warn(\"Maximum Likelihood optimization failed to \"\n"
     ]
    },
    {
     "name": "stdout",
     "output_type": "stream",
     "text": [
      "ETS\n",
      "NAIVE Benchmarks\n",
      "74\n",
      "Set up data\n",
      "start backtest\n",
      "Split 1\n",
      "Get Paramters from Auto ARIMA\n",
      "SARIMA\n",
      "SARIMAX\n",
      "ETS\n",
      "Naive Benchmarks\n",
      "Split 2\n",
      "Get Paramters from Auto ARIMA\n"
     ]
    },
    {
     "name": "stderr",
     "output_type": "stream",
     "text": [
      "/opt/miniconda3/envs/snowflakes/lib/python3.10/site-packages/statsmodels/tsa/holtwinters/model.py:915: ConvergenceWarning: Optimization failed to converge. Check mle_retvals.\n",
      "  warnings.warn(\n"
     ]
    },
    {
     "name": "stdout",
     "output_type": "stream",
     "text": [
      "SARIMA\n",
      "SARIMAX\n",
      "ETS\n",
      "Naive Benchmarks\n",
      "Split 3\n",
      "Get Paramters from Auto ARIMA\n"
     ]
    },
    {
     "name": "stderr",
     "output_type": "stream",
     "text": [
      "/opt/miniconda3/envs/snowflakes/lib/python3.10/site-packages/statsmodels/tsa/holtwinters/model.py:915: ConvergenceWarning: Optimization failed to converge. Check mle_retvals.\n",
      "  warnings.warn(\n"
     ]
    },
    {
     "name": "stdout",
     "output_type": "stream",
     "text": [
      "SARIMA\n",
      "SARIMAX\n",
      "ETS\n",
      "Naive Benchmarks\n",
      "Split 4\n",
      "Get Paramters from Auto ARIMA\n"
     ]
    },
    {
     "name": "stderr",
     "output_type": "stream",
     "text": [
      "/opt/miniconda3/envs/snowflakes/lib/python3.10/site-packages/statsmodels/tsa/holtwinters/model.py:915: ConvergenceWarning: Optimization failed to converge. Check mle_retvals.\n",
      "  warnings.warn(\n"
     ]
    },
    {
     "name": "stdout",
     "output_type": "stream",
     "text": [
      "SARIMA\n",
      "SARIMAX\n",
      "ETS\n",
      "Naive Benchmarks\n",
      "Split 5\n",
      "Get Paramters from Auto ARIMA\n"
     ]
    },
    {
     "name": "stderr",
     "output_type": "stream",
     "text": [
      "/opt/miniconda3/envs/snowflakes/lib/python3.10/site-packages/statsmodels/tsa/holtwinters/model.py:915: ConvergenceWarning: Optimization failed to converge. Check mle_retvals.\n",
      "  warnings.warn(\n"
     ]
    },
    {
     "name": "stdout",
     "output_type": "stream",
     "text": [
      "SARIMA\n",
      "SARIMAX\n",
      "ETS\n"
     ]
    },
    {
     "name": "stderr",
     "output_type": "stream",
     "text": [
      "/opt/miniconda3/envs/snowflakes/lib/python3.10/site-packages/statsmodels/tsa/holtwinters/model.py:915: ConvergenceWarning: Optimization failed to converge. Check mle_retvals.\n",
      "  warnings.warn(\n"
     ]
    },
    {
     "name": "stdout",
     "output_type": "stream",
     "text": [
      "Naive Benchmarks\n",
      "start forecast\n",
      "Get Paramters from Auto ARIMA\n",
      "auto_arima Parameters: (0, 0, 1)\n",
      "auto_arima Seasonal Parameters: (0, 0, 0, 7)\n",
      "SARIMA\n",
      "SARIMAX\n",
      "ETS\n"
     ]
    },
    {
     "name": "stderr",
     "output_type": "stream",
     "text": [
      "/opt/miniconda3/envs/snowflakes/lib/python3.10/site-packages/statsmodels/tsa/holtwinters/model.py:915: ConvergenceWarning: Optimization failed to converge. Check mle_retvals.\n",
      "  warnings.warn(\n"
     ]
    },
    {
     "name": "stdout",
     "output_type": "stream",
     "text": [
      "NAIVE Benchmarks\n",
      "41\n",
      "Set up data\n",
      "start backtest\n",
      "Split 1\n",
      "Get Paramters from Auto ARIMA\n",
      "SARIMA\n",
      "SARIMAX\n"
     ]
    },
    {
     "name": "stderr",
     "output_type": "stream",
     "text": [
      "/opt/miniconda3/envs/snowflakes/lib/python3.10/site-packages/statsmodels/base/model.py:604: ConvergenceWarning: Maximum Likelihood optimization failed to converge. Check mle_retvals\n",
      "  warnings.warn(\"Maximum Likelihood optimization failed to \"\n"
     ]
    },
    {
     "name": "stdout",
     "output_type": "stream",
     "text": [
      "ETS\n",
      "Naive Benchmarks\n",
      "Split 2\n",
      "Get Paramters from Auto ARIMA\n",
      "SARIMA\n",
      "SARIMAX\n"
     ]
    },
    {
     "name": "stderr",
     "output_type": "stream",
     "text": [
      "/opt/miniconda3/envs/snowflakes/lib/python3.10/site-packages/statsmodels/base/model.py:604: ConvergenceWarning: Maximum Likelihood optimization failed to converge. Check mle_retvals\n",
      "  warnings.warn(\"Maximum Likelihood optimization failed to \"\n"
     ]
    },
    {
     "name": "stdout",
     "output_type": "stream",
     "text": [
      "ETS\n",
      "Naive Benchmarks\n",
      "Split 3\n",
      "Get Paramters from Auto ARIMA\n",
      "SARIMA\n",
      "SARIMAX\n"
     ]
    },
    {
     "name": "stderr",
     "output_type": "stream",
     "text": [
      "/opt/miniconda3/envs/snowflakes/lib/python3.10/site-packages/statsmodels/base/model.py:604: ConvergenceWarning: Maximum Likelihood optimization failed to converge. Check mle_retvals\n",
      "  warnings.warn(\"Maximum Likelihood optimization failed to \"\n"
     ]
    },
    {
     "name": "stdout",
     "output_type": "stream",
     "text": [
      "ETS\n",
      "Naive Benchmarks\n",
      "Split 4\n",
      "Get Paramters from Auto ARIMA\n",
      "SARIMA\n",
      "SARIMAX\n"
     ]
    },
    {
     "name": "stderr",
     "output_type": "stream",
     "text": [
      "/opt/miniconda3/envs/snowflakes/lib/python3.10/site-packages/statsmodels/base/model.py:604: ConvergenceWarning: Maximum Likelihood optimization failed to converge. Check mle_retvals\n",
      "  warnings.warn(\"Maximum Likelihood optimization failed to \"\n"
     ]
    },
    {
     "name": "stdout",
     "output_type": "stream",
     "text": [
      "ETS\n",
      "Naive Benchmarks\n",
      "Split 5\n",
      "Get Paramters from Auto ARIMA\n",
      "SARIMA\n",
      "SARIMAX\n"
     ]
    },
    {
     "name": "stderr",
     "output_type": "stream",
     "text": [
      "/opt/miniconda3/envs/snowflakes/lib/python3.10/site-packages/statsmodels/base/model.py:604: ConvergenceWarning: Maximum Likelihood optimization failed to converge. Check mle_retvals\n",
      "  warnings.warn(\"Maximum Likelihood optimization failed to \"\n"
     ]
    },
    {
     "name": "stdout",
     "output_type": "stream",
     "text": [
      "ETS\n",
      "Naive Benchmarks\n",
      "start forecast\n",
      "Get Paramters from Auto ARIMA\n",
      "auto_arima Parameters: (0, 1, 4)\n",
      "auto_arima Seasonal Parameters: (0, 0, 1, 7)\n",
      "SARIMA\n",
      "SARIMAX\n"
     ]
    },
    {
     "name": "stderr",
     "output_type": "stream",
     "text": [
      "/opt/miniconda3/envs/snowflakes/lib/python3.10/site-packages/statsmodels/base/model.py:604: ConvergenceWarning: Maximum Likelihood optimization failed to converge. Check mle_retvals\n",
      "  warnings.warn(\"Maximum Likelihood optimization failed to \"\n"
     ]
    },
    {
     "name": "stdout",
     "output_type": "stream",
     "text": [
      "ETS\n",
      "NAIVE Benchmarks\n",
      "77\n",
      "Set up data\n",
      "start backtest\n",
      "Split 1\n",
      "Get Paramters from Auto ARIMA\n",
      "SARIMA\n",
      "SARIMAX\n"
     ]
    },
    {
     "name": "stderr",
     "output_type": "stream",
     "text": [
      "/opt/miniconda3/envs/snowflakes/lib/python3.10/site-packages/statsmodels/base/model.py:604: ConvergenceWarning: Maximum Likelihood optimization failed to converge. Check mle_retvals\n",
      "  warnings.warn(\"Maximum Likelihood optimization failed to \"\n"
     ]
    },
    {
     "name": "stdout",
     "output_type": "stream",
     "text": [
      "ETS\n",
      "Naive Benchmarks\n",
      "Split 2\n",
      "Get Paramters from Auto ARIMA\n",
      "SARIMA\n",
      "SARIMAX\n"
     ]
    },
    {
     "name": "stderr",
     "output_type": "stream",
     "text": [
      "/opt/miniconda3/envs/snowflakes/lib/python3.10/site-packages/statsmodels/base/model.py:604: ConvergenceWarning: Maximum Likelihood optimization failed to converge. Check mle_retvals\n",
      "  warnings.warn(\"Maximum Likelihood optimization failed to \"\n"
     ]
    },
    {
     "name": "stdout",
     "output_type": "stream",
     "text": [
      "ETS\n",
      "Naive Benchmarks\n",
      "Split 3\n",
      "Get Paramters from Auto ARIMA\n",
      "SARIMA\n",
      "SARIMAX\n"
     ]
    },
    {
     "name": "stderr",
     "output_type": "stream",
     "text": [
      "/opt/miniconda3/envs/snowflakes/lib/python3.10/site-packages/statsmodels/base/model.py:604: ConvergenceWarning: Maximum Likelihood optimization failed to converge. Check mle_retvals\n",
      "  warnings.warn(\"Maximum Likelihood optimization failed to \"\n"
     ]
    },
    {
     "name": "stdout",
     "output_type": "stream",
     "text": [
      "ETS\n",
      "Naive Benchmarks\n",
      "Split 4\n",
      "Get Paramters from Auto ARIMA\n",
      "SARIMA\n"
     ]
    },
    {
     "name": "stderr",
     "output_type": "stream",
     "text": [
      "/opt/miniconda3/envs/snowflakes/lib/python3.10/site-packages/statsmodels/tsa/statespace/sarimax.py:966: UserWarning: Non-stationary starting autoregressive parameters found. Using zeros as starting parameters.\n",
      "  warn('Non-stationary starting autoregressive parameters'\n",
      "/opt/miniconda3/envs/snowflakes/lib/python3.10/site-packages/statsmodels/tsa/statespace/sarimax.py:978: UserWarning: Non-invertible starting MA parameters found. Using zeros as starting parameters.\n",
      "  warn('Non-invertible starting MA parameters found.'\n",
      "/opt/miniconda3/envs/snowflakes/lib/python3.10/site-packages/statsmodels/base/model.py:604: ConvergenceWarning: Maximum Likelihood optimization failed to converge. Check mle_retvals\n",
      "  warnings.warn(\"Maximum Likelihood optimization failed to \"\n",
      "/opt/miniconda3/envs/snowflakes/lib/python3.10/site-packages/statsmodels/tsa/statespace/sarimax.py:966: UserWarning: Non-stationary starting autoregressive parameters found. Using zeros as starting parameters.\n",
      "  warn('Non-stationary starting autoregressive parameters'\n",
      "/opt/miniconda3/envs/snowflakes/lib/python3.10/site-packages/statsmodels/tsa/statespace/sarimax.py:978: UserWarning: Non-invertible starting MA parameters found. Using zeros as starting parameters.\n",
      "  warn('Non-invertible starting MA parameters found.'\n"
     ]
    },
    {
     "name": "stdout",
     "output_type": "stream",
     "text": [
      "SARIMAX\n"
     ]
    },
    {
     "name": "stderr",
     "output_type": "stream",
     "text": [
      "/opt/miniconda3/envs/snowflakes/lib/python3.10/site-packages/statsmodels/base/model.py:604: ConvergenceWarning: Maximum Likelihood optimization failed to converge. Check mle_retvals\n",
      "  warnings.warn(\"Maximum Likelihood optimization failed to \"\n"
     ]
    },
    {
     "name": "stdout",
     "output_type": "stream",
     "text": [
      "ETS\n",
      "Naive Benchmarks\n",
      "Split 5\n",
      "Get Paramters from Auto ARIMA\n",
      "SARIMA\n",
      "SARIMAX\n"
     ]
    },
    {
     "name": "stderr",
     "output_type": "stream",
     "text": [
      "/opt/miniconda3/envs/snowflakes/lib/python3.10/site-packages/statsmodels/base/model.py:604: ConvergenceWarning: Maximum Likelihood optimization failed to converge. Check mle_retvals\n",
      "  warnings.warn(\"Maximum Likelihood optimization failed to \"\n"
     ]
    },
    {
     "name": "stdout",
     "output_type": "stream",
     "text": [
      "ETS\n",
      "Naive Benchmarks\n",
      "start forecast\n",
      "Get Paramters from Auto ARIMA\n",
      "auto_arima Parameters: (1, 1, 2)\n",
      "auto_arima Seasonal Parameters: (0, 0, 0, 7)\n",
      "SARIMA\n",
      "SARIMAX\n"
     ]
    },
    {
     "name": "stderr",
     "output_type": "stream",
     "text": [
      "/opt/miniconda3/envs/snowflakes/lib/python3.10/site-packages/statsmodels/base/model.py:604: ConvergenceWarning: Maximum Likelihood optimization failed to converge. Check mle_retvals\n",
      "  warnings.warn(\"Maximum Likelihood optimization failed to \"\n"
     ]
    },
    {
     "name": "stdout",
     "output_type": "stream",
     "text": [
      "ETS\n",
      "NAIVE Benchmarks\n",
      "87\n",
      "Set up data\n",
      "start backtest\n",
      "Split 1\n",
      "Get Paramters from Auto ARIMA\n",
      "SARIMA\n",
      "SARIMAX\n"
     ]
    },
    {
     "name": "stderr",
     "output_type": "stream",
     "text": [
      "/opt/miniconda3/envs/snowflakes/lib/python3.10/site-packages/statsmodels/base/model.py:604: ConvergenceWarning: Maximum Likelihood optimization failed to converge. Check mle_retvals\n",
      "  warnings.warn(\"Maximum Likelihood optimization failed to \"\n"
     ]
    },
    {
     "name": "stdout",
     "output_type": "stream",
     "text": [
      "ETS\n",
      "Naive Benchmarks\n",
      "Split 2\n",
      "Get Paramters from Auto ARIMA\n",
      "SARIMA\n",
      "SARIMAX\n"
     ]
    },
    {
     "name": "stderr",
     "output_type": "stream",
     "text": [
      "/opt/miniconda3/envs/snowflakes/lib/python3.10/site-packages/statsmodels/base/model.py:604: ConvergenceWarning: Maximum Likelihood optimization failed to converge. Check mle_retvals\n",
      "  warnings.warn(\"Maximum Likelihood optimization failed to \"\n"
     ]
    },
    {
     "name": "stdout",
     "output_type": "stream",
     "text": [
      "ETS\n",
      "Naive Benchmarks\n",
      "Split 3\n",
      "Get Paramters from Auto ARIMA\n",
      "SARIMA\n",
      "SARIMAX\n"
     ]
    },
    {
     "name": "stderr",
     "output_type": "stream",
     "text": [
      "/opt/miniconda3/envs/snowflakes/lib/python3.10/site-packages/statsmodels/base/model.py:604: ConvergenceWarning: Maximum Likelihood optimization failed to converge. Check mle_retvals\n",
      "  warnings.warn(\"Maximum Likelihood optimization failed to \"\n"
     ]
    },
    {
     "name": "stdout",
     "output_type": "stream",
     "text": [
      "ETS\n",
      "Naive Benchmarks\n",
      "Split 4\n",
      "Get Paramters from Auto ARIMA\n",
      "SARIMA\n",
      "SARIMAX\n"
     ]
    },
    {
     "name": "stderr",
     "output_type": "stream",
     "text": [
      "/opt/miniconda3/envs/snowflakes/lib/python3.10/site-packages/statsmodels/base/model.py:604: ConvergenceWarning: Maximum Likelihood optimization failed to converge. Check mle_retvals\n",
      "  warnings.warn(\"Maximum Likelihood optimization failed to \"\n"
     ]
    },
    {
     "name": "stdout",
     "output_type": "stream",
     "text": [
      "ETS\n",
      "Naive Benchmarks\n",
      "Split 5\n",
      "Get Paramters from Auto ARIMA\n",
      "SARIMA\n",
      "SARIMAX\n"
     ]
    },
    {
     "name": "stderr",
     "output_type": "stream",
     "text": [
      "/opt/miniconda3/envs/snowflakes/lib/python3.10/site-packages/statsmodels/base/model.py:604: ConvergenceWarning: Maximum Likelihood optimization failed to converge. Check mle_retvals\n",
      "  warnings.warn(\"Maximum Likelihood optimization failed to \"\n"
     ]
    },
    {
     "name": "stdout",
     "output_type": "stream",
     "text": [
      "ETS\n",
      "Naive Benchmarks\n",
      "start forecast\n",
      "Get Paramters from Auto ARIMA\n",
      "auto_arima Parameters: (5, 1, 0)\n",
      "auto_arima Seasonal Parameters: (0, 0, 0, 7)\n",
      "SARIMA\n",
      "SARIMAX\n"
     ]
    },
    {
     "name": "stderr",
     "output_type": "stream",
     "text": [
      "/opt/miniconda3/envs/snowflakes/lib/python3.10/site-packages/statsmodels/base/model.py:604: ConvergenceWarning: Maximum Likelihood optimization failed to converge. Check mle_retvals\n",
      "  warnings.warn(\"Maximum Likelihood optimization failed to \"\n"
     ]
    },
    {
     "name": "stdout",
     "output_type": "stream",
     "text": [
      "ETS\n",
      "NAIVE Benchmarks\n",
      "0\n",
      "Set up data\n",
      "start backtest\n",
      "Split 1\n",
      "Get Paramters from Auto ARIMA\n",
      "SARIMA\n",
      "SARIMAX\n",
      "ETS\n",
      "Naive Benchmarks\n",
      "Split 2\n",
      "Get Paramters from Auto ARIMA\n"
     ]
    },
    {
     "name": "stderr",
     "output_type": "stream",
     "text": [
      "/opt/miniconda3/envs/snowflakes/lib/python3.10/site-packages/statsmodels/tsa/holtwinters/model.py:915: ConvergenceWarning: Optimization failed to converge. Check mle_retvals.\n",
      "  warnings.warn(\n"
     ]
    },
    {
     "name": "stdout",
     "output_type": "stream",
     "text": [
      "SARIMA\n",
      "SARIMAX\n",
      "ETS\n",
      "Naive Benchmarks\n"
     ]
    },
    {
     "name": "stderr",
     "output_type": "stream",
     "text": [
      "/opt/miniconda3/envs/snowflakes/lib/python3.10/site-packages/statsmodels/tsa/holtwinters/model.py:915: ConvergenceWarning: Optimization failed to converge. Check mle_retvals.\n",
      "  warnings.warn(\n"
     ]
    },
    {
     "name": "stdout",
     "output_type": "stream",
     "text": [
      "Split 3\n",
      "Get Paramters from Auto ARIMA\n",
      "SARIMA\n",
      "SARIMAX\n",
      "ETS\n",
      "Naive Benchmarks\n"
     ]
    },
    {
     "name": "stderr",
     "output_type": "stream",
     "text": [
      "/opt/miniconda3/envs/snowflakes/lib/python3.10/site-packages/statsmodels/tsa/holtwinters/model.py:915: ConvergenceWarning: Optimization failed to converge. Check mle_retvals.\n",
      "  warnings.warn(\n"
     ]
    },
    {
     "name": "stdout",
     "output_type": "stream",
     "text": [
      "Split 4\n",
      "Get Paramters from Auto ARIMA\n",
      "SARIMA\n",
      "SARIMAX\n",
      "ETS\n",
      "Naive Benchmarks\n",
      "Split 5\n",
      "Get Paramters from Auto ARIMA\n"
     ]
    },
    {
     "name": "stderr",
     "output_type": "stream",
     "text": [
      "/opt/miniconda3/envs/snowflakes/lib/python3.10/site-packages/statsmodels/tsa/holtwinters/model.py:915: ConvergenceWarning: Optimization failed to converge. Check mle_retvals.\n",
      "  warnings.warn(\n"
     ]
    },
    {
     "name": "stdout",
     "output_type": "stream",
     "text": [
      "SARIMA\n",
      "SARIMAX\n",
      "ETS\n",
      "Naive Benchmarks\n"
     ]
    },
    {
     "name": "stderr",
     "output_type": "stream",
     "text": [
      "/opt/miniconda3/envs/snowflakes/lib/python3.10/site-packages/statsmodels/tsa/holtwinters/model.py:915: ConvergenceWarning: Optimization failed to converge. Check mle_retvals.\n",
      "  warnings.warn(\n"
     ]
    },
    {
     "name": "stdout",
     "output_type": "stream",
     "text": [
      "start forecast\n",
      "Get Paramters from Auto ARIMA\n",
      "auto_arima Parameters: (3, 0, 0)\n",
      "auto_arima Seasonal Parameters: (0, 0, 1, 7)\n",
      "SARIMA\n",
      "SARIMAX\n",
      "ETS\n",
      "NAIVE Benchmarks\n"
     ]
    },
    {
     "name": "stderr",
     "output_type": "stream",
     "text": [
      "/opt/miniconda3/envs/snowflakes/lib/python3.10/site-packages/statsmodels/tsa/holtwinters/model.py:915: ConvergenceWarning: Optimization failed to converge. Check mle_retvals.\n",
      "  warnings.warn(\n"
     ]
    },
    {
     "name": "stdout",
     "output_type": "stream",
     "text": [
      "97\n",
      "Set up data\n",
      "start backtest\n",
      "Split 1\n",
      "Get Paramters from Auto ARIMA\n",
      "SARIMA\n",
      "SARIMAX\n"
     ]
    },
    {
     "name": "stderr",
     "output_type": "stream",
     "text": [
      "/opt/miniconda3/envs/snowflakes/lib/python3.10/site-packages/statsmodels/base/model.py:604: ConvergenceWarning: Maximum Likelihood optimization failed to converge. Check mle_retvals\n",
      "  warnings.warn(\"Maximum Likelihood optimization failed to \"\n"
     ]
    },
    {
     "name": "stdout",
     "output_type": "stream",
     "text": [
      "ETS\n",
      "Naive Benchmarks\n",
      "Split 2\n",
      "Get Paramters from Auto ARIMA\n",
      "SARIMA\n",
      "SARIMAX\n"
     ]
    },
    {
     "name": "stderr",
     "output_type": "stream",
     "text": [
      "/opt/miniconda3/envs/snowflakes/lib/python3.10/site-packages/statsmodels/base/model.py:604: ConvergenceWarning: Maximum Likelihood optimization failed to converge. Check mle_retvals\n",
      "  warnings.warn(\"Maximum Likelihood optimization failed to \"\n"
     ]
    },
    {
     "name": "stdout",
     "output_type": "stream",
     "text": [
      "ETS\n",
      "Naive Benchmarks\n",
      "Split 3\n",
      "Get Paramters from Auto ARIMA\n",
      "SARIMA\n",
      "SARIMAX\n"
     ]
    },
    {
     "name": "stderr",
     "output_type": "stream",
     "text": [
      "/opt/miniconda3/envs/snowflakes/lib/python3.10/site-packages/statsmodels/base/model.py:604: ConvergenceWarning: Maximum Likelihood optimization failed to converge. Check mle_retvals\n",
      "  warnings.warn(\"Maximum Likelihood optimization failed to \"\n"
     ]
    },
    {
     "name": "stdout",
     "output_type": "stream",
     "text": [
      "ETS\n",
      "Naive Benchmarks\n",
      "Split 4\n",
      "Get Paramters from Auto ARIMA\n",
      "SARIMA\n",
      "SARIMAX\n"
     ]
    },
    {
     "name": "stderr",
     "output_type": "stream",
     "text": [
      "/opt/miniconda3/envs/snowflakes/lib/python3.10/site-packages/statsmodels/base/model.py:604: ConvergenceWarning: Maximum Likelihood optimization failed to converge. Check mle_retvals\n",
      "  warnings.warn(\"Maximum Likelihood optimization failed to \"\n"
     ]
    },
    {
     "name": "stdout",
     "output_type": "stream",
     "text": [
      "ETS\n",
      "Naive Benchmarks\n",
      "Split 5\n",
      "Get Paramters from Auto ARIMA\n",
      "SARIMA\n",
      "SARIMAX\n"
     ]
    },
    {
     "name": "stderr",
     "output_type": "stream",
     "text": [
      "/opt/miniconda3/envs/snowflakes/lib/python3.10/site-packages/statsmodels/base/model.py:604: ConvergenceWarning: Maximum Likelihood optimization failed to converge. Check mle_retvals\n",
      "  warnings.warn(\"Maximum Likelihood optimization failed to \"\n"
     ]
    },
    {
     "name": "stdout",
     "output_type": "stream",
     "text": [
      "ETS\n",
      "Naive Benchmarks\n",
      "start forecast\n",
      "Get Paramters from Auto ARIMA\n",
      "auto_arima Parameters: (2, 1, 0)\n",
      "auto_arima Seasonal Parameters: (1, 0, 2, 7)\n",
      "SARIMA\n",
      "SARIMAX\n"
     ]
    },
    {
     "name": "stderr",
     "output_type": "stream",
     "text": [
      "/opt/miniconda3/envs/snowflakes/lib/python3.10/site-packages/statsmodels/base/model.py:604: ConvergenceWarning: Maximum Likelihood optimization failed to converge. Check mle_retvals\n",
      "  warnings.warn(\"Maximum Likelihood optimization failed to \"\n"
     ]
    },
    {
     "name": "stdout",
     "output_type": "stream",
     "text": [
      "ETS\n",
      "NAIVE Benchmarks\n",
      "102\n",
      "Set up data\n",
      "start backtest\n",
      "Split 1\n",
      "Get Paramters from Auto ARIMA\n",
      "SARIMA\n",
      "SARIMAX\n"
     ]
    },
    {
     "name": "stderr",
     "output_type": "stream",
     "text": [
      "/opt/miniconda3/envs/snowflakes/lib/python3.10/site-packages/statsmodels/base/model.py:604: ConvergenceWarning: Maximum Likelihood optimization failed to converge. Check mle_retvals\n",
      "  warnings.warn(\"Maximum Likelihood optimization failed to \"\n"
     ]
    },
    {
     "name": "stdout",
     "output_type": "stream",
     "text": [
      "ETS\n",
      "Naive Benchmarks\n",
      "Split 2\n",
      "Get Paramters from Auto ARIMA\n",
      "SARIMA\n"
     ]
    },
    {
     "name": "stderr",
     "output_type": "stream",
     "text": [
      "/opt/miniconda3/envs/snowflakes/lib/python3.10/site-packages/statsmodels/base/model.py:604: ConvergenceWarning: Maximum Likelihood optimization failed to converge. Check mle_retvals\n",
      "  warnings.warn(\"Maximum Likelihood optimization failed to \"\n"
     ]
    },
    {
     "name": "stdout",
     "output_type": "stream",
     "text": [
      "SARIMAX\n"
     ]
    },
    {
     "name": "stderr",
     "output_type": "stream",
     "text": [
      "/opt/miniconda3/envs/snowflakes/lib/python3.10/site-packages/statsmodels/base/model.py:604: ConvergenceWarning: Maximum Likelihood optimization failed to converge. Check mle_retvals\n",
      "  warnings.warn(\"Maximum Likelihood optimization failed to \"\n"
     ]
    },
    {
     "name": "stdout",
     "output_type": "stream",
     "text": [
      "ETS\n",
      "Naive Benchmarks\n",
      "Split 3\n",
      "Get Paramters from Auto ARIMA\n",
      "SARIMA\n"
     ]
    },
    {
     "name": "stderr",
     "output_type": "stream",
     "text": [
      "/opt/miniconda3/envs/snowflakes/lib/python3.10/site-packages/statsmodels/base/model.py:604: ConvergenceWarning: Maximum Likelihood optimization failed to converge. Check mle_retvals\n",
      "  warnings.warn(\"Maximum Likelihood optimization failed to \"\n"
     ]
    },
    {
     "name": "stdout",
     "output_type": "stream",
     "text": [
      "SARIMAX\n"
     ]
    },
    {
     "name": "stderr",
     "output_type": "stream",
     "text": [
      "/opt/miniconda3/envs/snowflakes/lib/python3.10/site-packages/statsmodels/base/model.py:604: ConvergenceWarning: Maximum Likelihood optimization failed to converge. Check mle_retvals\n",
      "  warnings.warn(\"Maximum Likelihood optimization failed to \"\n"
     ]
    },
    {
     "name": "stdout",
     "output_type": "stream",
     "text": [
      "ETS\n",
      "Naive Benchmarks\n",
      "Split 4\n",
      "Get Paramters from Auto ARIMA\n",
      "SARIMA\n",
      "SARIMAX\n"
     ]
    },
    {
     "name": "stderr",
     "output_type": "stream",
     "text": [
      "/opt/miniconda3/envs/snowflakes/lib/python3.10/site-packages/statsmodels/base/model.py:604: ConvergenceWarning: Maximum Likelihood optimization failed to converge. Check mle_retvals\n",
      "  warnings.warn(\"Maximum Likelihood optimization failed to \"\n"
     ]
    },
    {
     "name": "stdout",
     "output_type": "stream",
     "text": [
      "ETS\n",
      "Naive Benchmarks\n",
      "Split 5\n",
      "Get Paramters from Auto ARIMA\n",
      "SARIMA\n"
     ]
    },
    {
     "name": "stderr",
     "output_type": "stream",
     "text": [
      "/opt/miniconda3/envs/snowflakes/lib/python3.10/site-packages/statsmodels/tsa/statespace/sarimax.py:978: UserWarning: Non-invertible starting MA parameters found. Using zeros as starting parameters.\n",
      "  warn('Non-invertible starting MA parameters found.'\n",
      "/opt/miniconda3/envs/snowflakes/lib/python3.10/site-packages/statsmodels/base/model.py:604: ConvergenceWarning: Maximum Likelihood optimization failed to converge. Check mle_retvals\n",
      "  warnings.warn(\"Maximum Likelihood optimization failed to \"\n",
      "/opt/miniconda3/envs/snowflakes/lib/python3.10/site-packages/statsmodels/tsa/statespace/sarimax.py:978: UserWarning: Non-invertible starting MA parameters found. Using zeros as starting parameters.\n",
      "  warn('Non-invertible starting MA parameters found.'\n"
     ]
    },
    {
     "name": "stdout",
     "output_type": "stream",
     "text": [
      "SARIMAX\n"
     ]
    },
    {
     "name": "stderr",
     "output_type": "stream",
     "text": [
      "/opt/miniconda3/envs/snowflakes/lib/python3.10/site-packages/statsmodels/base/model.py:604: ConvergenceWarning: Maximum Likelihood optimization failed to converge. Check mle_retvals\n",
      "  warnings.warn(\"Maximum Likelihood optimization failed to \"\n"
     ]
    },
    {
     "name": "stdout",
     "output_type": "stream",
     "text": [
      "ETS\n",
      "Naive Benchmarks\n",
      "start forecast\n",
      "Get Paramters from Auto ARIMA\n",
      "auto_arima Parameters: (0, 1, 3)\n",
      "auto_arima Seasonal Parameters: (2, 0, 0, 7)\n",
      "SARIMA\n",
      "SARIMAX\n"
     ]
    },
    {
     "name": "stderr",
     "output_type": "stream",
     "text": [
      "/opt/miniconda3/envs/snowflakes/lib/python3.10/site-packages/statsmodels/base/model.py:604: ConvergenceWarning: Maximum Likelihood optimization failed to converge. Check mle_retvals\n",
      "  warnings.warn(\"Maximum Likelihood optimization failed to \"\n"
     ]
    },
    {
     "name": "stdout",
     "output_type": "stream",
     "text": [
      "ETS\n",
      "NAIVE Benchmarks\n",
      "9\n",
      "Set up data\n",
      "start backtest\n",
      "Split 1\n",
      "Get Paramters from Auto ARIMA\n",
      "SARIMA\n",
      "SARIMAX\n"
     ]
    },
    {
     "name": "stderr",
     "output_type": "stream",
     "text": [
      "/opt/miniconda3/envs/snowflakes/lib/python3.10/site-packages/statsmodels/base/model.py:604: ConvergenceWarning: Maximum Likelihood optimization failed to converge. Check mle_retvals\n",
      "  warnings.warn(\"Maximum Likelihood optimization failed to \"\n"
     ]
    },
    {
     "name": "stdout",
     "output_type": "stream",
     "text": [
      "ETS\n",
      "Naive Benchmarks\n",
      "Split 2\n",
      "Get Paramters from Auto ARIMA\n",
      "SARIMA\n",
      "SARIMAX\n"
     ]
    },
    {
     "name": "stderr",
     "output_type": "stream",
     "text": [
      "/opt/miniconda3/envs/snowflakes/lib/python3.10/site-packages/statsmodels/base/model.py:604: ConvergenceWarning: Maximum Likelihood optimization failed to converge. Check mle_retvals\n",
      "  warnings.warn(\"Maximum Likelihood optimization failed to \"\n"
     ]
    },
    {
     "name": "stdout",
     "output_type": "stream",
     "text": [
      "ETS\n",
      "Naive Benchmarks\n",
      "Split 3\n",
      "Get Paramters from Auto ARIMA\n",
      "SARIMA\n",
      "SARIMAX\n"
     ]
    },
    {
     "name": "stderr",
     "output_type": "stream",
     "text": [
      "/opt/miniconda3/envs/snowflakes/lib/python3.10/site-packages/statsmodels/base/model.py:604: ConvergenceWarning: Maximum Likelihood optimization failed to converge. Check mle_retvals\n",
      "  warnings.warn(\"Maximum Likelihood optimization failed to \"\n"
     ]
    },
    {
     "name": "stdout",
     "output_type": "stream",
     "text": [
      "ETS\n",
      "Naive Benchmarks\n",
      "Split 4\n",
      "Get Paramters from Auto ARIMA\n",
      "SARIMA\n",
      "SARIMAX\n"
     ]
    },
    {
     "name": "stderr",
     "output_type": "stream",
     "text": [
      "/opt/miniconda3/envs/snowflakes/lib/python3.10/site-packages/statsmodels/base/model.py:604: ConvergenceWarning: Maximum Likelihood optimization failed to converge. Check mle_retvals\n",
      "  warnings.warn(\"Maximum Likelihood optimization failed to \"\n"
     ]
    },
    {
     "name": "stdout",
     "output_type": "stream",
     "text": [
      "ETS\n",
      "Naive Benchmarks\n",
      "Split 5\n",
      "Get Paramters from Auto ARIMA\n",
      "SARIMA\n",
      "SARIMAX\n"
     ]
    },
    {
     "name": "stderr",
     "output_type": "stream",
     "text": [
      "/opt/miniconda3/envs/snowflakes/lib/python3.10/site-packages/statsmodels/base/model.py:604: ConvergenceWarning: Maximum Likelihood optimization failed to converge. Check mle_retvals\n",
      "  warnings.warn(\"Maximum Likelihood optimization failed to \"\n"
     ]
    },
    {
     "name": "stdout",
     "output_type": "stream",
     "text": [
      "ETS\n",
      "Naive Benchmarks\n",
      "start forecast\n",
      "Get Paramters from Auto ARIMA\n"
     ]
    },
    {
     "name": "stderr",
     "output_type": "stream",
     "text": [
      "/opt/miniconda3/envs/snowflakes/lib/python3.10/site-packages/pmdarima/arima/_auto_solvers.py:522: ModelFitWarning: Error fitting  ARIMA(0,0,0)(2,0,1)[7] intercept (if you do not want to see these warnings, run with error_action=\"ignore\").\n",
      "Traceback:\n",
      "Traceback (most recent call last):\n",
      "  File \"/opt/miniconda3/envs/snowflakes/lib/python3.10/site-packages/pmdarima/arima/_auto_solvers.py\", line 506, in _fit_candidate_model\n",
      "    fit.fit(y, X=X, **fit_params)\n",
      "  File \"/opt/miniconda3/envs/snowflakes/lib/python3.10/site-packages/pmdarima/arima/arima.py\", line 603, in fit\n",
      "    self._fit(y, X, **fit_args)\n",
      "  File \"/opt/miniconda3/envs/snowflakes/lib/python3.10/site-packages/pmdarima/arima/arima.py\", line 524, in _fit\n",
      "    fit, self.arima_res_ = _fit_wrapper()\n",
      "  File \"/opt/miniconda3/envs/snowflakes/lib/python3.10/site-packages/pmdarima/arima/arima.py\", line 510, in _fit_wrapper\n",
      "    fitted = arima.fit(\n",
      "  File \"/opt/miniconda3/envs/snowflakes/lib/python3.10/site-packages/statsmodels/tsa/statespace/mlemodel.py\", line 704, in fit\n",
      "    mlefit = super(MLEModel, self).fit(start_params, method=method,\n",
      "  File \"/opt/miniconda3/envs/snowflakes/lib/python3.10/site-packages/statsmodels/base/model.py\", line 563, in fit\n",
      "    xopt, retvals, optim_settings = optimizer._fit(f, score, start_params,\n",
      "  File \"/opt/miniconda3/envs/snowflakes/lib/python3.10/site-packages/statsmodels/base/optimizer.py\", line 241, in _fit\n",
      "    xopt, retvals = func(objective, gradient, start_params, fargs, kwargs,\n",
      "  File \"/opt/miniconda3/envs/snowflakes/lib/python3.10/site-packages/statsmodels/base/optimizer.py\", line 651, in _fit_lbfgs\n",
      "    retvals = optimize.fmin_l_bfgs_b(func, start_params, maxiter=maxiter,\n",
      "  File \"/opt/miniconda3/envs/snowflakes/lib/python3.10/site-packages/scipy/optimize/_lbfgsb_py.py\", line 197, in fmin_l_bfgs_b\n",
      "    res = _minimize_lbfgsb(fun, x0, args=args, jac=jac, bounds=bounds,\n",
      "  File \"/opt/miniconda3/envs/snowflakes/lib/python3.10/site-packages/scipy/optimize/_lbfgsb_py.py\", line 360, in _minimize_lbfgsb\n",
      "    f, g = func_and_grad(x)\n",
      "  File \"/opt/miniconda3/envs/snowflakes/lib/python3.10/site-packages/scipy/optimize/_differentiable_functions.py\", line 285, in fun_and_grad\n",
      "    self._update_fun()\n",
      "  File \"/opt/miniconda3/envs/snowflakes/lib/python3.10/site-packages/scipy/optimize/_differentiable_functions.py\", line 251, in _update_fun\n",
      "    self._update_fun_impl()\n",
      "  File \"/opt/miniconda3/envs/snowflakes/lib/python3.10/site-packages/scipy/optimize/_differentiable_functions.py\", line 155, in update_fun\n",
      "    self.f = fun_wrapped(self.x)\n",
      "  File \"/opt/miniconda3/envs/snowflakes/lib/python3.10/site-packages/scipy/optimize/_differentiable_functions.py\", line 137, in fun_wrapped\n",
      "    fx = fun(np.copy(x), *args)\n",
      "  File \"/opt/miniconda3/envs/snowflakes/lib/python3.10/site-packages/statsmodels/base/model.py\", line 531, in f\n",
      "    return -self.loglike(params, *args) / nobs\n",
      "  File \"/opt/miniconda3/envs/snowflakes/lib/python3.10/site-packages/statsmodels/tsa/statespace/mlemodel.py\", line 939, in loglike\n",
      "    loglike = self.ssm.loglike(complex_step=complex_step, **kwargs)\n",
      "  File \"/opt/miniconda3/envs/snowflakes/lib/python3.10/site-packages/statsmodels/tsa/statespace/kalman_filter.py\", line 983, in loglike\n",
      "    kfilter = self._filter(**kwargs)\n",
      "  File \"/opt/miniconda3/envs/snowflakes/lib/python3.10/site-packages/statsmodels/tsa/statespace/kalman_filter.py\", line 903, in _filter\n",
      "    self._initialize_state(prefix=prefix, complex_step=complex_step)\n",
      "  File \"/opt/miniconda3/envs/snowflakes/lib/python3.10/site-packages/statsmodels/tsa/statespace/representation.py\", line 983, in _initialize_state\n",
      "    self._statespaces[prefix].initialize(self.initialization,\n",
      "  File \"statsmodels/tsa/statespace/_representation.pyx\", line 1362, in statsmodels.tsa.statespace._representation.dStatespace.initialize\n",
      "  File \"statsmodels/tsa/statespace/_initialization.pyx\", line 288, in statsmodels.tsa.statespace._initialization.dInitialization.initialize\n",
      "  File \"statsmodels/tsa/statespace/_initialization.pyx\", line 406, in statsmodels.tsa.statespace._initialization.dInitialization.initialize_stationary_stationary_cov\n",
      "  File \"statsmodels/tsa/statespace/_tools.pyx\", line 1206, in statsmodels.tsa.statespace._tools._dsolve_discrete_lyapunov\n",
      "numpy.linalg.LinAlgError: LU decomposition error.\n",
      "\n",
      "  warnings.warn(warning_str, ModelFitWarning)\n"
     ]
    },
    {
     "name": "stdout",
     "output_type": "stream",
     "text": [
      "auto_arima Parameters: (0, 0, 0)\n",
      "auto_arima Seasonal Parameters: (1, 0, 2, 7)\n",
      "SARIMA\n",
      "SARIMAX\n"
     ]
    },
    {
     "name": "stderr",
     "output_type": "stream",
     "text": [
      "/opt/miniconda3/envs/snowflakes/lib/python3.10/site-packages/statsmodels/base/model.py:604: ConvergenceWarning: Maximum Likelihood optimization failed to converge. Check mle_retvals\n",
      "  warnings.warn(\"Maximum Likelihood optimization failed to \"\n"
     ]
    },
    {
     "name": "stdout",
     "output_type": "stream",
     "text": [
      "ETS\n",
      "NAIVE Benchmarks\n",
      "24\n",
      "Set up data\n",
      "start backtest\n",
      "Split 1\n",
      "Get Paramters from Auto ARIMA\n",
      "SARIMA\n",
      "SARIMAX\n"
     ]
    },
    {
     "name": "stderr",
     "output_type": "stream",
     "text": [
      "/opt/miniconda3/envs/snowflakes/lib/python3.10/site-packages/statsmodels/base/model.py:604: ConvergenceWarning: Maximum Likelihood optimization failed to converge. Check mle_retvals\n",
      "  warnings.warn(\"Maximum Likelihood optimization failed to \"\n"
     ]
    },
    {
     "name": "stdout",
     "output_type": "stream",
     "text": [
      "ETS\n",
      "Naive Benchmarks\n",
      "Split 2\n",
      "Get Paramters from Auto ARIMA\n",
      "SARIMA\n",
      "SARIMAX\n"
     ]
    },
    {
     "name": "stderr",
     "output_type": "stream",
     "text": [
      "/opt/miniconda3/envs/snowflakes/lib/python3.10/site-packages/statsmodels/base/model.py:604: ConvergenceWarning: Maximum Likelihood optimization failed to converge. Check mle_retvals\n",
      "  warnings.warn(\"Maximum Likelihood optimization failed to \"\n"
     ]
    },
    {
     "name": "stdout",
     "output_type": "stream",
     "text": [
      "ETS\n",
      "Naive Benchmarks\n",
      "Split 3\n",
      "Get Paramters from Auto ARIMA\n",
      "SARIMA\n",
      "SARIMAX\n"
     ]
    },
    {
     "name": "stderr",
     "output_type": "stream",
     "text": [
      "/opt/miniconda3/envs/snowflakes/lib/python3.10/site-packages/statsmodels/base/model.py:604: ConvergenceWarning: Maximum Likelihood optimization failed to converge. Check mle_retvals\n",
      "  warnings.warn(\"Maximum Likelihood optimization failed to \"\n"
     ]
    },
    {
     "name": "stdout",
     "output_type": "stream",
     "text": [
      "ETS\n",
      "Naive Benchmarks\n",
      "Split 4\n",
      "Get Paramters from Auto ARIMA\n",
      "SARIMA\n",
      "SARIMAX\n"
     ]
    },
    {
     "name": "stderr",
     "output_type": "stream",
     "text": [
      "/opt/miniconda3/envs/snowflakes/lib/python3.10/site-packages/statsmodels/base/model.py:604: ConvergenceWarning: Maximum Likelihood optimization failed to converge. Check mle_retvals\n",
      "  warnings.warn(\"Maximum Likelihood optimization failed to \"\n"
     ]
    },
    {
     "name": "stdout",
     "output_type": "stream",
     "text": [
      "ETS\n",
      "Naive Benchmarks\n",
      "Split 5\n",
      "Get Paramters from Auto ARIMA\n",
      "SARIMA\n"
     ]
    },
    {
     "name": "stderr",
     "output_type": "stream",
     "text": [
      "/opt/miniconda3/envs/snowflakes/lib/python3.10/site-packages/statsmodels/tsa/statespace/sarimax.py:966: UserWarning: Non-stationary starting autoregressive parameters found. Using zeros as starting parameters.\n",
      "  warn('Non-stationary starting autoregressive parameters'\n",
      "/opt/miniconda3/envs/snowflakes/lib/python3.10/site-packages/statsmodels/tsa/statespace/sarimax.py:978: UserWarning: Non-invertible starting MA parameters found. Using zeros as starting parameters.\n",
      "  warn('Non-invertible starting MA parameters found.'\n",
      "/opt/miniconda3/envs/snowflakes/lib/python3.10/site-packages/statsmodels/base/model.py:604: ConvergenceWarning: Maximum Likelihood optimization failed to converge. Check mle_retvals\n",
      "  warnings.warn(\"Maximum Likelihood optimization failed to \"\n"
     ]
    },
    {
     "name": "stdout",
     "output_type": "stream",
     "text": [
      "SARIMAX\n"
     ]
    },
    {
     "name": "stderr",
     "output_type": "stream",
     "text": [
      "/opt/miniconda3/envs/snowflakes/lib/python3.10/site-packages/statsmodels/base/model.py:604: ConvergenceWarning: Maximum Likelihood optimization failed to converge. Check mle_retvals\n",
      "  warnings.warn(\"Maximum Likelihood optimization failed to \"\n"
     ]
    },
    {
     "name": "stdout",
     "output_type": "stream",
     "text": [
      "ETS\n",
      "Naive Benchmarks\n",
      "start forecast\n",
      "Get Paramters from Auto ARIMA\n",
      "auto_arima Parameters: (3, 0, 0)\n",
      "auto_arima Seasonal Parameters: (1, 0, 0, 7)\n",
      "SARIMA\n",
      "SARIMAX\n"
     ]
    },
    {
     "name": "stderr",
     "output_type": "stream",
     "text": [
      "/opt/miniconda3/envs/snowflakes/lib/python3.10/site-packages/statsmodels/base/model.py:604: ConvergenceWarning: Maximum Likelihood optimization failed to converge. Check mle_retvals\n",
      "  warnings.warn(\"Maximum Likelihood optimization failed to \"\n"
     ]
    },
    {
     "name": "stdout",
     "output_type": "stream",
     "text": [
      "ETS\n",
      "NAIVE Benchmarks\n",
      "79\n",
      "Set up data\n",
      "start backtest\n",
      "Split 1\n",
      "Get Paramters from Auto ARIMA\n",
      "SARIMA\n"
     ]
    },
    {
     "name": "stderr",
     "output_type": "stream",
     "text": [
      "/opt/miniconda3/envs/snowflakes/lib/python3.10/site-packages/statsmodels/tsa/statespace/sarimax.py:966: UserWarning: Non-stationary starting autoregressive parameters found. Using zeros as starting parameters.\n",
      "  warn('Non-stationary starting autoregressive parameters'\n",
      "/opt/miniconda3/envs/snowflakes/lib/python3.10/site-packages/statsmodels/tsa/statespace/sarimax.py:978: UserWarning: Non-invertible starting MA parameters found. Using zeros as starting parameters.\n",
      "  warn('Non-invertible starting MA parameters found.'\n"
     ]
    },
    {
     "name": "stdout",
     "output_type": "stream",
     "text": [
      "SARIMAX\n"
     ]
    },
    {
     "name": "stderr",
     "output_type": "stream",
     "text": [
      "/opt/miniconda3/envs/snowflakes/lib/python3.10/site-packages/statsmodels/tsa/statespace/sarimax.py:966: UserWarning: Non-stationary starting autoregressive parameters found. Using zeros as starting parameters.\n",
      "  warn('Non-stationary starting autoregressive parameters'\n",
      "/opt/miniconda3/envs/snowflakes/lib/python3.10/site-packages/statsmodels/tsa/statespace/sarimax.py:978: UserWarning: Non-invertible starting MA parameters found. Using zeros as starting parameters.\n",
      "  warn('Non-invertible starting MA parameters found.'\n"
     ]
    },
    {
     "name": "stdout",
     "output_type": "stream",
     "text": [
      "ETS\n",
      "Naive Benchmarks\n",
      "Split 2\n",
      "Get Paramters from Auto ARIMA\n",
      "SARIMA\n"
     ]
    },
    {
     "name": "stderr",
     "output_type": "stream",
     "text": [
      "/opt/miniconda3/envs/snowflakes/lib/python3.10/site-packages/statsmodels/base/model.py:604: ConvergenceWarning: Maximum Likelihood optimization failed to converge. Check mle_retvals\n",
      "  warnings.warn(\"Maximum Likelihood optimization failed to \"\n"
     ]
    },
    {
     "name": "stdout",
     "output_type": "stream",
     "text": [
      "SARIMAX\n"
     ]
    },
    {
     "name": "stderr",
     "output_type": "stream",
     "text": [
      "/opt/miniconda3/envs/snowflakes/lib/python3.10/site-packages/statsmodels/base/model.py:604: ConvergenceWarning: Maximum Likelihood optimization failed to converge. Check mle_retvals\n",
      "  warnings.warn(\"Maximum Likelihood optimization failed to \"\n"
     ]
    },
    {
     "name": "stdout",
     "output_type": "stream",
     "text": [
      "ETS\n",
      "Naive Benchmarks\n",
      "Split 3\n",
      "Get Paramters from Auto ARIMA\n",
      "SARIMA\n",
      "SARIMAX\n",
      "ETS\n",
      "Naive Benchmarks\n",
      "Split 4\n",
      "Get Paramters from Auto ARIMA\n"
     ]
    },
    {
     "name": "stderr",
     "output_type": "stream",
     "text": [
      "/opt/miniconda3/envs/snowflakes/lib/python3.10/site-packages/pmdarima/arima/_auto_solvers.py:522: ModelFitWarning: Error fitting  ARIMA(0,1,1)(2,0,2)[7] intercept (if you do not want to see these warnings, run with error_action=\"ignore\").\n",
      "Traceback:\n",
      "Traceback (most recent call last):\n",
      "  File \"/opt/miniconda3/envs/snowflakes/lib/python3.10/site-packages/pmdarima/arima/_auto_solvers.py\", line 506, in _fit_candidate_model\n",
      "    fit.fit(y, X=X, **fit_params)\n",
      "  File \"/opt/miniconda3/envs/snowflakes/lib/python3.10/site-packages/pmdarima/arima/arima.py\", line 603, in fit\n",
      "    self._fit(y, X, **fit_args)\n",
      "  File \"/opt/miniconda3/envs/snowflakes/lib/python3.10/site-packages/pmdarima/arima/arima.py\", line 524, in _fit\n",
      "    fit, self.arima_res_ = _fit_wrapper()\n",
      "  File \"/opt/miniconda3/envs/snowflakes/lib/python3.10/site-packages/pmdarima/arima/arima.py\", line 510, in _fit_wrapper\n",
      "    fitted = arima.fit(\n",
      "  File \"/opt/miniconda3/envs/snowflakes/lib/python3.10/site-packages/statsmodels/tsa/statespace/mlemodel.py\", line 704, in fit\n",
      "    mlefit = super(MLEModel, self).fit(start_params, method=method,\n",
      "  File \"/opt/miniconda3/envs/snowflakes/lib/python3.10/site-packages/statsmodels/base/model.py\", line 563, in fit\n",
      "    xopt, retvals, optim_settings = optimizer._fit(f, score, start_params,\n",
      "  File \"/opt/miniconda3/envs/snowflakes/lib/python3.10/site-packages/statsmodels/base/optimizer.py\", line 241, in _fit\n",
      "    xopt, retvals = func(objective, gradient, start_params, fargs, kwargs,\n",
      "  File \"/opt/miniconda3/envs/snowflakes/lib/python3.10/site-packages/statsmodels/base/optimizer.py\", line 651, in _fit_lbfgs\n",
      "    retvals = optimize.fmin_l_bfgs_b(func, start_params, maxiter=maxiter,\n",
      "  File \"/opt/miniconda3/envs/snowflakes/lib/python3.10/site-packages/scipy/optimize/_lbfgsb_py.py\", line 197, in fmin_l_bfgs_b\n",
      "    res = _minimize_lbfgsb(fun, x0, args=args, jac=jac, bounds=bounds,\n",
      "  File \"/opt/miniconda3/envs/snowflakes/lib/python3.10/site-packages/scipy/optimize/_lbfgsb_py.py\", line 360, in _minimize_lbfgsb\n",
      "    f, g = func_and_grad(x)\n",
      "  File \"/opt/miniconda3/envs/snowflakes/lib/python3.10/site-packages/scipy/optimize/_differentiable_functions.py\", line 285, in fun_and_grad\n",
      "    self._update_fun()\n",
      "  File \"/opt/miniconda3/envs/snowflakes/lib/python3.10/site-packages/scipy/optimize/_differentiable_functions.py\", line 251, in _update_fun\n",
      "    self._update_fun_impl()\n",
      "  File \"/opt/miniconda3/envs/snowflakes/lib/python3.10/site-packages/scipy/optimize/_differentiable_functions.py\", line 155, in update_fun\n",
      "    self.f = fun_wrapped(self.x)\n",
      "  File \"/opt/miniconda3/envs/snowflakes/lib/python3.10/site-packages/scipy/optimize/_differentiable_functions.py\", line 137, in fun_wrapped\n",
      "    fx = fun(np.copy(x), *args)\n",
      "  File \"/opt/miniconda3/envs/snowflakes/lib/python3.10/site-packages/statsmodels/base/model.py\", line 531, in f\n",
      "    return -self.loglike(params, *args) / nobs\n",
      "  File \"/opt/miniconda3/envs/snowflakes/lib/python3.10/site-packages/statsmodels/tsa/statespace/mlemodel.py\", line 939, in loglike\n",
      "    loglike = self.ssm.loglike(complex_step=complex_step, **kwargs)\n",
      "  File \"/opt/miniconda3/envs/snowflakes/lib/python3.10/site-packages/statsmodels/tsa/statespace/kalman_filter.py\", line 983, in loglike\n",
      "    kfilter = self._filter(**kwargs)\n",
      "  File \"/opt/miniconda3/envs/snowflakes/lib/python3.10/site-packages/statsmodels/tsa/statespace/kalman_filter.py\", line 903, in _filter\n",
      "    self._initialize_state(prefix=prefix, complex_step=complex_step)\n",
      "  File \"/opt/miniconda3/envs/snowflakes/lib/python3.10/site-packages/statsmodels/tsa/statespace/representation.py\", line 983, in _initialize_state\n",
      "    self._statespaces[prefix].initialize(self.initialization,\n",
      "  File \"statsmodels/tsa/statespace/_representation.pyx\", line 1373, in statsmodels.tsa.statespace._representation.dStatespace.initialize\n",
      "  File \"statsmodels/tsa/statespace/_representation.pyx\", line 1362, in statsmodels.tsa.statespace._representation.dStatespace.initialize\n",
      "  File \"statsmodels/tsa/statespace/_initialization.pyx\", line 288, in statsmodels.tsa.statespace._initialization.dInitialization.initialize\n",
      "  File \"statsmodels/tsa/statespace/_initialization.pyx\", line 406, in statsmodels.tsa.statespace._initialization.dInitialization.initialize_stationary_stationary_cov\n",
      "  File \"statsmodels/tsa/statespace/_tools.pyx\", line 1206, in statsmodels.tsa.statespace._tools._dsolve_discrete_lyapunov\n",
      "numpy.linalg.LinAlgError: LU decomposition error.\n",
      "\n",
      "  warnings.warn(warning_str, ModelFitWarning)\n"
     ]
    },
    {
     "name": "stdout",
     "output_type": "stream",
     "text": [
      "SARIMA\n",
      "SARIMAX\n",
      "ETS\n",
      "Naive Benchmarks\n",
      "Split 5\n",
      "Get Paramters from Auto ARIMA\n",
      "SARIMA\n",
      "SARIMAX\n",
      "ETS\n",
      "Naive Benchmarks\n",
      "start forecast\n",
      "Get Paramters from Auto ARIMA\n",
      "auto_arima Parameters: (3, 1, 0)\n",
      "auto_arima Seasonal Parameters: (1, 0, 1, 7)\n",
      "SARIMA\n",
      "SARIMAX\n",
      "ETS\n",
      "NAIVE Benchmarks\n",
      "61\n",
      "Set up data\n",
      "start backtest\n",
      "Split 1\n",
      "Get Paramters from Auto ARIMA\n",
      "SARIMA\n",
      "SARIMAX\n",
      "ETS\n",
      "Naive Benchmarks\n",
      "Split 2\n",
      "Get Paramters from Auto ARIMA\n",
      "SARIMA\n",
      "SARIMAX\n",
      "ETS\n",
      "Naive Benchmarks\n",
      "Split 3\n",
      "Get Paramters from Auto ARIMA\n",
      "SARIMA\n",
      "SARIMAX\n",
      "ETS\n",
      "Naive Benchmarks\n",
      "Split 4\n",
      "Get Paramters from Auto ARIMA\n",
      "SARIMA\n",
      "SARIMAX\n",
      "ETS\n",
      "Naive Benchmarks\n",
      "Split 5\n",
      "Get Paramters from Auto ARIMA\n",
      "SARIMA\n",
      "SARIMAX\n",
      "ETS\n",
      "Naive Benchmarks\n",
      "start forecast\n",
      "Get Paramters from Auto ARIMA\n",
      "auto_arima Parameters: (0, 0, 0)\n",
      "auto_arima Seasonal Parameters: (0, 0, 0, 7)\n",
      "SARIMA\n",
      "SARIMAX\n",
      "ETS\n",
      "NAIVE Benchmarks\n",
      "49\n",
      "Set up data\n",
      "start backtest\n",
      "Split 1\n",
      "Get Paramters from Auto ARIMA\n",
      "SARIMA\n",
      "SARIMAX\n"
     ]
    },
    {
     "name": "stderr",
     "output_type": "stream",
     "text": [
      "/opt/miniconda3/envs/snowflakes/lib/python3.10/site-packages/statsmodels/base/model.py:604: ConvergenceWarning: Maximum Likelihood optimization failed to converge. Check mle_retvals\n",
      "  warnings.warn(\"Maximum Likelihood optimization failed to \"\n"
     ]
    },
    {
     "name": "stdout",
     "output_type": "stream",
     "text": [
      "ETS\n",
      "Naive Benchmarks\n",
      "Split 2\n",
      "Get Paramters from Auto ARIMA\n",
      "SARIMA\n",
      "SARIMAX\n"
     ]
    },
    {
     "name": "stderr",
     "output_type": "stream",
     "text": [
      "/opt/miniconda3/envs/snowflakes/lib/python3.10/site-packages/statsmodels/base/model.py:604: ConvergenceWarning: Maximum Likelihood optimization failed to converge. Check mle_retvals\n",
      "  warnings.warn(\"Maximum Likelihood optimization failed to \"\n"
     ]
    },
    {
     "name": "stdout",
     "output_type": "stream",
     "text": [
      "ETS\n",
      "Naive Benchmarks\n",
      "Split 3\n",
      "Get Paramters from Auto ARIMA\n",
      "SARIMA\n",
      "SARIMAX\n"
     ]
    },
    {
     "name": "stderr",
     "output_type": "stream",
     "text": [
      "/opt/miniconda3/envs/snowflakes/lib/python3.10/site-packages/statsmodels/base/model.py:604: ConvergenceWarning: Maximum Likelihood optimization failed to converge. Check mle_retvals\n",
      "  warnings.warn(\"Maximum Likelihood optimization failed to \"\n"
     ]
    },
    {
     "name": "stdout",
     "output_type": "stream",
     "text": [
      "ETS\n",
      "Naive Benchmarks\n",
      "Split 4\n",
      "Get Paramters from Auto ARIMA\n",
      "SARIMA\n"
     ]
    },
    {
     "name": "stderr",
     "output_type": "stream",
     "text": [
      "/opt/miniconda3/envs/snowflakes/lib/python3.10/site-packages/statsmodels/base/model.py:604: ConvergenceWarning: Maximum Likelihood optimization failed to converge. Check mle_retvals\n",
      "  warnings.warn(\"Maximum Likelihood optimization failed to \"\n"
     ]
    },
    {
     "name": "stdout",
     "output_type": "stream",
     "text": [
      "SARIMAX\n"
     ]
    },
    {
     "name": "stderr",
     "output_type": "stream",
     "text": [
      "/opt/miniconda3/envs/snowflakes/lib/python3.10/site-packages/statsmodels/base/model.py:604: ConvergenceWarning: Maximum Likelihood optimization failed to converge. Check mle_retvals\n",
      "  warnings.warn(\"Maximum Likelihood optimization failed to \"\n"
     ]
    },
    {
     "name": "stdout",
     "output_type": "stream",
     "text": [
      "ETS\n",
      "Naive Benchmarks\n",
      "Split 5\n",
      "Get Paramters from Auto ARIMA\n",
      "SARIMA\n",
      "SARIMAX\n"
     ]
    },
    {
     "name": "stderr",
     "output_type": "stream",
     "text": [
      "/opt/miniconda3/envs/snowflakes/lib/python3.10/site-packages/statsmodels/base/model.py:604: ConvergenceWarning: Maximum Likelihood optimization failed to converge. Check mle_retvals\n",
      "  warnings.warn(\"Maximum Likelihood optimization failed to \"\n"
     ]
    },
    {
     "name": "stdout",
     "output_type": "stream",
     "text": [
      "ETS\n",
      "Naive Benchmarks\n",
      "start forecast\n",
      "Get Paramters from Auto ARIMA\n",
      "auto_arima Parameters: (0, 1, 3)\n",
      "auto_arima Seasonal Parameters: (1, 0, 1, 7)\n",
      "SARIMA\n",
      "SARIMAX\n"
     ]
    },
    {
     "name": "stderr",
     "output_type": "stream",
     "text": [
      "/opt/miniconda3/envs/snowflakes/lib/python3.10/site-packages/statsmodels/base/model.py:604: ConvergenceWarning: Maximum Likelihood optimization failed to converge. Check mle_retvals\n",
      "  warnings.warn(\"Maximum Likelihood optimization failed to \"\n"
     ]
    },
    {
     "name": "stdout",
     "output_type": "stream",
     "text": [
      "ETS\n",
      "NAIVE Benchmarks\n",
      "70\n",
      "Set up data\n",
      "start backtest\n",
      "Split 1\n",
      "Get Paramters from Auto ARIMA\n",
      "SARIMA\n",
      "SARIMAX\n"
     ]
    },
    {
     "name": "stderr",
     "output_type": "stream",
     "text": [
      "/opt/miniconda3/envs/snowflakes/lib/python3.10/site-packages/statsmodels/base/model.py:604: ConvergenceWarning: Maximum Likelihood optimization failed to converge. Check mle_retvals\n",
      "  warnings.warn(\"Maximum Likelihood optimization failed to \"\n"
     ]
    },
    {
     "name": "stdout",
     "output_type": "stream",
     "text": [
      "ETS\n",
      "Naive Benchmarks\n",
      "Split 2\n",
      "Get Paramters from Auto ARIMA\n",
      "SARIMA\n",
      "SARIMAX\n"
     ]
    },
    {
     "name": "stderr",
     "output_type": "stream",
     "text": [
      "/opt/miniconda3/envs/snowflakes/lib/python3.10/site-packages/statsmodels/base/model.py:604: ConvergenceWarning: Maximum Likelihood optimization failed to converge. Check mle_retvals\n",
      "  warnings.warn(\"Maximum Likelihood optimization failed to \"\n"
     ]
    },
    {
     "name": "stdout",
     "output_type": "stream",
     "text": [
      "ETS\n",
      "Naive Benchmarks\n",
      "Split 3\n",
      "Get Paramters from Auto ARIMA\n",
      "SARIMA\n",
      "SARIMAX\n"
     ]
    },
    {
     "name": "stderr",
     "output_type": "stream",
     "text": [
      "/opt/miniconda3/envs/snowflakes/lib/python3.10/site-packages/statsmodels/base/model.py:604: ConvergenceWarning: Maximum Likelihood optimization failed to converge. Check mle_retvals\n",
      "  warnings.warn(\"Maximum Likelihood optimization failed to \"\n"
     ]
    },
    {
     "name": "stdout",
     "output_type": "stream",
     "text": [
      "ETS\n",
      "Naive Benchmarks\n",
      "Split 4\n",
      "Get Paramters from Auto ARIMA\n",
      "SARIMA\n",
      "SARIMAX\n"
     ]
    },
    {
     "name": "stderr",
     "output_type": "stream",
     "text": [
      "/opt/miniconda3/envs/snowflakes/lib/python3.10/site-packages/statsmodels/base/model.py:604: ConvergenceWarning: Maximum Likelihood optimization failed to converge. Check mle_retvals\n",
      "  warnings.warn(\"Maximum Likelihood optimization failed to \"\n"
     ]
    },
    {
     "name": "stdout",
     "output_type": "stream",
     "text": [
      "ETS\n",
      "Naive Benchmarks\n",
      "Split 5\n",
      "Get Paramters from Auto ARIMA\n",
      "SARIMA\n",
      "SARIMAX\n"
     ]
    },
    {
     "name": "stderr",
     "output_type": "stream",
     "text": [
      "/opt/miniconda3/envs/snowflakes/lib/python3.10/site-packages/statsmodels/base/model.py:604: ConvergenceWarning: Maximum Likelihood optimization failed to converge. Check mle_retvals\n",
      "  warnings.warn(\"Maximum Likelihood optimization failed to \"\n"
     ]
    },
    {
     "name": "stdout",
     "output_type": "stream",
     "text": [
      "ETS\n",
      "Naive Benchmarks\n",
      "start forecast\n",
      "Get Paramters from Auto ARIMA\n",
      "auto_arima Parameters: (0, 1, 1)\n",
      "auto_arima Seasonal Parameters: (2, 0, 2, 7)\n",
      "SARIMA\n",
      "SARIMAX\n"
     ]
    },
    {
     "name": "stderr",
     "output_type": "stream",
     "text": [
      "/opt/miniconda3/envs/snowflakes/lib/python3.10/site-packages/statsmodels/base/model.py:604: ConvergenceWarning: Maximum Likelihood optimization failed to converge. Check mle_retvals\n",
      "  warnings.warn(\"Maximum Likelihood optimization failed to \"\n"
     ]
    },
    {
     "name": "stdout",
     "output_type": "stream",
     "text": [
      "ETS\n",
      "NAIVE Benchmarks\n",
      "99\n",
      "Set up data\n",
      "start backtest\n",
      "Split 1\n",
      "Get Paramters from Auto ARIMA\n",
      "SARIMA\n",
      "SARIMAX\n"
     ]
    },
    {
     "name": "stderr",
     "output_type": "stream",
     "text": [
      "/opt/miniconda3/envs/snowflakes/lib/python3.10/site-packages/statsmodels/base/model.py:604: ConvergenceWarning: Maximum Likelihood optimization failed to converge. Check mle_retvals\n",
      "  warnings.warn(\"Maximum Likelihood optimization failed to \"\n"
     ]
    },
    {
     "name": "stdout",
     "output_type": "stream",
     "text": [
      "ETS\n",
      "Naive Benchmarks\n",
      "Split 2\n",
      "Get Paramters from Auto ARIMA\n",
      "SARIMA\n",
      "SARIMAX\n"
     ]
    },
    {
     "name": "stderr",
     "output_type": "stream",
     "text": [
      "/opt/miniconda3/envs/snowflakes/lib/python3.10/site-packages/statsmodels/base/model.py:604: ConvergenceWarning: Maximum Likelihood optimization failed to converge. Check mle_retvals\n",
      "  warnings.warn(\"Maximum Likelihood optimization failed to \"\n"
     ]
    },
    {
     "name": "stdout",
     "output_type": "stream",
     "text": [
      "ETS\n",
      "Naive Benchmarks\n",
      "Split 3\n",
      "Get Paramters from Auto ARIMA\n",
      "SARIMA\n",
      "SARIMAX\n"
     ]
    },
    {
     "name": "stderr",
     "output_type": "stream",
     "text": [
      "/opt/miniconda3/envs/snowflakes/lib/python3.10/site-packages/statsmodels/base/model.py:604: ConvergenceWarning: Maximum Likelihood optimization failed to converge. Check mle_retvals\n",
      "  warnings.warn(\"Maximum Likelihood optimization failed to \"\n"
     ]
    },
    {
     "name": "stdout",
     "output_type": "stream",
     "text": [
      "ETS\n",
      "Naive Benchmarks\n",
      "Split 4\n",
      "Get Paramters from Auto ARIMA\n",
      "SARIMA\n",
      "SARIMAX\n"
     ]
    },
    {
     "name": "stderr",
     "output_type": "stream",
     "text": [
      "/opt/miniconda3/envs/snowflakes/lib/python3.10/site-packages/statsmodels/base/model.py:604: ConvergenceWarning: Maximum Likelihood optimization failed to converge. Check mle_retvals\n",
      "  warnings.warn(\"Maximum Likelihood optimization failed to \"\n"
     ]
    },
    {
     "name": "stdout",
     "output_type": "stream",
     "text": [
      "ETS\n",
      "Naive Benchmarks\n",
      "Split 5\n",
      "Get Paramters from Auto ARIMA\n",
      "SARIMA\n",
      "SARIMAX\n"
     ]
    },
    {
     "name": "stderr",
     "output_type": "stream",
     "text": [
      "/opt/miniconda3/envs/snowflakes/lib/python3.10/site-packages/statsmodels/base/model.py:604: ConvergenceWarning: Maximum Likelihood optimization failed to converge. Check mle_retvals\n",
      "  warnings.warn(\"Maximum Likelihood optimization failed to \"\n"
     ]
    },
    {
     "name": "stdout",
     "output_type": "stream",
     "text": [
      "ETS\n",
      "Naive Benchmarks\n",
      "start forecast\n",
      "Get Paramters from Auto ARIMA\n",
      "auto_arima Parameters: (0, 1, 4)\n",
      "auto_arima Seasonal Parameters: (0, 0, 0, 7)\n",
      "SARIMA\n",
      "SARIMAX\n"
     ]
    },
    {
     "name": "stderr",
     "output_type": "stream",
     "text": [
      "/opt/miniconda3/envs/snowflakes/lib/python3.10/site-packages/statsmodels/base/model.py:604: ConvergenceWarning: Maximum Likelihood optimization failed to converge. Check mle_retvals\n",
      "  warnings.warn(\"Maximum Likelihood optimization failed to \"\n"
     ]
    },
    {
     "name": "stdout",
     "output_type": "stream",
     "text": [
      "ETS\n",
      "NAIVE Benchmarks\n",
      "80\n",
      "Set up data\n",
      "start backtest\n",
      "Split 1\n",
      "Get Paramters from Auto ARIMA\n",
      "SARIMA\n",
      "SARIMAX\n"
     ]
    },
    {
     "name": "stderr",
     "output_type": "stream",
     "text": [
      "/opt/miniconda3/envs/snowflakes/lib/python3.10/site-packages/statsmodels/base/model.py:604: ConvergenceWarning: Maximum Likelihood optimization failed to converge. Check mle_retvals\n",
      "  warnings.warn(\"Maximum Likelihood optimization failed to \"\n",
      "/opt/miniconda3/envs/snowflakes/lib/python3.10/site-packages/statsmodels/tsa/holtwinters/model.py:915: ConvergenceWarning: Optimization failed to converge. Check mle_retvals.\n",
      "  warnings.warn(\n"
     ]
    },
    {
     "name": "stdout",
     "output_type": "stream",
     "text": [
      "ETS\n",
      "Naive Benchmarks\n",
      "Split 2\n",
      "Get Paramters from Auto ARIMA\n",
      "SARIMA\n",
      "SARIMAX\n"
     ]
    },
    {
     "name": "stderr",
     "output_type": "stream",
     "text": [
      "/opt/miniconda3/envs/snowflakes/lib/python3.10/site-packages/statsmodels/base/model.py:604: ConvergenceWarning: Maximum Likelihood optimization failed to converge. Check mle_retvals\n",
      "  warnings.warn(\"Maximum Likelihood optimization failed to \"\n",
      "/opt/miniconda3/envs/snowflakes/lib/python3.10/site-packages/statsmodels/tsa/holtwinters/model.py:915: ConvergenceWarning: Optimization failed to converge. Check mle_retvals.\n",
      "  warnings.warn(\n"
     ]
    },
    {
     "name": "stdout",
     "output_type": "stream",
     "text": [
      "ETS\n",
      "Naive Benchmarks\n",
      "Split 3\n",
      "Get Paramters from Auto ARIMA\n",
      "SARIMA\n"
     ]
    },
    {
     "name": "stderr",
     "output_type": "stream",
     "text": [
      "/opt/miniconda3/envs/snowflakes/lib/python3.10/site-packages/statsmodels/base/model.py:604: ConvergenceWarning: Maximum Likelihood optimization failed to converge. Check mle_retvals\n",
      "  warnings.warn(\"Maximum Likelihood optimization failed to \"\n"
     ]
    },
    {
     "name": "stdout",
     "output_type": "stream",
     "text": [
      "SARIMAX\n"
     ]
    },
    {
     "name": "stderr",
     "output_type": "stream",
     "text": [
      "/opt/miniconda3/envs/snowflakes/lib/python3.10/site-packages/statsmodels/base/model.py:604: ConvergenceWarning: Maximum Likelihood optimization failed to converge. Check mle_retvals\n",
      "  warnings.warn(\"Maximum Likelihood optimization failed to \"\n",
      "/opt/miniconda3/envs/snowflakes/lib/python3.10/site-packages/statsmodels/tsa/holtwinters/model.py:915: ConvergenceWarning: Optimization failed to converge. Check mle_retvals.\n",
      "  warnings.warn(\n"
     ]
    },
    {
     "name": "stdout",
     "output_type": "stream",
     "text": [
      "ETS\n",
      "Naive Benchmarks\n",
      "Split 4\n",
      "Get Paramters from Auto ARIMA\n",
      "SARIMA\n",
      "SARIMAX\n",
      "ETS\n",
      "Naive Benchmarks\n",
      "Split 5\n",
      "Get Paramters from Auto ARIMA\n"
     ]
    },
    {
     "name": "stderr",
     "output_type": "stream",
     "text": [
      "/opt/miniconda3/envs/snowflakes/lib/python3.10/site-packages/statsmodels/tsa/holtwinters/model.py:915: ConvergenceWarning: Optimization failed to converge. Check mle_retvals.\n",
      "  warnings.warn(\n"
     ]
    },
    {
     "name": "stdout",
     "output_type": "stream",
     "text": [
      "SARIMA\n"
     ]
    },
    {
     "name": "stderr",
     "output_type": "stream",
     "text": [
      "/opt/miniconda3/envs/snowflakes/lib/python3.10/site-packages/statsmodels/base/model.py:604: ConvergenceWarning: Maximum Likelihood optimization failed to converge. Check mle_retvals\n",
      "  warnings.warn(\"Maximum Likelihood optimization failed to \"\n"
     ]
    },
    {
     "name": "stdout",
     "output_type": "stream",
     "text": [
      "SARIMAX\n"
     ]
    },
    {
     "name": "stderr",
     "output_type": "stream",
     "text": [
      "/opt/miniconda3/envs/snowflakes/lib/python3.10/site-packages/statsmodels/base/model.py:604: ConvergenceWarning: Maximum Likelihood optimization failed to converge. Check mle_retvals\n",
      "  warnings.warn(\"Maximum Likelihood optimization failed to \"\n",
      "/opt/miniconda3/envs/snowflakes/lib/python3.10/site-packages/statsmodels/tsa/holtwinters/model.py:915: ConvergenceWarning: Optimization failed to converge. Check mle_retvals.\n",
      "  warnings.warn(\n"
     ]
    },
    {
     "name": "stdout",
     "output_type": "stream",
     "text": [
      "ETS\n",
      "Naive Benchmarks\n",
      "start forecast\n",
      "Get Paramters from Auto ARIMA\n"
     ]
    },
    {
     "name": "stderr",
     "output_type": "stream",
     "text": [
      "/opt/miniconda3/envs/snowflakes/lib/python3.10/site-packages/pmdarima/arima/_auto_solvers.py:522: ModelFitWarning: Error fitting  ARIMA(2,0,0)(2,0,1)[7] intercept (if you do not want to see these warnings, run with error_action=\"ignore\").\n",
      "Traceback:\n",
      "Traceback (most recent call last):\n",
      "  File \"/opt/miniconda3/envs/snowflakes/lib/python3.10/site-packages/pmdarima/arima/_auto_solvers.py\", line 506, in _fit_candidate_model\n",
      "    fit.fit(y, X=X, **fit_params)\n",
      "  File \"/opt/miniconda3/envs/snowflakes/lib/python3.10/site-packages/pmdarima/arima/arima.py\", line 603, in fit\n",
      "    self._fit(y, X, **fit_args)\n",
      "  File \"/opt/miniconda3/envs/snowflakes/lib/python3.10/site-packages/pmdarima/arima/arima.py\", line 524, in _fit\n",
      "    fit, self.arima_res_ = _fit_wrapper()\n",
      "  File \"/opt/miniconda3/envs/snowflakes/lib/python3.10/site-packages/pmdarima/arima/arima.py\", line 510, in _fit_wrapper\n",
      "    fitted = arima.fit(\n",
      "  File \"/opt/miniconda3/envs/snowflakes/lib/python3.10/site-packages/statsmodels/tsa/statespace/mlemodel.py\", line 704, in fit\n",
      "    mlefit = super(MLEModel, self).fit(start_params, method=method,\n",
      "  File \"/opt/miniconda3/envs/snowflakes/lib/python3.10/site-packages/statsmodels/base/model.py\", line 563, in fit\n",
      "    xopt, retvals, optim_settings = optimizer._fit(f, score, start_params,\n",
      "  File \"/opt/miniconda3/envs/snowflakes/lib/python3.10/site-packages/statsmodels/base/optimizer.py\", line 241, in _fit\n",
      "    xopt, retvals = func(objective, gradient, start_params, fargs, kwargs,\n",
      "  File \"/opt/miniconda3/envs/snowflakes/lib/python3.10/site-packages/statsmodels/base/optimizer.py\", line 651, in _fit_lbfgs\n",
      "    retvals = optimize.fmin_l_bfgs_b(func, start_params, maxiter=maxiter,\n",
      "  File \"/opt/miniconda3/envs/snowflakes/lib/python3.10/site-packages/scipy/optimize/_lbfgsb_py.py\", line 197, in fmin_l_bfgs_b\n",
      "    res = _minimize_lbfgsb(fun, x0, args=args, jac=jac, bounds=bounds,\n",
      "  File \"/opt/miniconda3/envs/snowflakes/lib/python3.10/site-packages/scipy/optimize/_lbfgsb_py.py\", line 360, in _minimize_lbfgsb\n",
      "    f, g = func_and_grad(x)\n",
      "  File \"/opt/miniconda3/envs/snowflakes/lib/python3.10/site-packages/scipy/optimize/_differentiable_functions.py\", line 286, in fun_and_grad\n",
      "    self._update_grad()\n",
      "  File \"/opt/miniconda3/envs/snowflakes/lib/python3.10/site-packages/scipy/optimize/_differentiable_functions.py\", line 256, in _update_grad\n",
      "    self._update_grad_impl()\n",
      "  File \"/opt/miniconda3/envs/snowflakes/lib/python3.10/site-packages/scipy/optimize/_differentiable_functions.py\", line 173, in update_grad\n",
      "    self.g = approx_derivative(fun_wrapped, self.x, f0=self.f,\n",
      "  File \"/opt/miniconda3/envs/snowflakes/lib/python3.10/site-packages/scipy/optimize/_numdiff.py\", line 505, in approx_derivative\n",
      "    return _dense_difference(fun_wrapped, x0, f0, h,\n",
      "  File \"/opt/miniconda3/envs/snowflakes/lib/python3.10/site-packages/scipy/optimize/_numdiff.py\", line 576, in _dense_difference\n",
      "    df = fun(x) - f0\n",
      "  File \"/opt/miniconda3/envs/snowflakes/lib/python3.10/site-packages/scipy/optimize/_numdiff.py\", line 456, in fun_wrapped\n",
      "    f = np.atleast_1d(fun(x, *args, **kwargs))\n",
      "  File \"/opt/miniconda3/envs/snowflakes/lib/python3.10/site-packages/scipy/optimize/_differentiable_functions.py\", line 137, in fun_wrapped\n",
      "    fx = fun(np.copy(x), *args)\n",
      "  File \"/opt/miniconda3/envs/snowflakes/lib/python3.10/site-packages/statsmodels/base/model.py\", line 531, in f\n",
      "    return -self.loglike(params, *args) / nobs\n",
      "  File \"/opt/miniconda3/envs/snowflakes/lib/python3.10/site-packages/statsmodels/tsa/statespace/mlemodel.py\", line 939, in loglike\n",
      "    loglike = self.ssm.loglike(complex_step=complex_step, **kwargs)\n",
      "  File \"/opt/miniconda3/envs/snowflakes/lib/python3.10/site-packages/statsmodels/tsa/statespace/kalman_filter.py\", line 983, in loglike\n",
      "    kfilter = self._filter(**kwargs)\n",
      "  File \"/opt/miniconda3/envs/snowflakes/lib/python3.10/site-packages/statsmodels/tsa/statespace/kalman_filter.py\", line 903, in _filter\n",
      "    self._initialize_state(prefix=prefix, complex_step=complex_step)\n",
      "  File \"/opt/miniconda3/envs/snowflakes/lib/python3.10/site-packages/statsmodels/tsa/statespace/representation.py\", line 983, in _initialize_state\n",
      "    self._statespaces[prefix].initialize(self.initialization,\n",
      "  File \"statsmodels/tsa/statespace/_representation.pyx\", line 1362, in statsmodels.tsa.statespace._representation.dStatespace.initialize\n",
      "  File \"statsmodels/tsa/statespace/_initialization.pyx\", line 288, in statsmodels.tsa.statespace._initialization.dInitialization.initialize\n",
      "  File \"statsmodels/tsa/statespace/_initialization.pyx\", line 406, in statsmodels.tsa.statespace._initialization.dInitialization.initialize_stationary_stationary_cov\n",
      "  File \"statsmodels/tsa/statespace/_tools.pyx\", line 1206, in statsmodels.tsa.statespace._tools._dsolve_discrete_lyapunov\n",
      "numpy.linalg.LinAlgError: LU decomposition error.\n",
      "\n",
      "  warnings.warn(warning_str, ModelFitWarning)\n"
     ]
    },
    {
     "name": "stdout",
     "output_type": "stream",
     "text": [
      "auto_arima Parameters: (0, 0, 2)\n",
      "auto_arima Seasonal Parameters: (1, 0, 2, 7)\n",
      "SARIMA\n",
      "SARIMAX\n",
      "ETS\n",
      "NAIVE Benchmarks\n",
      "13\n",
      "Set up data\n",
      "start backtest\n",
      "Split 1\n",
      "Get Paramters from Auto ARIMA\n"
     ]
    },
    {
     "name": "stderr",
     "output_type": "stream",
     "text": [
      "/opt/miniconda3/envs/snowflakes/lib/python3.10/site-packages/statsmodels/tsa/holtwinters/model.py:915: ConvergenceWarning: Optimization failed to converge. Check mle_retvals.\n",
      "  warnings.warn(\n"
     ]
    },
    {
     "name": "stdout",
     "output_type": "stream",
     "text": [
      "SARIMA\n",
      "SARIMAX\n"
     ]
    },
    {
     "name": "stderr",
     "output_type": "stream",
     "text": [
      "/opt/miniconda3/envs/snowflakes/lib/python3.10/site-packages/statsmodels/base/model.py:604: ConvergenceWarning: Maximum Likelihood optimization failed to converge. Check mle_retvals\n",
      "  warnings.warn(\"Maximum Likelihood optimization failed to \"\n"
     ]
    },
    {
     "name": "stdout",
     "output_type": "stream",
     "text": [
      "ETS\n",
      "Naive Benchmarks\n",
      "Split 2\n",
      "Get Paramters from Auto ARIMA\n",
      "SARIMA\n",
      "SARIMAX\n"
     ]
    },
    {
     "name": "stderr",
     "output_type": "stream",
     "text": [
      "/opt/miniconda3/envs/snowflakes/lib/python3.10/site-packages/statsmodels/base/model.py:604: ConvergenceWarning: Maximum Likelihood optimization failed to converge. Check mle_retvals\n",
      "  warnings.warn(\"Maximum Likelihood optimization failed to \"\n"
     ]
    },
    {
     "name": "stdout",
     "output_type": "stream",
     "text": [
      "ETS\n",
      "Naive Benchmarks\n",
      "Split 3\n",
      "Get Paramters from Auto ARIMA\n",
      "SARIMA\n",
      "SARIMAX\n"
     ]
    },
    {
     "name": "stderr",
     "output_type": "stream",
     "text": [
      "/opt/miniconda3/envs/snowflakes/lib/python3.10/site-packages/statsmodels/base/model.py:604: ConvergenceWarning: Maximum Likelihood optimization failed to converge. Check mle_retvals\n",
      "  warnings.warn(\"Maximum Likelihood optimization failed to \"\n"
     ]
    },
    {
     "name": "stdout",
     "output_type": "stream",
     "text": [
      "ETS\n",
      "Naive Benchmarks\n",
      "Split 4\n",
      "Get Paramters from Auto ARIMA\n",
      "SARIMA\n",
      "SARIMAX\n"
     ]
    },
    {
     "name": "stderr",
     "output_type": "stream",
     "text": [
      "/opt/miniconda3/envs/snowflakes/lib/python3.10/site-packages/statsmodels/base/model.py:604: ConvergenceWarning: Maximum Likelihood optimization failed to converge. Check mle_retvals\n",
      "  warnings.warn(\"Maximum Likelihood optimization failed to \"\n"
     ]
    },
    {
     "name": "stdout",
     "output_type": "stream",
     "text": [
      "ETS\n",
      "Naive Benchmarks\n",
      "Split 5\n",
      "Get Paramters from Auto ARIMA\n",
      "SARIMA\n",
      "SARIMAX\n"
     ]
    },
    {
     "name": "stderr",
     "output_type": "stream",
     "text": [
      "/opt/miniconda3/envs/snowflakes/lib/python3.10/site-packages/statsmodels/base/model.py:604: ConvergenceWarning: Maximum Likelihood optimization failed to converge. Check mle_retvals\n",
      "  warnings.warn(\"Maximum Likelihood optimization failed to \"\n"
     ]
    },
    {
     "name": "stdout",
     "output_type": "stream",
     "text": [
      "ETS\n",
      "Naive Benchmarks\n",
      "start forecast\n",
      "Get Paramters from Auto ARIMA\n",
      "auto_arima Parameters: (1, 1, 1)\n",
      "auto_arima Seasonal Parameters: (2, 0, 1, 7)\n",
      "SARIMA\n",
      "SARIMAX\n"
     ]
    },
    {
     "name": "stderr",
     "output_type": "stream",
     "text": [
      "/opt/miniconda3/envs/snowflakes/lib/python3.10/site-packages/statsmodels/base/model.py:604: ConvergenceWarning: Maximum Likelihood optimization failed to converge. Check mle_retvals\n",
      "  warnings.warn(\"Maximum Likelihood optimization failed to \"\n"
     ]
    },
    {
     "name": "stdout",
     "output_type": "stream",
     "text": [
      "ETS\n",
      "NAIVE Benchmarks\n",
      "22\n",
      "Set up data\n",
      "start backtest\n",
      "Split 1\n",
      "Get Paramters from Auto ARIMA\n",
      "SARIMA\n",
      "SARIMAX\n"
     ]
    },
    {
     "name": "stderr",
     "output_type": "stream",
     "text": [
      "/opt/miniconda3/envs/snowflakes/lib/python3.10/site-packages/statsmodels/base/model.py:604: ConvergenceWarning: Maximum Likelihood optimization failed to converge. Check mle_retvals\n",
      "  warnings.warn(\"Maximum Likelihood optimization failed to \"\n"
     ]
    },
    {
     "name": "stdout",
     "output_type": "stream",
     "text": [
      "ETS\n",
      "Naive Benchmarks\n",
      "Split 2\n",
      "Get Paramters from Auto ARIMA\n",
      "SARIMA\n",
      "SARIMAX\n"
     ]
    },
    {
     "name": "stderr",
     "output_type": "stream",
     "text": [
      "/opt/miniconda3/envs/snowflakes/lib/python3.10/site-packages/statsmodels/base/model.py:604: ConvergenceWarning: Maximum Likelihood optimization failed to converge. Check mle_retvals\n",
      "  warnings.warn(\"Maximum Likelihood optimization failed to \"\n"
     ]
    },
    {
     "name": "stdout",
     "output_type": "stream",
     "text": [
      "ETS\n",
      "Naive Benchmarks\n",
      "Split 3\n",
      "Get Paramters from Auto ARIMA\n",
      "SARIMA\n",
      "SARIMAX\n"
     ]
    },
    {
     "name": "stderr",
     "output_type": "stream",
     "text": [
      "/opt/miniconda3/envs/snowflakes/lib/python3.10/site-packages/statsmodels/base/model.py:604: ConvergenceWarning: Maximum Likelihood optimization failed to converge. Check mle_retvals\n",
      "  warnings.warn(\"Maximum Likelihood optimization failed to \"\n"
     ]
    },
    {
     "name": "stdout",
     "output_type": "stream",
     "text": [
      "ETS\n",
      "Naive Benchmarks\n",
      "Split 4\n",
      "Get Paramters from Auto ARIMA\n",
      "SARIMA\n",
      "SARIMAX\n"
     ]
    },
    {
     "name": "stderr",
     "output_type": "stream",
     "text": [
      "/opt/miniconda3/envs/snowflakes/lib/python3.10/site-packages/statsmodels/base/model.py:604: ConvergenceWarning: Maximum Likelihood optimization failed to converge. Check mle_retvals\n",
      "  warnings.warn(\"Maximum Likelihood optimization failed to \"\n"
     ]
    },
    {
     "name": "stdout",
     "output_type": "stream",
     "text": [
      "ETS\n",
      "Naive Benchmarks\n",
      "Split 5\n",
      "Get Paramters from Auto ARIMA\n",
      "SARIMA\n",
      "SARIMAX\n"
     ]
    },
    {
     "name": "stderr",
     "output_type": "stream",
     "text": [
      "/opt/miniconda3/envs/snowflakes/lib/python3.10/site-packages/statsmodels/base/model.py:604: ConvergenceWarning: Maximum Likelihood optimization failed to converge. Check mle_retvals\n",
      "  warnings.warn(\"Maximum Likelihood optimization failed to \"\n"
     ]
    },
    {
     "name": "stdout",
     "output_type": "stream",
     "text": [
      "ETS\n",
      "Naive Benchmarks\n",
      "start forecast\n",
      "Get Paramters from Auto ARIMA\n",
      "auto_arima Parameters: (0, 0, 4)\n",
      "auto_arima Seasonal Parameters: (0, 0, 0, 7)\n",
      "SARIMA\n",
      "SARIMAX\n"
     ]
    },
    {
     "name": "stderr",
     "output_type": "stream",
     "text": [
      "/opt/miniconda3/envs/snowflakes/lib/python3.10/site-packages/statsmodels/base/model.py:604: ConvergenceWarning: Maximum Likelihood optimization failed to converge. Check mle_retvals\n",
      "  warnings.warn(\"Maximum Likelihood optimization failed to \"\n"
     ]
    },
    {
     "name": "stdout",
     "output_type": "stream",
     "text": [
      "ETS\n",
      "NAIVE Benchmarks\n",
      "101\n",
      "Set up data\n",
      "start backtest\n",
      "Split 1\n",
      "Get Paramters from Auto ARIMA\n",
      "SARIMA\n",
      "SARIMAX\n",
      "ETS\n",
      "Naive Benchmarks\n",
      "Split 2\n",
      "Get Paramters from Auto ARIMA\n"
     ]
    },
    {
     "name": "stderr",
     "output_type": "stream",
     "text": [
      "/opt/miniconda3/envs/snowflakes/lib/python3.10/site-packages/statsmodels/tsa/holtwinters/model.py:915: ConvergenceWarning: Optimization failed to converge. Check mle_retvals.\n",
      "  warnings.warn(\n"
     ]
    },
    {
     "name": "stdout",
     "output_type": "stream",
     "text": [
      "SARIMA\n",
      "SARIMAX\n",
      "ETS\n",
      "Naive Benchmarks\n",
      "Split 3\n",
      "Get Paramters from Auto ARIMA\n"
     ]
    },
    {
     "name": "stderr",
     "output_type": "stream",
     "text": [
      "/opt/miniconda3/envs/snowflakes/lib/python3.10/site-packages/statsmodels/tsa/holtwinters/model.py:915: ConvergenceWarning: Optimization failed to converge. Check mle_retvals.\n",
      "  warnings.warn(\n"
     ]
    },
    {
     "name": "stdout",
     "output_type": "stream",
     "text": [
      "SARIMA\n",
      "SARIMAX\n",
      "ETS\n",
      "Naive Benchmarks\n",
      "Split 4\n",
      "Get Paramters from Auto ARIMA\n"
     ]
    },
    {
     "name": "stderr",
     "output_type": "stream",
     "text": [
      "/opt/miniconda3/envs/snowflakes/lib/python3.10/site-packages/statsmodels/tsa/holtwinters/model.py:915: ConvergenceWarning: Optimization failed to converge. Check mle_retvals.\n",
      "  warnings.warn(\n"
     ]
    },
    {
     "name": "stdout",
     "output_type": "stream",
     "text": [
      "SARIMA\n",
      "SARIMAX\n",
      "ETS\n",
      "Naive Benchmarks\n",
      "Split 5\n",
      "Get Paramters from Auto ARIMA\n"
     ]
    },
    {
     "name": "stderr",
     "output_type": "stream",
     "text": [
      "/opt/miniconda3/envs/snowflakes/lib/python3.10/site-packages/statsmodels/tsa/holtwinters/model.py:915: ConvergenceWarning: Optimization failed to converge. Check mle_retvals.\n",
      "  warnings.warn(\n"
     ]
    },
    {
     "name": "stdout",
     "output_type": "stream",
     "text": [
      "SARIMA\n",
      "SARIMAX\n",
      "ETS\n",
      "Naive Benchmarks\n",
      "start forecast\n",
      "Get Paramters from Auto ARIMA\n"
     ]
    },
    {
     "name": "stderr",
     "output_type": "stream",
     "text": [
      "/opt/miniconda3/envs/snowflakes/lib/python3.10/site-packages/statsmodels/tsa/holtwinters/model.py:915: ConvergenceWarning: Optimization failed to converge. Check mle_retvals.\n",
      "  warnings.warn(\n"
     ]
    },
    {
     "name": "stdout",
     "output_type": "stream",
     "text": [
      "auto_arima Parameters: (1, 0, 0)\n",
      "auto_arima Seasonal Parameters: (0, 0, 0, 7)\n",
      "SARIMA\n",
      "SARIMAX\n",
      "ETS\n"
     ]
    },
    {
     "name": "stderr",
     "output_type": "stream",
     "text": [
      "/opt/miniconda3/envs/snowflakes/lib/python3.10/site-packages/statsmodels/tsa/holtwinters/model.py:915: ConvergenceWarning: Optimization failed to converge. Check mle_retvals.\n",
      "  warnings.warn(\n"
     ]
    },
    {
     "name": "stdout",
     "output_type": "stream",
     "text": [
      "NAIVE Benchmarks\n",
      "68\n",
      "Set up data\n",
      "start backtest\n",
      "Split 1\n",
      "Get Paramters from Auto ARIMA\n",
      "SARIMA\n",
      "SARIMAX\n",
      "ETS\n",
      "Naive Benchmarks\n",
      "Split 2\n",
      "Get Paramters from Auto ARIMA\n",
      "SARIMA\n"
     ]
    },
    {
     "name": "stderr",
     "output_type": "stream",
     "text": [
      "/opt/miniconda3/envs/snowflakes/lib/python3.10/site-packages/statsmodels/base/model.py:604: ConvergenceWarning: Maximum Likelihood optimization failed to converge. Check mle_retvals\n",
      "  warnings.warn(\"Maximum Likelihood optimization failed to \"\n"
     ]
    },
    {
     "name": "stdout",
     "output_type": "stream",
     "text": [
      "SARIMAX\n"
     ]
    },
    {
     "name": "stderr",
     "output_type": "stream",
     "text": [
      "/opt/miniconda3/envs/snowflakes/lib/python3.10/site-packages/statsmodels/base/model.py:604: ConvergenceWarning: Maximum Likelihood optimization failed to converge. Check mle_retvals\n",
      "  warnings.warn(\"Maximum Likelihood optimization failed to \"\n"
     ]
    },
    {
     "name": "stdout",
     "output_type": "stream",
     "text": [
      "ETS\n",
      "Naive Benchmarks\n",
      "Split 3\n",
      "Get Paramters from Auto ARIMA\n",
      "SARIMA\n",
      "SARIMAX\n",
      "ETS\n",
      "Naive Benchmarks\n",
      "Split 4\n",
      "Get Paramters from Auto ARIMA\n",
      "SARIMA\n",
      "SARIMAX\n",
      "ETS\n",
      "Naive Benchmarks\n",
      "Split 5\n",
      "Get Paramters from Auto ARIMA\n",
      "SARIMA\n",
      "SARIMAX\n",
      "ETS\n",
      "Naive Benchmarks\n",
      "start forecast\n",
      "Get Paramters from Auto ARIMA\n",
      "auto_arima Parameters: (1, 1, 1)\n",
      "auto_arima Seasonal Parameters: (2, 0, 1, 7)\n",
      "SARIMA\n",
      "SARIMAX\n"
     ]
    },
    {
     "name": "stderr",
     "output_type": "stream",
     "text": [
      "/opt/miniconda3/envs/snowflakes/lib/python3.10/site-packages/statsmodels/base/model.py:604: ConvergenceWarning: Maximum Likelihood optimization failed to converge. Check mle_retvals\n",
      "  warnings.warn(\"Maximum Likelihood optimization failed to \"\n"
     ]
    },
    {
     "name": "stdout",
     "output_type": "stream",
     "text": [
      "ETS\n",
      "NAIVE Benchmarks\n",
      "33\n",
      "Set up data\n",
      "start backtest\n",
      "Split 1\n",
      "Get Paramters from Auto ARIMA\n",
      "SARIMA\n",
      "SARIMAX\n"
     ]
    },
    {
     "name": "stderr",
     "output_type": "stream",
     "text": [
      "/opt/miniconda3/envs/snowflakes/lib/python3.10/site-packages/statsmodels/base/model.py:604: ConvergenceWarning: Maximum Likelihood optimization failed to converge. Check mle_retvals\n",
      "  warnings.warn(\"Maximum Likelihood optimization failed to \"\n"
     ]
    },
    {
     "name": "stdout",
     "output_type": "stream",
     "text": [
      "ETS\n",
      "Naive Benchmarks\n",
      "Split 2\n",
      "Get Paramters from Auto ARIMA\n",
      "SARIMA\n",
      "SARIMAX\n"
     ]
    },
    {
     "name": "stderr",
     "output_type": "stream",
     "text": [
      "/opt/miniconda3/envs/snowflakes/lib/python3.10/site-packages/statsmodels/base/model.py:604: ConvergenceWarning: Maximum Likelihood optimization failed to converge. Check mle_retvals\n",
      "  warnings.warn(\"Maximum Likelihood optimization failed to \"\n"
     ]
    },
    {
     "name": "stdout",
     "output_type": "stream",
     "text": [
      "ETS\n",
      "Naive Benchmarks\n",
      "Split 3\n",
      "Get Paramters from Auto ARIMA\n",
      "SARIMA\n",
      "SARIMAX\n"
     ]
    },
    {
     "name": "stderr",
     "output_type": "stream",
     "text": [
      "/opt/miniconda3/envs/snowflakes/lib/python3.10/site-packages/statsmodels/base/model.py:604: ConvergenceWarning: Maximum Likelihood optimization failed to converge. Check mle_retvals\n",
      "  warnings.warn(\"Maximum Likelihood optimization failed to \"\n"
     ]
    },
    {
     "name": "stdout",
     "output_type": "stream",
     "text": [
      "ETS\n",
      "Naive Benchmarks\n",
      "Split 4\n",
      "Get Paramters from Auto ARIMA\n",
      "SARIMA\n",
      "SARIMAX\n"
     ]
    },
    {
     "name": "stderr",
     "output_type": "stream",
     "text": [
      "/opt/miniconda3/envs/snowflakes/lib/python3.10/site-packages/statsmodels/base/model.py:604: ConvergenceWarning: Maximum Likelihood optimization failed to converge. Check mle_retvals\n",
      "  warnings.warn(\"Maximum Likelihood optimization failed to \"\n"
     ]
    },
    {
     "name": "stdout",
     "output_type": "stream",
     "text": [
      "ETS\n",
      "Naive Benchmarks\n",
      "Split 5\n",
      "Get Paramters from Auto ARIMA\n",
      "SARIMA\n",
      "SARIMAX\n"
     ]
    },
    {
     "name": "stderr",
     "output_type": "stream",
     "text": [
      "/opt/miniconda3/envs/snowflakes/lib/python3.10/site-packages/statsmodels/base/model.py:604: ConvergenceWarning: Maximum Likelihood optimization failed to converge. Check mle_retvals\n",
      "  warnings.warn(\"Maximum Likelihood optimization failed to \"\n"
     ]
    },
    {
     "name": "stdout",
     "output_type": "stream",
     "text": [
      "ETS\n",
      "Naive Benchmarks\n",
      "start forecast\n",
      "Get Paramters from Auto ARIMA\n",
      "auto_arima Parameters: (1, 1, 1)\n",
      "auto_arima Seasonal Parameters: (1, 0, 0, 7)\n",
      "SARIMA\n",
      "SARIMAX\n"
     ]
    },
    {
     "name": "stderr",
     "output_type": "stream",
     "text": [
      "/opt/miniconda3/envs/snowflakes/lib/python3.10/site-packages/statsmodels/base/model.py:604: ConvergenceWarning: Maximum Likelihood optimization failed to converge. Check mle_retvals\n",
      "  warnings.warn(\"Maximum Likelihood optimization failed to \"\n"
     ]
    },
    {
     "name": "stdout",
     "output_type": "stream",
     "text": [
      "ETS\n",
      "NAIVE Benchmarks\n",
      "20\n",
      "Set up data\n",
      "start backtest\n",
      "Split 1\n",
      "Get Paramters from Auto ARIMA\n",
      "SARIMA\n",
      "SARIMAX\n"
     ]
    },
    {
     "name": "stderr",
     "output_type": "stream",
     "text": [
      "/opt/miniconda3/envs/snowflakes/lib/python3.10/site-packages/statsmodels/base/model.py:604: ConvergenceWarning: Maximum Likelihood optimization failed to converge. Check mle_retvals\n",
      "  warnings.warn(\"Maximum Likelihood optimization failed to \"\n"
     ]
    },
    {
     "name": "stdout",
     "output_type": "stream",
     "text": [
      "ETS\n",
      "Naive Benchmarks\n",
      "Split 2\n",
      "Get Paramters from Auto ARIMA\n",
      "SARIMA\n",
      "SARIMAX\n"
     ]
    },
    {
     "name": "stderr",
     "output_type": "stream",
     "text": [
      "/opt/miniconda3/envs/snowflakes/lib/python3.10/site-packages/statsmodels/tsa/statespace/sarimax.py:966: UserWarning: Non-stationary starting autoregressive parameters found. Using zeros as starting parameters.\n",
      "  warn('Non-stationary starting autoregressive parameters'\n",
      "/opt/miniconda3/envs/snowflakes/lib/python3.10/site-packages/statsmodels/base/model.py:604: ConvergenceWarning: Maximum Likelihood optimization failed to converge. Check mle_retvals\n",
      "  warnings.warn(\"Maximum Likelihood optimization failed to \"\n"
     ]
    },
    {
     "name": "stdout",
     "output_type": "stream",
     "text": [
      "ETS\n",
      "Naive Benchmarks\n",
      "Split 3\n",
      "Get Paramters from Auto ARIMA\n",
      "SARIMA\n",
      "SARIMAX\n"
     ]
    },
    {
     "name": "stderr",
     "output_type": "stream",
     "text": [
      "/opt/miniconda3/envs/snowflakes/lib/python3.10/site-packages/statsmodels/tsa/statespace/sarimax.py:966: UserWarning: Non-stationary starting autoregressive parameters found. Using zeros as starting parameters.\n",
      "  warn('Non-stationary starting autoregressive parameters'\n",
      "/opt/miniconda3/envs/snowflakes/lib/python3.10/site-packages/statsmodels/base/model.py:604: ConvergenceWarning: Maximum Likelihood optimization failed to converge. Check mle_retvals\n",
      "  warnings.warn(\"Maximum Likelihood optimization failed to \"\n"
     ]
    },
    {
     "name": "stdout",
     "output_type": "stream",
     "text": [
      "ETS\n",
      "Naive Benchmarks\n",
      "Split 4\n",
      "Get Paramters from Auto ARIMA\n",
      "SARIMA\n"
     ]
    },
    {
     "name": "stderr",
     "output_type": "stream",
     "text": [
      "/opt/miniconda3/envs/snowflakes/lib/python3.10/site-packages/statsmodels/tsa/statespace/sarimax.py:966: UserWarning: Non-stationary starting autoregressive parameters found. Using zeros as starting parameters.\n",
      "  warn('Non-stationary starting autoregressive parameters'\n"
     ]
    },
    {
     "name": "stdout",
     "output_type": "stream",
     "text": [
      "SARIMAX\n"
     ]
    },
    {
     "name": "stderr",
     "output_type": "stream",
     "text": [
      "/opt/miniconda3/envs/snowflakes/lib/python3.10/site-packages/statsmodels/base/model.py:604: ConvergenceWarning: Maximum Likelihood optimization failed to converge. Check mle_retvals\n",
      "  warnings.warn(\"Maximum Likelihood optimization failed to \"\n"
     ]
    },
    {
     "name": "stdout",
     "output_type": "stream",
     "text": [
      "ETS\n",
      "Naive Benchmarks\n",
      "Split 5\n",
      "Get Paramters from Auto ARIMA\n",
      "SARIMA\n",
      "SARIMAX\n"
     ]
    },
    {
     "name": "stderr",
     "output_type": "stream",
     "text": [
      "/opt/miniconda3/envs/snowflakes/lib/python3.10/site-packages/statsmodels/tsa/statespace/sarimax.py:966: UserWarning: Non-stationary starting autoregressive parameters found. Using zeros as starting parameters.\n",
      "  warn('Non-stationary starting autoregressive parameters'\n",
      "/opt/miniconda3/envs/snowflakes/lib/python3.10/site-packages/statsmodels/base/model.py:604: ConvergenceWarning: Maximum Likelihood optimization failed to converge. Check mle_retvals\n",
      "  warnings.warn(\"Maximum Likelihood optimization failed to \"\n"
     ]
    },
    {
     "name": "stdout",
     "output_type": "stream",
     "text": [
      "ETS\n",
      "Naive Benchmarks\n",
      "start forecast\n",
      "Get Paramters from Auto ARIMA\n",
      "auto_arima Parameters: (0, 1, 1)\n",
      "auto_arima Seasonal Parameters: (1, 0, 0, 7)\n",
      "SARIMA\n",
      "SARIMAX\n"
     ]
    },
    {
     "name": "stderr",
     "output_type": "stream",
     "text": [
      "/opt/miniconda3/envs/snowflakes/lib/python3.10/site-packages/statsmodels/base/model.py:604: ConvergenceWarning: Maximum Likelihood optimization failed to converge. Check mle_retvals\n",
      "  warnings.warn(\"Maximum Likelihood optimization failed to \"\n"
     ]
    },
    {
     "name": "stdout",
     "output_type": "stream",
     "text": [
      "ETS\n",
      "NAIVE Benchmarks\n",
      "34\n",
      "Set up data\n",
      "start backtest\n",
      "Split 1\n",
      "Get Paramters from Auto ARIMA\n",
      "SARIMA\n",
      "SARIMAX\n"
     ]
    },
    {
     "name": "stderr",
     "output_type": "stream",
     "text": [
      "/opt/miniconda3/envs/snowflakes/lib/python3.10/site-packages/statsmodels/base/model.py:604: ConvergenceWarning: Maximum Likelihood optimization failed to converge. Check mle_retvals\n",
      "  warnings.warn(\"Maximum Likelihood optimization failed to \"\n"
     ]
    },
    {
     "name": "stdout",
     "output_type": "stream",
     "text": [
      "ETS\n",
      "Naive Benchmarks\n",
      "Split 2\n",
      "Get Paramters from Auto ARIMA\n",
      "SARIMA\n",
      "SARIMAX\n"
     ]
    },
    {
     "name": "stderr",
     "output_type": "stream",
     "text": [
      "/opt/miniconda3/envs/snowflakes/lib/python3.10/site-packages/statsmodels/base/model.py:604: ConvergenceWarning: Maximum Likelihood optimization failed to converge. Check mle_retvals\n",
      "  warnings.warn(\"Maximum Likelihood optimization failed to \"\n"
     ]
    },
    {
     "name": "stdout",
     "output_type": "stream",
     "text": [
      "ETS\n",
      "Naive Benchmarks\n",
      "Split 3\n",
      "Get Paramters from Auto ARIMA\n",
      "SARIMA\n",
      "SARIMAX\n"
     ]
    },
    {
     "name": "stderr",
     "output_type": "stream",
     "text": [
      "/opt/miniconda3/envs/snowflakes/lib/python3.10/site-packages/statsmodels/base/model.py:604: ConvergenceWarning: Maximum Likelihood optimization failed to converge. Check mle_retvals\n",
      "  warnings.warn(\"Maximum Likelihood optimization failed to \"\n"
     ]
    },
    {
     "name": "stdout",
     "output_type": "stream",
     "text": [
      "ETS\n",
      "Naive Benchmarks\n",
      "Split 4\n",
      "Get Paramters from Auto ARIMA\n",
      "SARIMA\n",
      "SARIMAX\n"
     ]
    },
    {
     "name": "stderr",
     "output_type": "stream",
     "text": [
      "/opt/miniconda3/envs/snowflakes/lib/python3.10/site-packages/statsmodels/tsa/statespace/sarimax.py:966: UserWarning: Non-stationary starting autoregressive parameters found. Using zeros as starting parameters.\n",
      "  warn('Non-stationary starting autoregressive parameters'\n",
      "/opt/miniconda3/envs/snowflakes/lib/python3.10/site-packages/statsmodels/tsa/statespace/sarimax.py:966: UserWarning: Non-stationary starting autoregressive parameters found. Using zeros as starting parameters.\n",
      "  warn('Non-stationary starting autoregressive parameters'\n",
      "/opt/miniconda3/envs/snowflakes/lib/python3.10/site-packages/statsmodels/tsa/statespace/sarimax.py:978: UserWarning: Non-invertible starting MA parameters found. Using zeros as starting parameters.\n",
      "  warn('Non-invertible starting MA parameters found.'\n",
      "/opt/miniconda3/envs/snowflakes/lib/python3.10/site-packages/statsmodels/base/model.py:604: ConvergenceWarning: Maximum Likelihood optimization failed to converge. Check mle_retvals\n",
      "  warnings.warn(\"Maximum Likelihood optimization failed to \"\n"
     ]
    },
    {
     "name": "stdout",
     "output_type": "stream",
     "text": [
      "ETS\n",
      "Naive Benchmarks\n",
      "Split 5\n",
      "Get Paramters from Auto ARIMA\n",
      "SARIMA\n",
      "SARIMAX\n"
     ]
    },
    {
     "name": "stderr",
     "output_type": "stream",
     "text": [
      "/opt/miniconda3/envs/snowflakes/lib/python3.10/site-packages/statsmodels/tsa/statespace/sarimax.py:966: UserWarning: Non-stationary starting autoregressive parameters found. Using zeros as starting parameters.\n",
      "  warn('Non-stationary starting autoregressive parameters'\n",
      "/opt/miniconda3/envs/snowflakes/lib/python3.10/site-packages/statsmodels/base/model.py:604: ConvergenceWarning: Maximum Likelihood optimization failed to converge. Check mle_retvals\n",
      "  warnings.warn(\"Maximum Likelihood optimization failed to \"\n"
     ]
    },
    {
     "name": "stdout",
     "output_type": "stream",
     "text": [
      "ETS\n",
      "Naive Benchmarks\n",
      "start forecast\n",
      "Get Paramters from Auto ARIMA\n",
      "auto_arima Parameters: (2, 0, 2)\n",
      "auto_arima Seasonal Parameters: (0, 0, 0, 7)\n",
      "SARIMA\n",
      "SARIMAX\n"
     ]
    },
    {
     "name": "stderr",
     "output_type": "stream",
     "text": [
      "/opt/miniconda3/envs/snowflakes/lib/python3.10/site-packages/statsmodels/tsa/statespace/sarimax.py:966: UserWarning: Non-stationary starting autoregressive parameters found. Using zeros as starting parameters.\n",
      "  warn('Non-stationary starting autoregressive parameters'\n",
      "/opt/miniconda3/envs/snowflakes/lib/python3.10/site-packages/statsmodels/base/model.py:604: ConvergenceWarning: Maximum Likelihood optimization failed to converge. Check mle_retvals\n",
      "  warnings.warn(\"Maximum Likelihood optimization failed to \"\n"
     ]
    },
    {
     "name": "stdout",
     "output_type": "stream",
     "text": [
      "ETS\n",
      "NAIVE Benchmarks\n",
      "30\n",
      "Set up data\n",
      "start backtest\n",
      "Split 1\n",
      "Get Paramters from Auto ARIMA\n",
      "SARIMA\n"
     ]
    },
    {
     "name": "stderr",
     "output_type": "stream",
     "text": [
      "/opt/miniconda3/envs/snowflakes/lib/python3.10/site-packages/statsmodels/tsa/statespace/sarimax.py:966: UserWarning: Non-stationary starting autoregressive parameters found. Using zeros as starting parameters.\n",
      "  warn('Non-stationary starting autoregressive parameters'\n",
      "/opt/miniconda3/envs/snowflakes/lib/python3.10/site-packages/statsmodels/tsa/statespace/sarimax.py:978: UserWarning: Non-invertible starting MA parameters found. Using zeros as starting parameters.\n",
      "  warn('Non-invertible starting MA parameters found.'\n"
     ]
    },
    {
     "name": "stdout",
     "output_type": "stream",
     "text": [
      "SARIMAX\n"
     ]
    },
    {
     "name": "stderr",
     "output_type": "stream",
     "text": [
      "/opt/miniconda3/envs/snowflakes/lib/python3.10/site-packages/statsmodels/tsa/statespace/sarimax.py:966: UserWarning: Non-stationary starting autoregressive parameters found. Using zeros as starting parameters.\n",
      "  warn('Non-stationary starting autoregressive parameters'\n",
      "/opt/miniconda3/envs/snowflakes/lib/python3.10/site-packages/statsmodels/tsa/statespace/sarimax.py:978: UserWarning: Non-invertible starting MA parameters found. Using zeros as starting parameters.\n",
      "  warn('Non-invertible starting MA parameters found.'\n",
      "/opt/miniconda3/envs/snowflakes/lib/python3.10/site-packages/statsmodels/base/model.py:604: ConvergenceWarning: Maximum Likelihood optimization failed to converge. Check mle_retvals\n",
      "  warnings.warn(\"Maximum Likelihood optimization failed to \"\n"
     ]
    },
    {
     "name": "stdout",
     "output_type": "stream",
     "text": [
      "ETS\n",
      "Naive Benchmarks\n",
      "Split 2\n",
      "Get Paramters from Auto ARIMA\n",
      "SARIMA\n"
     ]
    },
    {
     "name": "stderr",
     "output_type": "stream",
     "text": [
      "/opt/miniconda3/envs/snowflakes/lib/python3.10/site-packages/statsmodels/tsa/statespace/sarimax.py:966: UserWarning: Non-stationary starting autoregressive parameters found. Using zeros as starting parameters.\n",
      "  warn('Non-stationary starting autoregressive parameters'\n",
      "/opt/miniconda3/envs/snowflakes/lib/python3.10/site-packages/statsmodels/tsa/statespace/sarimax.py:978: UserWarning: Non-invertible starting MA parameters found. Using zeros as starting parameters.\n",
      "  warn('Non-invertible starting MA parameters found.'\n"
     ]
    },
    {
     "name": "stdout",
     "output_type": "stream",
     "text": [
      "SARIMAX\n"
     ]
    },
    {
     "name": "stderr",
     "output_type": "stream",
     "text": [
      "/opt/miniconda3/envs/snowflakes/lib/python3.10/site-packages/statsmodels/tsa/statespace/sarimax.py:966: UserWarning: Non-stationary starting autoregressive parameters found. Using zeros as starting parameters.\n",
      "  warn('Non-stationary starting autoregressive parameters'\n",
      "/opt/miniconda3/envs/snowflakes/lib/python3.10/site-packages/statsmodels/tsa/statespace/sarimax.py:978: UserWarning: Non-invertible starting MA parameters found. Using zeros as starting parameters.\n",
      "  warn('Non-invertible starting MA parameters found.'\n",
      "/opt/miniconda3/envs/snowflakes/lib/python3.10/site-packages/statsmodels/base/model.py:604: ConvergenceWarning: Maximum Likelihood optimization failed to converge. Check mle_retvals\n",
      "  warnings.warn(\"Maximum Likelihood optimization failed to \"\n"
     ]
    },
    {
     "name": "stdout",
     "output_type": "stream",
     "text": [
      "ETS\n",
      "Naive Benchmarks\n",
      "Split 3\n",
      "Get Paramters from Auto ARIMA\n",
      "SARIMA\n",
      "SARIMAX\n"
     ]
    },
    {
     "name": "stderr",
     "output_type": "stream",
     "text": [
      "/opt/miniconda3/envs/snowflakes/lib/python3.10/site-packages/statsmodels/base/model.py:604: ConvergenceWarning: Maximum Likelihood optimization failed to converge. Check mle_retvals\n",
      "  warnings.warn(\"Maximum Likelihood optimization failed to \"\n"
     ]
    },
    {
     "name": "stdout",
     "output_type": "stream",
     "text": [
      "ETS\n",
      "Naive Benchmarks\n",
      "Split 4\n",
      "Get Paramters from Auto ARIMA\n",
      "SARIMA\n",
      "SARIMAX\n"
     ]
    },
    {
     "name": "stderr",
     "output_type": "stream",
     "text": [
      "/opt/miniconda3/envs/snowflakes/lib/python3.10/site-packages/statsmodels/base/model.py:604: ConvergenceWarning: Maximum Likelihood optimization failed to converge. Check mle_retvals\n",
      "  warnings.warn(\"Maximum Likelihood optimization failed to \"\n"
     ]
    },
    {
     "name": "stdout",
     "output_type": "stream",
     "text": [
      "ETS\n",
      "Naive Benchmarks\n",
      "Split 5\n",
      "Get Paramters from Auto ARIMA\n",
      "SARIMA\n",
      "SARIMAX\n"
     ]
    },
    {
     "name": "stderr",
     "output_type": "stream",
     "text": [
      "/opt/miniconda3/envs/snowflakes/lib/python3.10/site-packages/statsmodels/base/model.py:604: ConvergenceWarning: Maximum Likelihood optimization failed to converge. Check mle_retvals\n",
      "  warnings.warn(\"Maximum Likelihood optimization failed to \"\n"
     ]
    },
    {
     "name": "stdout",
     "output_type": "stream",
     "text": [
      "ETS\n",
      "Naive Benchmarks\n",
      "start forecast\n",
      "Get Paramters from Auto ARIMA\n",
      "auto_arima Parameters: (0, 1, 4)\n",
      "auto_arima Seasonal Parameters: (0, 0, 0, 7)\n",
      "SARIMA\n",
      "SARIMAX\n"
     ]
    },
    {
     "name": "stderr",
     "output_type": "stream",
     "text": [
      "/opt/miniconda3/envs/snowflakes/lib/python3.10/site-packages/statsmodels/base/model.py:604: ConvergenceWarning: Maximum Likelihood optimization failed to converge. Check mle_retvals\n",
      "  warnings.warn(\"Maximum Likelihood optimization failed to \"\n"
     ]
    },
    {
     "name": "stdout",
     "output_type": "stream",
     "text": [
      "ETS\n",
      "NAIVE Benchmarks\n",
      "18\n",
      "Set up data\n",
      "start backtest\n",
      "Split 1\n",
      "Get Paramters from Auto ARIMA\n",
      "SARIMA\n",
      "SARIMAX\n"
     ]
    },
    {
     "name": "stderr",
     "output_type": "stream",
     "text": [
      "/opt/miniconda3/envs/snowflakes/lib/python3.10/site-packages/statsmodels/base/model.py:604: ConvergenceWarning: Maximum Likelihood optimization failed to converge. Check mle_retvals\n",
      "  warnings.warn(\"Maximum Likelihood optimization failed to \"\n"
     ]
    },
    {
     "name": "stdout",
     "output_type": "stream",
     "text": [
      "ETS\n",
      "Naive Benchmarks\n",
      "Split 2\n",
      "Get Paramters from Auto ARIMA\n",
      "SARIMA\n",
      "SARIMAX\n"
     ]
    },
    {
     "name": "stderr",
     "output_type": "stream",
     "text": [
      "/opt/miniconda3/envs/snowflakes/lib/python3.10/site-packages/statsmodels/base/model.py:604: ConvergenceWarning: Maximum Likelihood optimization failed to converge. Check mle_retvals\n",
      "  warnings.warn(\"Maximum Likelihood optimization failed to \"\n"
     ]
    },
    {
     "name": "stdout",
     "output_type": "stream",
     "text": [
      "ETS\n",
      "Naive Benchmarks\n",
      "Split 3\n",
      "Get Paramters from Auto ARIMA\n",
      "SARIMA\n",
      "SARIMAX\n"
     ]
    },
    {
     "name": "stderr",
     "output_type": "stream",
     "text": [
      "/opt/miniconda3/envs/snowflakes/lib/python3.10/site-packages/statsmodels/base/model.py:604: ConvergenceWarning: Maximum Likelihood optimization failed to converge. Check mle_retvals\n",
      "  warnings.warn(\"Maximum Likelihood optimization failed to \"\n"
     ]
    },
    {
     "name": "stdout",
     "output_type": "stream",
     "text": [
      "ETS\n",
      "Naive Benchmarks\n",
      "Split 4\n",
      "Get Paramters from Auto ARIMA\n",
      "SARIMA\n",
      "SARIMAX\n"
     ]
    },
    {
     "name": "stderr",
     "output_type": "stream",
     "text": [
      "/opt/miniconda3/envs/snowflakes/lib/python3.10/site-packages/statsmodels/base/model.py:604: ConvergenceWarning: Maximum Likelihood optimization failed to converge. Check mle_retvals\n",
      "  warnings.warn(\"Maximum Likelihood optimization failed to \"\n"
     ]
    },
    {
     "name": "stdout",
     "output_type": "stream",
     "text": [
      "ETS\n",
      "Naive Benchmarks\n",
      "Split 5\n",
      "Get Paramters from Auto ARIMA\n",
      "SARIMA\n",
      "SARIMAX\n"
     ]
    },
    {
     "name": "stderr",
     "output_type": "stream",
     "text": [
      "/opt/miniconda3/envs/snowflakes/lib/python3.10/site-packages/statsmodels/base/model.py:604: ConvergenceWarning: Maximum Likelihood optimization failed to converge. Check mle_retvals\n",
      "  warnings.warn(\"Maximum Likelihood optimization failed to \"\n"
     ]
    },
    {
     "name": "stdout",
     "output_type": "stream",
     "text": [
      "ETS\n",
      "Naive Benchmarks\n",
      "start forecast\n",
      "Get Paramters from Auto ARIMA\n",
      "auto_arima Parameters: (1, 1, 2)\n",
      "auto_arima Seasonal Parameters: (1, 0, 1, 7)\n",
      "SARIMA\n",
      "SARIMAX\n"
     ]
    },
    {
     "name": "stderr",
     "output_type": "stream",
     "text": [
      "/opt/miniconda3/envs/snowflakes/lib/python3.10/site-packages/statsmodels/tsa/statespace/sarimax.py:978: UserWarning: Non-invertible starting MA parameters found. Using zeros as starting parameters.\n",
      "  warn('Non-invertible starting MA parameters found.'\n",
      "/opt/miniconda3/envs/snowflakes/lib/python3.10/site-packages/statsmodels/base/model.py:604: ConvergenceWarning: Maximum Likelihood optimization failed to converge. Check mle_retvals\n",
      "  warnings.warn(\"Maximum Likelihood optimization failed to \"\n"
     ]
    },
    {
     "name": "stdout",
     "output_type": "stream",
     "text": [
      "ETS\n",
      "NAIVE Benchmarks\n",
      "54\n",
      "Set up data\n",
      "start backtest\n",
      "Split 1\n",
      "Get Paramters from Auto ARIMA\n",
      "SARIMA\n"
     ]
    },
    {
     "name": "stderr",
     "output_type": "stream",
     "text": [
      "/opt/miniconda3/envs/snowflakes/lib/python3.10/site-packages/statsmodels/base/model.py:604: ConvergenceWarning: Maximum Likelihood optimization failed to converge. Check mle_retvals\n",
      "  warnings.warn(\"Maximum Likelihood optimization failed to \"\n"
     ]
    },
    {
     "name": "stdout",
     "output_type": "stream",
     "text": [
      "SARIMAX\n"
     ]
    },
    {
     "name": "stderr",
     "output_type": "stream",
     "text": [
      "/opt/miniconda3/envs/snowflakes/lib/python3.10/site-packages/statsmodels/base/model.py:604: ConvergenceWarning: Maximum Likelihood optimization failed to converge. Check mle_retvals\n",
      "  warnings.warn(\"Maximum Likelihood optimization failed to \"\n"
     ]
    },
    {
     "name": "stdout",
     "output_type": "stream",
     "text": [
      "ETS\n",
      "Naive Benchmarks\n",
      "Split 2\n",
      "Get Paramters from Auto ARIMA\n",
      "SARIMA\n"
     ]
    },
    {
     "name": "stderr",
     "output_type": "stream",
     "text": [
      "/opt/miniconda3/envs/snowflakes/lib/python3.10/site-packages/statsmodels/base/model.py:604: ConvergenceWarning: Maximum Likelihood optimization failed to converge. Check mle_retvals\n",
      "  warnings.warn(\"Maximum Likelihood optimization failed to \"\n"
     ]
    },
    {
     "name": "stdout",
     "output_type": "stream",
     "text": [
      "SARIMAX\n"
     ]
    },
    {
     "name": "stderr",
     "output_type": "stream",
     "text": [
      "/opt/miniconda3/envs/snowflakes/lib/python3.10/site-packages/statsmodels/base/model.py:604: ConvergenceWarning: Maximum Likelihood optimization failed to converge. Check mle_retvals\n",
      "  warnings.warn(\"Maximum Likelihood optimization failed to \"\n"
     ]
    },
    {
     "name": "stdout",
     "output_type": "stream",
     "text": [
      "ETS\n",
      "Naive Benchmarks\n",
      "Split 3\n",
      "Get Paramters from Auto ARIMA\n",
      "SARIMA\n"
     ]
    },
    {
     "name": "stderr",
     "output_type": "stream",
     "text": [
      "/opt/miniconda3/envs/snowflakes/lib/python3.10/site-packages/statsmodels/base/model.py:604: ConvergenceWarning: Maximum Likelihood optimization failed to converge. Check mle_retvals\n",
      "  warnings.warn(\"Maximum Likelihood optimization failed to \"\n"
     ]
    },
    {
     "name": "stdout",
     "output_type": "stream",
     "text": [
      "SARIMAX\n"
     ]
    },
    {
     "name": "stderr",
     "output_type": "stream",
     "text": [
      "/opt/miniconda3/envs/snowflakes/lib/python3.10/site-packages/statsmodels/base/model.py:604: ConvergenceWarning: Maximum Likelihood optimization failed to converge. Check mle_retvals\n",
      "  warnings.warn(\"Maximum Likelihood optimization failed to \"\n"
     ]
    },
    {
     "name": "stdout",
     "output_type": "stream",
     "text": [
      "ETS\n",
      "Naive Benchmarks\n",
      "Split 4\n",
      "Get Paramters from Auto ARIMA\n",
      "SARIMA\n",
      "SARIMAX\n"
     ]
    },
    {
     "name": "stderr",
     "output_type": "stream",
     "text": [
      "/opt/miniconda3/envs/snowflakes/lib/python3.10/site-packages/statsmodels/base/model.py:604: ConvergenceWarning: Maximum Likelihood optimization failed to converge. Check mle_retvals\n",
      "  warnings.warn(\"Maximum Likelihood optimization failed to \"\n"
     ]
    },
    {
     "name": "stdout",
     "output_type": "stream",
     "text": [
      "ETS\n",
      "Naive Benchmarks\n",
      "Split 5\n",
      "Get Paramters from Auto ARIMA\n",
      "SARIMA\n"
     ]
    },
    {
     "name": "stderr",
     "output_type": "stream",
     "text": [
      "/opt/miniconda3/envs/snowflakes/lib/python3.10/site-packages/statsmodels/base/model.py:604: ConvergenceWarning: Maximum Likelihood optimization failed to converge. Check mle_retvals\n",
      "  warnings.warn(\"Maximum Likelihood optimization failed to \"\n"
     ]
    },
    {
     "name": "stdout",
     "output_type": "stream",
     "text": [
      "SARIMAX\n"
     ]
    },
    {
     "name": "stderr",
     "output_type": "stream",
     "text": [
      "/opt/miniconda3/envs/snowflakes/lib/python3.10/site-packages/statsmodels/base/model.py:604: ConvergenceWarning: Maximum Likelihood optimization failed to converge. Check mle_retvals\n",
      "  warnings.warn(\"Maximum Likelihood optimization failed to \"\n"
     ]
    },
    {
     "name": "stdout",
     "output_type": "stream",
     "text": [
      "ETS\n",
      "Naive Benchmarks\n",
      "start forecast\n",
      "Get Paramters from Auto ARIMA\n",
      "auto_arima Parameters: (2, 1, 3)\n",
      "auto_arima Seasonal Parameters: (0, 0, 0, 7)\n",
      "SARIMA\n"
     ]
    },
    {
     "name": "stderr",
     "output_type": "stream",
     "text": [
      "/opt/miniconda3/envs/snowflakes/lib/python3.10/site-packages/statsmodels/base/model.py:604: ConvergenceWarning: Maximum Likelihood optimization failed to converge. Check mle_retvals\n",
      "  warnings.warn(\"Maximum Likelihood optimization failed to \"\n"
     ]
    },
    {
     "name": "stdout",
     "output_type": "stream",
     "text": [
      "SARIMAX\n"
     ]
    },
    {
     "name": "stderr",
     "output_type": "stream",
     "text": [
      "/opt/miniconda3/envs/snowflakes/lib/python3.10/site-packages/statsmodels/base/model.py:604: ConvergenceWarning: Maximum Likelihood optimization failed to converge. Check mle_retvals\n",
      "  warnings.warn(\"Maximum Likelihood optimization failed to \"\n"
     ]
    },
    {
     "name": "stdout",
     "output_type": "stream",
     "text": [
      "ETS\n",
      "NAIVE Benchmarks\n",
      "73\n",
      "Set up data\n",
      "start backtest\n",
      "Split 1\n",
      "Get Paramters from Auto ARIMA\n",
      "SARIMA\n",
      "SARIMAX\n"
     ]
    },
    {
     "name": "stderr",
     "output_type": "stream",
     "text": [
      "/opt/miniconda3/envs/snowflakes/lib/python3.10/site-packages/statsmodels/base/model.py:604: ConvergenceWarning: Maximum Likelihood optimization failed to converge. Check mle_retvals\n",
      "  warnings.warn(\"Maximum Likelihood optimization failed to \"\n"
     ]
    },
    {
     "name": "stdout",
     "output_type": "stream",
     "text": [
      "ETS\n",
      "Naive Benchmarks\n",
      "Split 2\n",
      "Get Paramters from Auto ARIMA\n",
      "SARIMA\n",
      "SARIMAX\n"
     ]
    },
    {
     "name": "stderr",
     "output_type": "stream",
     "text": [
      "/opt/miniconda3/envs/snowflakes/lib/python3.10/site-packages/statsmodels/base/model.py:604: ConvergenceWarning: Maximum Likelihood optimization failed to converge. Check mle_retvals\n",
      "  warnings.warn(\"Maximum Likelihood optimization failed to \"\n"
     ]
    },
    {
     "name": "stdout",
     "output_type": "stream",
     "text": [
      "ETS\n",
      "Naive Benchmarks\n",
      "Split 3\n",
      "Get Paramters from Auto ARIMA\n",
      "SARIMA\n",
      "SARIMAX\n"
     ]
    },
    {
     "name": "stderr",
     "output_type": "stream",
     "text": [
      "/opt/miniconda3/envs/snowflakes/lib/python3.10/site-packages/statsmodels/base/model.py:604: ConvergenceWarning: Maximum Likelihood optimization failed to converge. Check mle_retvals\n",
      "  warnings.warn(\"Maximum Likelihood optimization failed to \"\n"
     ]
    },
    {
     "name": "stdout",
     "output_type": "stream",
     "text": [
      "ETS\n",
      "Naive Benchmarks\n",
      "Split 4\n",
      "Get Paramters from Auto ARIMA\n",
      "SARIMA\n",
      "SARIMAX\n"
     ]
    },
    {
     "name": "stderr",
     "output_type": "stream",
     "text": [
      "/opt/miniconda3/envs/snowflakes/lib/python3.10/site-packages/statsmodels/base/model.py:604: ConvergenceWarning: Maximum Likelihood optimization failed to converge. Check mle_retvals\n",
      "  warnings.warn(\"Maximum Likelihood optimization failed to \"\n"
     ]
    },
    {
     "name": "stdout",
     "output_type": "stream",
     "text": [
      "ETS\n",
      "Naive Benchmarks\n",
      "Split 5\n",
      "Get Paramters from Auto ARIMA\n",
      "SARIMA\n",
      "SARIMAX\n"
     ]
    },
    {
     "name": "stderr",
     "output_type": "stream",
     "text": [
      "/opt/miniconda3/envs/snowflakes/lib/python3.10/site-packages/statsmodels/base/model.py:604: ConvergenceWarning: Maximum Likelihood optimization failed to converge. Check mle_retvals\n",
      "  warnings.warn(\"Maximum Likelihood optimization failed to \"\n"
     ]
    },
    {
     "name": "stdout",
     "output_type": "stream",
     "text": [
      "ETS\n",
      "Naive Benchmarks\n",
      "start forecast\n",
      "Get Paramters from Auto ARIMA\n",
      "auto_arima Parameters: (1, 1, 2)\n",
      "auto_arima Seasonal Parameters: (1, 0, 1, 7)\n",
      "SARIMA\n",
      "SARIMAX\n"
     ]
    },
    {
     "name": "stderr",
     "output_type": "stream",
     "text": [
      "/opt/miniconda3/envs/snowflakes/lib/python3.10/site-packages/statsmodels/base/model.py:604: ConvergenceWarning: Maximum Likelihood optimization failed to converge. Check mle_retvals\n",
      "  warnings.warn(\"Maximum Likelihood optimization failed to \"\n"
     ]
    },
    {
     "name": "stdout",
     "output_type": "stream",
     "text": [
      "ETS\n",
      "NAIVE Benchmarks\n",
      "95\n",
      "Set up data\n",
      "start backtest\n",
      "Split 1\n",
      "Get Paramters from Auto ARIMA\n",
      "SARIMA\n"
     ]
    },
    {
     "name": "stderr",
     "output_type": "stream",
     "text": [
      "/opt/miniconda3/envs/snowflakes/lib/python3.10/site-packages/statsmodels/tsa/statespace/sarimax.py:966: UserWarning: Non-stationary starting autoregressive parameters found. Using zeros as starting parameters.\n",
      "  warn('Non-stationary starting autoregressive parameters'\n",
      "/opt/miniconda3/envs/snowflakes/lib/python3.10/site-packages/statsmodels/tsa/statespace/sarimax.py:978: UserWarning: Non-invertible starting MA parameters found. Using zeros as starting parameters.\n",
      "  warn('Non-invertible starting MA parameters found.'\n"
     ]
    },
    {
     "name": "stdout",
     "output_type": "stream",
     "text": [
      "SARIMAX\n"
     ]
    },
    {
     "name": "stderr",
     "output_type": "stream",
     "text": [
      "/opt/miniconda3/envs/snowflakes/lib/python3.10/site-packages/statsmodels/tsa/statespace/sarimax.py:966: UserWarning: Non-stationary starting autoregressive parameters found. Using zeros as starting parameters.\n",
      "  warn('Non-stationary starting autoregressive parameters'\n",
      "/opt/miniconda3/envs/snowflakes/lib/python3.10/site-packages/statsmodels/tsa/statespace/sarimax.py:978: UserWarning: Non-invertible starting MA parameters found. Using zeros as starting parameters.\n",
      "  warn('Non-invertible starting MA parameters found.'\n",
      "/opt/miniconda3/envs/snowflakes/lib/python3.10/site-packages/statsmodels/base/model.py:604: ConvergenceWarning: Maximum Likelihood optimization failed to converge. Check mle_retvals\n",
      "  warnings.warn(\"Maximum Likelihood optimization failed to \"\n"
     ]
    },
    {
     "name": "stdout",
     "output_type": "stream",
     "text": [
      "ETS\n",
      "Naive Benchmarks\n",
      "Split 2\n",
      "Get Paramters from Auto ARIMA\n",
      "SARIMA\n"
     ]
    },
    {
     "name": "stderr",
     "output_type": "stream",
     "text": [
      "/opt/miniconda3/envs/snowflakes/lib/python3.10/site-packages/statsmodels/tsa/statespace/sarimax.py:966: UserWarning: Non-stationary starting autoregressive parameters found. Using zeros as starting parameters.\n",
      "  warn('Non-stationary starting autoregressive parameters'\n",
      "/opt/miniconda3/envs/snowflakes/lib/python3.10/site-packages/statsmodels/tsa/statespace/sarimax.py:978: UserWarning: Non-invertible starting MA parameters found. Using zeros as starting parameters.\n",
      "  warn('Non-invertible starting MA parameters found.'\n"
     ]
    },
    {
     "name": "stdout",
     "output_type": "stream",
     "text": [
      "SARIMAX\n"
     ]
    },
    {
     "name": "stderr",
     "output_type": "stream",
     "text": [
      "/opt/miniconda3/envs/snowflakes/lib/python3.10/site-packages/statsmodels/tsa/statespace/sarimax.py:978: UserWarning: Non-invertible starting MA parameters found. Using zeros as starting parameters.\n",
      "  warn('Non-invertible starting MA parameters found.'\n",
      "/opt/miniconda3/envs/snowflakes/lib/python3.10/site-packages/statsmodels/base/model.py:604: ConvergenceWarning: Maximum Likelihood optimization failed to converge. Check mle_retvals\n",
      "  warnings.warn(\"Maximum Likelihood optimization failed to \"\n"
     ]
    },
    {
     "name": "stdout",
     "output_type": "stream",
     "text": [
      "ETS\n",
      "Naive Benchmarks\n",
      "Split 3\n",
      "Get Paramters from Auto ARIMA\n",
      "SARIMA\n"
     ]
    },
    {
     "name": "stderr",
     "output_type": "stream",
     "text": [
      "/opt/miniconda3/envs/snowflakes/lib/python3.10/site-packages/statsmodels/tsa/statespace/sarimax.py:966: UserWarning: Non-stationary starting autoregressive parameters found. Using zeros as starting parameters.\n",
      "  warn('Non-stationary starting autoregressive parameters'\n",
      "/opt/miniconda3/envs/snowflakes/lib/python3.10/site-packages/statsmodels/tsa/statespace/sarimax.py:978: UserWarning: Non-invertible starting MA parameters found. Using zeros as starting parameters.\n",
      "  warn('Non-invertible starting MA parameters found.'\n"
     ]
    },
    {
     "name": "stdout",
     "output_type": "stream",
     "text": [
      "SARIMAX\n"
     ]
    },
    {
     "name": "stderr",
     "output_type": "stream",
     "text": [
      "/opt/miniconda3/envs/snowflakes/lib/python3.10/site-packages/statsmodels/tsa/statespace/sarimax.py:966: UserWarning: Non-stationary starting autoregressive parameters found. Using zeros as starting parameters.\n",
      "  warn('Non-stationary starting autoregressive parameters'\n",
      "/opt/miniconda3/envs/snowflakes/lib/python3.10/site-packages/statsmodels/tsa/statespace/sarimax.py:978: UserWarning: Non-invertible starting MA parameters found. Using zeros as starting parameters.\n",
      "  warn('Non-invertible starting MA parameters found.'\n",
      "/opt/miniconda3/envs/snowflakes/lib/python3.10/site-packages/statsmodels/base/model.py:604: ConvergenceWarning: Maximum Likelihood optimization failed to converge. Check mle_retvals\n",
      "  warnings.warn(\"Maximum Likelihood optimization failed to \"\n"
     ]
    },
    {
     "name": "stdout",
     "output_type": "stream",
     "text": [
      "ETS\n",
      "Naive Benchmarks\n",
      "Split 4\n",
      "Get Paramters from Auto ARIMA\n",
      "SARIMA\n"
     ]
    },
    {
     "name": "stderr",
     "output_type": "stream",
     "text": [
      "/opt/miniconda3/envs/snowflakes/lib/python3.10/site-packages/statsmodels/tsa/statespace/sarimax.py:966: UserWarning: Non-stationary starting autoregressive parameters found. Using zeros as starting parameters.\n",
      "  warn('Non-stationary starting autoregressive parameters'\n",
      "/opt/miniconda3/envs/snowflakes/lib/python3.10/site-packages/statsmodels/tsa/statespace/sarimax.py:978: UserWarning: Non-invertible starting MA parameters found. Using zeros as starting parameters.\n",
      "  warn('Non-invertible starting MA parameters found.'\n"
     ]
    },
    {
     "name": "stdout",
     "output_type": "stream",
     "text": [
      "SARIMAX\n"
     ]
    },
    {
     "name": "stderr",
     "output_type": "stream",
     "text": [
      "/opt/miniconda3/envs/snowflakes/lib/python3.10/site-packages/statsmodels/tsa/statespace/sarimax.py:966: UserWarning: Non-stationary starting autoregressive parameters found. Using zeros as starting parameters.\n",
      "  warn('Non-stationary starting autoregressive parameters'\n",
      "/opt/miniconda3/envs/snowflakes/lib/python3.10/site-packages/statsmodels/tsa/statespace/sarimax.py:978: UserWarning: Non-invertible starting MA parameters found. Using zeros as starting parameters.\n",
      "  warn('Non-invertible starting MA parameters found.'\n",
      "/opt/miniconda3/envs/snowflakes/lib/python3.10/site-packages/statsmodels/base/model.py:604: ConvergenceWarning: Maximum Likelihood optimization failed to converge. Check mle_retvals\n",
      "  warnings.warn(\"Maximum Likelihood optimization failed to \"\n"
     ]
    },
    {
     "name": "stdout",
     "output_type": "stream",
     "text": [
      "ETS\n",
      "Naive Benchmarks\n",
      "Split 5\n",
      "Get Paramters from Auto ARIMA\n",
      "SARIMA\n"
     ]
    },
    {
     "name": "stderr",
     "output_type": "stream",
     "text": [
      "/opt/miniconda3/envs/snowflakes/lib/python3.10/site-packages/statsmodels/base/model.py:604: ConvergenceWarning: Maximum Likelihood optimization failed to converge. Check mle_retvals\n",
      "  warnings.warn(\"Maximum Likelihood optimization failed to \"\n"
     ]
    },
    {
     "name": "stdout",
     "output_type": "stream",
     "text": [
      "SARIMAX\n"
     ]
    },
    {
     "name": "stderr",
     "output_type": "stream",
     "text": [
      "/opt/miniconda3/envs/snowflakes/lib/python3.10/site-packages/statsmodels/base/model.py:604: ConvergenceWarning: Maximum Likelihood optimization failed to converge. Check mle_retvals\n",
      "  warnings.warn(\"Maximum Likelihood optimization failed to \"\n"
     ]
    },
    {
     "name": "stdout",
     "output_type": "stream",
     "text": [
      "ETS\n",
      "Naive Benchmarks\n",
      "start forecast\n",
      "Get Paramters from Auto ARIMA\n",
      "auto_arima Parameters: (1, 1, 2)\n",
      "auto_arima Seasonal Parameters: (2, 0, 0, 7)\n",
      "SARIMA\n"
     ]
    },
    {
     "name": "stderr",
     "output_type": "stream",
     "text": [
      "/opt/miniconda3/envs/snowflakes/lib/python3.10/site-packages/statsmodels/tsa/statespace/sarimax.py:966: UserWarning: Non-stationary starting autoregressive parameters found. Using zeros as starting parameters.\n",
      "  warn('Non-stationary starting autoregressive parameters'\n",
      "/opt/miniconda3/envs/snowflakes/lib/python3.10/site-packages/statsmodels/tsa/statespace/sarimax.py:978: UserWarning: Non-invertible starting MA parameters found. Using zeros as starting parameters.\n",
      "  warn('Non-invertible starting MA parameters found.'\n"
     ]
    },
    {
     "name": "stdout",
     "output_type": "stream",
     "text": [
      "SARIMAX\n"
     ]
    },
    {
     "name": "stderr",
     "output_type": "stream",
     "text": [
      "/opt/miniconda3/envs/snowflakes/lib/python3.10/site-packages/statsmodels/tsa/statespace/sarimax.py:966: UserWarning: Non-stationary starting autoregressive parameters found. Using zeros as starting parameters.\n",
      "  warn('Non-stationary starting autoregressive parameters'\n",
      "/opt/miniconda3/envs/snowflakes/lib/python3.10/site-packages/statsmodels/tsa/statespace/sarimax.py:978: UserWarning: Non-invertible starting MA parameters found. Using zeros as starting parameters.\n",
      "  warn('Non-invertible starting MA parameters found.'\n",
      "/opt/miniconda3/envs/snowflakes/lib/python3.10/site-packages/statsmodels/base/model.py:604: ConvergenceWarning: Maximum Likelihood optimization failed to converge. Check mle_retvals\n",
      "  warnings.warn(\"Maximum Likelihood optimization failed to \"\n"
     ]
    },
    {
     "name": "stdout",
     "output_type": "stream",
     "text": [
      "ETS\n",
      "NAIVE Benchmarks\n",
      "51\n",
      "Set up data\n",
      "start backtest\n",
      "Split 1\n",
      "Get Paramters from Auto ARIMA\n",
      "SARIMA\n",
      "SARIMAX\n"
     ]
    },
    {
     "name": "stderr",
     "output_type": "stream",
     "text": [
      "/opt/miniconda3/envs/snowflakes/lib/python3.10/site-packages/statsmodels/base/model.py:604: ConvergenceWarning: Maximum Likelihood optimization failed to converge. Check mle_retvals\n",
      "  warnings.warn(\"Maximum Likelihood optimization failed to \"\n"
     ]
    },
    {
     "name": "stdout",
     "output_type": "stream",
     "text": [
      "ETS\n",
      "Naive Benchmarks\n",
      "Split 2\n",
      "Get Paramters from Auto ARIMA\n",
      "SARIMA\n",
      "SARIMAX\n",
      "ETS\n",
      "Naive Benchmarks\n",
      "Split 3\n",
      "Get Paramters from Auto ARIMA\n",
      "SARIMA\n",
      "SARIMAX\n"
     ]
    },
    {
     "name": "stderr",
     "output_type": "stream",
     "text": [
      "/opt/miniconda3/envs/snowflakes/lib/python3.10/site-packages/statsmodels/base/model.py:604: ConvergenceWarning: Maximum Likelihood optimization failed to converge. Check mle_retvals\n",
      "  warnings.warn(\"Maximum Likelihood optimization failed to \"\n"
     ]
    },
    {
     "name": "stdout",
     "output_type": "stream",
     "text": [
      "ETS\n",
      "Naive Benchmarks\n",
      "Split 4\n",
      "Get Paramters from Auto ARIMA\n",
      "SARIMA\n",
      "SARIMAX\n"
     ]
    },
    {
     "name": "stderr",
     "output_type": "stream",
     "text": [
      "/opt/miniconda3/envs/snowflakes/lib/python3.10/site-packages/statsmodels/base/model.py:604: ConvergenceWarning: Maximum Likelihood optimization failed to converge. Check mle_retvals\n",
      "  warnings.warn(\"Maximum Likelihood optimization failed to \"\n"
     ]
    },
    {
     "name": "stdout",
     "output_type": "stream",
     "text": [
      "ETS\n",
      "Naive Benchmarks\n",
      "Split 5\n",
      "Get Paramters from Auto ARIMA\n",
      "SARIMA\n",
      "SARIMAX\n",
      "ETS\n",
      "Naive Benchmarks\n",
      "start forecast\n",
      "Get Paramters from Auto ARIMA\n",
      "auto_arima Parameters: (0, 1, 1)\n",
      "auto_arima Seasonal Parameters: (0, 0, 0, 7)\n",
      "SARIMA\n",
      "SARIMAX\n",
      "ETS\n",
      "NAIVE Benchmarks\n",
      "2\n",
      "Set up data\n",
      "start backtest\n",
      "Split 1\n",
      "Get Paramters from Auto ARIMA\n",
      "SARIMA\n",
      "SARIMAX\n",
      "ETS\n",
      "Naive Benchmarks\n",
      "Split 2\n",
      "Get Paramters from Auto ARIMA\n"
     ]
    },
    {
     "name": "stderr",
     "output_type": "stream",
     "text": [
      "/opt/miniconda3/envs/snowflakes/lib/python3.10/site-packages/statsmodels/tsa/holtwinters/model.py:915: ConvergenceWarning: Optimization failed to converge. Check mle_retvals.\n",
      "  warnings.warn(\n"
     ]
    },
    {
     "name": "stdout",
     "output_type": "stream",
     "text": [
      "SARIMA\n",
      "SARIMAX\n",
      "ETS\n",
      "Naive Benchmarks\n",
      "Split 3\n",
      "Get Paramters from Auto ARIMA\n"
     ]
    },
    {
     "name": "stderr",
     "output_type": "stream",
     "text": [
      "/opt/miniconda3/envs/snowflakes/lib/python3.10/site-packages/statsmodels/tsa/holtwinters/model.py:915: ConvergenceWarning: Optimization failed to converge. Check mle_retvals.\n",
      "  warnings.warn(\n"
     ]
    },
    {
     "name": "stdout",
     "output_type": "stream",
     "text": [
      "SARIMA\n",
      "SARIMAX\n",
      "ETS\n",
      "Naive Benchmarks\n",
      "Split 4\n",
      "Get Paramters from Auto ARIMA\n"
     ]
    },
    {
     "name": "stderr",
     "output_type": "stream",
     "text": [
      "/opt/miniconda3/envs/snowflakes/lib/python3.10/site-packages/statsmodels/tsa/holtwinters/model.py:915: ConvergenceWarning: Optimization failed to converge. Check mle_retvals.\n",
      "  warnings.warn(\n"
     ]
    },
    {
     "name": "stdout",
     "output_type": "stream",
     "text": [
      "SARIMA\n",
      "SARIMAX\n",
      "ETS\n",
      "Naive Benchmarks\n",
      "Split 5\n",
      "Get Paramters from Auto ARIMA\n"
     ]
    },
    {
     "name": "stderr",
     "output_type": "stream",
     "text": [
      "/opt/miniconda3/envs/snowflakes/lib/python3.10/site-packages/statsmodels/tsa/holtwinters/model.py:915: ConvergenceWarning: Optimization failed to converge. Check mle_retvals.\n",
      "  warnings.warn(\n"
     ]
    },
    {
     "name": "stdout",
     "output_type": "stream",
     "text": [
      "SARIMA\n",
      "SARIMAX\n",
      "ETS\n",
      "Naive Benchmarks\n",
      "start forecast\n",
      "Get Paramters from Auto ARIMA\n"
     ]
    },
    {
     "name": "stderr",
     "output_type": "stream",
     "text": [
      "/opt/miniconda3/envs/snowflakes/lib/python3.10/site-packages/statsmodels/tsa/holtwinters/model.py:915: ConvergenceWarning: Optimization failed to converge. Check mle_retvals.\n",
      "  warnings.warn(\n"
     ]
    },
    {
     "name": "stdout",
     "output_type": "stream",
     "text": [
      "auto_arima Parameters: (4, 1, 1)\n",
      "auto_arima Seasonal Parameters: (0, 0, 0, 7)\n",
      "SARIMA\n",
      "SARIMAX\n",
      "ETS\n",
      "NAIVE Benchmarks\n",
      "83\n",
      "Set up data\n",
      "start backtest\n",
      "Split 1\n",
      "Get Paramters from Auto ARIMA\n"
     ]
    },
    {
     "name": "stderr",
     "output_type": "stream",
     "text": [
      "/opt/miniconda3/envs/snowflakes/lib/python3.10/site-packages/statsmodels/tsa/holtwinters/model.py:915: ConvergenceWarning: Optimization failed to converge. Check mle_retvals.\n",
      "  warnings.warn(\n"
     ]
    },
    {
     "name": "stdout",
     "output_type": "stream",
     "text": [
      "SARIMA\n"
     ]
    },
    {
     "name": "stderr",
     "output_type": "stream",
     "text": [
      "/opt/miniconda3/envs/snowflakes/lib/python3.10/site-packages/statsmodels/tsa/statespace/sarimax.py:966: UserWarning: Non-stationary starting autoregressive parameters found. Using zeros as starting parameters.\n",
      "  warn('Non-stationary starting autoregressive parameters'\n",
      "/opt/miniconda3/envs/snowflakes/lib/python3.10/site-packages/statsmodels/tsa/statespace/sarimax.py:978: UserWarning: Non-invertible starting MA parameters found. Using zeros as starting parameters.\n",
      "  warn('Non-invertible starting MA parameters found.'\n"
     ]
    },
    {
     "name": "stdout",
     "output_type": "stream",
     "text": [
      "SARIMAX\n"
     ]
    },
    {
     "name": "stderr",
     "output_type": "stream",
     "text": [
      "/opt/miniconda3/envs/snowflakes/lib/python3.10/site-packages/statsmodels/tsa/statespace/sarimax.py:966: UserWarning: Non-stationary starting autoregressive parameters found. Using zeros as starting parameters.\n",
      "  warn('Non-stationary starting autoregressive parameters'\n",
      "/opt/miniconda3/envs/snowflakes/lib/python3.10/site-packages/statsmodels/tsa/statespace/sarimax.py:978: UserWarning: Non-invertible starting MA parameters found. Using zeros as starting parameters.\n",
      "  warn('Non-invertible starting MA parameters found.'\n"
     ]
    },
    {
     "name": "stdout",
     "output_type": "stream",
     "text": [
      "ETS\n"
     ]
    },
    {
     "name": "stderr",
     "output_type": "stream",
     "text": [
      "/opt/miniconda3/envs/snowflakes/lib/python3.10/site-packages/statsmodels/tsa/holtwinters/model.py:915: ConvergenceWarning: Optimization failed to converge. Check mle_retvals.\n",
      "  warnings.warn(\n"
     ]
    },
    {
     "name": "stdout",
     "output_type": "stream",
     "text": [
      "Naive Benchmarks\n",
      "Split 2\n",
      "Get Paramters from Auto ARIMA\n",
      "SARIMA\n"
     ]
    },
    {
     "name": "stderr",
     "output_type": "stream",
     "text": [
      "/opt/miniconda3/envs/snowflakes/lib/python3.10/site-packages/statsmodels/tsa/statespace/sarimax.py:966: UserWarning: Non-stationary starting autoregressive parameters found. Using zeros as starting parameters.\n",
      "  warn('Non-stationary starting autoregressive parameters'\n",
      "/opt/miniconda3/envs/snowflakes/lib/python3.10/site-packages/statsmodels/tsa/statespace/sarimax.py:978: UserWarning: Non-invertible starting MA parameters found. Using zeros as starting parameters.\n",
      "  warn('Non-invertible starting MA parameters found.'\n"
     ]
    },
    {
     "name": "stdout",
     "output_type": "stream",
     "text": [
      "SARIMAX\n"
     ]
    },
    {
     "name": "stderr",
     "output_type": "stream",
     "text": [
      "/opt/miniconda3/envs/snowflakes/lib/python3.10/site-packages/statsmodels/tsa/statespace/sarimax.py:966: UserWarning: Non-stationary starting autoregressive parameters found. Using zeros as starting parameters.\n",
      "  warn('Non-stationary starting autoregressive parameters'\n",
      "/opt/miniconda3/envs/snowflakes/lib/python3.10/site-packages/statsmodels/tsa/statespace/sarimax.py:978: UserWarning: Non-invertible starting MA parameters found. Using zeros as starting parameters.\n",
      "  warn('Non-invertible starting MA parameters found.'\n"
     ]
    },
    {
     "name": "stdout",
     "output_type": "stream",
     "text": [
      "ETS\n",
      "Naive Benchmarks\n"
     ]
    },
    {
     "name": "stderr",
     "output_type": "stream",
     "text": [
      "/opt/miniconda3/envs/snowflakes/lib/python3.10/site-packages/statsmodels/tsa/holtwinters/model.py:915: ConvergenceWarning: Optimization failed to converge. Check mle_retvals.\n",
      "  warnings.warn(\n"
     ]
    },
    {
     "name": "stdout",
     "output_type": "stream",
     "text": [
      "Split 3\n",
      "Get Paramters from Auto ARIMA\n",
      "SARIMA\n",
      "SARIMAX\n",
      "ETS\n",
      "Naive Benchmarks\n",
      "Split 4\n",
      "Get Paramters from Auto ARIMA\n"
     ]
    },
    {
     "name": "stderr",
     "output_type": "stream",
     "text": [
      "/opt/miniconda3/envs/snowflakes/lib/python3.10/site-packages/statsmodels/tsa/holtwinters/model.py:915: ConvergenceWarning: Optimization failed to converge. Check mle_retvals.\n",
      "  warnings.warn(\n"
     ]
    },
    {
     "name": "stdout",
     "output_type": "stream",
     "text": [
      "SARIMA\n",
      "SARIMAX\n",
      "ETS\n",
      "Naive Benchmarks\n",
      "Split 5\n",
      "Get Paramters from Auto ARIMA\n"
     ]
    },
    {
     "name": "stderr",
     "output_type": "stream",
     "text": [
      "/opt/miniconda3/envs/snowflakes/lib/python3.10/site-packages/statsmodels/tsa/holtwinters/model.py:915: ConvergenceWarning: Optimization failed to converge. Check mle_retvals.\n",
      "  warnings.warn(\n"
     ]
    },
    {
     "name": "stdout",
     "output_type": "stream",
     "text": [
      "SARIMA\n",
      "SARIMAX\n"
     ]
    },
    {
     "name": "stderr",
     "output_type": "stream",
     "text": [
      "/opt/miniconda3/envs/snowflakes/lib/python3.10/site-packages/statsmodels/tsa/statespace/sarimax.py:966: UserWarning: Non-stationary starting autoregressive parameters found. Using zeros as starting parameters.\n",
      "  warn('Non-stationary starting autoregressive parameters'\n",
      "/opt/miniconda3/envs/snowflakes/lib/python3.10/site-packages/statsmodels/tsa/statespace/sarimax.py:978: UserWarning: Non-invertible starting MA parameters found. Using zeros as starting parameters.\n",
      "  warn('Non-invertible starting MA parameters found.'\n",
      "/opt/miniconda3/envs/snowflakes/lib/python3.10/site-packages/statsmodels/tsa/statespace/sarimax.py:966: UserWarning: Non-stationary starting autoregressive parameters found. Using zeros as starting parameters.\n",
      "  warn('Non-stationary starting autoregressive parameters'\n",
      "/opt/miniconda3/envs/snowflakes/lib/python3.10/site-packages/statsmodels/tsa/statespace/sarimax.py:978: UserWarning: Non-invertible starting MA parameters found. Using zeros as starting parameters.\n",
      "  warn('Non-invertible starting MA parameters found.'\n"
     ]
    },
    {
     "name": "stdout",
     "output_type": "stream",
     "text": [
      "ETS\n",
      "Naive Benchmarks\n",
      "start forecast\n",
      "Get Paramters from Auto ARIMA\n"
     ]
    },
    {
     "name": "stderr",
     "output_type": "stream",
     "text": [
      "/opt/miniconda3/envs/snowflakes/lib/python3.10/site-packages/statsmodels/tsa/holtwinters/model.py:915: ConvergenceWarning: Optimization failed to converge. Check mle_retvals.\n",
      "  warnings.warn(\n"
     ]
    },
    {
     "name": "stdout",
     "output_type": "stream",
     "text": [
      "auto_arima Parameters: (2, 1, 1)\n",
      "auto_arima Seasonal Parameters: (0, 0, 0, 7)\n",
      "SARIMA\n",
      "SARIMAX\n"
     ]
    },
    {
     "name": "stderr",
     "output_type": "stream",
     "text": [
      "/opt/miniconda3/envs/snowflakes/lib/python3.10/site-packages/statsmodels/tsa/statespace/sarimax.py:966: UserWarning: Non-stationary starting autoregressive parameters found. Using zeros as starting parameters.\n",
      "  warn('Non-stationary starting autoregressive parameters'\n",
      "/opt/miniconda3/envs/snowflakes/lib/python3.10/site-packages/statsmodels/tsa/statespace/sarimax.py:978: UserWarning: Non-invertible starting MA parameters found. Using zeros as starting parameters.\n",
      "  warn('Non-invertible starting MA parameters found.'\n",
      "/opt/miniconda3/envs/snowflakes/lib/python3.10/site-packages/statsmodels/tsa/statespace/sarimax.py:966: UserWarning: Non-stationary starting autoregressive parameters found. Using zeros as starting parameters.\n",
      "  warn('Non-stationary starting autoregressive parameters'\n",
      "/opt/miniconda3/envs/snowflakes/lib/python3.10/site-packages/statsmodels/tsa/statespace/sarimax.py:978: UserWarning: Non-invertible starting MA parameters found. Using zeros as starting parameters.\n",
      "  warn('Non-invertible starting MA parameters found.'\n"
     ]
    },
    {
     "name": "stdout",
     "output_type": "stream",
     "text": [
      "ETS\n",
      "NAIVE Benchmarks\n",
      "35\n",
      "Set up data\n",
      "start backtest\n",
      "Split 1\n",
      "Get Paramters from Auto ARIMA\n"
     ]
    },
    {
     "name": "stderr",
     "output_type": "stream",
     "text": [
      "/opt/miniconda3/envs/snowflakes/lib/python3.10/site-packages/statsmodels/tsa/holtwinters/model.py:915: ConvergenceWarning: Optimization failed to converge. Check mle_retvals.\n",
      "  warnings.warn(\n"
     ]
    },
    {
     "name": "stdout",
     "output_type": "stream",
     "text": [
      "SARIMA\n",
      "SARIMAX\n"
     ]
    },
    {
     "name": "stderr",
     "output_type": "stream",
     "text": [
      "/opt/miniconda3/envs/snowflakes/lib/python3.10/site-packages/statsmodels/base/model.py:604: ConvergenceWarning: Maximum Likelihood optimization failed to converge. Check mle_retvals\n",
      "  warnings.warn(\"Maximum Likelihood optimization failed to \"\n"
     ]
    },
    {
     "name": "stdout",
     "output_type": "stream",
     "text": [
      "ETS\n",
      "Naive Benchmarks\n",
      "Split 2\n",
      "Get Paramters from Auto ARIMA\n",
      "SARIMA\n",
      "SARIMAX\n"
     ]
    },
    {
     "name": "stderr",
     "output_type": "stream",
     "text": [
      "/opt/miniconda3/envs/snowflakes/lib/python3.10/site-packages/statsmodels/base/model.py:604: ConvergenceWarning: Maximum Likelihood optimization failed to converge. Check mle_retvals\n",
      "  warnings.warn(\"Maximum Likelihood optimization failed to \"\n"
     ]
    },
    {
     "name": "stdout",
     "output_type": "stream",
     "text": [
      "ETS\n",
      "Naive Benchmarks\n",
      "Split 3\n",
      "Get Paramters from Auto ARIMA\n",
      "SARIMA\n",
      "SARIMAX\n"
     ]
    },
    {
     "name": "stderr",
     "output_type": "stream",
     "text": [
      "/opt/miniconda3/envs/snowflakes/lib/python3.10/site-packages/statsmodels/base/model.py:604: ConvergenceWarning: Maximum Likelihood optimization failed to converge. Check mle_retvals\n",
      "  warnings.warn(\"Maximum Likelihood optimization failed to \"\n"
     ]
    },
    {
     "name": "stdout",
     "output_type": "stream",
     "text": [
      "ETS\n",
      "Naive Benchmarks\n",
      "Split 4\n",
      "Get Paramters from Auto ARIMA\n",
      "SARIMA\n",
      "SARIMAX\n",
      "ETS\n",
      "Naive Benchmarks\n",
      "Split 5\n",
      "Get Paramters from Auto ARIMA\n",
      "SARIMA\n",
      "SARIMAX\n",
      "ETS\n",
      "Naive Benchmarks\n",
      "start forecast\n",
      "Get Paramters from Auto ARIMA\n",
      "auto_arima Parameters: (1, 1, 2)\n",
      "auto_arima Seasonal Parameters: (0, 0, 0, 7)\n",
      "SARIMA\n",
      "SARIMAX\n"
     ]
    },
    {
     "name": "stderr",
     "output_type": "stream",
     "text": [
      "/opt/miniconda3/envs/snowflakes/lib/python3.10/site-packages/statsmodels/base/model.py:604: ConvergenceWarning: Maximum Likelihood optimization failed to converge. Check mle_retvals\n",
      "  warnings.warn(\"Maximum Likelihood optimization failed to \"\n"
     ]
    },
    {
     "name": "stdout",
     "output_type": "stream",
     "text": [
      "ETS\n",
      "NAIVE Benchmarks\n",
      "100\n",
      "Set up data\n",
      "start backtest\n",
      "Split 1\n",
      "Get Paramters from Auto ARIMA\n",
      "SARIMA\n",
      "SARIMAX\n"
     ]
    },
    {
     "name": "stderr",
     "output_type": "stream",
     "text": [
      "/opt/miniconda3/envs/snowflakes/lib/python3.10/site-packages/statsmodels/base/model.py:604: ConvergenceWarning: Maximum Likelihood optimization failed to converge. Check mle_retvals\n",
      "  warnings.warn(\"Maximum Likelihood optimization failed to \"\n"
     ]
    },
    {
     "name": "stdout",
     "output_type": "stream",
     "text": [
      "ETS\n",
      "Naive Benchmarks\n",
      "Split 2\n",
      "Get Paramters from Auto ARIMA\n",
      "SARIMA\n",
      "SARIMAX\n",
      "ETS\n",
      "Naive Benchmarks\n",
      "Split 3\n",
      "Get Paramters from Auto ARIMA\n",
      "SARIMA\n",
      "SARIMAX\n",
      "ETS\n",
      "Naive Benchmarks\n",
      "Split 4\n",
      "Get Paramters from Auto ARIMA\n",
      "SARIMA\n",
      "SARIMAX\n",
      "ETS\n",
      "Naive Benchmarks\n",
      "Split 5\n",
      "Get Paramters from Auto ARIMA\n",
      "SARIMA\n",
      "SARIMAX\n",
      "ETS\n",
      "Naive Benchmarks\n",
      "start forecast\n",
      "Get Paramters from Auto ARIMA\n",
      "auto_arima Parameters: (1, 0, 1)\n",
      "auto_arima Seasonal Parameters: (0, 0, 0, 7)\n",
      "SARIMA\n",
      "SARIMAX\n"
     ]
    },
    {
     "name": "stderr",
     "output_type": "stream",
     "text": [
      "/opt/miniconda3/envs/snowflakes/lib/python3.10/site-packages/statsmodels/base/model.py:604: ConvergenceWarning: Maximum Likelihood optimization failed to converge. Check mle_retvals\n",
      "  warnings.warn(\"Maximum Likelihood optimization failed to \"\n"
     ]
    },
    {
     "name": "stdout",
     "output_type": "stream",
     "text": [
      "ETS\n",
      "NAIVE Benchmarks\n",
      "16\n",
      "Set up data\n",
      "start backtest\n",
      "Split 1\n",
      "Get Paramters from Auto ARIMA\n",
      "SARIMA\n"
     ]
    },
    {
     "name": "stderr",
     "output_type": "stream",
     "text": [
      "/opt/miniconda3/envs/snowflakes/lib/python3.10/site-packages/statsmodels/base/model.py:604: ConvergenceWarning: Maximum Likelihood optimization failed to converge. Check mle_retvals\n",
      "  warnings.warn(\"Maximum Likelihood optimization failed to \"\n"
     ]
    },
    {
     "name": "stdout",
     "output_type": "stream",
     "text": [
      "SARIMAX\n"
     ]
    },
    {
     "name": "stderr",
     "output_type": "stream",
     "text": [
      "/opt/miniconda3/envs/snowflakes/lib/python3.10/site-packages/statsmodels/base/model.py:604: ConvergenceWarning: Maximum Likelihood optimization failed to converge. Check mle_retvals\n",
      "  warnings.warn(\"Maximum Likelihood optimization failed to \"\n"
     ]
    },
    {
     "name": "stdout",
     "output_type": "stream",
     "text": [
      "ETS\n",
      "Naive Benchmarks\n",
      "Split 2\n",
      "Get Paramters from Auto ARIMA\n",
      "SARIMA\n",
      "SARIMAX\n"
     ]
    },
    {
     "name": "stderr",
     "output_type": "stream",
     "text": [
      "/opt/miniconda3/envs/snowflakes/lib/python3.10/site-packages/statsmodels/base/model.py:604: ConvergenceWarning: Maximum Likelihood optimization failed to converge. Check mle_retvals\n",
      "  warnings.warn(\"Maximum Likelihood optimization failed to \"\n"
     ]
    },
    {
     "name": "stdout",
     "output_type": "stream",
     "text": [
      "ETS\n",
      "Naive Benchmarks\n",
      "Split 3\n",
      "Get Paramters from Auto ARIMA\n",
      "SARIMA\n",
      "SARIMAX\n"
     ]
    },
    {
     "name": "stderr",
     "output_type": "stream",
     "text": [
      "/opt/miniconda3/envs/snowflakes/lib/python3.10/site-packages/statsmodels/base/model.py:604: ConvergenceWarning: Maximum Likelihood optimization failed to converge. Check mle_retvals\n",
      "  warnings.warn(\"Maximum Likelihood optimization failed to \"\n"
     ]
    },
    {
     "name": "stdout",
     "output_type": "stream",
     "text": [
      "ETS\n",
      "Naive Benchmarks\n",
      "Split 4\n",
      "Get Paramters from Auto ARIMA\n",
      "SARIMA\n",
      "SARIMAX\n"
     ]
    },
    {
     "name": "stderr",
     "output_type": "stream",
     "text": [
      "/opt/miniconda3/envs/snowflakes/lib/python3.10/site-packages/statsmodels/base/model.py:604: ConvergenceWarning: Maximum Likelihood optimization failed to converge. Check mle_retvals\n",
      "  warnings.warn(\"Maximum Likelihood optimization failed to \"\n"
     ]
    },
    {
     "name": "stdout",
     "output_type": "stream",
     "text": [
      "ETS\n",
      "Naive Benchmarks\n",
      "Split 5\n",
      "Get Paramters from Auto ARIMA\n",
      "SARIMA\n",
      "SARIMAX\n"
     ]
    },
    {
     "name": "stderr",
     "output_type": "stream",
     "text": [
      "/opt/miniconda3/envs/snowflakes/lib/python3.10/site-packages/statsmodels/base/model.py:604: ConvergenceWarning: Maximum Likelihood optimization failed to converge. Check mle_retvals\n",
      "  warnings.warn(\"Maximum Likelihood optimization failed to \"\n"
     ]
    },
    {
     "name": "stdout",
     "output_type": "stream",
     "text": [
      "ETS\n",
      "Naive Benchmarks\n",
      "start forecast\n",
      "Get Paramters from Auto ARIMA\n",
      "auto_arima Parameters: (0, 1, 2)\n",
      "auto_arima Seasonal Parameters: (1, 0, 1, 7)\n",
      "SARIMA\n",
      "SARIMAX\n"
     ]
    },
    {
     "name": "stderr",
     "output_type": "stream",
     "text": [
      "/opt/miniconda3/envs/snowflakes/lib/python3.10/site-packages/statsmodels/base/model.py:604: ConvergenceWarning: Maximum Likelihood optimization failed to converge. Check mle_retvals\n",
      "  warnings.warn(\"Maximum Likelihood optimization failed to \"\n"
     ]
    },
    {
     "name": "stdout",
     "output_type": "stream",
     "text": [
      "ETS\n",
      "NAIVE Benchmarks\n",
      "67\n",
      "Set up data\n",
      "start backtest\n",
      "Split 1\n",
      "Get Paramters from Auto ARIMA\n",
      "SARIMA\n",
      "SARIMAX\n",
      "ETS\n",
      "Naive Benchmarks\n",
      "Split 2\n",
      "Get Paramters from Auto ARIMA\n",
      "SARIMA\n",
      "SARIMAX\n",
      "ETS\n",
      "Naive Benchmarks\n",
      "Split 3\n",
      "Get Paramters from Auto ARIMA\n",
      "SARIMA\n",
      "SARIMAX\n",
      "ETS\n",
      "Naive Benchmarks\n",
      "Split 4\n",
      "Get Paramters from Auto ARIMA\n",
      "SARIMA\n",
      "SARIMAX\n",
      "ETS\n",
      "Naive Benchmarks\n",
      "Split 5\n",
      "Get Paramters from Auto ARIMA\n",
      "SARIMA\n",
      "SARIMAX\n",
      "ETS\n",
      "Naive Benchmarks\n",
      "start forecast\n",
      "Get Paramters from Auto ARIMA\n",
      "auto_arima Parameters: (0, 0, 0)\n",
      "auto_arima Seasonal Parameters: (0, 0, 0, 7)\n",
      "SARIMA\n",
      "SARIMAX\n",
      "ETS\n",
      "NAIVE Benchmarks\n",
      "55\n",
      "Set up data\n",
      "start backtest\n",
      "Split 1\n",
      "Get Paramters from Auto ARIMA\n",
      "SARIMA\n",
      "SARIMAX\n",
      "ETS\n",
      "Naive Benchmarks\n",
      "Split 2\n",
      "Get Paramters from Auto ARIMA\n",
      "SARIMA\n",
      "SARIMAX\n",
      "ETS\n",
      "Naive Benchmarks\n",
      "Split 3\n",
      "Get Paramters from Auto ARIMA\n",
      "SARIMA\n",
      "SARIMAX\n",
      "ETS\n",
      "Naive Benchmarks\n",
      "Split 4\n",
      "Get Paramters from Auto ARIMA\n",
      "SARIMA\n",
      "SARIMAX\n",
      "ETS\n",
      "Naive Benchmarks\n",
      "Split 5\n",
      "Get Paramters from Auto ARIMA\n",
      "SARIMA\n",
      "SARIMAX\n",
      "ETS\n",
      "Naive Benchmarks\n",
      "start forecast\n",
      "Get Paramters from Auto ARIMA\n",
      "auto_arima Parameters: (5, 1, 0)\n",
      "auto_arima Seasonal Parameters: (0, 0, 0, 7)\n",
      "SARIMA\n",
      "SARIMAX\n"
     ]
    },
    {
     "name": "stderr",
     "output_type": "stream",
     "text": [
      "/opt/miniconda3/envs/snowflakes/lib/python3.10/site-packages/statsmodels/base/model.py:604: ConvergenceWarning: Maximum Likelihood optimization failed to converge. Check mle_retvals\n",
      "  warnings.warn(\"Maximum Likelihood optimization failed to \"\n"
     ]
    },
    {
     "name": "stdout",
     "output_type": "stream",
     "text": [
      "ETS\n",
      "NAIVE Benchmarks\n",
      "75\n",
      "Set up data\n",
      "start backtest\n",
      "Split 1\n",
      "Get Paramters from Auto ARIMA\n",
      "SARIMA\n",
      "SARIMAX\n"
     ]
    },
    {
     "name": "stderr",
     "output_type": "stream",
     "text": [
      "/opt/miniconda3/envs/snowflakes/lib/python3.10/site-packages/statsmodels/base/model.py:604: ConvergenceWarning: Maximum Likelihood optimization failed to converge. Check mle_retvals\n",
      "  warnings.warn(\"Maximum Likelihood optimization failed to \"\n"
     ]
    },
    {
     "name": "stdout",
     "output_type": "stream",
     "text": [
      "ETS\n",
      "Naive Benchmarks\n",
      "Split 2\n",
      "Get Paramters from Auto ARIMA\n",
      "SARIMA\n",
      "SARIMAX\n"
     ]
    },
    {
     "name": "stderr",
     "output_type": "stream",
     "text": [
      "/opt/miniconda3/envs/snowflakes/lib/python3.10/site-packages/statsmodels/base/model.py:604: ConvergenceWarning: Maximum Likelihood optimization failed to converge. Check mle_retvals\n",
      "  warnings.warn(\"Maximum Likelihood optimization failed to \"\n"
     ]
    },
    {
     "name": "stdout",
     "output_type": "stream",
     "text": [
      "ETS\n",
      "Naive Benchmarks\n",
      "Split 3\n",
      "Get Paramters from Auto ARIMA\n",
      "SARIMA\n",
      "SARIMAX\n"
     ]
    },
    {
     "name": "stderr",
     "output_type": "stream",
     "text": [
      "/opt/miniconda3/envs/snowflakes/lib/python3.10/site-packages/statsmodels/base/model.py:604: ConvergenceWarning: Maximum Likelihood optimization failed to converge. Check mle_retvals\n",
      "  warnings.warn(\"Maximum Likelihood optimization failed to \"\n"
     ]
    },
    {
     "name": "stdout",
     "output_type": "stream",
     "text": [
      "ETS\n",
      "Naive Benchmarks\n",
      "Split 4\n",
      "Get Paramters from Auto ARIMA\n",
      "SARIMA\n",
      "SARIMAX\n"
     ]
    },
    {
     "name": "stderr",
     "output_type": "stream",
     "text": [
      "/opt/miniconda3/envs/snowflakes/lib/python3.10/site-packages/statsmodels/base/model.py:604: ConvergenceWarning: Maximum Likelihood optimization failed to converge. Check mle_retvals\n",
      "  warnings.warn(\"Maximum Likelihood optimization failed to \"\n"
     ]
    },
    {
     "name": "stdout",
     "output_type": "stream",
     "text": [
      "ETS\n",
      "Naive Benchmarks\n",
      "Split 5\n",
      "Get Paramters from Auto ARIMA\n",
      "SARIMA\n",
      "SARIMAX\n"
     ]
    },
    {
     "name": "stderr",
     "output_type": "stream",
     "text": [
      "/opt/miniconda3/envs/snowflakes/lib/python3.10/site-packages/statsmodels/base/model.py:604: ConvergenceWarning: Maximum Likelihood optimization failed to converge. Check mle_retvals\n",
      "  warnings.warn(\"Maximum Likelihood optimization failed to \"\n"
     ]
    },
    {
     "name": "stdout",
     "output_type": "stream",
     "text": [
      "ETS\n",
      "Naive Benchmarks\n",
      "start forecast\n",
      "Get Paramters from Auto ARIMA\n",
      "auto_arima Parameters: (0, 1, 1)\n",
      "auto_arima Seasonal Parameters: (2, 0, 2, 7)\n",
      "SARIMA\n"
     ]
    },
    {
     "name": "stderr",
     "output_type": "stream",
     "text": [
      "/opt/miniconda3/envs/snowflakes/lib/python3.10/site-packages/statsmodels/tsa/statespace/sarimax.py:997: UserWarning: Non-stationary starting seasonal autoregressive Using zeros as starting parameters.\n",
      "  warn('Non-stationary starting seasonal autoregressive'\n"
     ]
    },
    {
     "name": "stdout",
     "output_type": "stream",
     "text": [
      "SARIMAX\n"
     ]
    },
    {
     "name": "stderr",
     "output_type": "stream",
     "text": [
      "/opt/miniconda3/envs/snowflakes/lib/python3.10/site-packages/statsmodels/base/model.py:604: ConvergenceWarning: Maximum Likelihood optimization failed to converge. Check mle_retvals\n",
      "  warnings.warn(\"Maximum Likelihood optimization failed to \"\n"
     ]
    },
    {
     "name": "stdout",
     "output_type": "stream",
     "text": [
      "ETS\n",
      "NAIVE Benchmarks\n",
      "28\n",
      "Set up data\n",
      "start backtest\n",
      "Split 1\n",
      "Get Paramters from Auto ARIMA\n",
      "SARIMA\n",
      "SARIMAX\n",
      "ETS\n",
      "Naive Benchmarks\n",
      "Split 2\n",
      "Get Paramters from Auto ARIMA\n",
      "SARIMA\n",
      "SARIMAX\n",
      "ETS\n",
      "Naive Benchmarks\n",
      "Split 3\n",
      "Get Paramters from Auto ARIMA\n",
      "SARIMA\n",
      "SARIMAX\n",
      "ETS\n",
      "Naive Benchmarks\n",
      "Split 4\n",
      "Get Paramters from Auto ARIMA\n",
      "SARIMA\n",
      "SARIMAX\n",
      "ETS\n",
      "Naive Benchmarks\n",
      "Split 5\n",
      "Get Paramters from Auto ARIMA\n",
      "SARIMA\n",
      "SARIMAX\n",
      "ETS\n",
      "Naive Benchmarks\n",
      "start forecast\n",
      "Get Paramters from Auto ARIMA\n",
      "auto_arima Parameters: (0, 0, 0)\n",
      "auto_arima Seasonal Parameters: (0, 0, 0, 7)\n",
      "SARIMA\n",
      "SARIMAX\n",
      "ETS\n",
      "NAIVE Benchmarks\n",
      "3\n",
      "Set up data\n",
      "start backtest\n",
      "Split 1\n",
      "Get Paramters from Auto ARIMA\n",
      "SARIMA\n",
      "SARIMAX\n"
     ]
    },
    {
     "name": "stderr",
     "output_type": "stream",
     "text": [
      "/opt/miniconda3/envs/snowflakes/lib/python3.10/site-packages/statsmodels/base/model.py:604: ConvergenceWarning: Maximum Likelihood optimization failed to converge. Check mle_retvals\n",
      "  warnings.warn(\"Maximum Likelihood optimization failed to \"\n"
     ]
    },
    {
     "name": "stdout",
     "output_type": "stream",
     "text": [
      "ETS\n",
      "Naive Benchmarks\n",
      "Split 2\n",
      "Get Paramters from Auto ARIMA\n",
      "SARIMA\n",
      "SARIMAX\n",
      "SARIMA\n",
      "SARIMAX\n",
      "ETS\n",
      "Naive Benchmarks\n",
      "Split 4\n",
      "Get Paramters from Auto ARIMA\n",
      "SARIMA\n",
      "SARIMAX\n",
      "ETS\n",
      "Naive Benchmarks\n",
      "Split 5\n",
      "Get Paramters from Auto ARIMA\n",
      "SARIMA\n",
      "SARIMAX\n",
      "Naive Benchmarks\n",
      "start forecast\n",
      "Get Paramters from Auto ARIMA\n",
      "auto_arima Parameters: (1, 1, 1)\n",
      "auto_arima Seasonal Parameters: (1, 0, 0, 7)\n",
      "SARIMA\n",
      "SARIMAX\n"
     ]
    },
    {
     "name": "stderr",
     "output_type": "stream",
     "text": [
      "/opt/miniconda3/envs/snowflakes/lib/python3.10/site-packages/statsmodels/base/model.py:604: ConvergenceWarning: Maximum Likelihood optimization failed to converge. Check mle_retvals\n",
      "  warnings.warn(\"Maximum Likelihood optimization failed to \"\n"
     ]
    },
    {
     "name": "stdout",
     "output_type": "stream",
     "text": [
      "ETS\n",
      "NAIVE Benchmarks\n",
      "37\n",
      "Set up data\n",
      "start backtest\n",
      "Split 1\n",
      "Get Paramters from Auto ARIMA\n",
      "SARIMA\n",
      "SARIMAX\n",
      "ETS\n",
      "Naive Benchmarks\n",
      "Split 2\n",
      "Get Paramters from Auto ARIMA\n",
      "SARIMA\n",
      "SARIMAX\n",
      "ETS\n",
      "Naive Benchmarks\n",
      "Split 3\n",
      "Get Paramters from Auto ARIMA\n",
      "SARIMA\n",
      "SARIMAX\n",
      "ETS\n",
      "Naive Benchmarks\n",
      "Split 4\n",
      "Get Paramters from Auto ARIMA\n",
      "SARIMA\n",
      "SARIMAX\n",
      "ETS\n",
      "Naive Benchmarks\n",
      "Split 5\n",
      "Get Paramters from Auto ARIMA\n",
      "SARIMA\n",
      "SARIMAX\n",
      "ETS\n",
      "Naive Benchmarks\n",
      "start forecast\n",
      "Get Paramters from Auto ARIMA\n",
      "auto_arima Parameters: (0, 1, 2)\n",
      "auto_arima Seasonal Parameters: (0, 0, 0, 7)\n",
      "SARIMA\n",
      "SARIMAX\n",
      "ETS\n",
      "NAIVE Benchmarks\n",
      "76\n",
      "Set up data\n",
      "start backtest\n",
      "Split 1\n",
      "Get Paramters from Auto ARIMA\n",
      "SARIMA\n",
      "SARIMAX\n",
      "ETS\n",
      "Naive Benchmarks\n",
      "Split 2\n",
      "Get Paramters from Auto ARIMA\n",
      "SARIMA\n",
      "SARIMAX\n",
      "ETS\n",
      "Naive Benchmarks\n",
      "Split 3\n",
      "Get Paramters from Auto ARIMA\n",
      "SARIMA\n",
      "SARIMAX\n",
      "ETS\n",
      "Naive Benchmarks\n",
      "Split 4\n",
      "Get Paramters from Auto ARIMA\n",
      "SARIMA\n",
      "SARIMAX\n",
      "ETS\n",
      "Naive Benchmarks\n",
      "Split 5\n",
      "Get Paramters from Auto ARIMA\n",
      "SARIMA\n",
      "SARIMAX\n",
      "ETS\n",
      "Naive Benchmarks\n",
      "start forecast\n",
      "Get Paramters from Auto ARIMA\n",
      "auto_arima Parameters: (0, 1, 1)\n",
      "auto_arima Seasonal Parameters: (0, 0, 0, 7)\n",
      "SARIMA\n",
      "SARIMAX\n"
     ]
    },
    {
     "name": "stderr",
     "output_type": "stream",
     "text": [
      "/opt/miniconda3/envs/snowflakes/lib/python3.10/site-packages/statsmodels/base/model.py:604: ConvergenceWarning: Maximum Likelihood optimization failed to converge. Check mle_retvals\n",
      "  warnings.warn(\"Maximum Likelihood optimization failed to \"\n"
     ]
    },
    {
     "name": "stdout",
     "output_type": "stream",
     "text": [
      "ETS\n",
      "NAIVE Benchmarks\n",
      "32\n",
      "Set up data\n",
      "start backtest\n",
      "Split 1\n",
      "Get Paramters from Auto ARIMA\n",
      "SARIMA\n"
     ]
    },
    {
     "name": "stderr",
     "output_type": "stream",
     "text": [
      "/opt/miniconda3/envs/snowflakes/lib/python3.10/site-packages/statsmodels/tsa/statespace/sarimax.py:966: UserWarning: Non-stationary starting autoregressive parameters found. Using zeros as starting parameters.\n",
      "  warn('Non-stationary starting autoregressive parameters'\n",
      "/opt/miniconda3/envs/snowflakes/lib/python3.10/site-packages/statsmodels/tsa/statespace/sarimax.py:978: UserWarning: Non-invertible starting MA parameters found. Using zeros as starting parameters.\n",
      "  warn('Non-invertible starting MA parameters found.'\n"
     ]
    },
    {
     "name": "stdout",
     "output_type": "stream",
     "text": [
      "SARIMAX\n"
     ]
    },
    {
     "name": "stderr",
     "output_type": "stream",
     "text": [
      "/opt/miniconda3/envs/snowflakes/lib/python3.10/site-packages/statsmodels/tsa/statespace/sarimax.py:966: UserWarning: Non-stationary starting autoregressive parameters found. Using zeros as starting parameters.\n",
      "  warn('Non-stationary starting autoregressive parameters'\n",
      "/opt/miniconda3/envs/snowflakes/lib/python3.10/site-packages/statsmodels/tsa/statespace/sarimax.py:978: UserWarning: Non-invertible starting MA parameters found. Using zeros as starting parameters.\n",
      "  warn('Non-invertible starting MA parameters found.'\n"
     ]
    },
    {
     "name": "stdout",
     "output_type": "stream",
     "text": [
      "ETS\n",
      "Naive Benchmarks\n",
      "Split 2\n",
      "Get Paramters from Auto ARIMA\n",
      "SARIMA\n"
     ]
    },
    {
     "name": "stderr",
     "output_type": "stream",
     "text": [
      "/opt/miniconda3/envs/snowflakes/lib/python3.10/site-packages/statsmodels/tsa/statespace/sarimax.py:966: UserWarning: Non-stationary starting autoregressive parameters found. Using zeros as starting parameters.\n",
      "  warn('Non-stationary starting autoregressive parameters'\n",
      "/opt/miniconda3/envs/snowflakes/lib/python3.10/site-packages/statsmodels/tsa/statespace/sarimax.py:978: UserWarning: Non-invertible starting MA parameters found. Using zeros as starting parameters.\n",
      "  warn('Non-invertible starting MA parameters found.'\n"
     ]
    },
    {
     "name": "stdout",
     "output_type": "stream",
     "text": [
      "SARIMAX\n"
     ]
    },
    {
     "name": "stderr",
     "output_type": "stream",
     "text": [
      "/opt/miniconda3/envs/snowflakes/lib/python3.10/site-packages/statsmodels/tsa/statespace/sarimax.py:966: UserWarning: Non-stationary starting autoregressive parameters found. Using zeros as starting parameters.\n",
      "  warn('Non-stationary starting autoregressive parameters'\n",
      "/opt/miniconda3/envs/snowflakes/lib/python3.10/site-packages/statsmodels/tsa/statespace/sarimax.py:978: UserWarning: Non-invertible starting MA parameters found. Using zeros as starting parameters.\n",
      "  warn('Non-invertible starting MA parameters found.'\n"
     ]
    },
    {
     "name": "stdout",
     "output_type": "stream",
     "text": [
      "ETS\n",
      "Naive Benchmarks\n",
      "Split 3\n",
      "Get Paramters from Auto ARIMA\n",
      "SARIMA\n"
     ]
    },
    {
     "name": "stderr",
     "output_type": "stream",
     "text": [
      "/opt/miniconda3/envs/snowflakes/lib/python3.10/site-packages/statsmodels/tsa/statespace/sarimax.py:966: UserWarning: Non-stationary starting autoregressive parameters found. Using zeros as starting parameters.\n",
      "  warn('Non-stationary starting autoregressive parameters'\n",
      "/opt/miniconda3/envs/snowflakes/lib/python3.10/site-packages/statsmodels/tsa/statespace/sarimax.py:978: UserWarning: Non-invertible starting MA parameters found. Using zeros as starting parameters.\n",
      "  warn('Non-invertible starting MA parameters found.'\n"
     ]
    },
    {
     "name": "stdout",
     "output_type": "stream",
     "text": [
      "SARIMAX\n"
     ]
    },
    {
     "name": "stderr",
     "output_type": "stream",
     "text": [
      "/opt/miniconda3/envs/snowflakes/lib/python3.10/site-packages/statsmodels/tsa/statespace/sarimax.py:966: UserWarning: Non-stationary starting autoregressive parameters found. Using zeros as starting parameters.\n",
      "  warn('Non-stationary starting autoregressive parameters'\n",
      "/opt/miniconda3/envs/snowflakes/lib/python3.10/site-packages/statsmodels/tsa/statespace/sarimax.py:978: UserWarning: Non-invertible starting MA parameters found. Using zeros as starting parameters.\n",
      "  warn('Non-invertible starting MA parameters found.'\n",
      "/opt/miniconda3/envs/snowflakes/lib/python3.10/site-packages/statsmodels/base/model.py:604: ConvergenceWarning: Maximum Likelihood optimization failed to converge. Check mle_retvals\n",
      "  warnings.warn(\"Maximum Likelihood optimization failed to \"\n"
     ]
    },
    {
     "name": "stdout",
     "output_type": "stream",
     "text": [
      "ETS\n",
      "Naive Benchmarks\n",
      "Split 4\n",
      "Get Paramters from Auto ARIMA\n",
      "SARIMA\n"
     ]
    },
    {
     "name": "stderr",
     "output_type": "stream",
     "text": [
      "/opt/miniconda3/envs/snowflakes/lib/python3.10/site-packages/statsmodels/tsa/statespace/sarimax.py:966: UserWarning: Non-stationary starting autoregressive parameters found. Using zeros as starting parameters.\n",
      "  warn('Non-stationary starting autoregressive parameters'\n",
      "/opt/miniconda3/envs/snowflakes/lib/python3.10/site-packages/statsmodels/tsa/statespace/sarimax.py:978: UserWarning: Non-invertible starting MA parameters found. Using zeros as starting parameters.\n",
      "  warn('Non-invertible starting MA parameters found.'\n"
     ]
    },
    {
     "name": "stdout",
     "output_type": "stream",
     "text": [
      "SARIMAX\n"
     ]
    },
    {
     "name": "stderr",
     "output_type": "stream",
     "text": [
      "/opt/miniconda3/envs/snowflakes/lib/python3.10/site-packages/statsmodels/tsa/statespace/sarimax.py:966: UserWarning: Non-stationary starting autoregressive parameters found. Using zeros as starting parameters.\n",
      "  warn('Non-stationary starting autoregressive parameters'\n",
      "/opt/miniconda3/envs/snowflakes/lib/python3.10/site-packages/statsmodels/tsa/statespace/sarimax.py:978: UserWarning: Non-invertible starting MA parameters found. Using zeros as starting parameters.\n",
      "  warn('Non-invertible starting MA parameters found.'\n",
      "/opt/miniconda3/envs/snowflakes/lib/python3.10/site-packages/statsmodels/base/model.py:604: ConvergenceWarning: Maximum Likelihood optimization failed to converge. Check mle_retvals\n",
      "  warnings.warn(\"Maximum Likelihood optimization failed to \"\n"
     ]
    },
    {
     "name": "stdout",
     "output_type": "stream",
     "text": [
      "ETS\n",
      "Naive Benchmarks\n",
      "Split 5\n",
      "Get Paramters from Auto ARIMA\n",
      "SARIMA\n",
      "SARIMAX\n"
     ]
    },
    {
     "name": "stderr",
     "output_type": "stream",
     "text": [
      "/opt/miniconda3/envs/snowflakes/lib/python3.10/site-packages/statsmodels/base/model.py:604: ConvergenceWarning: Maximum Likelihood optimization failed to converge. Check mle_retvals\n",
      "  warnings.warn(\"Maximum Likelihood optimization failed to \"\n"
     ]
    },
    {
     "name": "stdout",
     "output_type": "stream",
     "text": [
      "ETS\n",
      "Naive Benchmarks\n",
      "start forecast\n",
      "Get Paramters from Auto ARIMA\n",
      "auto_arima Parameters: (2, 1, 2)\n",
      "auto_arima Seasonal Parameters: (1, 0, 0, 7)\n",
      "SARIMA\n"
     ]
    },
    {
     "name": "stderr",
     "output_type": "stream",
     "text": [
      "/opt/miniconda3/envs/snowflakes/lib/python3.10/site-packages/statsmodels/tsa/statespace/sarimax.py:966: UserWarning: Non-stationary starting autoregressive parameters found. Using zeros as starting parameters.\n",
      "  warn('Non-stationary starting autoregressive parameters'\n",
      "/opt/miniconda3/envs/snowflakes/lib/python3.10/site-packages/statsmodels/tsa/statespace/sarimax.py:978: UserWarning: Non-invertible starting MA parameters found. Using zeros as starting parameters.\n",
      "  warn('Non-invertible starting MA parameters found.'\n"
     ]
    },
    {
     "name": "stdout",
     "output_type": "stream",
     "text": [
      "SARIMAX\n"
     ]
    },
    {
     "name": "stderr",
     "output_type": "stream",
     "text": [
      "/opt/miniconda3/envs/snowflakes/lib/python3.10/site-packages/statsmodels/tsa/statespace/sarimax.py:966: UserWarning: Non-stationary starting autoregressive parameters found. Using zeros as starting parameters.\n",
      "  warn('Non-stationary starting autoregressive parameters'\n",
      "/opt/miniconda3/envs/snowflakes/lib/python3.10/site-packages/statsmodels/tsa/statespace/sarimax.py:978: UserWarning: Non-invertible starting MA parameters found. Using zeros as starting parameters.\n",
      "  warn('Non-invertible starting MA parameters found.'\n",
      "/opt/miniconda3/envs/snowflakes/lib/python3.10/site-packages/statsmodels/base/model.py:604: ConvergenceWarning: Maximum Likelihood optimization failed to converge. Check mle_retvals\n",
      "  warnings.warn(\"Maximum Likelihood optimization failed to \"\n"
     ]
    },
    {
     "name": "stdout",
     "output_type": "stream",
     "text": [
      "ETS\n",
      "NAIVE Benchmarks\n",
      "44\n",
      "Set up data\n",
      "start backtest\n",
      "Split 1\n",
      "Get Paramters from Auto ARIMA\n",
      "SARIMA\n",
      "SARIMAX\n",
      "ETS\n",
      "Naive Benchmarks\n",
      "Split 2\n",
      "Get Paramters from Auto ARIMA\n",
      "SARIMA\n",
      "SARIMAX\n",
      "ETS\n",
      "Naive Benchmarks\n",
      "Split 3\n",
      "Get Paramters from Auto ARIMA\n",
      "SARIMA\n",
      "SARIMAX\n",
      "ETS\n",
      "Naive Benchmarks\n",
      "Split 4\n",
      "Get Paramters from Auto ARIMA\n",
      "SARIMA\n",
      "SARIMAX\n",
      "ETS\n",
      "Naive Benchmarks\n",
      "Split 5\n",
      "Get Paramters from Auto ARIMA\n",
      "SARIMA\n",
      "SARIMAX\n",
      "ETS\n",
      "Naive Benchmarks\n",
      "start forecast\n",
      "Get Paramters from Auto ARIMA\n",
      "auto_arima Parameters: (0, 1, 1)\n",
      "auto_arima Seasonal Parameters: (0, 0, 0, 7)\n",
      "SARIMA\n",
      "SARIMAX\n",
      "ETS\n",
      "NAIVE Benchmarks\n",
      "48\n",
      "Set up data\n",
      "start backtest\n",
      "Split 1\n",
      "Get Paramters from Auto ARIMA\n",
      "SARIMA\n",
      "SARIMAX\n",
      "ETS\n",
      "Naive Benchmarks\n",
      "Split 2\n",
      "Get Paramters from Auto ARIMA\n",
      "SARIMA\n",
      "SARIMAX\n",
      "ETS\n",
      "Naive Benchmarks\n",
      "Split 3\n",
      "Get Paramters from Auto ARIMA\n",
      "SARIMA\n",
      "SARIMAX\n",
      "ETS\n",
      "Naive Benchmarks\n",
      "Split 4\n",
      "Get Paramters from Auto ARIMA\n",
      "SARIMA\n",
      "SARIMAX\n",
      "ETS\n",
      "Naive Benchmarks\n",
      "Split 5\n",
      "Get Paramters from Auto ARIMA\n",
      "SARIMA\n",
      "SARIMAX\n",
      "ETS\n",
      "Naive Benchmarks\n",
      "start forecast\n",
      "Get Paramters from Auto ARIMA\n",
      "auto_arima Parameters: (1, 1, 1)\n",
      "auto_arima Seasonal Parameters: (0, 0, 0, 7)\n",
      "SARIMA\n",
      "SARIMAX\n",
      "ETS\n",
      "NAIVE Benchmarks\n",
      "8\n",
      "Set up data\n",
      "start backtest\n",
      "Split 1\n",
      "Get Paramters from Auto ARIMA\n",
      "SARIMA\n",
      "SARIMAX\n",
      "ETS\n",
      "Naive Benchmarks\n",
      "Split 2\n",
      "Get Paramters from Auto ARIMA\n",
      "SARIMA\n",
      "SARIMAX\n",
      "ETS\n",
      "Naive Benchmarks\n",
      "Split 3\n",
      "Get Paramters from Auto ARIMA\n",
      "SARIMA\n",
      "SARIMAX\n",
      "ETS\n",
      "Naive Benchmarks\n",
      "Split 4\n",
      "Get Paramters from Auto ARIMA\n",
      "SARIMA\n",
      "SARIMAX\n",
      "ETS\n",
      "Naive Benchmarks\n",
      "Split 5\n",
      "Get Paramters from Auto ARIMA\n",
      "SARIMA\n",
      "SARIMAX\n",
      "ETS\n",
      "Naive Benchmarks\n",
      "start forecast\n",
      "Get Paramters from Auto ARIMA\n",
      "auto_arima Parameters: (0, 1, 1)\n",
      "auto_arima Seasonal Parameters: (1, 0, 1, 7)\n",
      "SARIMA\n",
      "SARIMAX\n",
      "ETS\n",
      "NAIVE Benchmarks\n",
      "58\n",
      "Set up data\n",
      "start backtest\n",
      "Split 1\n",
      "Get Paramters from Auto ARIMA\n",
      "SARIMA\n",
      "SARIMAX\n",
      "ETS\n",
      "Naive Benchmarks\n",
      "Split 2\n",
      "Get Paramters from Auto ARIMA\n",
      "SARIMA\n",
      "SARIMAX\n",
      "ETS\n",
      "Naive Benchmarks\n",
      "Split 3\n",
      "Get Paramters from Auto ARIMA\n",
      "SARIMA\n",
      "SARIMAX\n",
      "ETS\n",
      "Naive Benchmarks\n",
      "Split 4\n",
      "Get Paramters from Auto ARIMA\n",
      "SARIMA\n",
      "SARIMAX\n",
      "ETS\n",
      "Naive Benchmarks\n",
      "Split 5\n",
      "Get Paramters from Auto ARIMA\n",
      "SARIMA\n",
      "SARIMAX\n",
      "ETS\n",
      "Naive Benchmarks\n",
      "start forecast\n",
      "Get Paramters from Auto ARIMA\n",
      "auto_arima Parameters: (0, 1, 3)\n",
      "auto_arima Seasonal Parameters: (0, 0, 0, 7)\n",
      "SARIMA\n",
      "SARIMAX\n"
     ]
    },
    {
     "name": "stderr",
     "output_type": "stream",
     "text": [
      "/opt/miniconda3/envs/snowflakes/lib/python3.10/site-packages/statsmodels/base/model.py:604: ConvergenceWarning: Maximum Likelihood optimization failed to converge. Check mle_retvals\n",
      "  warnings.warn(\"Maximum Likelihood optimization failed to \"\n"
     ]
    },
    {
     "name": "stdout",
     "output_type": "stream",
     "text": [
      "ETS\n",
      "NAIVE Benchmarks\n",
      "5\n",
      "Set up data\n",
      "start backtest\n",
      "Split 1\n",
      "Get Paramters from Auto ARIMA\n",
      "SARIMA\n",
      "SARIMAX\n",
      "ETS\n",
      "Naive Benchmarks\n",
      "Split 2\n",
      "Get Paramters from Auto ARIMA\n",
      "SARIMA\n",
      "SARIMAX\n",
      "ETS\n",
      "Naive Benchmarks\n",
      "Split 3\n",
      "Get Paramters from Auto ARIMA\n",
      "SARIMA\n",
      "SARIMAX\n"
     ]
    },
    {
     "name": "stderr",
     "output_type": "stream",
     "text": [
      "/opt/miniconda3/envs/snowflakes/lib/python3.10/site-packages/statsmodels/tsa/statespace/sarimax.py:978: UserWarning: Non-invertible starting MA parameters found. Using zeros as starting parameters.\n",
      "  warn('Non-invertible starting MA parameters found.'\n",
      "/opt/miniconda3/envs/snowflakes/lib/python3.10/site-packages/statsmodels/tsa/statespace/sarimax.py:978: UserWarning: Non-invertible starting MA parameters found. Using zeros as starting parameters.\n",
      "  warn('Non-invertible starting MA parameters found.'\n"
     ]
    },
    {
     "name": "stdout",
     "output_type": "stream",
     "text": [
      "ETS\n",
      "Naive Benchmarks\n",
      "Split 4\n",
      "Get Paramters from Auto ARIMA\n",
      "SARIMA\n",
      "SARIMAX\n",
      "ETS\n",
      "Naive Benchmarks\n",
      "Split 5\n",
      "Get Paramters from Auto ARIMA\n",
      "SARIMA\n",
      "SARIMAX\n"
     ]
    },
    {
     "name": "stderr",
     "output_type": "stream",
     "text": [
      "/opt/miniconda3/envs/snowflakes/lib/python3.10/site-packages/statsmodels/tsa/statespace/sarimax.py:978: UserWarning: Non-invertible starting MA parameters found. Using zeros as starting parameters.\n",
      "  warn('Non-invertible starting MA parameters found.'\n"
     ]
    },
    {
     "name": "stdout",
     "output_type": "stream",
     "text": [
      "ETS\n",
      "Naive Benchmarks\n",
      "start forecast\n",
      "Get Paramters from Auto ARIMA\n",
      "auto_arima Parameters: (0, 1, 1)\n",
      "auto_arima Seasonal Parameters: (0, 0, 0, 7)\n",
      "SARIMA\n",
      "SARIMAX\n",
      "ETS\n",
      "NAIVE Benchmarks\n",
      "27\n",
      "Set up data\n",
      "start backtest\n",
      "Split 1\n",
      "Get Paramters from Auto ARIMA\n",
      "SARIMA\n",
      "SARIMAX\n",
      "ETS\n",
      "Naive Benchmarks\n",
      "Split 2\n",
      "Get Paramters from Auto ARIMA\n",
      "SARIMA\n",
      "SARIMAX\n",
      "ETS\n",
      "Naive Benchmarks\n",
      "Split 3\n",
      "Get Paramters from Auto ARIMA\n",
      "SARIMA\n",
      "SARIMAX\n",
      "ETS\n",
      "Naive Benchmarks\n",
      "Split 4\n",
      "Get Paramters from Auto ARIMA\n",
      "SARIMA\n",
      "SARIMAX\n",
      "ETS\n",
      "Naive Benchmarks\n",
      "Split 5\n",
      "Get Paramters from Auto ARIMA\n",
      "SARIMA\n",
      "SARIMAX\n",
      "ETS\n",
      "Naive Benchmarks\n",
      "start forecast\n",
      "Get Paramters from Auto ARIMA\n",
      "auto_arima Parameters: (0, 1, 1)\n",
      "auto_arima Seasonal Parameters: (0, 0, 2, 7)\n",
      "SARIMA\n",
      "SARIMAX\n"
     ]
    },
    {
     "name": "stderr",
     "output_type": "stream",
     "text": [
      "/opt/miniconda3/envs/snowflakes/lib/python3.10/site-packages/statsmodels/base/model.py:604: ConvergenceWarning: Maximum Likelihood optimization failed to converge. Check mle_retvals\n",
      "  warnings.warn(\"Maximum Likelihood optimization failed to \"\n"
     ]
    },
    {
     "name": "stdout",
     "output_type": "stream",
     "text": [
      "ETS\n",
      "NAIVE Benchmarks\n",
      "66\n",
      "Set up data\n",
      "start backtest\n",
      "Split 1\n",
      "Get Paramters from Auto ARIMA\n",
      "SARIMA\n",
      "SARIMAX\n",
      "ETS\n",
      "Naive Benchmarks\n",
      "Split 2\n",
      "Get Paramters from Auto ARIMA\n",
      "SARIMA\n",
      "SARIMAX\n",
      "ETS\n",
      "Naive Benchmarks\n",
      "Split 3\n",
      "Get Paramters from Auto ARIMA\n",
      "SARIMA\n",
      "SARIMAX\n",
      "ETS\n",
      "Naive Benchmarks\n",
      "Split 4\n",
      "Get Paramters from Auto ARIMA\n",
      "SARIMA\n",
      "SARIMAX\n",
      "ETS\n",
      "Naive Benchmarks\n",
      "Split 5\n",
      "Get Paramters from Auto ARIMA\n",
      "SARIMA\n",
      "SARIMAX\n",
      "ETS\n",
      "Naive Benchmarks\n",
      "start forecast\n",
      "Get Paramters from Auto ARIMA\n",
      "auto_arima Parameters: (0, 1, 2)\n",
      "auto_arima Seasonal Parameters: (0, 0, 0, 7)\n",
      "SARIMA\n",
      "SARIMAX\n",
      "ETS\n",
      "NAIVE Benchmarks\n",
      "43\n",
      "Set up data\n",
      "start backtest\n",
      "Split 1\n",
      "Get Paramters from Auto ARIMA\n",
      "SARIMA\n",
      "SARIMAX\n"
     ]
    },
    {
     "name": "stderr",
     "output_type": "stream",
     "text": [
      "/opt/miniconda3/envs/snowflakes/lib/python3.10/site-packages/statsmodels/tsa/statespace/sarimax.py:966: UserWarning: Non-stationary starting autoregressive parameters found. Using zeros as starting parameters.\n",
      "  warn('Non-stationary starting autoregressive parameters'\n",
      "/opt/miniconda3/envs/snowflakes/lib/python3.10/site-packages/statsmodels/tsa/statespace/sarimax.py:966: UserWarning: Non-stationary starting autoregressive parameters found. Using zeros as starting parameters.\n",
      "  warn('Non-stationary starting autoregressive parameters'\n"
     ]
    },
    {
     "name": "stdout",
     "output_type": "stream",
     "text": [
      "ETS\n",
      "Naive Benchmarks\n",
      "Split 2\n",
      "Get Paramters from Auto ARIMA\n"
     ]
    },
    {
     "name": "stderr",
     "output_type": "stream",
     "text": [
      "/opt/miniconda3/envs/snowflakes/lib/python3.10/site-packages/pmdarima/arima/_auto_solvers.py:522: ModelFitWarning: Error fitting  ARIMA(1,0,2)(2,0,0)[7] intercept (if you do not want to see these warnings, run with error_action=\"ignore\").\n",
      "Traceback:\n",
      "Traceback (most recent call last):\n",
      "  File \"/opt/miniconda3/envs/snowflakes/lib/python3.10/site-packages/pmdarima/arima/_auto_solvers.py\", line 506, in _fit_candidate_model\n",
      "    fit.fit(y, X=X, **fit_params)\n",
      "  File \"/opt/miniconda3/envs/snowflakes/lib/python3.10/site-packages/pmdarima/arima/arima.py\", line 603, in fit\n",
      "    self._fit(y, X, **fit_args)\n",
      "  File \"/opt/miniconda3/envs/snowflakes/lib/python3.10/site-packages/pmdarima/arima/arima.py\", line 524, in _fit\n",
      "    fit, self.arima_res_ = _fit_wrapper()\n",
      "  File \"/opt/miniconda3/envs/snowflakes/lib/python3.10/site-packages/pmdarima/arima/arima.py\", line 510, in _fit_wrapper\n",
      "    fitted = arima.fit(\n",
      "  File \"/opt/miniconda3/envs/snowflakes/lib/python3.10/site-packages/statsmodels/tsa/statespace/mlemodel.py\", line 704, in fit\n",
      "    mlefit = super(MLEModel, self).fit(start_params, method=method,\n",
      "  File \"/opt/miniconda3/envs/snowflakes/lib/python3.10/site-packages/statsmodels/base/model.py\", line 563, in fit\n",
      "    xopt, retvals, optim_settings = optimizer._fit(f, score, start_params,\n",
      "  File \"/opt/miniconda3/envs/snowflakes/lib/python3.10/site-packages/statsmodels/base/optimizer.py\", line 241, in _fit\n",
      "    xopt, retvals = func(objective, gradient, start_params, fargs, kwargs,\n",
      "  File \"/opt/miniconda3/envs/snowflakes/lib/python3.10/site-packages/statsmodels/base/optimizer.py\", line 651, in _fit_lbfgs\n",
      "    retvals = optimize.fmin_l_bfgs_b(func, start_params, maxiter=maxiter,\n",
      "  File \"/opt/miniconda3/envs/snowflakes/lib/python3.10/site-packages/scipy/optimize/_lbfgsb_py.py\", line 197, in fmin_l_bfgs_b\n",
      "    res = _minimize_lbfgsb(fun, x0, args=args, jac=jac, bounds=bounds,\n",
      "  File \"/opt/miniconda3/envs/snowflakes/lib/python3.10/site-packages/scipy/optimize/_lbfgsb_py.py\", line 360, in _minimize_lbfgsb\n",
      "    f, g = func_and_grad(x)\n",
      "  File \"/opt/miniconda3/envs/snowflakes/lib/python3.10/site-packages/scipy/optimize/_differentiable_functions.py\", line 285, in fun_and_grad\n",
      "    self._update_fun()\n",
      "  File \"/opt/miniconda3/envs/snowflakes/lib/python3.10/site-packages/scipy/optimize/_differentiable_functions.py\", line 251, in _update_fun\n",
      "    self._update_fun_impl()\n",
      "  File \"/opt/miniconda3/envs/snowflakes/lib/python3.10/site-packages/scipy/optimize/_differentiable_functions.py\", line 155, in update_fun\n",
      "    self.f = fun_wrapped(self.x)\n",
      "  File \"/opt/miniconda3/envs/snowflakes/lib/python3.10/site-packages/scipy/optimize/_differentiable_functions.py\", line 137, in fun_wrapped\n",
      "    fx = fun(np.copy(x), *args)\n",
      "  File \"/opt/miniconda3/envs/snowflakes/lib/python3.10/site-packages/statsmodels/base/model.py\", line 531, in f\n",
      "    return -self.loglike(params, *args) / nobs\n",
      "  File \"/opt/miniconda3/envs/snowflakes/lib/python3.10/site-packages/statsmodels/tsa/statespace/mlemodel.py\", line 939, in loglike\n",
      "    loglike = self.ssm.loglike(complex_step=complex_step, **kwargs)\n",
      "  File \"/opt/miniconda3/envs/snowflakes/lib/python3.10/site-packages/statsmodels/tsa/statespace/kalman_filter.py\", line 983, in loglike\n",
      "    kfilter = self._filter(**kwargs)\n",
      "  File \"/opt/miniconda3/envs/snowflakes/lib/python3.10/site-packages/statsmodels/tsa/statespace/kalman_filter.py\", line 903, in _filter\n",
      "    self._initialize_state(prefix=prefix, complex_step=complex_step)\n",
      "  File \"/opt/miniconda3/envs/snowflakes/lib/python3.10/site-packages/statsmodels/tsa/statespace/representation.py\", line 983, in _initialize_state\n",
      "    self._statespaces[prefix].initialize(self.initialization,\n",
      "  File \"statsmodels/tsa/statespace/_representation.pyx\", line 1362, in statsmodels.tsa.statespace._representation.dStatespace.initialize\n",
      "  File \"statsmodels/tsa/statespace/_initialization.pyx\", line 288, in statsmodels.tsa.statespace._initialization.dInitialization.initialize\n",
      "  File \"statsmodels/tsa/statespace/_initialization.pyx\", line 406, in statsmodels.tsa.statespace._initialization.dInitialization.initialize_stationary_stationary_cov\n",
      "  File \"statsmodels/tsa/statespace/_tools.pyx\", line 1206, in statsmodels.tsa.statespace._tools._dsolve_discrete_lyapunov\n",
      "numpy.linalg.LinAlgError: LU decomposition error.\n",
      "\n",
      "  warnings.warn(warning_str, ModelFitWarning)\n"
     ]
    },
    {
     "name": "stdout",
     "output_type": "stream",
     "text": [
      "SARIMA\n",
      "SARIMAX\n"
     ]
    },
    {
     "name": "stderr",
     "output_type": "stream",
     "text": [
      "/opt/miniconda3/envs/snowflakes/lib/python3.10/site-packages/statsmodels/tsa/statespace/sarimax.py:966: UserWarning: Non-stationary starting autoregressive parameters found. Using zeros as starting parameters.\n",
      "  warn('Non-stationary starting autoregressive parameters'\n",
      "/opt/miniconda3/envs/snowflakes/lib/python3.10/site-packages/statsmodels/tsa/statespace/sarimax.py:966: UserWarning: Non-stationary starting autoregressive parameters found. Using zeros as starting parameters.\n",
      "  warn('Non-stationary starting autoregressive parameters'\n",
      "/opt/miniconda3/envs/snowflakes/lib/python3.10/site-packages/statsmodels/base/model.py:604: ConvergenceWarning: Maximum Likelihood optimization failed to converge. Check mle_retvals\n",
      "  warnings.warn(\"Maximum Likelihood optimization failed to \"\n"
     ]
    },
    {
     "name": "stdout",
     "output_type": "stream",
     "text": [
      "ETS\n",
      "Naive Benchmarks\n",
      "Split 3\n",
      "Get Paramters from Auto ARIMA\n",
      "SARIMA\n",
      "SARIMAX\n"
     ]
    },
    {
     "name": "stderr",
     "output_type": "stream",
     "text": [
      "/opt/miniconda3/envs/snowflakes/lib/python3.10/site-packages/statsmodels/tsa/statespace/sarimax.py:966: UserWarning: Non-stationary starting autoregressive parameters found. Using zeros as starting parameters.\n",
      "  warn('Non-stationary starting autoregressive parameters'\n"
     ]
    },
    {
     "name": "stdout",
     "output_type": "stream",
     "text": [
      "ETS\n",
      "Naive Benchmarks\n",
      "Split 4\n",
      "Get Paramters from Auto ARIMA\n",
      "SARIMA\n",
      "SARIMAX\n"
     ]
    },
    {
     "name": "stderr",
     "output_type": "stream",
     "text": [
      "/opt/miniconda3/envs/snowflakes/lib/python3.10/site-packages/statsmodels/tsa/statespace/sarimax.py:966: UserWarning: Non-stationary starting autoregressive parameters found. Using zeros as starting parameters.\n",
      "  warn('Non-stationary starting autoregressive parameters'\n",
      "/opt/miniconda3/envs/snowflakes/lib/python3.10/site-packages/statsmodels/tsa/statespace/sarimax.py:978: UserWarning: Non-invertible starting MA parameters found. Using zeros as starting parameters.\n",
      "  warn('Non-invertible starting MA parameters found.'\n",
      "/opt/miniconda3/envs/snowflakes/lib/python3.10/site-packages/statsmodels/tsa/statespace/sarimax.py:966: UserWarning: Non-stationary starting autoregressive parameters found. Using zeros as starting parameters.\n",
      "  warn('Non-stationary starting autoregressive parameters'\n",
      "/opt/miniconda3/envs/snowflakes/lib/python3.10/site-packages/statsmodels/tsa/statespace/sarimax.py:978: UserWarning: Non-invertible starting MA parameters found. Using zeros as starting parameters.\n",
      "  warn('Non-invertible starting MA parameters found.'\n"
     ]
    },
    {
     "name": "stdout",
     "output_type": "stream",
     "text": [
      "ETS\n",
      "Naive Benchmarks\n",
      "Split 5\n",
      "Get Paramters from Auto ARIMA\n",
      "SARIMA\n"
     ]
    },
    {
     "name": "stderr",
     "output_type": "stream",
     "text": [
      "/opt/miniconda3/envs/snowflakes/lib/python3.10/site-packages/statsmodels/tsa/statespace/sarimax.py:966: UserWarning: Non-stationary starting autoregressive parameters found. Using zeros as starting parameters.\n",
      "  warn('Non-stationary starting autoregressive parameters'\n",
      "/opt/miniconda3/envs/snowflakes/lib/python3.10/site-packages/statsmodels/tsa/statespace/sarimax.py:978: UserWarning: Non-invertible starting MA parameters found. Using zeros as starting parameters.\n",
      "  warn('Non-invertible starting MA parameters found.'\n"
     ]
    },
    {
     "name": "stdout",
     "output_type": "stream",
     "text": [
      "SARIMAX\n"
     ]
    },
    {
     "name": "stderr",
     "output_type": "stream",
     "text": [
      "/opt/miniconda3/envs/snowflakes/lib/python3.10/site-packages/statsmodels/tsa/statespace/sarimax.py:966: UserWarning: Non-stationary starting autoregressive parameters found. Using zeros as starting parameters.\n",
      "  warn('Non-stationary starting autoregressive parameters'\n",
      "/opt/miniconda3/envs/snowflakes/lib/python3.10/site-packages/statsmodels/tsa/statespace/sarimax.py:978: UserWarning: Non-invertible starting MA parameters found. Using zeros as starting parameters.\n",
      "  warn('Non-invertible starting MA parameters found.'\n"
     ]
    },
    {
     "name": "stdout",
     "output_type": "stream",
     "text": [
      "ETS\n",
      "Naive Benchmarks\n",
      "start forecast\n",
      "Get Paramters from Auto ARIMA\n",
      "auto_arima Parameters: (2, 0, 2)\n",
      "auto_arima Seasonal Parameters: (0, 0, 1, 7)\n",
      "SARIMA\n"
     ]
    },
    {
     "name": "stderr",
     "output_type": "stream",
     "text": [
      "/opt/miniconda3/envs/snowflakes/lib/python3.10/site-packages/statsmodels/tsa/statespace/sarimax.py:966: UserWarning: Non-stationary starting autoregressive parameters found. Using zeros as starting parameters.\n",
      "  warn('Non-stationary starting autoregressive parameters'\n"
     ]
    },
    {
     "name": "stdout",
     "output_type": "stream",
     "text": [
      "SARIMAX\n"
     ]
    },
    {
     "name": "stderr",
     "output_type": "stream",
     "text": [
      "/opt/miniconda3/envs/snowflakes/lib/python3.10/site-packages/statsmodels/tsa/statespace/sarimax.py:966: UserWarning: Non-stationary starting autoregressive parameters found. Using zeros as starting parameters.\n",
      "  warn('Non-stationary starting autoregressive parameters'\n",
      "/opt/miniconda3/envs/snowflakes/lib/python3.10/site-packages/statsmodels/tsa/statespace/sarimax.py:978: UserWarning: Non-invertible starting MA parameters found. Using zeros as starting parameters.\n",
      "  warn('Non-invertible starting MA parameters found.'\n",
      "/opt/miniconda3/envs/snowflakes/lib/python3.10/site-packages/statsmodels/base/model.py:604: ConvergenceWarning: Maximum Likelihood optimization failed to converge. Check mle_retvals\n",
      "  warnings.warn(\"Maximum Likelihood optimization failed to \"\n"
     ]
    },
    {
     "name": "stdout",
     "output_type": "stream",
     "text": [
      "ETS\n",
      "NAIVE Benchmarks\n",
      "15\n",
      "Set up data\n",
      "start backtest\n",
      "Split 1\n",
      "Get Paramters from Auto ARIMA\n",
      "SARIMA\n",
      "SARIMAX\n",
      "ETS\n",
      "Naive Benchmarks\n",
      "Split 2\n",
      "Get Paramters from Auto ARIMA\n",
      "SARIMA\n",
      "SARIMAX\n",
      "ETS\n",
      "Naive Benchmarks\n",
      "Split 3\n",
      "Get Paramters from Auto ARIMA\n",
      "SARIMA\n",
      "SARIMAX\n",
      "ETS\n",
      "Naive Benchmarks\n",
      "Split 4\n",
      "Get Paramters from Auto ARIMA\n",
      "SARIMA\n",
      "SARIMAX\n",
      "ETS\n",
      "Naive Benchmarks\n",
      "Split 5\n",
      "Get Paramters from Auto ARIMA\n",
      "SARIMA\n"
     ]
    },
    {
     "name": "stderr",
     "output_type": "stream",
     "text": [
      "/opt/miniconda3/envs/snowflakes/lib/python3.10/site-packages/statsmodels/tsa/statespace/sarimax.py:978: UserWarning: Non-invertible starting MA parameters found. Using zeros as starting parameters.\n",
      "  warn('Non-invertible starting MA parameters found.'\n"
     ]
    },
    {
     "name": "stdout",
     "output_type": "stream",
     "text": [
      "SARIMAX\n"
     ]
    },
    {
     "name": "stderr",
     "output_type": "stream",
     "text": [
      "/opt/miniconda3/envs/snowflakes/lib/python3.10/site-packages/statsmodels/tsa/statespace/sarimax.py:978: UserWarning: Non-invertible starting MA parameters found. Using zeros as starting parameters.\n",
      "  warn('Non-invertible starting MA parameters found.'\n",
      "/opt/miniconda3/envs/snowflakes/lib/python3.10/site-packages/statsmodels/base/model.py:604: ConvergenceWarning: Maximum Likelihood optimization failed to converge. Check mle_retvals\n",
      "  warnings.warn(\"Maximum Likelihood optimization failed to \"\n"
     ]
    },
    {
     "name": "stdout",
     "output_type": "stream",
     "text": [
      "ETS\n",
      "Naive Benchmarks\n",
      "start forecast\n",
      "Get Paramters from Auto ARIMA\n",
      "auto_arima Parameters: (2, 1, 2)\n",
      "auto_arima Seasonal Parameters: (1, 0, 0, 7)\n",
      "SARIMA\n",
      "SARIMAX\n"
     ]
    },
    {
     "name": "stderr",
     "output_type": "stream",
     "text": [
      "/opt/miniconda3/envs/snowflakes/lib/python3.10/site-packages/statsmodels/base/model.py:604: ConvergenceWarning: Maximum Likelihood optimization failed to converge. Check mle_retvals\n",
      "  warnings.warn(\"Maximum Likelihood optimization failed to \"\n"
     ]
    },
    {
     "name": "stdout",
     "output_type": "stream",
     "text": [
      "ETS\n",
      "NAIVE Benchmarks\n",
      "1\n",
      "Set up data\n",
      "start backtest\n",
      "Split 1\n",
      "Get Paramters from Auto ARIMA\n",
      "SARIMA\n",
      "SARIMAX\n",
      "ETS\n",
      "Naive Benchmarks\n",
      "Split 2\n",
      "Get Paramters from Auto ARIMA\n",
      "SARIMA\n",
      "SARIMAX\n",
      "ETS\n",
      "Naive Benchmarks\n",
      "Split 3\n",
      "Get Paramters from Auto ARIMA\n",
      "SARIMA\n",
      "SARIMAX\n",
      "ETS\n",
      "Naive Benchmarks\n",
      "Split 4\n",
      "Get Paramters from Auto ARIMA\n",
      "SARIMA\n",
      "SARIMAX\n",
      "ETS\n",
      "Naive Benchmarks\n",
      "Split 5\n",
      "Get Paramters from Auto ARIMA\n",
      "SARIMA\n",
      "SARIMAX\n"
     ]
    },
    {
     "name": "stderr",
     "output_type": "stream",
     "text": [
      "/opt/miniconda3/envs/snowflakes/lib/python3.10/site-packages/statsmodels/base/model.py:604: ConvergenceWarning: Maximum Likelihood optimization failed to converge. Check mle_retvals\n",
      "  warnings.warn(\"Maximum Likelihood optimization failed to \"\n"
     ]
    },
    {
     "name": "stdout",
     "output_type": "stream",
     "text": [
      "ETS\n",
      "Naive Benchmarks\n",
      "start forecast\n",
      "Get Paramters from Auto ARIMA\n",
      "auto_arima Parameters: (3, 1, 0)\n",
      "auto_arima Seasonal Parameters: (0, 0, 0, 7)\n",
      "SARIMA\n",
      "SARIMAX\n"
     ]
    },
    {
     "name": "stderr",
     "output_type": "stream",
     "text": [
      "/opt/miniconda3/envs/snowflakes/lib/python3.10/site-packages/statsmodels/base/model.py:604: ConvergenceWarning: Maximum Likelihood optimization failed to converge. Check mle_retvals\n",
      "  warnings.warn(\"Maximum Likelihood optimization failed to \"\n"
     ]
    },
    {
     "name": "stdout",
     "output_type": "stream",
     "text": [
      "ETS\n",
      "NAIVE Benchmarks\n",
      "29\n",
      "Set up data\n",
      "start backtest\n",
      "Split 1\n",
      "Get Paramters from Auto ARIMA\n"
     ]
    },
    {
     "name": "stderr",
     "output_type": "stream",
     "text": [
      "/opt/miniconda3/envs/snowflakes/lib/python3.10/site-packages/pmdarima/arima/_auto_solvers.py:522: ModelFitWarning: Error fitting  ARIMA(0,0,4)(1,0,0)[7] intercept (if you do not want to see these warnings, run with error_action=\"ignore\").\n",
      "Traceback:\n",
      "Traceback (most recent call last):\n",
      "  File \"/opt/miniconda3/envs/snowflakes/lib/python3.10/site-packages/pmdarima/arima/_auto_solvers.py\", line 506, in _fit_candidate_model\n",
      "    fit.fit(y, X=X, **fit_params)\n",
      "  File \"/opt/miniconda3/envs/snowflakes/lib/python3.10/site-packages/pmdarima/arima/arima.py\", line 603, in fit\n",
      "    self._fit(y, X, **fit_args)\n",
      "  File \"/opt/miniconda3/envs/snowflakes/lib/python3.10/site-packages/pmdarima/arima/arima.py\", line 524, in _fit\n",
      "    fit, self.arima_res_ = _fit_wrapper()\n",
      "  File \"/opt/miniconda3/envs/snowflakes/lib/python3.10/site-packages/pmdarima/arima/arima.py\", line 510, in _fit_wrapper\n",
      "    fitted = arima.fit(\n",
      "  File \"/opt/miniconda3/envs/snowflakes/lib/python3.10/site-packages/statsmodels/tsa/statespace/mlemodel.py\", line 704, in fit\n",
      "    mlefit = super(MLEModel, self).fit(start_params, method=method,\n",
      "  File \"/opt/miniconda3/envs/snowflakes/lib/python3.10/site-packages/statsmodels/base/model.py\", line 563, in fit\n",
      "    xopt, retvals, optim_settings = optimizer._fit(f, score, start_params,\n",
      "  File \"/opt/miniconda3/envs/snowflakes/lib/python3.10/site-packages/statsmodels/base/optimizer.py\", line 241, in _fit\n",
      "    xopt, retvals = func(objective, gradient, start_params, fargs, kwargs,\n",
      "  File \"/opt/miniconda3/envs/snowflakes/lib/python3.10/site-packages/statsmodels/base/optimizer.py\", line 651, in _fit_lbfgs\n",
      "    retvals = optimize.fmin_l_bfgs_b(func, start_params, maxiter=maxiter,\n",
      "  File \"/opt/miniconda3/envs/snowflakes/lib/python3.10/site-packages/scipy/optimize/_lbfgsb_py.py\", line 197, in fmin_l_bfgs_b\n",
      "    res = _minimize_lbfgsb(fun, x0, args=args, jac=jac, bounds=bounds,\n",
      "  File \"/opt/miniconda3/envs/snowflakes/lib/python3.10/site-packages/scipy/optimize/_lbfgsb_py.py\", line 360, in _minimize_lbfgsb\n",
      "    f, g = func_and_grad(x)\n",
      "  File \"/opt/miniconda3/envs/snowflakes/lib/python3.10/site-packages/scipy/optimize/_differentiable_functions.py\", line 285, in fun_and_grad\n",
      "    self._update_fun()\n",
      "  File \"/opt/miniconda3/envs/snowflakes/lib/python3.10/site-packages/scipy/optimize/_differentiable_functions.py\", line 251, in _update_fun\n",
      "    self._update_fun_impl()\n",
      "  File \"/opt/miniconda3/envs/snowflakes/lib/python3.10/site-packages/scipy/optimize/_differentiable_functions.py\", line 155, in update_fun\n",
      "    self.f = fun_wrapped(self.x)\n",
      "  File \"/opt/miniconda3/envs/snowflakes/lib/python3.10/site-packages/scipy/optimize/_differentiable_functions.py\", line 137, in fun_wrapped\n",
      "    fx = fun(np.copy(x), *args)\n",
      "  File \"/opt/miniconda3/envs/snowflakes/lib/python3.10/site-packages/statsmodels/base/model.py\", line 531, in f\n",
      "    return -self.loglike(params, *args) / nobs\n",
      "  File \"/opt/miniconda3/envs/snowflakes/lib/python3.10/site-packages/statsmodels/tsa/statespace/mlemodel.py\", line 939, in loglike\n",
      "    loglike = self.ssm.loglike(complex_step=complex_step, **kwargs)\n",
      "  File \"/opt/miniconda3/envs/snowflakes/lib/python3.10/site-packages/statsmodels/tsa/statespace/kalman_filter.py\", line 983, in loglike\n",
      "    kfilter = self._filter(**kwargs)\n",
      "  File \"/opt/miniconda3/envs/snowflakes/lib/python3.10/site-packages/statsmodels/tsa/statespace/kalman_filter.py\", line 903, in _filter\n",
      "    self._initialize_state(prefix=prefix, complex_step=complex_step)\n",
      "  File \"/opt/miniconda3/envs/snowflakes/lib/python3.10/site-packages/statsmodels/tsa/statespace/representation.py\", line 983, in _initialize_state\n",
      "    self._statespaces[prefix].initialize(self.initialization,\n",
      "  File \"statsmodels/tsa/statespace/_representation.pyx\", line 1362, in statsmodels.tsa.statespace._representation.dStatespace.initialize\n",
      "  File \"statsmodels/tsa/statespace/_initialization.pyx\", line 288, in statsmodels.tsa.statespace._initialization.dInitialization.initialize\n",
      "  File \"statsmodels/tsa/statespace/_initialization.pyx\", line 406, in statsmodels.tsa.statespace._initialization.dInitialization.initialize_stationary_stationary_cov\n",
      "  File \"statsmodels/tsa/statespace/_tools.pyx\", line 1284, in statsmodels.tsa.statespace._tools._dsolve_discrete_lyapunov\n",
      "numpy.linalg.LinAlgError: Schur decomposition solver error.\n",
      "\n",
      "  warnings.warn(warning_str, ModelFitWarning)\n",
      "/opt/miniconda3/envs/snowflakes/lib/python3.10/site-packages/pmdarima/arima/_auto_solvers.py:522: ModelFitWarning: Error fitting  ARIMA(1,0,4)(0,0,0)[7] intercept (if you do not want to see these warnings, run with error_action=\"ignore\").\n",
      "Traceback:\n",
      "Traceback (most recent call last):\n",
      "  File \"/opt/miniconda3/envs/snowflakes/lib/python3.10/site-packages/pmdarima/arima/_auto_solvers.py\", line 506, in _fit_candidate_model\n",
      "    fit.fit(y, X=X, **fit_params)\n",
      "  File \"/opt/miniconda3/envs/snowflakes/lib/python3.10/site-packages/pmdarima/arima/arima.py\", line 603, in fit\n",
      "    self._fit(y, X, **fit_args)\n",
      "  File \"/opt/miniconda3/envs/snowflakes/lib/python3.10/site-packages/pmdarima/arima/arima.py\", line 524, in _fit\n",
      "    fit, self.arima_res_ = _fit_wrapper()\n",
      "  File \"/opt/miniconda3/envs/snowflakes/lib/python3.10/site-packages/pmdarima/arima/arima.py\", line 510, in _fit_wrapper\n",
      "    fitted = arima.fit(\n",
      "  File \"/opt/miniconda3/envs/snowflakes/lib/python3.10/site-packages/statsmodels/tsa/statespace/mlemodel.py\", line 704, in fit\n",
      "    mlefit = super(MLEModel, self).fit(start_params, method=method,\n",
      "  File \"/opt/miniconda3/envs/snowflakes/lib/python3.10/site-packages/statsmodels/base/model.py\", line 563, in fit\n",
      "    xopt, retvals, optim_settings = optimizer._fit(f, score, start_params,\n",
      "  File \"/opt/miniconda3/envs/snowflakes/lib/python3.10/site-packages/statsmodels/base/optimizer.py\", line 241, in _fit\n",
      "    xopt, retvals = func(objective, gradient, start_params, fargs, kwargs,\n",
      "  File \"/opt/miniconda3/envs/snowflakes/lib/python3.10/site-packages/statsmodels/base/optimizer.py\", line 651, in _fit_lbfgs\n",
      "    retvals = optimize.fmin_l_bfgs_b(func, start_params, maxiter=maxiter,\n",
      "  File \"/opt/miniconda3/envs/snowflakes/lib/python3.10/site-packages/scipy/optimize/_lbfgsb_py.py\", line 197, in fmin_l_bfgs_b\n",
      "    res = _minimize_lbfgsb(fun, x0, args=args, jac=jac, bounds=bounds,\n",
      "  File \"/opt/miniconda3/envs/snowflakes/lib/python3.10/site-packages/scipy/optimize/_lbfgsb_py.py\", line 360, in _minimize_lbfgsb\n",
      "    f, g = func_and_grad(x)\n",
      "  File \"/opt/miniconda3/envs/snowflakes/lib/python3.10/site-packages/scipy/optimize/_differentiable_functions.py\", line 285, in fun_and_grad\n",
      "    self._update_fun()\n",
      "  File \"/opt/miniconda3/envs/snowflakes/lib/python3.10/site-packages/scipy/optimize/_differentiable_functions.py\", line 251, in _update_fun\n",
      "    self._update_fun_impl()\n",
      "  File \"/opt/miniconda3/envs/snowflakes/lib/python3.10/site-packages/scipy/optimize/_differentiable_functions.py\", line 155, in update_fun\n",
      "    self.f = fun_wrapped(self.x)\n",
      "  File \"/opt/miniconda3/envs/snowflakes/lib/python3.10/site-packages/scipy/optimize/_differentiable_functions.py\", line 137, in fun_wrapped\n",
      "    fx = fun(np.copy(x), *args)\n",
      "  File \"/opt/miniconda3/envs/snowflakes/lib/python3.10/site-packages/statsmodels/base/model.py\", line 531, in f\n",
      "    return -self.loglike(params, *args) / nobs\n",
      "  File \"/opt/miniconda3/envs/snowflakes/lib/python3.10/site-packages/statsmodels/tsa/statespace/mlemodel.py\", line 939, in loglike\n",
      "    loglike = self.ssm.loglike(complex_step=complex_step, **kwargs)\n",
      "  File \"/opt/miniconda3/envs/snowflakes/lib/python3.10/site-packages/statsmodels/tsa/statespace/kalman_filter.py\", line 983, in loglike\n",
      "    kfilter = self._filter(**kwargs)\n",
      "  File \"/opt/miniconda3/envs/snowflakes/lib/python3.10/site-packages/statsmodels/tsa/statespace/kalman_filter.py\", line 903, in _filter\n",
      "    self._initialize_state(prefix=prefix, complex_step=complex_step)\n",
      "  File \"/opt/miniconda3/envs/snowflakes/lib/python3.10/site-packages/statsmodels/tsa/statespace/representation.py\", line 983, in _initialize_state\n",
      "    self._statespaces[prefix].initialize(self.initialization,\n",
      "  File \"statsmodels/tsa/statespace/_representation.pyx\", line 1362, in statsmodels.tsa.statespace._representation.dStatespace.initialize\n",
      "  File \"statsmodels/tsa/statespace/_initialization.pyx\", line 288, in statsmodels.tsa.statespace._initialization.dInitialization.initialize\n",
      "  File \"statsmodels/tsa/statespace/_initialization.pyx\", line 406, in statsmodels.tsa.statespace._initialization.dInitialization.initialize_stationary_stationary_cov\n",
      "  File \"statsmodels/tsa/statespace/_tools.pyx\", line 1284, in statsmodels.tsa.statespace._tools._dsolve_discrete_lyapunov\n",
      "numpy.linalg.LinAlgError: Schur decomposition solver error.\n",
      "\n",
      "  warnings.warn(warning_str, ModelFitWarning)\n"
     ]
    },
    {
     "name": "stdout",
     "output_type": "stream",
     "text": [
      "SARIMA\n",
      "SARIMAX\n"
     ]
    },
    {
     "name": "stderr",
     "output_type": "stream",
     "text": [
      "/opt/miniconda3/envs/snowflakes/lib/python3.10/site-packages/statsmodels/tsa/statespace/sarimax.py:997: UserWarning: Non-stationary starting seasonal autoregressive Using zeros as starting parameters.\n",
      "  warn('Non-stationary starting seasonal autoregressive'\n",
      "/opt/miniconda3/envs/snowflakes/lib/python3.10/site-packages/statsmodels/tsa/statespace/sarimax.py:997: UserWarning: Non-stationary starting seasonal autoregressive Using zeros as starting parameters.\n",
      "  warn('Non-stationary starting seasonal autoregressive'\n"
     ]
    },
    {
     "name": "stdout",
     "output_type": "stream",
     "text": [
      "ETS\n",
      "Naive Benchmarks\n",
      "Split 2\n",
      "Get Paramters from Auto ARIMA\n",
      "SARIMA\n",
      "SARIMAX\n"
     ]
    },
    {
     "name": "stderr",
     "output_type": "stream",
     "text": [
      "/opt/miniconda3/envs/snowflakes/lib/python3.10/site-packages/statsmodels/tsa/statespace/sarimax.py:997: UserWarning: Non-stationary starting seasonal autoregressive Using zeros as starting parameters.\n",
      "  warn('Non-stationary starting seasonal autoregressive'\n",
      "/opt/miniconda3/envs/snowflakes/lib/python3.10/site-packages/statsmodels/tsa/statespace/sarimax.py:997: UserWarning: Non-stationary starting seasonal autoregressive Using zeros as starting parameters.\n",
      "  warn('Non-stationary starting seasonal autoregressive'\n"
     ]
    },
    {
     "name": "stdout",
     "output_type": "stream",
     "text": [
      "ETS\n",
      "Naive Benchmarks\n",
      "Split 3\n",
      "Get Paramters from Auto ARIMA\n",
      "SARIMA\n",
      "SARIMAX\n",
      "ETS\n",
      "Naive Benchmarks\n",
      "Split 4\n",
      "Get Paramters from Auto ARIMA\n",
      "SARIMA\n",
      "SARIMAX\n",
      "ETS\n",
      "Naive Benchmarks\n",
      "Split 5\n",
      "Get Paramters from Auto ARIMA\n",
      "SARIMA\n",
      "SARIMAX\n",
      "ETS\n",
      "Naive Benchmarks\n",
      "start forecast\n",
      "Get Paramters from Auto ARIMA\n",
      "auto_arima Parameters: (0, 1, 1)\n",
      "auto_arima Seasonal Parameters: (0, 0, 0, 7)\n",
      "SARIMA\n",
      "SARIMAX\n",
      "ETS\n",
      "NAIVE Benchmarks\n",
      "4\n",
      "Set up data\n",
      "start backtest\n",
      "Split 1\n",
      "Get Paramters from Auto ARIMA\n"
     ]
    },
    {
     "ename": "ValueError",
     "evalue": "There are no more samples after a first-order seasonal differencing. See http://alkaline-ml.com/pmdarima/seasonal-differencing-issues.html for a more in-depth explanation and potential work-arounds.",
     "output_type": "error",
     "traceback": [
      "\u001b[0;31m---------------------------------------------------------------------------\u001b[0m",
      "\u001b[0;31mValueError\u001b[0m                                Traceback (most recent call last)",
      "File \u001b[0;32m<timed exec>:101\u001b[0m\n",
      "Cell \u001b[0;32mIn [8], line 16\u001b[0m, in \u001b[0;36mts_backtest\u001b[0;34m(train_data, tscv)\u001b[0m\n\u001b[1;32m     14\u001b[0m \u001b[38;5;28mprint\u001b[39m(\u001b[38;5;124m\"\u001b[39m\u001b[38;5;124mGet Paramters from Auto ARIMA\u001b[39m\u001b[38;5;124m\"\u001b[39m)\n\u001b[1;32m     15\u001b[0m \u001b[38;5;66;03m# Auto ARIMA\u001b[39;00m\n\u001b[0;32m---> 16\u001b[0m auto_arima_model \u001b[38;5;241m=\u001b[39m \u001b[43mpm\u001b[49m\u001b[38;5;241;43m.\u001b[39;49m\u001b[43mauto_arima\u001b[49m\u001b[43m(\u001b[49m\u001b[43msales_train\u001b[49m\u001b[43m,\u001b[49m\u001b[43m \u001b[49m\u001b[43mseasonal\u001b[49m\u001b[38;5;241;43m=\u001b[39;49m\u001b[38;5;28;43;01mTrue\u001b[39;49;00m\u001b[43m,\u001b[49m\u001b[43m \u001b[49m\u001b[43mm\u001b[49m\u001b[38;5;241;43m=\u001b[39;49m\u001b[38;5;241;43m7\u001b[39;49m\u001b[43m,\u001b[49m\n\u001b[1;32m     17\u001b[0m \u001b[43m                                 \u001b[49m\u001b[43msuppress_warnings\u001b[49m\u001b[38;5;241;43m=\u001b[39;49m\u001b[38;5;28;43;01mTrue\u001b[39;49;00m\u001b[43m,\u001b[49m\n\u001b[1;32m     18\u001b[0m \u001b[43m                                 \u001b[49m\u001b[43mstepwise\u001b[49m\u001b[38;5;241;43m=\u001b[39;49m\u001b[38;5;28;43;01mFalse\u001b[39;49;00m\u001b[43m,\u001b[49m\n\u001b[1;32m     19\u001b[0m \u001b[43m                                 \u001b[49m\u001b[43mn_jobs\u001b[49m\u001b[38;5;241;43m=\u001b[39;49m\u001b[38;5;241;43m-\u001b[39;49m\u001b[38;5;241;43m1\u001b[39;49m\u001b[43m)\u001b[49m\n\u001b[1;32m     20\u001b[0m \u001b[38;5;28mprint\u001b[39m(\u001b[38;5;124m\"\u001b[39m\u001b[38;5;124mSARIMA\u001b[39m\u001b[38;5;124m\"\u001b[39m)\n\u001b[1;32m     21\u001b[0m \u001b[38;5;66;03m# SARIMA\u001b[39;00m\n",
      "File \u001b[0;32m/opt/miniconda3/envs/snowflakes/lib/python3.10/site-packages/pmdarima/arima/auto.py:506\u001b[0m, in \u001b[0;36mauto_arima\u001b[0;34m(y, X, start_p, d, start_q, max_p, max_d, max_q, start_P, D, start_Q, max_P, max_D, max_Q, max_order, m, seasonal, stationary, information_criterion, alpha, test, seasonal_test, stepwise, n_jobs, start_params, trend, method, maxiter, offset_test_args, seasonal_test_args, suppress_warnings, error_action, trace, random, random_state, n_fits, return_valid_fits, out_of_sample_size, scoring, scoring_args, with_intercept, sarimax_kwargs, **fit_args)\u001b[0m\n\u001b[1;32m    504\u001b[0m \u001b[38;5;66;03m# m must be > 1 for nsdiffs\u001b[39;00m\n\u001b[1;32m    505\u001b[0m \u001b[38;5;28;01melif\u001b[39;00m D \u001b[38;5;129;01mis\u001b[39;00m \u001b[38;5;28;01mNone\u001b[39;00m:  \u001b[38;5;66;03m# we don't have a D yet and we need one (seasonal)\u001b[39;00m\n\u001b[0;32m--> 506\u001b[0m     D \u001b[38;5;241m=\u001b[39m \u001b[43mnsdiffs\u001b[49m\u001b[43m(\u001b[49m\u001b[43mxx\u001b[49m\u001b[43m,\u001b[49m\u001b[43m \u001b[49m\u001b[43mm\u001b[49m\u001b[38;5;241;43m=\u001b[39;49m\u001b[43mm\u001b[49m\u001b[43m,\u001b[49m\u001b[43m \u001b[49m\u001b[43mtest\u001b[49m\u001b[38;5;241;43m=\u001b[39;49m\u001b[43mseasonal_test\u001b[49m\u001b[43m,\u001b[49m\u001b[43m \u001b[49m\u001b[43mmax_D\u001b[49m\u001b[38;5;241;43m=\u001b[39;49m\u001b[43mmax_D\u001b[49m\u001b[43m,\u001b[49m\n\u001b[1;32m    507\u001b[0m \u001b[43m                \u001b[49m\u001b[38;5;241;43m*\u001b[39;49m\u001b[38;5;241;43m*\u001b[39;49m\u001b[43mseasonal_test_args\u001b[49m\u001b[43m)\u001b[49m\n\u001b[1;32m    509\u001b[0m     \u001b[38;5;28;01mif\u001b[39;00m D \u001b[38;5;241m>\u001b[39m \u001b[38;5;241m0\u001b[39m \u001b[38;5;129;01mand\u001b[39;00m X \u001b[38;5;129;01mis\u001b[39;00m \u001b[38;5;129;01mnot\u001b[39;00m \u001b[38;5;28;01mNone\u001b[39;00m:\n\u001b[1;32m    510\u001b[0m         diffxreg \u001b[38;5;241m=\u001b[39m diff(X, differences\u001b[38;5;241m=\u001b[39mD, lag\u001b[38;5;241m=\u001b[39mm)\n",
      "File \u001b[0;32m/opt/miniconda3/envs/snowflakes/lib/python3.10/site-packages/pmdarima/arima/utils.py:123\u001b[0m, in \u001b[0;36mnsdiffs\u001b[0;34m(x, m, max_D, test, **kwargs)\u001b[0m\n\u001b[1;32m    117\u001b[0m         warnings\u001b[38;5;241m.\u001b[39mwarn(\u001b[38;5;124m\"\u001b[39m\u001b[38;5;124mAppropriate D value may not have been reached; \u001b[39m\u001b[38;5;124m\"\u001b[39m\n\u001b[1;32m    118\u001b[0m                       \u001b[38;5;124m\"\u001b[39m\u001b[38;5;124mlength of seasonally-differenced array (\u001b[39m\u001b[38;5;132;01m%i\u001b[39;00m\u001b[38;5;124m) is \u001b[39m\u001b[38;5;124m\"\u001b[39m\n\u001b[1;32m    119\u001b[0m                       \u001b[38;5;124m\"\u001b[39m\u001b[38;5;124mshorter than m (\u001b[39m\u001b[38;5;132;01m%i\u001b[39;00m\u001b[38;5;124m). Using D=\u001b[39m\u001b[38;5;132;01m%i\u001b[39;00m\u001b[38;5;124m\"\u001b[39m\n\u001b[1;32m    120\u001b[0m                       \u001b[38;5;241m%\u001b[39m (\u001b[38;5;28mlen\u001b[39m(x), m, D))\n\u001b[1;32m    121\u001b[0m         \u001b[38;5;28;01mreturn\u001b[39;00m D\n\u001b[0;32m--> 123\u001b[0m     dodiff \u001b[38;5;241m=\u001b[39m \u001b[43mtestfunc\u001b[49m\u001b[43m(\u001b[49m\u001b[43mx\u001b[49m\u001b[43m)\u001b[49m\n\u001b[1;32m    125\u001b[0m \u001b[38;5;28;01mreturn\u001b[39;00m D\n",
      "File \u001b[0;32m/opt/miniconda3/envs/snowflakes/lib/python3.10/site-packages/pmdarima/arima/seasonality.py:597\u001b[0m, in \u001b[0;36mOCSBTest.estimate_seasonal_differencing_term\u001b[0;34m(self, x)\u001b[0m\n\u001b[1;32m    594\u001b[0m x \u001b[38;5;241m=\u001b[39m check_endog(x, dtype\u001b[38;5;241m=\u001b[39mDTYPE, preserve_series\u001b[38;5;241m=\u001b[39m\u001b[38;5;28;01mFalse\u001b[39;00m)\n\u001b[1;32m    596\u001b[0m \u001b[38;5;66;03m# Get the critical value for m\u001b[39;00m\n\u001b[0;32m--> 597\u001b[0m stat \u001b[38;5;241m=\u001b[39m \u001b[38;5;28;43mself\u001b[39;49m\u001b[38;5;241;43m.\u001b[39;49m\u001b[43m_compute_test_statistic\u001b[49m\u001b[43m(\u001b[49m\u001b[43mx\u001b[49m\u001b[43m)\u001b[49m\n\u001b[1;32m    598\u001b[0m crit_val \u001b[38;5;241m=\u001b[39m \u001b[38;5;28mself\u001b[39m\u001b[38;5;241m.\u001b[39m_calc_ocsb_crit_val(\u001b[38;5;28mself\u001b[39m\u001b[38;5;241m.\u001b[39mm)\n\u001b[1;32m    599\u001b[0m \u001b[38;5;28;01mreturn\u001b[39;00m \u001b[38;5;28mint\u001b[39m(stat \u001b[38;5;241m>\u001b[39m crit_val)\n",
      "File \u001b[0;32m/opt/miniconda3/envs/snowflakes/lib/python3.10/site-packages/pmdarima/arima/seasonality.py:537\u001b[0m, in \u001b[0;36mOCSBTest._compute_test_statistic\u001b[0;34m(self, x)\u001b[0m\n\u001b[1;32m    535\u001b[0m \u001b[38;5;28;01mfor\u001b[39;00m lag_term \u001b[38;5;129;01min\u001b[39;00m \u001b[38;5;28mrange\u001b[39m(\u001b[38;5;241m1\u001b[39m, maxlag \u001b[38;5;241m+\u001b[39m \u001b[38;5;241m1\u001b[39m):  \u001b[38;5;66;03m# 1 -> maxlag (incl)\u001b[39;00m\n\u001b[1;32m    536\u001b[0m     \u001b[38;5;28;01mtry\u001b[39;00m:\n\u001b[0;32m--> 537\u001b[0m         fit \u001b[38;5;241m=\u001b[39m \u001b[38;5;28;43mself\u001b[39;49m\u001b[38;5;241;43m.\u001b[39;49m\u001b[43m_fit_ocsb\u001b[49m\u001b[43m(\u001b[49m\u001b[43mx\u001b[49m\u001b[43m,\u001b[49m\u001b[43m \u001b[49m\u001b[43mm\u001b[49m\u001b[43m,\u001b[49m\u001b[43m \u001b[49m\u001b[43mlag_term\u001b[49m\u001b[43m,\u001b[49m\u001b[43m \u001b[49m\u001b[43mmaxlag\u001b[49m\u001b[43m)\u001b[49m\n\u001b[1;32m    538\u001b[0m         fits\u001b[38;5;241m.\u001b[39mappend(fit)\n\u001b[1;32m    539\u001b[0m         icvals\u001b[38;5;241m.\u001b[39mappend(icfunc(fit))\n",
      "File \u001b[0;32m/opt/miniconda3/envs/snowflakes/lib/python3.10/site-packages/pmdarima/arima/seasonality.py:476\u001b[0m, in \u001b[0;36mOCSBTest._fit_ocsb\u001b[0;34m(x, m, lag, max_lag)\u001b[0m\n\u001b[1;32m    474\u001b[0m \u001b[38;5;66;03m# if there are no more samples, we have to bail\u001b[39;00m\n\u001b[1;32m    475\u001b[0m \u001b[38;5;28;01mif\u001b[39;00m y_first_order_diff\u001b[38;5;241m.\u001b[39mshape[\u001b[38;5;241m0\u001b[39m] \u001b[38;5;241m==\u001b[39m \u001b[38;5;241m0\u001b[39m:\n\u001b[0;32m--> 476\u001b[0m     \u001b[38;5;28;01mraise\u001b[39;00m \u001b[38;5;167;01mValueError\u001b[39;00m(\n\u001b[1;32m    477\u001b[0m         \u001b[38;5;124m\"\u001b[39m\u001b[38;5;124mThere are no more samples after a first-order \u001b[39m\u001b[38;5;124m\"\u001b[39m\n\u001b[1;32m    478\u001b[0m         \u001b[38;5;124m\"\u001b[39m\u001b[38;5;124mseasonal differencing. See http://alkaline-ml.com/pmdarima/\u001b[39m\u001b[38;5;124m\"\u001b[39m\n\u001b[1;32m    479\u001b[0m         \u001b[38;5;124m\"\u001b[39m\u001b[38;5;124mseasonal-differencing-issues.html for a more in-depth \u001b[39m\u001b[38;5;124m\"\u001b[39m\n\u001b[1;32m    480\u001b[0m         \u001b[38;5;124m\"\u001b[39m\u001b[38;5;124mexplanation and potential work-arounds.\u001b[39m\u001b[38;5;124m\"\u001b[39m\n\u001b[1;32m    481\u001b[0m     )\n\u001b[1;32m    483\u001b[0m y \u001b[38;5;241m=\u001b[39m diff(y_first_order_diff)\n\u001b[1;32m    484\u001b[0m ylag \u001b[38;5;241m=\u001b[39m OCSBTest\u001b[38;5;241m.\u001b[39m_gen_lags(y, lag)\n",
      "\u001b[0;31mValueError\u001b[0m: There are no more samples after a first-order seasonal differencing. See http://alkaline-ml.com/pmdarima/seasonal-differencing-issues.html for a more in-depth explanation and potential work-arounds."
     ]
    }
   ],
   "source": [
    "%%time\n",
    "# define tscv\n",
    "tscv = TimeSeriesSplit(gap=0, max_train_size=None, n_splits=5, test_size=9)\n",
    "\n",
    "# List Datasets\n",
    "df_list = [\"L_3\", \"L_6\", \"L_4\"]\n",
    "#df_list = [\"L_3\", \"L_4\", \"L_6\"]\n",
    "group_list = [\"warehouse_chain\", \"empty\",\"new_customer_id\"]\n",
    "#group_list = [\"warehouse_chain\", \"new_customer_id\", \"empty\"]\n",
    "\n",
    "# Load data\n",
    "test_data_dict = {}\n",
    "for i in df_list:\n",
    "    test_data_dict[i] = pd.read_pickle(f\"../data/processed/{i}_test.pkl\").set_index(\"date\")\n",
    "\n",
    "holiday = pd.read_csv(\"../data/intermediate/calender.csv\")\n",
    "holiday['date'] = pd.to_datetime(holiday['date'])\n",
    "\n",
    "# Start Modelling\n",
    "ts_results = {}\n",
    "for level, group in zip(df_list, group_list):\n",
    "\n",
    "    # setup\n",
    "    # Initialize DataFrames to store the backtest and forecasted values\n",
    "    backtest_values = pd.DataFrame(columns=['sarima', 'sarimax', 'ets',\n",
    "                                            'naive_drift', 'naive_seasonal',\n",
    "                                            \"level\", \"group\"])\n",
    "\n",
    "    forecast_values = pd.DataFrame(columns=['sarima', 'sarimax', 'ets',\n",
    "                                            'naive_drift', 'naive_seasonal',\n",
    "                                            \"level\", \"group\"])\n",
    "\n",
    "    # select level\n",
    "    df = test_data_dict[level]\n",
    "\n",
    "    if level == \"L_6\":\n",
    "\n",
    "        print(\"Set up data\")\n",
    "\n",
    "        # test\n",
    "        test_df = df.copy()\n",
    "        test_series = test_df[\"quantity\"][\"2022-11-27\":]\n",
    "        test_data = test_series.reset_index().merge(holiday,\n",
    "                                                    left_on=\"date\", right_on=\"date\", how=\"left\").set_index(\"date\")\n",
    "\n",
    "        # train\n",
    "        train_df = test_df[:\"2022-11-26\"]\n",
    "        train_series = train_df['quantity']\n",
    "        train_data = train_series.reset_index().merge(holiday,\n",
    "                                                      left_on=\"date\", right_on=\"date\", how=\"left\").set_index(\"date\")\n",
    "\n",
    "        # Define exogene data\n",
    "        exog_train = train_data.drop('quantity', axis=1)\n",
    "        exog_test = test_data.drop('quantity', axis=1)\n",
    "\n",
    "        # Define Fequency\n",
    "        train_data.index.freq = 'D'\n",
    "        test_data.index.freq = 'D'\n",
    "\n",
    "        print(\"start backtest\")\n",
    "        temp_backtest_df = ts_backtest(train_data, tscv)\n",
    "        temp_backtest_df[\"level\"] = level\n",
    "        temp_backtest_df[\"group\"] = \"none\"\n",
    "\n",
    "        backtest_values = pd.concat([backtest_values, temp_backtest_df])\n",
    "\n",
    "        print(\"start forecast\")\n",
    "        temp_forecast_df = ts_forecast(train_data, test_data)\n",
    "        temp_forecast_df[\"level\"] = level\n",
    "        temp_forecast_df[\"group\"] = \"none\"\n",
    "\n",
    "        forecast_values = pd.concat([forecast_values, temp_forecast_df])\n",
    "\n",
    "    else:\n",
    "\n",
    "        for i_ts in df[group].unique():\n",
    "            print(i_ts)\n",
    "\n",
    "            print(\"Set up data\")\n",
    "\n",
    "            # test\n",
    "            test_df = df[df[group] == i_ts]\n",
    "            test_series = test_df[\"quantity\"][\"2022-11-27\":]\n",
    "            test_data = test_series.reset_index().merge(holiday,\n",
    "                                                        left_on=\"date\", right_on=\"date\", how=\"left\").set_index(\"date\")\n",
    "\n",
    "            # train\n",
    "            train_df = test_df[:\"2022-11-26\"]\n",
    "            train_series = train_df['quantity']\n",
    "            train_data = train_series.reset_index().merge(holiday,\n",
    "                                                          left_on=\"date\", right_on=\"date\", how=\"left\").set_index(\"date\")\n",
    "\n",
    "            # Define exogene data\n",
    "            exog_train = train_data.drop('quantity', axis=1)\n",
    "            exog_test = test_data.drop('quantity', axis=1)\n",
    "\n",
    "            # Define Fequency\n",
    "            train_data.index.freq = 'D'\n",
    "            test_data.index.freq = 'D'\n",
    "\n",
    "            print(\"start backtest\")\n",
    "            temp_backtest_df = ts_backtest(train_data, tscv)\n",
    "            temp_backtest_df[\"level\"] = level\n",
    "            temp_backtest_df[\"group\"] = i_ts\n",
    "\n",
    "            backtest_values = pd.concat([backtest_values, temp_backtest_df])\n",
    "\n",
    "            print(\"start forecast\")\n",
    "            temp_forecast_df = ts_forecast(train_data, test_data)\n",
    "            temp_forecast_df[\"level\"] = level\n",
    "            temp_forecast_df[\"group\"] = i_ts\n",
    "\n",
    "            forecast_values = pd.concat([forecast_values, temp_forecast_df])\n",
    "\n",
    "    # save forecast and backtest_values in dict\n",
    "    ts_results[level] = {\n",
    "        'backtest': backtest_values,\n",
    "        'pred': forecast_values\n",
    "    }\n",
    "\n",
    "    print(ts_results[level])\n",
    "\n",
    "print(ts_results.keys())\n",
    "print(ts_results)"
   ]
  },
  {
   "cell_type": "markdown",
   "id": "ac35c4f2-fe8a-47f4-935c-4c189e42a62b",
   "metadata": {},
   "source": [
    "## DEBUG"
   ]
  },
  {
   "cell_type": "code",
   "execution_count": 3,
   "id": "201b1de1-9ca3-4a73-a1fc-6acfb5c13549",
   "metadata": {},
   "outputs": [],
   "source": [
    "# Problem = 39, 79\n",
    "\n",
    "# define tscv\n",
    "tscv = TimeSeriesSplit(gap=0, max_train_size=None, n_splits=5, test_size=9)\n",
    "\n",
    "# List Datasets\n",
    "df_list = [\"L_3\", \"L_6\", \"L_4\"]\n",
    "#df_list = [\"L_3\", \"L_4\", \"L_6\"]\n",
    "group_list = [\"warehouse_chain\", \"empty\",\"new_customer_id\"]\n",
    "#group_list = [\"warehouse_chain\", \"new_customer_id\", \"empty\"]\n",
    "\n",
    "# Load data\n",
    "test_data_dict = {}\n",
    "for i in df_list:\n",
    "    test_data_dict[i] = pd.read_pickle(f\"../data/processed/{i}_test.pkl\").set_index(\"date\")"
   ]
  },
  {
   "cell_type": "code",
   "execution_count": 12,
   "id": "511e01cd-fc99-4e76-a630-9ae8e9878b21",
   "metadata": {},
   "outputs": [],
   "source": [
    "df_all = pd.read_pickle(f\"../data/processed/L_4_test.pkl\").set_index(\"date\")"
   ]
  },
  {
   "cell_type": "code",
   "execution_count": 13,
   "id": "8a275432-073f-4ddd-b1f0-80b3c9f9d794",
   "metadata": {},
   "outputs": [
    {
     "data": {
      "text/plain": [
       "<AxesSubplot:xlabel='date'>"
      ]
     },
     "execution_count": 13,
     "metadata": {},
     "output_type": "execute_result"
    },
    {
     "data": {
      "image/png": "[encoded data removed]",
      "text/plain": [
       "<Figure size 640x480 with 1 Axes>"
      ]
     },
     "metadata": {},
     "output_type": "display_data"
    }
   ],
   "source": [
    "df_all[df_all[\"new_customer_id\"] == 29].quantity.plot()"
   ]
  },
  {
   "cell_type": "code",
   "execution_count": 23,
   "id": "49413913-56a7-4efb-9219-5a0e9ff79a05",
   "metadata": {},
   "outputs": [],
   "source": [
    "df_clean = pd.read_pickle(\"../data/processed/b2c_orders_clean.pkl\").reset_index()"
   ]
  },
  {
   "cell_type": "code",
   "execution_count": 3,
   "id": "7c0b4ea6-ceae-4112-bc4d-77b33d60c311",
   "metadata": {},
   "outputs": [],
   "source": [
    "df_clean.groupby([\"date\", \"new_customer_id\"]).sum().reset_index()\n",
    "df_clean.date = pd.to_datetime(df_clean.date)"
   ]
  },
  {
   "cell_type": "code",
   "execution_count": 18,
   "id": "1228b0bf-4c11-4bb9-928e-2f9045b77fe8",
   "metadata": {},
   "outputs": [
    {
     "data": {
      "text/plain": [
       "Timestamp('2022-06-08 00:00:00')"
      ]
     },
     "execution_count": 18,
     "metadata": {},
     "output_type": "execute_result"
    }
   ],
   "source": [
    "df_clean.index.max() - pd.Timedelta(days=180)\n"
   ]
  },
  {
   "cell_type": "code",
   "execution_count": 28,
   "id": "33964feb-275d-416f-a0e0-4b49c12be3b2",
   "metadata": {},
   "outputs": [
    {
     "data": {
      "text/html": [
       "<div>\n",
       "<style scoped>\n",
       "    .dataframe tbody tr th:only-of-type {\n",
       "        vertical-align: middle;\n",
       "    }\n",
       "\n",
       "    .dataframe tbody tr th {\n",
       "        vertical-align: top;\n",
       "    }\n",
       "\n",
       "    .dataframe thead th {\n",
       "        text-align: right;\n",
       "    }\n",
       "</style>\n",
       "<table border=\"1\" class=\"dataframe\">\n",
       "  <thead>\n",
       "    <tr style=\"text-align: right;\">\n",
       "      <th></th>\n",
       "      <th>order_id</th>\n",
       "      <th>order_item_id</th>\n",
       "      <th>order_datetime</th>\n",
       "      <th>quantity</th>\n",
       "      <th>warehouse_chain</th>\n",
       "      <th>item_discount</th>\n",
       "      <th>billing_country</th>\n",
       "      <th>business_type</th>\n",
       "      <th>state</th>\n",
       "      <th>filled_prices</th>\n",
       "      <th>new_product_id</th>\n",
       "      <th>new_customer_id</th>\n",
       "    </tr>\n",
       "    <tr>\n",
       "      <th>date</th>\n",
       "      <th></th>\n",
       "      <th></th>\n",
       "      <th></th>\n",
       "      <th></th>\n",
       "      <th></th>\n",
       "      <th></th>\n",
       "      <th></th>\n",
       "      <th></th>\n",
       "      <th></th>\n",
       "      <th></th>\n",
       "      <th></th>\n",
       "      <th></th>\n",
       "    </tr>\n",
       "  </thead>\n",
       "  <tbody>\n",
       "    <tr>\n",
       "      <th>2022-06-23</th>\n",
       "      <td>-5163887588251462189</td>\n",
       "      <td>8153064604569396662</td>\n",
       "      <td>2022-06-23 09:10:16</td>\n",
       "      <td>1</td>\n",
       "      <td>WH-Chain-3</td>\n",
       "      <td>0.0</td>\n",
       "      <td>DE</td>\n",
       "      <td>B2C</td>\n",
       "      <td>Hessen</td>\n",
       "      <td>17.9</td>\n",
       "      <td>246</td>\n",
       "      <td>2</td>\n",
       "    </tr>\n",
       "    <tr>\n",
       "      <th>2022-06-09</th>\n",
       "      <td>-7825557500607881786</td>\n",
       "      <td>-8302304056901954557</td>\n",
       "      <td>2022-06-09 09:16:48</td>\n",
       "      <td>1</td>\n",
       "      <td>WH-Chain-3</td>\n",
       "      <td>24.9</td>\n",
       "      <td>DE</td>\n",
       "      <td>B2C</td>\n",
       "      <td>Niedersachsen</td>\n",
       "      <td>24.9</td>\n",
       "      <td>285</td>\n",
       "      <td>2</td>\n",
       "    </tr>\n",
       "  </tbody>\n",
       "</table>\n",
       "</div>"
      ],
      "text/plain": [
       "                       order_id        order_item_id       order_datetime  \\\n",
       "date                                                                        \n",
       "2022-06-23 -5163887588251462189  8153064604569396662  2022-06-23 09:10:16   \n",
       "2022-06-09 -7825557500607881786 -8302304056901954557  2022-06-09 09:16:48   \n",
       "\n",
       "            quantity warehouse_chain  item_discount billing_country  \\\n",
       "date                                                                  \n",
       "2022-06-23         1      WH-Chain-3            0.0              DE   \n",
       "2022-06-09         1      WH-Chain-3           24.9              DE   \n",
       "\n",
       "           business_type          state  filled_prices new_product_id  \\\n",
       "date                                                                    \n",
       "2022-06-23           B2C         Hessen           17.9            246   \n",
       "2022-06-09           B2C  Niedersachsen           24.9            285   \n",
       "\n",
       "           new_customer_id  \n",
       "date                        \n",
       "2022-06-23               2  \n",
       "2022-06-09               2  "
      ]
     },
     "execution_count": 28,
     "metadata": {},
     "output_type": "execute_result"
    }
   ],
   "source": [
    "# Load the DataFrame and convert 'date' to datetime if it isn't already\n",
    "df_clean = pd.read_pickle(\"../data/processed/b2c_orders_clean.pkl\")\n",
    "\n",
    "# Convert date string into datetime\n",
    "date_60_days_ago = df_clean.index.max() - pd.Timedelta(days=60)\n",
    "\n",
    "date_180_days_ago = df_clean.index.max() - pd.Timedelta(days=180)\n",
    "\n",
    "# Filter the dataframe to include data only for the last 90 days and at least 180 days\n",
    "df_last_90_days = df_clean[df_clean.index >= date_90_days_ago]\n",
    "df_last_180_days = df_clean[df_clean.index <= date_180_days_ago]\n",
    "\n",
    "# Get unique customers who have made sales in the last 90 days\n",
    "customers_with_sales_90 = df_last_90_days['new_customer_id'].unique()\n",
    "\n",
    "customers_with_sales_180 = df_last_180_days['new_customer_id'].unique()\n",
    "\n",
    "# Filter df_clean to only hold new_customer_id that are in df_last_90_days\n",
    "df_90 = df_clean[df_clean['new_customer_id'].isin(customers_with_sales_90)]\n",
    "df_final = df_90[df_90['new_customer_id'].isin(customers_with_sales_180)]\n",
    "df_final.tail(2)"
   ]
  },
  {
   "cell_type": "code",
   "execution_count": 29,
   "id": "37b3312d-fcbc-43d0-ac90-9362e64ab6df",
   "metadata": {},
   "outputs": [
    {
     "data": {
      "text/plain": [
       "[0, 2, 3, 9, 11, ..., 97, 99, 100, 101, 102]\n",
       "Length: 55\n",
       "Categories (69, int64): [0, 1, 2, 3, ..., 99, 100, 101, 102]"
      ]
     },
     "execution_count": 29,
     "metadata": {},
     "output_type": "execute_result"
    }
   ],
   "source": [
    "df_final.new_customer_id.unique()"
   ]
  },
  {
   "cell_type": "code",
   "execution_count": 26,
   "id": "cb11424e-dfdd-49f8-ab2c-07bf5070ea4f",
   "metadata": {},
   "outputs": [
    {
     "data": {
      "text/plain": [
       "[0,\n",
       " 2,\n",
       " 9,\n",
       " 13,\n",
       " 22,\n",
       " 25,\n",
       " 24,\n",
       " 35,\n",
       " 18,\n",
       " 16,\n",
       " 30,\n",
       " 28,\n",
       " 40,\n",
       " 21,\n",
       " 41,\n",
       " 34,\n",
       " 11,\n",
       " 33,\n",
       " 12,\n",
       " 20,\n",
       " 54,\n",
       " 49,\n",
       " 61,\n",
       " 51,\n",
       " 37,\n",
       " 67,\n",
       " 3,\n",
       " 68,\n",
       " 70,\n",
       " 71,\n",
       " 72,\n",
       " 73,\n",
       " 74,\n",
       " 75,\n",
       " 76,\n",
       " 77,\n",
       " 78,\n",
       " 79,\n",
       " 80,\n",
       " 44,\n",
       " 82,\n",
       " 83,\n",
       " 84,\n",
       " 86,\n",
       " 87,\n",
       " 88,\n",
       " 32,\n",
       " 55,\n",
       " 95,\n",
       " 96,\n",
       " 97,\n",
       " 99,\n",
       " 100,\n",
       " 101,\n",
       " 102]"
      ]
     },
     "execution_count": 26,
     "metadata": {},
     "output_type": "execute_result"
    }
   ],
   "source": [
    "list(df_last_180_days.new_customer_id.unique())"
   ]
  },
  {
   "cell_type": "code",
   "execution_count": 27,
   "id": "8e134593-fdfd-4ec5-81d3-bf6914bb180d",
   "metadata": {},
   "outputs": [
    {
     "data": {
      "text/plain": [
       "[0,\n",
       " 1,\n",
       " 2,\n",
       " 4,\n",
       " 5,\n",
       " 7,\n",
       " 8,\n",
       " 11,\n",
       " 12,\n",
       " 20,\n",
       " 21,\n",
       " 23,\n",
       " 27,\n",
       " 28,\n",
       " 29,\n",
       " 15,\n",
       " 33,\n",
       " 32,\n",
       " 30,\n",
       " 22,\n",
       " 38,\n",
       " 34,\n",
       " 18,\n",
       " 43,\n",
       " 24,\n",
       " 44,\n",
       " 16,\n",
       " 48,\n",
       " 3,\n",
       " 49,\n",
       " 35,\n",
       " 25,\n",
       " 13,\n",
       " 9,\n",
       " 55,\n",
       " 58,\n",
       " 37,\n",
       " 61,\n",
       " 54,\n",
       " 68,\n",
       " 70,\n",
       " 71,\n",
       " 72,\n",
       " 73,\n",
       " 74,\n",
       " 75,\n",
       " 76,\n",
       " 77,\n",
       " 78,\n",
       " 79,\n",
       " 80,\n",
       " 41,\n",
       " 40,\n",
       " 82,\n",
       " 83,\n",
       " 84,\n",
       " 86,\n",
       " 87,\n",
       " 88,\n",
       " 51,\n",
       " 67,\n",
       " 66,\n",
       " 95,\n",
       " 96,\n",
       " 97,\n",
       " 99,\n",
       " 100,\n",
       " 101,\n",
       " 102]"
      ]
     },
     "execution_count": 27,
     "metadata": {},
     "output_type": "execute_result"
    }
   ],
   "source": [
    "list(df_last_90_days.new_customer_id.unique())"
   ]
  },
  {
   "cell_type": "code",
   "execution_count": 20,
   "id": "52e46275-a286-410a-9bcb-bf2678cf7402",
   "metadata": {},
   "outputs": [
    {
     "data": {
      "text/plain": [
       "68"
      ]
     },
     "execution_count": 20,
     "metadata": {},
     "output_type": "execute_result"
    }
   ],
   "source": [
    "len(customers_with_sales)"
   ]
  },
  {
   "cell_type": "code",
   "execution_count": 22,
   "id": "c4918bf7-7224-42bb-a91b-0fe1777bf737",
   "metadata": {},
   "outputs": [
    {
     "data": {
      "text/plain": [
       "97"
      ]
     },
     "execution_count": 22,
     "metadata": {},
     "output_type": "execute_result"
    }
   ],
   "source": [
    "df_clean.new_customer_id.nunique()"
   ]
  },
  {
   "cell_type": "code",
   "execution_count": 21,
   "id": "b8a87f25-81e6-415d-9639-606205606e3a",
   "metadata": {},
   "outputs": [
    {
     "data": {
      "text/plain": [
       "68"
      ]
     },
     "execution_count": 21,
     "metadata": {},
     "output_type": "execute_result"
    }
   ],
   "source": [
    "df_final.new_customer_id.nunique()"
   ]
  },
  {
   "cell_type": "code",
   "execution_count": null,
   "id": "c98bdf85-8d07-4442-8daa-374151f73536",
   "metadata": {},
   "outputs": [],
   "source": [
    "# Convert date string into datetime\n",
    "date_90_days_ago = pd.to_datetime(\"2022-09-07\")\n",
    "\n",
    "# Filter the dataframe to include data only for the last 90 days\n",
    "df_last_90_days = df_clean.loc[date_90_days_ago:]\n",
    "\n",
    "# Get unique customers who have made sales in the last 90 days\n",
    "customers_with_sales = df_last_90_days[df_last_90_days['quantity'] != 0]['new_customer_id'].unique()\n",
    "\n",
    "# Filter original dataframe to include only customers with sales in the last 90 days\n",
    "df_clean = df_clean[df_clean['new_customer_id'].isin(customers_with_sales)]\n"
   ]
  },
  {
   "cell_type": "code",
   "execution_count": 49,
   "id": "e35ceb91-d53a-4265-b417-d831331f9318",
   "metadata": {},
   "outputs": [],
   "source": [
    "import pandas as pd\n",
    "\n",
    "# Convert date string into datetime\n",
    "date_90_days_ago = pd.to_datetime(\"2022-09-07\")\n",
    "\n",
    "# Group by 'new_customer_id' and 'date', summing up 'quantity' for each group\n",
    "df_grouped = df_clean.groupby(['new_customer_id', df_clean.index]).sum()\n",
    "\n",
    "# Reset the index\n",
    "df_grouped.reset_index(inplace=True)\n",
    "\n",
    "# Rename the column\n",
    "df_grouped.rename(columns={'index': 'date'}, inplace=True)\n",
    "\n",
    "# Convert the 'date' column to datetime\n",
    "df_grouped['date'] = pd.to_datetime(df_grouped['date'])\n",
    "\n",
    "# Identify the latest date of sale for each customer\n",
    "latest_sales_date = df_grouped.groupby('new_customer_id')['date'].max()\n",
    "\n",
    "# Identify customers who didn't make a sale within the last 90 days\n",
    "inactive_customers = latest_sales_date[latest_sales_date < date_90_days_ago].index\n",
    "\n",
    "# Drop these customers from the original dataframe\n",
    "df_clean = df_clean[~df_clean['new_customer_id'].isin(inactive_customers)]\n"
   ]
  },
  {
   "cell_type": "code",
   "execution_count": 33,
   "id": "9bd1707b-1411-4aea-a990-f0c391c16dc1",
   "metadata": {},
   "outputs": [
    {
     "ename": "NameError",
     "evalue": "name 'plot_this' is not defined",
     "output_type": "error",
     "traceback": [
      "\u001b[0;31m---------------------------------------------------------------------------\u001b[0m",
      "\u001b[0;31mNameError\u001b[0m                                 Traceback (most recent call last)",
      "Cell \u001b[0;32mIn [33], line 1\u001b[0m\n\u001b[0;32m----> 1\u001b[0m \u001b[43mplot_this\u001b[49m\n",
      "\u001b[0;31mNameError\u001b[0m: name 'plot_this' is not defined"
     ]
    }
   ],
   "source": [
    "plot_this"
   ]
  },
  {
   "cell_type": "code",
   "execution_count": 35,
   "id": "f1ee0553-ee6b-4eb2-bded-596af3eb3df1",
   "metadata": {},
   "outputs": [],
   "source": [
    "df_79 = df_all[df_all[\"new_customer_id\"] == 31].quantity"
   ]
  },
  {
   "cell_type": "code",
   "execution_count": 14,
   "id": "5886ca8f-d128-4686-bfc2-b8f746ff1c2d",
   "metadata": {},
   "outputs": [
    {
     "ename": "NameError",
     "evalue": "name 'df_all' is not defined",
     "output_type": "error",
     "traceback": [
      "\u001b[0;31m---------------------------------------------------------------------------\u001b[0m",
      "\u001b[0;31mNameError\u001b[0m                                 Traceback (most recent call last)",
      "Cell \u001b[0;32mIn [14], line 8\u001b[0m\n\u001b[1;32m      5\u001b[0m date_90_days_ago \u001b[38;5;241m=\u001b[39m \u001b[38;5;124m\"\u001b[39m\u001b[38;5;124m2022-09-07\u001b[39m\u001b[38;5;124m\"\u001b[39m\n\u001b[1;32m      7\u001b[0m \u001b[38;5;66;03m# Filter your dataframe based on the date\u001b[39;00m\n\u001b[0;32m----> 8\u001b[0m df_last_90_days \u001b[38;5;241m=\u001b[39m \u001b[43mdf_all\u001b[49m[df_all\u001b[38;5;241m.\u001b[39mindex \u001b[38;5;241m>\u001b[39m\u001b[38;5;241m=\u001b[39m date_90_days_ago]\n\u001b[1;32m     10\u001b[0m \u001b[38;5;66;03m# Initialize an empty list to hold the results\u001b[39;00m\n\u001b[1;32m     11\u001b[0m zero_counts \u001b[38;5;241m=\u001b[39m []\n",
      "\u001b[0;31mNameError\u001b[0m: name 'df_all' is not defined"
     ]
    }
   ],
   "source": [
    "import pandas as pd\n",
    "from datetime import datetime, timedelta\n",
    "\n",
    "# Get the date 90 days ago from today\n",
    "date_90_days_ago = \"2022-09-07\"\n",
    "\n",
    "# Filter your dataframe based on the date\n",
    "df_last_90_days = df_all[df_all.index >= date_90_days_ago]\n",
    "\n",
    "# Initialize an empty list to hold the results\n",
    "zero_counts = []\n",
    "\n",
    "# Loop over each unique customer id\n",
    "for customer_id in df_last_90_days['new_customer_id'].unique():\n",
    "    # Filter the dataframe for the current customer\n",
    "    df_current_customer = df_last_90_days[df_last_90_days['new_customer_id'] == customer_id]\n",
    "    \n",
    "    # Count the number of 0 sales\n",
    "    count_zeros = (df_current_customer['quantity'] == 0).sum()\n",
    "    \n",
    "    # Append the result to the list\n",
    "    zero_counts.append({'new_customer_id': customer_id, 'zero_count': count_zeros})\n",
    "\n",
    "# Convert the results into a dataframe\n",
    "df_zero_counts = pd.DataFrame(zero_counts)\n",
    "plot_this = df_zero_counts.sort_values(\"zero_count\", ascending=False).head(40)"
   ]
  },
  {
   "cell_type": "code",
   "execution_count": 40,
   "id": "eae12b71-b321-46e8-8052-8ed5399754fd",
   "metadata": {},
   "outputs": [
    {
     "data": {
      "image/png": "[encoded data removed]",
      "text/plain": [
       "<Figure size 640x480 with 1 Axes>"
      ]
     },
     "metadata": {},
     "output_type": "display_data"
    }
   ],
   "source": [
    "for i in plot_this.new_customer_id:\n",
    "    df_all[df_all[\"new_customer_id\"] == i].quantity.plot()"
   ]
  },
  {
   "cell_type": "code",
   "execution_count": null,
   "id": "9c781f02-f105-402d-85c1-3b5608fd3698",
   "metadata": {},
   "outputs": [],
   "source": [
    "# define tscv\n",
    "tscv = TimeSeriesSplit(gap=0, max_train_size=None, n_splits=5, test_size=9)\n",
    "\n",
    "# List Datasets\n",
    "df_list = [\"L_3\", \"L_6\", \"L_4\"]\n",
    "#df_list = [\"L_3\", \"L_4\", \"L_6\"]\n",
    "group_list = [\"warehouse_chain\", \"empty\", \"new_customer_id\"]\n",
    "#group_list = [\"warehouse_chain\", \"new_customer_id\", \"empty\"]\n",
    "\n",
    "# Load data\n",
    "test_data_dict = {}\n",
    "for i in df_list:\n",
    "    test_data_dict[i] = pd.read_pickle(f\"../data/processed/{i}_test.pkl\").set_index(\"date\")\n",
    "\n",
    "holiday = pd.read_csv(\"../data/intermediate/calender.csv\")\n",
    "holiday['date'] = pd.to_datetime(holiday['date'])\n",
    "\n",
    "# Start Modelling\n",
    "ts_results = {}\n",
    "for level, group in zip(df_list, group_list):\n",
    "\n",
    "    # setup\n",
    "    # Initialize DataFrames to store the backtest and forecasted values\n",
    "    backtest_values = pd.DataFrame(columns=['sarima', 'sarimax', 'ets',\n",
    "                                            'naive_drift', 'naive_seasonal',\n",
    "                                            \"level\", \"group\"])\n",
    "\n",
    "    forecast_values = pd.DataFrame(columns=['sarima', 'sarimax', 'ets',\n",
    "                                            'naive_drift', 'naive_seasonal',\n",
    "                                            \"level\", \"group\"])\n",
    "\n",
    "    # select level\n",
    "    df = test_data_dict[level]\n",
    "\n",
    "    if level == \"L_6\":\n",
    "\n",
    "        print(\"Set up data\")\n",
    "\n",
    "        # test\n",
    "        test_df = df.copy()\n",
    "        test_series = test_df[\"quantity\"][\"2022-11-27\":]\n",
    "        test_data = test_series.reset_index().merge(holiday,\n",
    "                                                    left_on=\"date\", right_on=\"date\", how=\"left\").set_index(\"date\")\n",
    "\n",
    "        # train\n",
    "        train_df = test_df[:\"2022-11-26\"]\n",
    "        train_series = train_df['quantity']\n",
    "        train_data = train_series.reset_index().merge(holiday,\n",
    "                                                      left_on=\"date\", right_on=\"date\", how=\"left\").set_index(\"date\")\n",
    "\n",
    "        # Define exogene data\n",
    "        exog_train = train_data.drop('quantity', axis=1)\n",
    "        exog_test = test_data.drop('quantity', axis=1)\n",
    "\n",
    "        # Define Fequency\n",
    "        train_data.index.freq = 'D'\n",
    "        test_data.index.freq = 'D'\n",
    "\n",
    "        print(\"start backtest\")\n",
    "        temp_backtest_df = ts_backtest(train_data, tscv)\n",
    "        temp_backtest_df[\"level\"] = level\n",
    "        temp_backtest_df[\"group\"] = \"none\"\n",
    "\n",
    "        backtest_values = pd.concat([backtest_values, temp_backtest_df])\n",
    "\n",
    "        print(\"start forecast\")\n",
    "        temp_forecast_df = ts_forecast(train_data, test_data)\n",
    "        temp_forecast_df[\"level\"] = level\n",
    "        temp_forecast_df[\"group\"] = \"none\"\n",
    "\n",
    "        forecast_values = pd.concat([forecast_values, temp_forecast_df])\n",
    "\n",
    "    else:\n",
    "\n",
    "        for i_ts in df[group].unique():\n",
    "            print(i_ts)\n",
    "\n",
    "            print(\"Set up data\")\n",
    "\n",
    "            # test\n",
    "            test_df = df[df[group] == i_ts]\n",
    "            test_series = test_df[\"quantity\"][\"2022-11-27\":]\n",
    "            test_data = test_series.reset_index().merge(holiday,\n",
    "                                                        left_on=\"date\", right_on=\"date\", how=\"left\").set_index(\"date\")\n",
    "\n",
    "            # train\n",
    "            train_df = test_df[:\"2022-11-26\"]\n",
    "            train_series = train_df['quantity']\n",
    "            train_data = train_series.reset_index().merge(holiday,\n",
    "                                                          left_on=\"date\", right_on=\"date\", how=\"left\").set_index(\"date\")\n",
    "\n",
    "            # Define exogene data\n",
    "            exog_train = train_data.drop('quantity', axis=1)\n",
    "            exog_test = test_data.drop('quantity', axis=1)\n",
    "\n",
    "            # Define Fequency\n",
    "            train_data.index.freq = 'D'\n",
    "            test_data.index.freq = 'D'\n",
    "\n",
    "            print(\"start backtest\")\n",
    "            temp_backtest_df = ts_backtest(train_data, tscv)\n",
    "            temp_backtest_df[\"level\"] = level\n",
    "            temp_backtest_df[\"group\"] = i_ts\n",
    "\n",
    "            backtest_values = pd.concat([backtest_values, temp_backtest_df])\n",
    "\n",
    "            print(\"start forecast\")\n",
    "            temp_forecast_df = ts_forecast(train_data, test_data)\n",
    "            temp_forecast_df[\"level\"] = level\n",
    "            temp_forecast_df[\"group\"] = i_ts\n",
    "\n",
    "            forecast_values = pd.concat([forecast_values, temp_forecast_df])\n",
    "\n",
    "    # save forecast and backtest_values in dict\n",
    "    ts_results[level] = {\n",
    "        'backtest': backtest_values,\n",
    "        'pred': forecast_values\n",
    "    }\n",
    "\n",
    "    print(ts_results[level])\n",
    "\n",
    "print(ts_results.keys())\n",
    "print(ts_results)"
   ]
  },
  {
   "cell_type": "code",
   "execution_count": null,
   "id": "d4a6ac89-e425-4bd8-8d0a-3a3cb6f0a02f",
   "metadata": {},
   "outputs": [],
   "source": []
  }
 ],
 "metadata": {
  "kernelspec": {
   "display_name": "Python [conda env:miniconda3-snowflakes]",
   "language": "python",
   "name": "conda-env-miniconda3-snowflakes-py"
  },
  "language_info": {
   "codemirror_mode": {
    "name": "ipython",
    "version": 3
   },
   "file_extension": ".py",
   "mimetype": "text/x-python",
   "name": "python",
   "nbconvert_exporter": "python",
   "pygments_lexer": "ipython3",
   "version": "3.10.6"
  }
 },
 "nbformat": 4,
 "nbformat_minor": 5
}
