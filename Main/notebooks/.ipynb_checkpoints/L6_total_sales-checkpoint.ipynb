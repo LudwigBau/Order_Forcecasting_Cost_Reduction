{
 "cells": [
  {
   "cell_type": "code",
   "execution_count": 1,
   "id": "4a6e45d7-2022-4828-854a-d076e5fdb8b9",
   "metadata": {},
   "outputs": [],
   "source": [
    "# Libaries\n",
    "import warnings\n",
    "warnings.filterwarnings('ignore')\n",
    "\n",
    "import pandas as pd\n",
    "import sys"
   ]
  },
  {
   "cell_type": "code",
   "execution_count": 2,
   "id": "b7f81384-65f6-42c5-8bff-f9218cf258de",
   "metadata": {},
   "outputs": [],
   "source": [
    "# Setting up path for custom modules \n",
    "sys.path.append('/Users/ludwigbaunach/Documents/Studium/PhD/Alaiko/Paper_1_Project/Main/src')\n",
    "from time_features import to_time_feature\n",
    "from momentum_features import momentum_ungrouped\n",
    "from join_weather_holiday import join_weather_holiday"
   ]
  },
  {
   "cell_type": "code",
   "execution_count": 3,
   "id": "87939e2a-3a0b-4301-9878-1dec424e5d4c",
   "metadata": {},
   "outputs": [],
   "source": [
    "# Load Dataset (Select B2C Sales)\n",
    "\n",
    "### ORDER DATA ###\n",
    "df = pd.read_csv(\"../data/processed/b2c_orders_clean.csv\")\n",
    "### HOLIDAY DATA ###\n",
    "holiday_df = pd.read_csv(\"../data/intermediate/calender.csv\")\n",
    "### WEATHER DATA ### \n",
    "weather_df = pd.read_csv(\"../data/intermediate/weather.csv\")"
   ]
  },
  {
   "cell_type": "code",
   "execution_count": 4,
   "id": "8a9acc5d-8a66-4440-b00f-47a8f3239e45",
   "metadata": {},
   "outputs": [],
   "source": [
    "# Group sales based on daily sales\n",
    "grouped_sales = df.groupby(\"date\").sum().reset_index()\n",
    "# Select right colum,ns \n",
    "total_sales = grouped_sales[[\"date\", \"quantity\"]]\n",
    "# Add time features and lag_momentum_features from scripts\n",
    "ts_total_sales = to_time_feature(total_sales)\n",
    "m_ts_total_sales = momentum_ungrouped(ts_total_sales)"
   ]
  },
  {
   "cell_type": "code",
   "execution_count": 5,
   "id": "8a43f16c-7826-4101-b742-cbd974fe0713",
   "metadata": {},
   "outputs": [],
   "source": [
    "# Join all\n",
    "final_df = join_weather_holiday(m_ts_total_sales, weather_df, holiday_df)"
   ]
  },
  {
   "cell_type": "code",
   "execution_count": 6,
   "id": "f12e44f1-7b03-4735-9425-b687b5fe434e",
   "metadata": {},
   "outputs": [],
   "source": [
    "# save csv \n",
    "final_df.to_csv(\"../data/final/total_sales.csv\")"
   ]
  }
 ],
 "metadata": {
  "kernelspec": {
   "display_name": "Python [conda env:miniconda3-snowflakes]",
   "language": "python",
   "name": "conda-env-miniconda3-snowflakes-py"
  },
  "language_info": {
   "codemirror_mode": {
    "name": "ipython",
    "version": 3
   },
   "file_extension": ".py",
   "mimetype": "text/x-python",
   "name": "python",
   "nbconvert_exporter": "python",
   "pygments_lexer": "ipython3",
   "version": "3.10.6"
  }
 },
 "nbformat": 4,
 "nbformat_minor": 5
}
