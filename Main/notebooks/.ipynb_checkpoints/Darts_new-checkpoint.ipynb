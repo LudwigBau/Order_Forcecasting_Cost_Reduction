{
 "cells": [
  {
   "cell_type": "code",
   "execution_count": 98,
   "id": "357bb6d8-283f-49bb-ad21-fa0d1cf6f287",
   "metadata": {},
   "outputs": [],
   "source": [
    "# Setup \n",
    "\n",
    "# Libaries\n",
    "import numpy as np\n",
    "import pandas as pd\n",
    "import matplotlib.pyplot as plt\n",
    "\n",
    "from darts import TimeSeries\n",
    "from darts.models import NBEATSModel, NHiTSModel\n",
    "from darts.models import ExponentialSmoothing, TBATS, AutoARIMA, Theta, NaiveSeasonal, NaiveDrift\n",
    "from darts.dataprocessing.transformers import Scaler, MissingValuesFiller\n",
    "from darts.metrics import mape, r2_score, rmse\n",
    "\n",
    "from sklearn.preprocessing import MinMaxScaler, OneHotEncoder\n",
    "\n",
    "# Get custom utils functions\n",
    "import sys\n",
    "sys.path.append('/Users/ludwigbaunach/Documents/Studium/PhD/Alaiko/Paper_1_Project/Main/src')\n",
    "from utils.data_split import ml_data_split\n",
    "\n",
    "# Fix Pytorch Error\n",
    "import os\n",
    "os.environ['KMP_DUPLICATE_LIB_OK']='True'\n",
    "\n",
    "# Fix logging error\n",
    "import logging\n",
    "logging.getLogger(\"pytorch_lightning\").setLevel(logging.WARNING)\n",
    "\n",
    "# Ignore warnings\n",
    "import warnings\n",
    "warnings.filterwarnings('ignore')\n",
    "\n",
    "# Set Seed\n",
    "np.random.seed(42)"
   ]
  },
  {
   "cell_type": "code",
   "execution_count": 33,
   "id": "a0c1c5ce-4b82-407c-bb97-c59fa418559b",
   "metadata": {},
   "outputs": [],
   "source": [
    "# load data \n",
    "df = pd.read_pickle(\"../data/final/6_total_sales.pkl\")"
   ]
  },
  {
   "cell_type": "markdown",
   "id": "5136a857-4ed5-4467-b022-2be0eaf9e3f4",
   "metadata": {},
   "source": [
    "### Data Prep"
   ]
  },
  {
   "cell_type": "code",
   "execution_count": 5,
   "id": "89b2a7f9-ad03-413b-9a64-e2d5b327c36d",
   "metadata": {},
   "outputs": [],
   "source": [
    "# Create Series\n",
    "test = df.reset_index()\n",
    "target = TimeSeries.from_dataframe(test, \"date\", \"quantity\")\n",
    "\n",
    "# Split Data (last 40 days)\n",
    "train, val = train, val = series[:-40], series[-40:]"
   ]
  },
  {
   "cell_type": "markdown",
   "id": "6f05cfee-54cf-47f6-a597-797f7c16c4d7",
   "metadata": {},
   "source": [
    "### Pre-Processing"
   ]
  },
  {
   "cell_type": "code",
   "execution_count": 34,
   "id": "75392d7c-4ae0-4950-b068-10456ffbeb8e",
   "metadata": {},
   "outputs": [],
   "source": [
    "# Covariates\n",
    "\n",
    "# cols to scale\n",
    "scale_cols = ['q_roll_mean_7d', 'q_roll_std_7d', 'q_roll_mean_14d', 'q_roll_std_14d', 'q_lag_1d',\n",
    "       'q_lag_7d', 'q_lag_14d', 'q_lag_28d', 'q_mean_lag_7_14_28',\n",
    "       'precipitation_height', 'sunshine_duration', 'temperature_air_mean_200',\n",
    "       'sunshine_duration_h', 'suns_classes', 'temp_classes', \"rain_classes\"]\n",
    "\n",
    "# time cols\n",
    "time_cov = ['tm_y', 'tm_w_end', 'tm_dy_sin', 'tm_dy_cos', 'tm_dm_sin',\n",
    "       'tm_dm_cos', 'tm_wy_sin', 'tm_wy_cos', 'tm_my_sin', 'tm_my_cos',\n",
    "       'tm_wm_sin', 'tm_wm_cos', 'tm_dw_sin', 'tm_dw_cos']\n",
    "\n",
    "# cols to encode\n",
    "encode_cols = [\"tm_y\"]\n",
    "\n",
    "# Make year a catagory\n",
    "df[encode_cols] = df[encode_cols].astype('category',copy=False)\n",
    "\n",
    "# Get dummies\n",
    "just_dummies = pd.get_dummies(df[encode_cols])\n",
    "encoded_df = pd.concat([df, just_dummies], axis=1)      \n",
    "encoded_df.drop(encode_cols, inplace=True, axis=1)"
   ]
  },
  {
   "cell_type": "code",
   "execution_count": 39,
   "id": "c80ec4f7-171a-4461-aec7-fb49c84ba0cf",
   "metadata": {},
   "outputs": [],
   "source": [
    "# Set up target variable \n",
    "# Copy df\n",
    "df_copy = df.reset_index()\n",
    "\n",
    "# Split target data\n",
    "train, val = train, val = df_copy[:-40], df_copy[-40:]\n",
    "\n",
    "# Format Target \n",
    "train = TimeSeries.from_dataframe(train, \"date\", \"quantity\")\n",
    "val = TimeSeries.from_dataframe(val, \"date\", \"quantity\")"
   ]
  },
  {
   "cell_type": "code",
   "execution_count": 40,
   "id": "a25ded73-187f-459c-be7b-0e452ad8ebb3",
   "metadata": {},
   "outputs": [
    {
     "data": {
      "text/plain": [
       "Index(['quantity', 'tm_y', 'tm_w_end', 'tm_dy_sin', 'tm_dy_cos', 'tm_dm_sin',\n",
       "       'tm_dm_cos', 'tm_wy_sin', 'tm_wy_cos', 'tm_my_sin', 'tm_my_cos',\n",
       "       'tm_wm_sin', 'tm_wm_cos', 'tm_dw_sin', 'tm_dw_cos', 'q_roll_mean_7d',\n",
       "       'q_roll_std_7d', 'q_roll_mean_14d', 'q_roll_std_14d', 'q_lag_1d',\n",
       "       'q_lag_7d', 'q_lag_14d', 'q_lag_28d', 'q_mean_lag_7_14_28',\n",
       "       'precipitation_height', 'sunshine_duration', 'temperature_air_mean_200',\n",
       "       'sunshine_duration_h', 'suns_classes', 'temp_classes', 'rain_classes',\n",
       "       'is_holiday', 'is_event', 'xmas_1_week', 'xmas_2_week',\n",
       "       'after_xmas_week', 'event_Black_Friday', 'event_Cyber_Monday',\n",
       "       'event_Thanksgiving', 'event_Valentines_Day',\n",
       "       'holiday_Christi_Himmelfahrt', 'holiday_Erster_Mai',\n",
       "       'holiday_Erster_Weihnachtstag', 'holiday_Karfreitag', 'holiday_Neujahr',\n",
       "       'holiday_Ostermontag', 'holiday_Pfingstmontag',\n",
       "       'holiday_Reformationstag', 'holiday_Tag_der_Deutschen_Einheit',\n",
       "       'holiday_Zweiter_Weihnachtstag', 'blackweek', 'blackweekend',\n",
       "       'aftercyberweek'],\n",
       "      dtype='object')"
      ]
     },
     "execution_count": 40,
     "metadata": {},
     "output_type": "execute_result"
    }
   ],
   "source": [
    "df.columns"
   ]
  },
  {
   "cell_type": "code",
   "execution_count": 54,
   "id": "f9fee023-591b-45a8-84a4-43cb2758f9ba",
   "metadata": {},
   "outputs": [],
   "source": [
    "# Set up covariates \n",
    "\n",
    "# All Columns (we need date)\n",
    "list_of_columns= [\"date\", 'tm_y', 'tm_w_end', 'tm_dy_sin', 'tm_dy_cos', 'tm_dm_sin',\n",
    "       'tm_dm_cos', 'tm_wy_sin', 'tm_wy_cos', 'tm_my_sin', 'tm_my_cos',\n",
    "       'tm_wm_sin', 'tm_wm_cos', 'tm_dw_sin', 'tm_dw_cos', 'q_roll_mean_7d',\n",
    "       'q_roll_std_7d', 'q_roll_mean_14d', 'q_roll_std_14d', 'q_lag_1d',\n",
    "       'q_lag_7d', 'q_lag_14d', 'q_lag_28d', 'q_mean_lag_7_14_28',\n",
    "       'precipitation_height', 'sunshine_duration', 'temperature_air_mean_200',\n",
    "       'sunshine_duration_h', 'suns_classes', 'temp_classes', 'rain_classes',\n",
    "       'is_holiday', 'is_event', 'xmas_1_week', 'xmas_2_week',\n",
    "       'after_xmas_week', 'event_Black_Friday', 'event_Cyber_Monday',\n",
    "       'event_Thanksgiving', 'event_Valentines_Day',\n",
    "       'holiday_Christi_Himmelfahrt', 'holiday_Erster_Mai',\n",
    "       'holiday_Erster_Weihnachtstag', 'holiday_Karfreitag', 'holiday_Neujahr',\n",
    "       'holiday_Ostermontag', 'holiday_Pfingstmontag',\n",
    "       'holiday_Reformationstag', 'holiday_Tag_der_Deutschen_Einheit',\n",
    "       'holiday_Zweiter_Weihnachtstag', 'blackweek', 'blackweekend',\n",
    "       'aftercyberweek']\n",
    "\n",
    "# All covariates \n",
    "list_of_covariates = ['tm_y', 'tm_w_end', 'tm_dy_sin', 'tm_dy_cos', 'tm_dm_sin',\n",
    "       'tm_dm_cos', 'tm_wy_sin', 'tm_wy_cos', 'tm_my_sin', 'tm_my_cos',\n",
    "       'tm_wm_sin', 'tm_wm_cos', 'tm_dw_sin', 'tm_dw_cos', 'q_roll_mean_7d',\n",
    "       'q_roll_std_7d', 'q_roll_mean_14d', 'q_roll_std_14d', 'q_lag_1d',\n",
    "       'q_lag_7d', 'q_lag_14d', 'q_lag_28d', 'q_mean_lag_7_14_28',\n",
    "       'precipitation_height', 'sunshine_duration', 'temperature_air_mean_200',\n",
    "       'sunshine_duration_h', 'suns_classes', 'temp_classes', 'rain_classes',\n",
    "       'is_holiday', 'is_event', 'xmas_1_week', 'xmas_2_week',\n",
    "       'after_xmas_week', 'event_Black_Friday', 'event_Cyber_Monday',\n",
    "       'event_Thanksgiving', 'event_Valentines_Day',\n",
    "       'holiday_Christi_Himmelfahrt', 'holiday_Erster_Mai',\n",
    "       'holiday_Erster_Weihnachtstag', 'holiday_Karfreitag', 'holiday_Neujahr',\n",
    "       'holiday_Ostermontag', 'holiday_Pfingstmontag',\n",
    "       'holiday_Reformationstag', 'holiday_Tag_der_Deutschen_Einheit',\n",
    "       'holiday_Zweiter_Weihnachtstag', 'blackweek', 'blackweekend',\n",
    "       'aftercyberweek']\n",
    "\n",
    "# Covariates to scale\n",
    "scale_cols = ['q_roll_mean_7d', 'q_roll_std_7d', 'q_roll_mean_14d', 'q_roll_std_14d', 'q_lag_1d',\n",
    "       'q_lag_7d', 'q_lag_14d', 'q_lag_28d', 'q_mean_lag_7_14_28',\n",
    "       'precipitation_height', 'sunshine_duration', 'temperature_air_mean_200',\n",
    "       'sunshine_duration_h', 'suns_classes', 'temp_classes', \"rain_classes\"]\n",
    "\n",
    "# df of covariates \n",
    "covariates_df = df_copy[list_of_columns]\n",
    "\n",
    "# scale covariates\n",
    "covariates_df[scale_cols] = scaler.fit_transform(covariates_df[scale_cols])\n",
    "\n",
    "# format covariates\n",
    "covariates = TimeSeries.from_dataframe(covariates_df, \"date\", list_of_covariates)"
   ]
  },
  {
   "cell_type": "markdown",
   "id": "5a24de2e-41d0-4212-a2a7-3ec40d0c156e",
   "metadata": {
    "tags": []
   },
   "source": [
    "### TS MODELS"
   ]
  },
  {
   "cell_type": "code",
   "execution_count": 59,
   "id": "7539e822-90f5-410a-9288-556e5e8ae608",
   "metadata": {},
   "outputs": [],
   "source": []
  },
  {
   "cell_type": "code",
   "execution_count": 60,
   "id": "1ebf65ba-ebc9-437a-83f0-4c8ef79d33e7",
   "metadata": {},
   "outputs": [
    {
     "name": "stdout",
     "output_type": "stream",
     "text": [
      "Classic TS:\n",
      "model ExponentialSmoothing(trend=ModelMode.ADDITIVE, damped=False, seasonal=SeasonalityMode.ADDITIVE, seasonal_periods=7 obtains RMSE: 17533.32\n",
      "model (T)BATS obtains RMSE: 17299.18\n",
      "model Auto-ARIMA obtains RMSE: 17278.60\n",
      "model Theta(2) obtains RMSE: 17293.64\n",
      "model Naive seasonal model, with K=1 obtains RMSE: 18022.00\n",
      "model Naive drift model obtains RMSE: 17871.55\n"
     ]
    }
   ],
   "source": [
    "def eval_model(model):\n",
    "    model.fit(train)\n",
    "    forecast = model.predict(len(val))\n",
    "    print(\"model {} obtains RMSE: {:.2f}\".format(model, rmse(val, forecast)))\n",
    "print(\"Classic TS:\")\n",
    "\n",
    "eval_model(ExponentialSmoothing())\n",
    "eval_model(TBATS())\n",
    "eval_model(AutoARIMA())\n",
    "eval_model(Theta())\n",
    "eval_model(NaiveSeasonal())\n",
    "eval_model(NaiveDrift())"
   ]
  },
  {
   "cell_type": "markdown",
   "id": "79ca6359-10a2-4104-b79d-405c816bc927",
   "metadata": {},
   "source": [
    "### N-Beats Generic Architecture"
   ]
  },
  {
   "cell_type": "code",
   "execution_count": 25,
   "id": "bf29dc09-60f7-4291-a1a5-bd3ff7631908",
   "metadata": {},
   "outputs": [],
   "source": [
    "model_nbeats = NBEATSModel(\n",
    "    input_chunk_length=180,\n",
    "    output_chunk_length=10,\n",
    "    generic_architecture=True,\n",
    "    num_stacks=10,\n",
    "    num_blocks=1,\n",
    "    num_layers=4,\n",
    "    layer_widths=512,\n",
    "    n_epochs=100,\n",
    "    nr_epochs_val_period=1,\n",
    "    batch_size=800,\n",
    "    model_name=\"nbeats_run\",\n",
    ")"
   ]
  },
  {
   "cell_type": "code",
   "execution_count": 26,
   "id": "0d709315-560d-4cc6-8867-40b39a594a59",
   "metadata": {},
   "outputs": [
    {
     "name": "stderr",
     "output_type": "stream",
     "text": [
      "GPU available: False, used: False\n",
      "TPU available: False, using: 0 TPU cores\n",
      "IPU available: False, using: 0 IPUs\n",
      "HPU available: False, using: 0 HPUs\n",
      "`Trainer.fit` stopped: `max_epochs=100` reached.\n"
     ]
    },
    {
     "data": {
      "text/plain": [
       "<darts.models.forecasting.nbeats.NBEATSModel at 0x7fa581894280>"
      ]
     },
     "execution_count": 26,
     "metadata": {},
     "output_type": "execute_result"
    }
   ],
   "source": [
    "model_nbeats.fit(train, val_series=val, verbose=False)"
   ]
  },
  {
   "cell_type": "code",
   "execution_count": 27,
   "id": "8476d636-8992-4977-81eb-8161cb5cf411",
   "metadata": {},
   "outputs": [],
   "source": [
    "def display_forecast(pred_series, ts_transformed, forecast_type, start_date=None):\n",
    "    plt.figure(figsize=(8, 5))\n",
    "    if start_date:\n",
    "        ts_transformed = ts_transformed.drop_before(start_date)\n",
    "    ts_transformed.univariate_component(0).plot(label=\"actual\")\n",
    "    pred_series.plot(label=(\"historic \" + forecast_type + \" forecasts\"))\n",
    "    plt.title(\n",
    "        \"MAPE in %: {}\".format(mape(ts_transformed.univariate_component(0), pred_series))\n",
    "    )\n",
    "    plt.legend()"
   ]
  },
  {
   "cell_type": "code",
   "execution_count": 29,
   "id": "091c0fbe-798d-45d8-9cc8-dfe021eb1cc4",
   "metadata": {},
   "outputs": [
    {
     "data": {
      "image/png": "[encoded data removed]",
      "text/plain": [
       "<Figure size 800x500 with 1 Axes>"
      ]
     },
     "metadata": {},
     "output_type": "display_data"
    }
   ],
   "source": [
    "display_forecast(pred_series, series, \"10 day\", start_date=pd.Timestamp(\"20221001\"))"
   ]
  },
  {
   "cell_type": "markdown",
   "id": "c91c9fcd-f787-4954-b628-618335c79d4c",
   "metadata": {},
   "source": [
    "### NBeats with Covariates "
   ]
  },
  {
   "cell_type": "code",
   "execution_count": 94,
   "id": "2d369366-ba2c-43f8-a346-ca036f40d58c",
   "metadata": {},
   "outputs": [],
   "source": [
    "# Model\n",
    "model_nbeats = NBEATSModel(\n",
    "    input_chunk_length=30,\n",
    "    output_chunk_length=10,\n",
    "    generic_architecture=True,\n",
    "    num_stacks=10,\n",
    "    num_blocks=1,\n",
    "    num_layers=4,\n",
    "    layer_widths=512,\n",
    "    n_epochs=100,\n",
    "    nr_epochs_val_period=1,\n",
    "    batch_size=32,\n",
    "    model_name=\"nbeats_run\",\n",
    ")"
   ]
  },
  {
   "cell_type": "code",
   "execution_count": 88,
   "id": "5b9d3c88-5070-4df7-91ed-6f4ec4f33d32",
   "metadata": {},
   "outputs": [
    {
     "name": "stderr",
     "output_type": "stream",
     "text": [
      "Attempting to retrain the model without resuming from a checkpoint. This is currently discouraged. Consider setting `save_checkpoints` to `True` and specifying `model_name` at model creation. Then call `model = NBEATSModel.load_from_checkpoint(model_name, best=False)`. Finally, train the model with `model.fit(..., epochs=new_epochs)` where `new_epochs` is the sum of (epochs already trained + some additional epochs).\n"
     ]
    },
    {
     "data": {
      "text/plain": [
       "<darts.models.forecasting.nbeats.NBEATSModel at 0x7fdc5b659c60>"
      ]
     },
     "execution_count": 88,
     "metadata": {},
     "output_type": "execute_result"
    }
   ],
   "source": [
    "model_nbeats.fit(train, \n",
    "                 past_covariates=covariates,\n",
    "                 verbose=False)"
   ]
  },
  {
   "cell_type": "code",
   "execution_count": 101,
   "id": "cbf92232-9c10-4cb6-9fee-a3bea2482650",
   "metadata": {},
   "outputs": [
    {
     "data": {
      "application/vnd.jupyter.widget-view+json": {
       "model_id": "7aba7da317a6457887d33f2208bafa9d",
       "version_major": 2,
       "version_minor": 0
      },
      "text/plain": [
       "Training: 0it [00:00, ?it/s]"
      ]
     },
     "metadata": {},
     "output_type": "display_data"
    },
    {
     "data": {
      "text/plain": [
       "<darts.models.forecasting.nhits.NHiTSModel at 0x7fdc29895840>"
      ]
     },
     "execution_count": 101,
     "metadata": {},
     "output_type": "execute_result"
    }
   ],
   "source": [
    "model_nhits = NHiTSModel(\n",
    "    input_chunk_length=30,\n",
    "    output_chunk_length=10,\n",
    "    num_stacks=10,\n",
    "    num_blocks=1,\n",
    "    num_layers=4,\n",
    "    layer_widths=512,\n",
    "    n_epochs=100,\n",
    "    nr_epochs_val_period=1,\n",
    "    batch_size=32,)\n",
    "\n",
    "model_nhits.fit(train,\n",
    "               past_covariates=covariates,\n",
    "               verbose=True)"
   ]
  },
  {
   "cell_type": "code",
   "execution_count": 104,
   "id": "276fbb30-3050-4340-9f78-a5f58a1f951e",
   "metadata": {},
   "outputs": [
    {
     "data": {
      "application/vnd.jupyter.widget-view+json": {
       "model_id": "ef7cdb9a713c486d8f89e01d534d604b",
       "version_major": 2,
       "version_minor": 0
      },
      "text/plain": [
       "Predicting: 0it [00:00, ?it/s]"
      ]
     },
     "metadata": {},
     "output_type": "display_data"
    },
    {
     "name": "stdout",
     "output_type": "stream",
     "text": [
      "RSME SCORE: 34.662296625307626\n"
     ]
    },
    {
     "data": {
      "application/vnd.jupyter.widget-view+json": {
       "model_id": "d4c92f4223b74fa8b14a25479f9aee7f",
       "version_major": 2,
       "version_minor": 0
      },
      "text/plain": [
       "Predicting: 0it [00:00, ?it/s]"
      ]
     },
     "metadata": {},
     "output_type": "display_data"
    },
    {
     "name": "stdout",
     "output_type": "stream",
     "text": [
      "RSME SCORE: 34.662296625307626\n"
     ]
    }
   ],
   "source": [
    "def eval_prediction(model, n, past_covariates=None, future_covariates=None):\n",
    "    pred = model_nbeats.predict(n=n,\n",
    "                                past_covariates=past_covariates,\n",
    "                                future_covariates=future_covariates\n",
    "                               )\n",
    "    \n",
    "    print(\"RSME SCORE:\", mape(val, pred))\n",
    "\n",
    "eval_prediction(model_nhits, 30, past_covariates=covariates)\n",
    "eval_prediction(model_nbeats, 30, past_covariates=covariates)\n",
    "\n",
    "#pred = model_nbeats.predict(n=30,\n",
    " #                    past_covariates=covariates)\n"
   ]
  },
  {
   "cell_type": "code",
   "execution_count": 97,
   "id": "0c4e0c48-3578-4d92-a869-c682ba59b714",
   "metadata": {},
   "outputs": [
    {
     "data": {
      "application/vnd.jupyter.widget-view+json": {
       "model_id": "df9c98150afa4af2bf46f6e061d20073",
       "version_major": 2,
       "version_minor": 0
      },
      "text/plain": [
       "Predicting: 0it [00:00, ?it/s]"
      ]
     },
     "metadata": {},
     "output_type": "display_data"
    },
    {
     "data": {
      "text/plain": [
       "14594.940675594335"
      ]
     },
     "execution_count": 97,
     "metadata": {},
     "output_type": "execute_result"
    }
   ],
   "source": [
    "pred = model_nbeats.predict(n=30,\n",
    "                     past_covariates=covariates)\n",
    "\n",
    "rmse(val, pred)"
   ]
  },
  {
   "cell_type": "code",
   "execution_count": 58,
   "id": "1f101790-d1a2-4d72-ba7d-1b0123746cf2",
   "metadata": {},
   "outputs": [
    {
     "data": {
      "application/vnd.jupyter.widget-view+json": {
       "model_id": "074e22b59bd248fbab11ee2c542e34d2",
       "version_major": 2,
       "version_minor": 0
      },
      "text/plain": [
       "  0%|          | 0/90 [00:00<?, ?it/s]"
      ]
     },
     "metadata": {},
     "output_type": "display_data"
    },
    {
     "data": {
      "application/vnd.jupyter.widget-view+json": {
       "model_id": "3bc3b0b7218242b1a92d0e5304a90c1a",
       "version_major": 2,
       "version_minor": 0
      },
      "text/plain": [
       "Predicting: 0it [00:00, ?it/s]"
      ]
     },
     "metadata": {},
     "output_type": "display_data"
    },
    {
     "data": {
      "application/vnd.jupyter.widget-view+json": {
       "model_id": "0fccdfba18524eb69e7c8dd718a19cfb",
       "version_major": 2,
       "version_minor": 0
      },
      "text/plain": [
       "Predicting: 0it [00:00, ?it/s]"
      ]
     },
     "metadata": {},
     "output_type": "display_data"
    },
    {
     "data": {
      "application/vnd.jupyter.widget-view+json": {
       "model_id": "275020f17ddc4743ab1d3c73dbf41bd6",
       "version_major": 2,
       "version_minor": 0
      },
      "text/plain": [
       "Predicting: 0it [00:00, ?it/s]"
      ]
     },
     "metadata": {},
     "output_type": "display_data"
    },
    {
     "data": {
      "application/vnd.jupyter.widget-view+json": {
       "model_id": "25c29c2199424be1a5e98a5bf3116b72",
       "version_major": 2,
       "version_minor": 0
      },
      "text/plain": [
       "Predicting: 0it [00:00, ?it/s]"
      ]
     },
     "metadata": {},
     "output_type": "display_data"
    },
    {
     "data": {
      "application/vnd.jupyter.widget-view+json": {
       "model_id": "34384e78486d460c9c272a40c893ec38",
       "version_major": 2,
       "version_minor": 0
      },
      "text/plain": [
       "Predicting: 0it [00:00, ?it/s]"
      ]
     },
     "metadata": {},
     "output_type": "display_data"
    },
    {
     "data": {
      "application/vnd.jupyter.widget-view+json": {
       "model_id": "4a5343ef5364493d96c86976a4ace944",
       "version_major": 2,
       "version_minor": 0
      },
      "text/plain": [
       "Predicting: 0it [00:00, ?it/s]"
      ]
     },
     "metadata": {},
     "output_type": "display_data"
    },
    {
     "data": {
      "application/vnd.jupyter.widget-view+json": {
       "model_id": "34ef55ce077c47a886f223c122f6c857",
       "version_major": 2,
       "version_minor": 0
      },
      "text/plain": [
       "Predicting: 0it [00:00, ?it/s]"
      ]
     },
     "metadata": {},
     "output_type": "display_data"
    },
    {
     "data": {
      "application/vnd.jupyter.widget-view+json": {
       "model_id": "40505113fab84cdcb00187e99f72c284",
       "version_major": 2,
       "version_minor": 0
      },
      "text/plain": [
       "Predicting: 0it [00:00, ?it/s]"
      ]
     },
     "metadata": {},
     "output_type": "display_data"
    },
    {
     "data": {
      "application/vnd.jupyter.widget-view+json": {
       "model_id": "155a624d2dcf4266bf6df17ddcb9a8f0",
       "version_major": 2,
       "version_minor": 0
      },
      "text/plain": [
       "Predicting: 0it [00:00, ?it/s]"
      ]
     },
     "metadata": {},
     "output_type": "display_data"
    },
    {
     "data": {
      "application/vnd.jupyter.widget-view+json": {
       "model_id": "0d98ec541a5c4b83a8828fc22af2393a",
       "version_major": 2,
       "version_minor": 0
      },
      "text/plain": [
       "Predicting: 0it [00:00, ?it/s]"
      ]
     },
     "metadata": {},
     "output_type": "display_data"
    },
    {
     "data": {
      "application/vnd.jupyter.widget-view+json": {
       "model_id": "6330720d3eb54103bef34a8654616cff",
       "version_major": 2,
       "version_minor": 0
      },
      "text/plain": [
       "Predicting: 0it [00:00, ?it/s]"
      ]
     },
     "metadata": {},
     "output_type": "display_data"
    },
    {
     "data": {
      "application/vnd.jupyter.widget-view+json": {
       "model_id": "cf681c5898c74139b7727fe4003517a4",
       "version_major": 2,
       "version_minor": 0
      },
      "text/plain": [
       "Predicting: 0it [00:00, ?it/s]"
      ]
     },
     "metadata": {},
     "output_type": "display_data"
    },
    {
     "data": {
      "application/vnd.jupyter.widget-view+json": {
       "model_id": "0813b58ef71c48648ad3625596bd99f8",
       "version_major": 2,
       "version_minor": 0
      },
      "text/plain": [
       "Predicting: 0it [00:00, ?it/s]"
      ]
     },
     "metadata": {},
     "output_type": "display_data"
    },
    {
     "data": {
      "application/vnd.jupyter.widget-view+json": {
       "model_id": "6760f52a467d4e9f98b447165bfc22f5",
       "version_major": 2,
       "version_minor": 0
      },
      "text/plain": [
       "Predicting: 0it [00:00, ?it/s]"
      ]
     },
     "metadata": {},
     "output_type": "display_data"
    },
    {
     "data": {
      "application/vnd.jupyter.widget-view+json": {
       "model_id": "fb913a961f164e5ca79e944b624b6ed7",
       "version_major": 2,
       "version_minor": 0
      },
      "text/plain": [
       "Predicting: 0it [00:00, ?it/s]"
      ]
     },
     "metadata": {},
     "output_type": "display_data"
    },
    {
     "data": {
      "application/vnd.jupyter.widget-view+json": {
       "model_id": "d3ad0e580d3042e48bccf39c880a8179",
       "version_major": 2,
       "version_minor": 0
      },
      "text/plain": [
       "Predicting: 0it [00:00, ?it/s]"
      ]
     },
     "metadata": {},
     "output_type": "display_data"
    },
    {
     "data": {
      "application/vnd.jupyter.widget-view+json": {
       "model_id": "83dbee952a8840488d10d403ea2027aa",
       "version_major": 2,
       "version_minor": 0
      },
      "text/plain": [
       "Predicting: 0it [00:00, ?it/s]"
      ]
     },
     "metadata": {},
     "output_type": "display_data"
    },
    {
     "data": {
      "application/vnd.jupyter.widget-view+json": {
       "model_id": "3b94a027979e404b80afe9190b2bdd47",
       "version_major": 2,
       "version_minor": 0
      },
      "text/plain": [
       "Predicting: 0it [00:00, ?it/s]"
      ]
     },
     "metadata": {},
     "output_type": "display_data"
    },
    {
     "data": {
      "application/vnd.jupyter.widget-view+json": {
       "model_id": "01d38dd08a6b431996934c3195577499",
       "version_major": 2,
       "version_minor": 0
      },
      "text/plain": [
       "Predicting: 0it [00:00, ?it/s]"
      ]
     },
     "metadata": {},
     "output_type": "display_data"
    },
    {
     "data": {
      "application/vnd.jupyter.widget-view+json": {
       "model_id": "1b989d780306429ab0296f760e1de491",
       "version_major": 2,
       "version_minor": 0
      },
      "text/plain": [
       "Predicting: 0it [00:00, ?it/s]"
      ]
     },
     "metadata": {},
     "output_type": "display_data"
    },
    {
     "data": {
      "application/vnd.jupyter.widget-view+json": {
       "model_id": "1780a060bb56413590ae3555eec08af0",
       "version_major": 2,
       "version_minor": 0
      },
      "text/plain": [
       "Predicting: 0it [00:00, ?it/s]"
      ]
     },
     "metadata": {},
     "output_type": "display_data"
    },
    {
     "data": {
      "application/vnd.jupyter.widget-view+json": {
       "model_id": "42a05c3d1c974a5eabff8e43ba780252",
       "version_major": 2,
       "version_minor": 0
      },
      "text/plain": [
       "Predicting: 0it [00:00, ?it/s]"
      ]
     },
     "metadata": {},
     "output_type": "display_data"
    },
    {
     "data": {
      "application/vnd.jupyter.widget-view+json": {
       "model_id": "a18b4c25260e4385b2d749139d0c31b8",
       "version_major": 2,
       "version_minor": 0
      },
      "text/plain": [
       "Predicting: 0it [00:00, ?it/s]"
      ]
     },
     "metadata": {},
     "output_type": "display_data"
    },
    {
     "data": {
      "application/vnd.jupyter.widget-view+json": {
       "model_id": "73a6fc873e304ea0a0c57907964ea090",
       "version_major": 2,
       "version_minor": 0
      },
      "text/plain": [
       "Predicting: 0it [00:00, ?it/s]"
      ]
     },
     "metadata": {},
     "output_type": "display_data"
    },
    {
     "data": {
      "application/vnd.jupyter.widget-view+json": {
       "model_id": "beba39ecd8f84cd5a32443f4ddf0b881",
       "version_major": 2,
       "version_minor": 0
      },
      "text/plain": [
       "Predicting: 0it [00:00, ?it/s]"
      ]
     },
     "metadata": {},
     "output_type": "display_data"
    },
    {
     "data": {
      "application/vnd.jupyter.widget-view+json": {
       "model_id": "20fe6959678d4b6da098ca14b2371b98",
       "version_major": 2,
       "version_minor": 0
      },
      "text/plain": [
       "Predicting: 0it [00:00, ?it/s]"
      ]
     },
     "metadata": {},
     "output_type": "display_data"
    },
    {
     "data": {
      "application/vnd.jupyter.widget-view+json": {
       "model_id": "aa924610ea5b4a629e7bb6ebad0f2e56",
       "version_major": 2,
       "version_minor": 0
      },
      "text/plain": [
       "Predicting: 0it [00:00, ?it/s]"
      ]
     },
     "metadata": {},
     "output_type": "display_data"
    },
    {
     "data": {
      "application/vnd.jupyter.widget-view+json": {
       "model_id": "cf82eb692aee4e65a9bcb856e5975325",
       "version_major": 2,
       "version_minor": 0
      },
      "text/plain": [
       "Predicting: 0it [00:00, ?it/s]"
      ]
     },
     "metadata": {},
     "output_type": "display_data"
    },
    {
     "data": {
      "application/vnd.jupyter.widget-view+json": {
       "model_id": "42277295e99848e7a69235ea9846d0d4",
       "version_major": 2,
       "version_minor": 0
      },
      "text/plain": [
       "Predicting: 0it [00:00, ?it/s]"
      ]
     },
     "metadata": {},
     "output_type": "display_data"
    },
    {
     "data": {
      "application/vnd.jupyter.widget-view+json": {
       "model_id": "97ee79da400445b8a9af749a03b266c1",
       "version_major": 2,
       "version_minor": 0
      },
      "text/plain": [
       "Predicting: 0it [00:00, ?it/s]"
      ]
     },
     "metadata": {},
     "output_type": "display_data"
    },
    {
     "data": {
      "application/vnd.jupyter.widget-view+json": {
       "model_id": "74ecf857db1e4d04b21c245e166d1152",
       "version_major": 2,
       "version_minor": 0
      },
      "text/plain": [
       "Predicting: 0it [00:00, ?it/s]"
      ]
     },
     "metadata": {},
     "output_type": "display_data"
    },
    {
     "data": {
      "application/vnd.jupyter.widget-view+json": {
       "model_id": "68bb12f17fbd44768ca281744dd653dc",
       "version_major": 2,
       "version_minor": 0
      },
      "text/plain": [
       "Predicting: 0it [00:00, ?it/s]"
      ]
     },
     "metadata": {},
     "output_type": "display_data"
    },
    {
     "data": {
      "application/vnd.jupyter.widget-view+json": {
       "model_id": "9f639fbce29540059a0bc3e9af9f3a76",
       "version_major": 2,
       "version_minor": 0
      },
      "text/plain": [
       "Predicting: 0it [00:00, ?it/s]"
      ]
     },
     "metadata": {},
     "output_type": "display_data"
    },
    {
     "data": {
      "application/vnd.jupyter.widget-view+json": {
       "model_id": "a2ed1104c3f74f0b8624156c80e27921",
       "version_major": 2,
       "version_minor": 0
      },
      "text/plain": [
       "Predicting: 0it [00:00, ?it/s]"
      ]
     },
     "metadata": {},
     "output_type": "display_data"
    },
    {
     "data": {
      "application/vnd.jupyter.widget-view+json": {
       "model_id": "8dcd83b5eaba47dea9ca9ba9268c4c1e",
       "version_major": 2,
       "version_minor": 0
      },
      "text/plain": [
       "Predicting: 0it [00:00, ?it/s]"
      ]
     },
     "metadata": {},
     "output_type": "display_data"
    },
    {
     "data": {
      "application/vnd.jupyter.widget-view+json": {
       "model_id": "582ddb551b9f4f26982265d71e21bec1",
       "version_major": 2,
       "version_minor": 0
      },
      "text/plain": [
       "Predicting: 0it [00:00, ?it/s]"
      ]
     },
     "metadata": {},
     "output_type": "display_data"
    },
    {
     "data": {
      "application/vnd.jupyter.widget-view+json": {
       "model_id": "0ece513738f94872ba820679d0664aff",
       "version_major": 2,
       "version_minor": 0
      },
      "text/plain": [
       "Predicting: 0it [00:00, ?it/s]"
      ]
     },
     "metadata": {},
     "output_type": "display_data"
    },
    {
     "data": {
      "application/vnd.jupyter.widget-view+json": {
       "model_id": "b4aa70e637724c7aaa0653823d4bc7bf",
       "version_major": 2,
       "version_minor": 0
      },
      "text/plain": [
       "Predicting: 0it [00:00, ?it/s]"
      ]
     },
     "metadata": {},
     "output_type": "display_data"
    },
    {
     "data": {
      "application/vnd.jupyter.widget-view+json": {
       "model_id": "05f91cbce14f40fa8eb2694adcf6f62b",
       "version_major": 2,
       "version_minor": 0
      },
      "text/plain": [
       "Predicting: 0it [00:00, ?it/s]"
      ]
     },
     "metadata": {},
     "output_type": "display_data"
    },
    {
     "data": {
      "application/vnd.jupyter.widget-view+json": {
       "model_id": "a26c5e7ce87a4197990fabfbc57cfd28",
       "version_major": 2,
       "version_minor": 0
      },
      "text/plain": [
       "Predicting: 0it [00:00, ?it/s]"
      ]
     },
     "metadata": {},
     "output_type": "display_data"
    },
    {
     "data": {
      "application/vnd.jupyter.widget-view+json": {
       "model_id": "4d4c46ab25ce4462988ef5be4667ebe9",
       "version_major": 2,
       "version_minor": 0
      },
      "text/plain": [
       "Predicting: 0it [00:00, ?it/s]"
      ]
     },
     "metadata": {},
     "output_type": "display_data"
    },
    {
     "data": {
      "application/vnd.jupyter.widget-view+json": {
       "model_id": "55a385b554314b3cadafb7f7e4f1a593",
       "version_major": 2,
       "version_minor": 0
      },
      "text/plain": [
       "Predicting: 0it [00:00, ?it/s]"
      ]
     },
     "metadata": {},
     "output_type": "display_data"
    },
    {
     "data": {
      "application/vnd.jupyter.widget-view+json": {
       "model_id": "ee47800cdf614930a3ba5df541b53f37",
       "version_major": 2,
       "version_minor": 0
      },
      "text/plain": [
       "Predicting: 0it [00:00, ?it/s]"
      ]
     },
     "metadata": {},
     "output_type": "display_data"
    },
    {
     "data": {
      "application/vnd.jupyter.widget-view+json": {
       "model_id": "1b537b8f0f6c49d58e48ba6049eb27fd",
       "version_major": 2,
       "version_minor": 0
      },
      "text/plain": [
       "Predicting: 0it [00:00, ?it/s]"
      ]
     },
     "metadata": {},
     "output_type": "display_data"
    },
    {
     "data": {
      "application/vnd.jupyter.widget-view+json": {
       "model_id": "417db08caad64eef95c3794496a78aa9",
       "version_major": 2,
       "version_minor": 0
      },
      "text/plain": [
       "Predicting: 0it [00:00, ?it/s]"
      ]
     },
     "metadata": {},
     "output_type": "display_data"
    },
    {
     "data": {
      "application/vnd.jupyter.widget-view+json": {
       "model_id": "f6ac490eb2a7481bb8d39e91d4cf4b42",
       "version_major": 2,
       "version_minor": 0
      },
      "text/plain": [
       "Predicting: 0it [00:00, ?it/s]"
      ]
     },
     "metadata": {},
     "output_type": "display_data"
    },
    {
     "data": {
      "application/vnd.jupyter.widget-view+json": {
       "model_id": "851df6a15f824ca2adb240cecb8fe33d",
       "version_major": 2,
       "version_minor": 0
      },
      "text/plain": [
       "Predicting: 0it [00:00, ?it/s]"
      ]
     },
     "metadata": {},
     "output_type": "display_data"
    },
    {
     "data": {
      "application/vnd.jupyter.widget-view+json": {
       "model_id": "676ab1b8e29b4f0c9d0cbddb9b0d85b3",
       "version_major": 2,
       "version_minor": 0
      },
      "text/plain": [
       "Predicting: 0it [00:00, ?it/s]"
      ]
     },
     "metadata": {},
     "output_type": "display_data"
    },
    {
     "data": {
      "application/vnd.jupyter.widget-view+json": {
       "model_id": "2998143b0a774945891133ae24a0043c",
       "version_major": 2,
       "version_minor": 0
      },
      "text/plain": [
       "Predicting: 0it [00:00, ?it/s]"
      ]
     },
     "metadata": {},
     "output_type": "display_data"
    },
    {
     "data": {
      "application/vnd.jupyter.widget-view+json": {
       "model_id": "4e44b4369974473f8578505cee068b65",
       "version_major": 2,
       "version_minor": 0
      },
      "text/plain": [
       "Predicting: 0it [00:00, ?it/s]"
      ]
     },
     "metadata": {},
     "output_type": "display_data"
    },
    {
     "data": {
      "application/vnd.jupyter.widget-view+json": {
       "model_id": "023d7f8d848a494582692781b587c4df",
       "version_major": 2,
       "version_minor": 0
      },
      "text/plain": [
       "Predicting: 0it [00:00, ?it/s]"
      ]
     },
     "metadata": {},
     "output_type": "display_data"
    },
    {
     "data": {
      "application/vnd.jupyter.widget-view+json": {
       "model_id": "17dab14626f34ecc9554b8c28c29721b",
       "version_major": 2,
       "version_minor": 0
      },
      "text/plain": [
       "Predicting: 0it [00:00, ?it/s]"
      ]
     },
     "metadata": {},
     "output_type": "display_data"
    },
    {
     "data": {
      "application/vnd.jupyter.widget-view+json": {
       "model_id": "9a7edafafde043fe92b6be14f0d6fa80",
       "version_major": 2,
       "version_minor": 0
      },
      "text/plain": [
       "Predicting: 0it [00:00, ?it/s]"
      ]
     },
     "metadata": {},
     "output_type": "display_data"
    },
    {
     "data": {
      "application/vnd.jupyter.widget-view+json": {
       "model_id": "cb505b08669d469ab28d65e4b6e26de6",
       "version_major": 2,
       "version_minor": 0
      },
      "text/plain": [
       "Predicting: 0it [00:00, ?it/s]"
      ]
     },
     "metadata": {},
     "output_type": "display_data"
    },
    {
     "data": {
      "application/vnd.jupyter.widget-view+json": {
       "model_id": "2deb89cddc364d9b948a1f559e8be58a",
       "version_major": 2,
       "version_minor": 0
      },
      "text/plain": [
       "Predicting: 0it [00:00, ?it/s]"
      ]
     },
     "metadata": {},
     "output_type": "display_data"
    },
    {
     "data": {
      "application/vnd.jupyter.widget-view+json": {
       "model_id": "631b553110614e2f98b840190a40bab8",
       "version_major": 2,
       "version_minor": 0
      },
      "text/plain": [
       "Predicting: 0it [00:00, ?it/s]"
      ]
     },
     "metadata": {},
     "output_type": "display_data"
    },
    {
     "data": {
      "application/vnd.jupyter.widget-view+json": {
       "model_id": "cc26512d10fc485a81214752e19504a9",
       "version_major": 2,
       "version_minor": 0
      },
      "text/plain": [
       "Predicting: 0it [00:00, ?it/s]"
      ]
     },
     "metadata": {},
     "output_type": "display_data"
    },
    {
     "data": {
      "application/vnd.jupyter.widget-view+json": {
       "model_id": "7d1713d55f894864a7c324ecab0dd33e",
       "version_major": 2,
       "version_minor": 0
      },
      "text/plain": [
       "Predicting: 0it [00:00, ?it/s]"
      ]
     },
     "metadata": {},
     "output_type": "display_data"
    },
    {
     "data": {
      "application/vnd.jupyter.widget-view+json": {
       "model_id": "c406834bf6a34c8a9bacf5e125cde004",
       "version_major": 2,
       "version_minor": 0
      },
      "text/plain": [
       "Predicting: 0it [00:00, ?it/s]"
      ]
     },
     "metadata": {},
     "output_type": "display_data"
    },
    {
     "data": {
      "application/vnd.jupyter.widget-view+json": {
       "model_id": "ee577f248fb44d49bfae0e89f1277d53",
       "version_major": 2,
       "version_minor": 0
      },
      "text/plain": [
       "Predicting: 0it [00:00, ?it/s]"
      ]
     },
     "metadata": {},
     "output_type": "display_data"
    },
    {
     "data": {
      "application/vnd.jupyter.widget-view+json": {
       "model_id": "f4b116f2f05b47909c1953f6c8ecbf10",
       "version_major": 2,
       "version_minor": 0
      },
      "text/plain": [
       "Predicting: 0it [00:00, ?it/s]"
      ]
     },
     "metadata": {},
     "output_type": "display_data"
    },
    {
     "data": {
      "application/vnd.jupyter.widget-view+json": {
       "model_id": "ffa5d5a882fb4ba3b052eb348af86569",
       "version_major": 2,
       "version_minor": 0
      },
      "text/plain": [
       "Predicting: 0it [00:00, ?it/s]"
      ]
     },
     "metadata": {},
     "output_type": "display_data"
    },
    {
     "data": {
      "application/vnd.jupyter.widget-view+json": {
       "model_id": "805e12e76f234b93bda96319da152f38",
       "version_major": 2,
       "version_minor": 0
      },
      "text/plain": [
       "Predicting: 0it [00:00, ?it/s]"
      ]
     },
     "metadata": {},
     "output_type": "display_data"
    },
    {
     "data": {
      "application/vnd.jupyter.widget-view+json": {
       "model_id": "155344c764e842a491c29c332a903bbd",
       "version_major": 2,
       "version_minor": 0
      },
      "text/plain": [
       "Predicting: 0it [00:00, ?it/s]"
      ]
     },
     "metadata": {},
     "output_type": "display_data"
    },
    {
     "data": {
      "application/vnd.jupyter.widget-view+json": {
       "model_id": "68f12b32829e412eb387b06e3568093b",
       "version_major": 2,
       "version_minor": 0
      },
      "text/plain": [
       "Predicting: 0it [00:00, ?it/s]"
      ]
     },
     "metadata": {},
     "output_type": "display_data"
    },
    {
     "data": {
      "application/vnd.jupyter.widget-view+json": {
       "model_id": "a13c96b5a61a494f89a3ff18da6eb31a",
       "version_major": 2,
       "version_minor": 0
      },
      "text/plain": [
       "Predicting: 0it [00:00, ?it/s]"
      ]
     },
     "metadata": {},
     "output_type": "display_data"
    },
    {
     "data": {
      "application/vnd.jupyter.widget-view+json": {
       "model_id": "43b2f64e93cd4265930a8b996e47a47d",
       "version_major": 2,
       "version_minor": 0
      },
      "text/plain": [
       "Predicting: 0it [00:00, ?it/s]"
      ]
     },
     "metadata": {},
     "output_type": "display_data"
    },
    {
     "data": {
      "application/vnd.jupyter.widget-view+json": {
       "model_id": "bce1dcde13a04f5b90e87983bd1ace92",
       "version_major": 2,
       "version_minor": 0
      },
      "text/plain": [
       "Predicting: 0it [00:00, ?it/s]"
      ]
     },
     "metadata": {},
     "output_type": "display_data"
    },
    {
     "data": {
      "application/vnd.jupyter.widget-view+json": {
       "model_id": "cf79bfe89b2d40e5a58c7f331a10f0a4",
       "version_major": 2,
       "version_minor": 0
      },
      "text/plain": [
       "Predicting: 0it [00:00, ?it/s]"
      ]
     },
     "metadata": {},
     "output_type": "display_data"
    },
    {
     "data": {
      "application/vnd.jupyter.widget-view+json": {
       "model_id": "f7d812c3b4f84fc6830b395ea0024a0e",
       "version_major": 2,
       "version_minor": 0
      },
      "text/plain": [
       "Predicting: 0it [00:00, ?it/s]"
      ]
     },
     "metadata": {},
     "output_type": "display_data"
    },
    {
     "data": {
      "application/vnd.jupyter.widget-view+json": {
       "model_id": "afb01eb69fb3491b8ff8185c86120278",
       "version_major": 2,
       "version_minor": 0
      },
      "text/plain": [
       "Predicting: 0it [00:00, ?it/s]"
      ]
     },
     "metadata": {},
     "output_type": "display_data"
    },
    {
     "data": {
      "application/vnd.jupyter.widget-view+json": {
       "model_id": "102ba1857f07432b8ec572c1a136b8bb",
       "version_major": 2,
       "version_minor": 0
      },
      "text/plain": [
       "Predicting: 0it [00:00, ?it/s]"
      ]
     },
     "metadata": {},
     "output_type": "display_data"
    },
    {
     "data": {
      "application/vnd.jupyter.widget-view+json": {
       "model_id": "cfbfd76e29f744f6bb706e6f797ff9af",
       "version_major": 2,
       "version_minor": 0
      },
      "text/plain": [
       "Predicting: 0it [00:00, ?it/s]"
      ]
     },
     "metadata": {},
     "output_type": "display_data"
    },
    {
     "data": {
      "application/vnd.jupyter.widget-view+json": {
       "model_id": "87494a9d68c342748e0c7f630ba1fbe1",
       "version_major": 2,
       "version_minor": 0
      },
      "text/plain": [
       "Predicting: 0it [00:00, ?it/s]"
      ]
     },
     "metadata": {},
     "output_type": "display_data"
    },
    {
     "data": {
      "application/vnd.jupyter.widget-view+json": {
       "model_id": "fa568cf60bea4bf68e73db26d6a3a89f",
       "version_major": 2,
       "version_minor": 0
      },
      "text/plain": [
       "Predicting: 0it [00:00, ?it/s]"
      ]
     },
     "metadata": {},
     "output_type": "display_data"
    },
    {
     "data": {
      "application/vnd.jupyter.widget-view+json": {
       "model_id": "8f04ec71f05d49a295e5426162883f7d",
       "version_major": 2,
       "version_minor": 0
      },
      "text/plain": [
       "Predicting: 0it [00:00, ?it/s]"
      ]
     },
     "metadata": {},
     "output_type": "display_data"
    },
    {
     "data": {
      "application/vnd.jupyter.widget-view+json": {
       "model_id": "2d22931cc73044bfaecf72df977f5556",
       "version_major": 2,
       "version_minor": 0
      },
      "text/plain": [
       "Predicting: 0it [00:00, ?it/s]"
      ]
     },
     "metadata": {},
     "output_type": "display_data"
    },
    {
     "data": {
      "application/vnd.jupyter.widget-view+json": {
       "model_id": "2b93f733bc904058aba28e426239e52f",
       "version_major": 2,
       "version_minor": 0
      },
      "text/plain": [
       "Predicting: 0it [00:00, ?it/s]"
      ]
     },
     "metadata": {},
     "output_type": "display_data"
    },
    {
     "data": {
      "application/vnd.jupyter.widget-view+json": {
       "model_id": "01f1c0091db64aa788f64d343c60def7",
       "version_major": 2,
       "version_minor": 0
      },
      "text/plain": [
       "Predicting: 0it [00:00, ?it/s]"
      ]
     },
     "metadata": {},
     "output_type": "display_data"
    },
    {
     "data": {
      "application/vnd.jupyter.widget-view+json": {
       "model_id": "3996d56e6f4949a9bd92bb6ad6234022",
       "version_major": 2,
       "version_minor": 0
      },
      "text/plain": [
       "Predicting: 0it [00:00, ?it/s]"
      ]
     },
     "metadata": {},
     "output_type": "display_data"
    },
    {
     "data": {
      "application/vnd.jupyter.widget-view+json": {
       "model_id": "5e145aff56f3497488185f6afcf322e5",
       "version_major": 2,
       "version_minor": 0
      },
      "text/plain": [
       "Predicting: 0it [00:00, ?it/s]"
      ]
     },
     "metadata": {},
     "output_type": "display_data"
    },
    {
     "data": {
      "application/vnd.jupyter.widget-view+json": {
       "model_id": "bc2662a3273f46e5ba5b3d7f1cd914c3",
       "version_major": 2,
       "version_minor": 0
      },
      "text/plain": [
       "Predicting: 0it [00:00, ?it/s]"
      ]
     },
     "metadata": {},
     "output_type": "display_data"
    },
    {
     "data": {
      "application/vnd.jupyter.widget-view+json": {
       "model_id": "f1299880c13341febd7f3123baa5effe",
       "version_major": 2,
       "version_minor": 0
      },
      "text/plain": [
       "Predicting: 0it [00:00, ?it/s]"
      ]
     },
     "metadata": {},
     "output_type": "display_data"
    },
    {
     "data": {
      "application/vnd.jupyter.widget-view+json": {
       "model_id": "a9f527b098164ae5aa58af6f6aebf436",
       "version_major": 2,
       "version_minor": 0
      },
      "text/plain": [
       "Predicting: 0it [00:00, ?it/s]"
      ]
     },
     "metadata": {},
     "output_type": "display_data"
    },
    {
     "data": {
      "application/vnd.jupyter.widget-view+json": {
       "model_id": "01d38ae7fcc5414da37fd62e50e8db2f",
       "version_major": 2,
       "version_minor": 0
      },
      "text/plain": [
       "Predicting: 0it [00:00, ?it/s]"
      ]
     },
     "metadata": {},
     "output_type": "display_data"
    },
    {
     "data": {
      "application/vnd.jupyter.widget-view+json": {
       "model_id": "d91c4be769d04a95874a1bc3f1c627c0",
       "version_major": 2,
       "version_minor": 0
      },
      "text/plain": [
       "Predicting: 0it [00:00, ?it/s]"
      ]
     },
     "metadata": {},
     "output_type": "display_data"
    },
    {
     "data": {
      "application/vnd.jupyter.widget-view+json": {
       "model_id": "f7f8482d4a9546b8b38e6bdf93fac99f",
       "version_major": 2,
       "version_minor": 0
      },
      "text/plain": [
       "Predicting: 0it [00:00, ?it/s]"
      ]
     },
     "metadata": {},
     "output_type": "display_data"
    },
    {
     "data": {
      "application/vnd.jupyter.widget-view+json": {
       "model_id": "5f2f9b6e05e747fcbbd704b269ec9c0d",
       "version_major": 2,
       "version_minor": 0
      },
      "text/plain": [
       "Predicting: 0it [00:00, ?it/s]"
      ]
     },
     "metadata": {},
     "output_type": "display_data"
    },
    {
     "data": {
      "application/vnd.jupyter.widget-view+json": {
       "model_id": "df8632e115f148078968a305b5da5510",
       "version_major": 2,
       "version_minor": 0
      },
      "text/plain": [
       "Predicting: 0it [00:00, ?it/s]"
      ]
     },
     "metadata": {},
     "output_type": "display_data"
    },
    {
     "data": {
      "application/vnd.jupyter.widget-view+json": {
       "model_id": "80b74f7be28f4ed3a63cb95c55e28e9c",
       "version_major": 2,
       "version_minor": 0
      },
      "text/plain": [
       "Predicting: 0it [00:00, ?it/s]"
      ]
     },
     "metadata": {},
     "output_type": "display_data"
    },
    {
     "name": "stdout",
     "output_type": "stream",
     "text": [
      "Backtest RMSE = 9857.475607362147\n"
     ]
    },
    {
     "data": {
      "image/png": "[encoded data removed]",
      "text/plain": [
       "<Figure size 640x480 with 1 Axes>"
      ]
     },
     "metadata": {},
     "output_type": "display_data"
    }
   ],
   "source": [
    "def eval_model(model, past_covariates=None, future_covariates=None):\n",
    "    # Past and future covariates are optional because they won't always be used in our tests\n",
    "    \n",
    "    # We backtest the model on the last 20% of the flow series, with a horizon of 10 steps:\n",
    "    backtest = model.historical_forecasts(series=series, \n",
    "                                          past_covariates=past_covariates,\n",
    "                                          future_covariates=future_covariates,\n",
    "                                          start=0.9, \n",
    "                                          retrain=False,\n",
    "                                          verbose=True, \n",
    "                                          forecast_horizon=10)\n",
    "    \n",
    "    series[-len(backtest)-100:].plot()\n",
    "    backtest.plot(label='backtest (n=10)')\n",
    "    print('Backtest RMSE = {}'.format(rmse(series, backtest)))\n",
    "    \n",
    "\n",
    "eval_model(model_nbeats, past_covariates=covariates)"
   ]
  },
  {
   "cell_type": "code",
   "execution_count": null,
   "id": "68705001-981f-4204-92ae-5858e0491bbf",
   "metadata": {},
   "outputs": [],
   "source": [
    "# Blackweek = Backtest RMSE = 10149.108457868335\n",
    "# Time = Backtest RMSE = 9125.724954096868\n",
    "# All = Backtest RMSE = 9857.475607362147"
   ]
  },
  {
   "cell_type": "code",
   "execution_count": null,
   "id": "4d7f051d-3725-4f2c-82d0-f87befedb677",
   "metadata": {},
   "outputs": [],
   "source": [
    "pred = model.predict(n=10,\n",
    "                     past_covariates=past_covariates,\n",
    "                     future_covariates=future_covariates)"
   ]
  },
  {
   "cell_type": "code",
   "execution_count": null,
   "id": "b531e97f-9793-4025-9c83-fd78b9ed4b14",
   "metadata": {},
   "outputs": [],
   "source": [
    "pred_series = model_nbeats.historical_forecasts(\n",
    "    series,\n",
    "    start=pd.Timestamp(\"20221001\"),\n",
    "    forecast_horizon=10,\n",
    "    stride=5,\n",
    "    retrain=False,\n",
    "    verbose=True,\n",
    ")"
   ]
  },
  {
   "cell_type": "markdown",
   "id": "8e4d6676-5eca-4328-9241-194c565fea7b",
   "metadata": {},
   "source": []
  },
  {
   "cell_type": "markdown",
   "id": "0c6b2acf-ee4a-44d2-8c08-b10661ecf619",
   "metadata": {},
   "source": [
    "### Temporal Fusion Transformer"
   ]
  },
  {
   "cell_type": "code",
   "execution_count": 20,
   "id": "70bb122e-10d9-4cca-a690-10e216e1cb02",
   "metadata": {},
   "outputs": [],
   "source": [
    "import numpy as np\n",
    "import pandas as pd\n",
    "from tqdm import tqdm_notebook as tqdm\n",
    "\n",
    "import matplotlib.pyplot as plt\n",
    "\n",
    "from darts import TimeSeries, concatenate\n",
    "from darts.dataprocessing.transformers import Scaler\n",
    "from darts.models import TFTModel\n",
    "from darts.metrics import mape\n",
    "from darts.utils.statistics import check_seasonality, plot_acf\n",
    "from darts.datasets import AirPassengersDataset, IceCreamHeaterDataset\n",
    "from darts.utils.timeseries_generation import datetime_attribute_timeseries\n",
    "from darts.utils.likelihood_models import QuantileRegression\n",
    "\n",
    "import warnings\n",
    "\n",
    "warnings.filterwarnings(\"ignore\")\n",
    "import logging\n",
    "\n",
    "logging.disable(logging.CRITICAL)"
   ]
  },
  {
   "cell_type": "code",
   "execution_count": 21,
   "id": "e6cf6850-c109-48d5-9001-32a62dd0db83",
   "metadata": {},
   "outputs": [],
   "source": [
    "# before starting, we define some constants\n",
    "num_samples = 200\n",
    "\n",
    "figsize = (9, 6)\n",
    "lowest_q, low_q, high_q, highest_q = 0.01, 0.1, 0.9, 0.99\n",
    "label_q_outer = f\"{int(lowest_q * 100)}-{int(highest_q * 100)}th percentiles\"\n",
    "label_q_inner = f\"{int(low_q * 100)}-{int(high_q * 100)}th percentiles\""
   ]
  },
  {
   "cell_type": "code",
   "execution_count": null,
   "id": "a2158cdc-d7a9-4fec-a989-d3976ddb59f2",
   "metadata": {},
   "outputs": [],
   "source": []
  },
  {
   "cell_type": "code",
   "execution_count": 24,
   "id": "f32bc49e-4ace-4cc2-9890-cb11972a51b1",
   "metadata": {},
   "outputs": [],
   "source": [
    "# Create training and validation sets:\n",
    "training_cutoff = pd.Timestamp(\"20221115\")\n",
    "train, val = series.split_after(training_cutoff)\n",
    "\n",
    "# Normalize the time series (note: we avoid fitting the transformer on the validation set)\n",
    "transformer = Scaler()\n",
    "train_transformed = transformer.fit_transform(train)\n",
    "val_transformed = transformer.transform(val)\n",
    "series_transformed = transformer.transform(series)\n",
    "\n",
    "# create year, month and integer index covariate series\n",
    "covariates = datetime_attribute_timeseries(series, attribute=\"year\", one_hot=False)\n",
    "covariates = covariates.stack(\n",
    "    datetime_attribute_timeseries(series, attribute=\"month\", one_hot=False)\n",
    ")\n",
    "covariates = covariates.stack(\n",
    "    TimeSeries.from_times_and_values(\n",
    "        times=series.time_index,\n",
    "        values=np.arange(len(series)),\n",
    "        columns=[\"linear_increase\"],\n",
    "    )\n",
    ")\n",
    "covariates = covariates.astype(np.float32)\n",
    "\n",
    "# transform covariates (note: we fit the transformer on train split and can then transform the entire covariates series)\n",
    "scaler_covs = Scaler()\n",
    "cov_train, cov_val = covariates.split_after(training_cutoff)\n",
    "scaler_covs.fit(cov_train)\n",
    "covariates_transformed = scaler_covs.transform(covariates)"
   ]
  },
  {
   "cell_type": "code",
   "execution_count": 26,
   "id": "ac721a14-74ae-4aa2-a5e7-84bdfaf8a4f4",
   "metadata": {},
   "outputs": [],
   "source": [
    "# default quantiles for QuantileRegression\n",
    "quantiles = [\n",
    "    0.01,\n",
    "    0.05,\n",
    "    0.1,\n",
    "    0.15,\n",
    "    0.2,\n",
    "    0.25,\n",
    "    0.3,\n",
    "    0.4,\n",
    "    0.5,\n",
    "    0.6,\n",
    "    0.7,\n",
    "    0.75,\n",
    "    0.8,\n",
    "    0.85,\n",
    "    0.9,\n",
    "    0.95,\n",
    "    0.99,\n",
    "]\n",
    "input_chunk_length = 24\n",
    "forecast_horizon = 12\n",
    "my_model = TFTModel(\n",
    "    input_chunk_length=input_chunk_length,\n",
    "    output_chunk_length=forecast_horizon,\n",
    "    hidden_size=64,\n",
    "    lstm_layers=1,\n",
    "    num_attention_heads=4,\n",
    "    dropout=0.1,\n",
    "    batch_size=16,\n",
    "    n_epochs=300,\n",
    "    add_relative_index=False,\n",
    "    add_encoders=None,\n",
    "    likelihood=QuantileRegression(\n",
    "        quantiles=quantiles\n",
    "    ),  # QuantileRegression is set per default\n",
    "    # loss_fn=MSELoss(),\n",
    "    random_state=42,\n",
    ")"
   ]
  },
  {
   "cell_type": "code",
   "execution_count": 27,
   "id": "9d3d3a13-115d-4fb4-a111-624ed3e1f335",
   "metadata": {},
   "outputs": [
    {
     "name": "stdout",
     "output_type": "stream",
     "text": [
      "Epoch 299: 100%|█████████████| 58/58 [00:03<00:00, 15.09it/s, train_loss=0.0558]\n"
     ]
    },
    {
     "data": {
      "text/plain": [
       "<darts.models.forecasting.tft_model.TFTModel at 0x7f8cac5d6b30>"
      ]
     },
     "execution_count": 27,
     "metadata": {},
     "output_type": "execute_result"
    }
   ],
   "source": [
    "my_model.fit(train_transformed, future_covariates=covariates_transformed, verbose=True)"
   ]
  },
  {
   "cell_type": "code",
   "execution_count": null,
   "id": "7fb73cf1-411d-4d97-af68-0d8b13842d69",
   "metadata": {},
   "outputs": [],
   "source": [
    "def eval_model(model, n, actual_series, val_series):\n",
    "    pred_series = model.predict(n=n, num_samples=num_samples)\n",
    "\n",
    "    # plot actual series\n",
    "    plt.figure(figsize=figsize)\n",
    "    actual_series[: pred_series.end_time()].plot(label=\"actual\")\n",
    "\n",
    "    # plot prediction with quantile ranges\n",
    "    pred_series.plot(\n",
    "        low_quantile=lowest_q, high_quantile=highest_q, label=label_q_outer\n",
    "    )\n",
    "    pred_series.plot(low_quantile=low_q, high_quantile=high_q, label=label_q_inner)\n",
    "\n",
    "    plt.title(\"MAPE: {:.2f}%\".format(mape(val_series, pred_series)))\n",
    "    plt.legend()\n",
    "\n",
    "\n",
    "eval_model(my_model, 24, series_transformed, val_transformed)"
   ]
  },
  {
   "cell_type": "code",
   "execution_count": null,
   "id": "b63dc7bc-6c3e-419f-940b-b4556e9a9675",
   "metadata": {},
   "outputs": [],
   "source": [
    "backtest_series = my_model.historical_forecasts(\n",
    "    series_transformed,\n",
    "    future_covariates=covariates_transformed,\n",
    "    start=train.end_time() + train.freq,\n",
    "    num_samples=num_samples,\n",
    "    forecast_horizon=forecast_horizon,\n",
    "    stride=forecast_horizon,\n",
    "    last_points_only=False,\n",
    "    retrain=False,\n",
    "    verbose=True,\n",
    ")"
   ]
  },
  {
   "cell_type": "code",
   "execution_count": null,
   "id": "2dee9471-0fd8-43b2-97c6-101ace314efe",
   "metadata": {},
   "outputs": [],
   "source": [
    "def eval_backtest(backtest_series, actual_series, horizon, start, transformer):\n",
    "    plt.figure(figsize=figsize)\n",
    "    actual_series.plot(label=\"actual\")\n",
    "    backtest_series.plot(\n",
    "        low_quantile=lowest_q, high_quantile=highest_q, label=label_q_outer\n",
    "    )\n",
    "    backtest_series.plot(low_quantile=low_q, high_quantile=high_q, label=label_q_inner)\n",
    "    plt.legend()\n",
    "    plt.title(f\"Backtest, starting {start}, {horizon}-months horizon\")\n",
    "    print(\n",
    "        \"MAPE: {:.2f}%\".format(\n",
    "            mape(\n",
    "                transformer.inverse_transform(actual_series),\n",
    "                transformer.inverse_transform(backtest_series),\n",
    "            )\n",
    "        )\n",
    "    )\n",
    "\n",
    "\n",
    "eval_backtest(\n",
    "    backtest_series=concatenate(backtest_series),\n",
    "    actual_series=series_transformed,\n",
    "    horizon=forecast_horizon,\n",
    "    start=training_cutoff,\n",
    "    transformer=transformer,\n",
    ")"
   ]
  },
  {
   "cell_type": "markdown",
   "id": "c29f0e64-cc78-4471-93dd-cdf51e57cba7",
   "metadata": {},
   "source": [
    "### REST"
   ]
  },
  {
   "cell_type": "code",
   "execution_count": null,
   "id": "ae43c307-8d43-46ba-83b2-807ce515d93a",
   "metadata": {},
   "outputs": [],
   "source": [
    "# Pre processing \n",
    "\n",
    "# Select columns \n",
    "scale_cols = ['q_roll_mean_7d', 'q_roll_std_7d', 'q_roll_mean_14d', 'q_roll_std_14d', 'q_lag_1d',\n",
    "       'q_lag_7d', 'q_lag_14d', 'q_lag_28d', 'q_mean_lag_7_14_28',\n",
    "       'precipitation_height', 'sunshine_duration', 'temperature_air_mean_200',\n",
    "       'sunshine_duration_h', 'suns_classes', 'temp_classes', \"rain_classes\"]\n",
    "\n",
    "       \n",
    "encode_cols = [\"tm_y\"]\n",
    "\n",
    "# Make year a catagory\n",
    "df[encode_cols] = df[encode_cols].astype('category',copy=False)\n",
    "\n",
    "# Get dummies\n",
    "just_dummies = pd.get_dummies(df[encode_cols])\n",
    "encoded_df = pd.concat([df, just_dummies], axis=1)      \n",
    "encoded_df.drop(encode_cols, inplace=True, axis=1)\n",
    "\n",
    "# Split the data into training and testing sets\n",
    "\n",
    "# splot data\n",
    "x_train, x_test = ml_data_split(encoded_df.reset_index(), 10)\n",
    "\n",
    "# get y that has to be predicted\n",
    "y_train = x_train['quantity'].copy()\n",
    "y_test = x_test['quantity'].copy()\n",
    "\n",
    "# clean data: drop y variable and date from dataset\n",
    "#x_train.drop([\"quantity\", 'date'], axis=1, inplace=True)\n",
    "#x_test.drop([\"quantity\", 'date'], axis=1, inplace=True)\n",
    "\n",
    "# Scale the selected columns using MinMaxScaler\n",
    "scaler = MinMaxScaler()\n",
    "scaled_x_train = x_train.copy()\n",
    "scaled_x_test = x_test.copy()\n",
    "\n",
    "scaled_x_train[scale_cols] = scaler.fit_transform(x_train[scale_cols])\n",
    "scaled_x_test[scale_cols] = scaler.transform(x_test[scale_cols])"
   ]
  }
 ],
 "metadata": {
  "kernelspec": {
   "display_name": "Python [conda env:miniconda3-snowflakes]",
   "language": "python",
   "name": "conda-env-miniconda3-snowflakes-py"
  },
  "language_info": {
   "codemirror_mode": {
    "name": "ipython",
    "version": 3
   },
   "file_extension": ".py",
   "mimetype": "text/x-python",
   "name": "python",
   "nbconvert_exporter": "python",
   "pygments_lexer": "ipython3",
   "version": "3.10.6"
  }
 },
 "nbformat": 4,
 "nbformat_minor": 5
}
