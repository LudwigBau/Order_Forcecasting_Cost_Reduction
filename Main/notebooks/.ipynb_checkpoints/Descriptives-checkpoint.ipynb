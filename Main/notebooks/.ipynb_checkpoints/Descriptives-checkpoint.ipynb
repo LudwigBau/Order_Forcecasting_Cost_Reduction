{
 "cells": [
  {
   "cell_type": "code",
   "execution_count": null,
   "id": "82197386-6ec7-48fd-89f0-c17b2ce475c5",
   "metadata": {},
   "outputs": [],
   "source": [
    "# Libaries\n",
    "import pandas as pd\n",
    "import numpy as np\n",
    "import math \n",
    "import matplotlib.pyplot as plt\n",
    "from statsmodels.graphics.tsaplots import plot_acf\n",
    "from sklearn.preprocessing import MinMaxScaler\n",
    "from itertools import cycle"
   ]
  },
  {
   "cell_type": "code",
   "execution_count": null,
   "id": "94685fbc-d5cf-4242-a4b1-da99c40c0e86",
   "metadata": {},
   "outputs": [],
   "source": [
    "# Data\n",
    "df_c = pd.read_csv(\"../data/processed/b2c_orders_clean.csv\") # c = clean\n",
    "L_6 = pd.read_pickle(\"../data/processed/L_6_test.pkl\")"
   ]
  },
  {
   "cell_type": "markdown",
   "id": "8047ddaa-5781-403f-8b9f-5827c535d6ca",
   "metadata": {},
   "source": [
    "## Autocorrelation"
   ]
  },
  {
   "cell_type": "code",
   "execution_count": null,
   "id": "793349db-244f-4113-abfd-65ab8508b49f",
   "metadata": {},
   "outputs": [],
   "source": [
    "# Plot the autocorrelation\n",
    "fig, ax = plt.subplots(figsize=(15, 8))\n",
    "plot_acf(L_6['quantity'], lags=40, ax=ax, color='grey')\n",
    "ax.set_title('')\n",
    "# Save the figure\n",
    "#plt.savefig(\"../data/figures/autocorrelation.png\", dpi=300)\n",
    "plt.show()"
   ]
  },
  {
   "cell_type": "markdown",
   "id": "90d6ae12-481d-4d54-ab2e-c9762f7b8187",
   "metadata": {},
   "source": [
    "## Median Orders Per Time Window"
   ]
  },
  {
   "cell_type": "code",
   "execution_count": null,
   "id": "7750383e-77dc-493f-92bb-8a14a6e5e0ba",
   "metadata": {},
   "outputs": [],
   "source": [
    "# Aggregate Data\n",
    "df_c[\"date\"] = pd.to_datetime(df_c.date)\n",
    "df_c_agg = df_c.groupby(\"date\",as_index=False).sum()"
   ]
  },
  {
   "cell_type": "code",
   "execution_count": null,
   "id": "55231b43-88bb-4279-af03-8a3e77835b05",
   "metadata": {},
   "outputs": [],
   "source": [
    "# Total Sales per Weekdays\n",
    "weekdays = [\"Monday\", \"Tuesday\", \"Wednesday\", \"Thursday\", \"Friday\", \"Saturday\", \"Sunday\"]\n",
    "\n",
    "# Total Sales per Week \n",
    "df_week_days = df_c_agg.groupby(df_c_agg[\"date\"].dt.day_name()).median().reindex(weekdays)\n",
    "#df_week_days.reindex(weekdays).head()\n",
    "\n",
    "# Total Sales per Week of year\n",
    "df_week = df_c_agg.groupby(df_c_agg[\"date\"].dt.week).median()\n",
    "\n",
    "# Total Sales per Month \n",
    "df_month = df_c_agg.groupby(df_c_agg[\"date\"].dt.month).median()\n",
    "\n",
    "# Total Sales per Day of Year\n",
    "df_day_year = df_c_agg.groupby(df_c_agg[\"date\"].dt.dayofyear).median()\n",
    "\n",
    "# Day of Month \n",
    "df_day_month = df_c_agg.groupby(df_c_agg[\"date\"].dt.day).median()\n",
    "\n",
    "# Week of Month\n",
    "df_c_agg['tm_dm'] = df_c_agg.date.dt.day.astype(np.int8)  # Day of month\n",
    "df_c_agg['tm_wm'] = df_c_agg['tm_dm'].apply(lambda x: math.ceil(x / 7)).astype(np.int8)  # number of week in month\n",
    "df_week_month = df_c_agg.groupby(\"tm_wm\").median()"
   ]
  },
  {
   "cell_type": "code",
   "execution_count": null,
   "id": "b278b2c9-cc8e-4902-84c7-0da6110f82aa",
   "metadata": {},
   "outputs": [],
   "source": [
    "# Initialize the MinMaxScaler\n",
    "scaler = MinMaxScaler()\n",
    "\n",
    "# Color\n",
    "color_pal = plt.rcParams['axes.prop_cycle'].by_key()['color']\n",
    "color_cycle = cycle(plt.rcParams['axes.prop_cycle'].by_key()['color'])\n",
    "\n",
    "# Get Graphs for different time frames \n",
    "example_df = [df_week_days, df_week, df_month, df_day_year, df_day_month, df_week_month]\n",
    "title_g = [\"Weekday\", \"Week\", \"Month\", \"Day in Year\", \"Day in Month\", \"Week in Month\"]\n",
    "\n",
    "fig, axs = plt.subplots(3, 2, figsize=(15, 8))\n",
    "axs = axs.flatten()\n",
    "ax_idx = 0\n",
    "\n",
    "for df in example_df:\n",
    "    # Extract and scale the relevant data\n",
    "    data = df[\"quantity\"]\n",
    "    scaled_data = scaler.fit_transform(data.values.reshape(-1, 1))\n",
    "    \n",
    "    # Plot the scaled data\n",
    "    axs[ax_idx].plot(data.index, scaled_data, color=\"black\", lw=1)\n",
    "    axs[ax_idx].set_title(title_g[ax_idx])\n",
    "    axs[ax_idx].set_ylabel(\"Scaled Median Orders\")\n",
    "    axs[ax_idx].set_xlabel(\"Time Unit\")\n",
    "    \n",
    "    # Get the number of y-ticks\n",
    "    n = len(axs[ax_idx].get_yticks())\n",
    "\n",
    "    # Set new y-tick labels\n",
    "    axs[ax_idx].set_yticks(np.linspace(0, 1, n))  # Since MinMaxScaler scales data to [0, 1]\n",
    "    axs[ax_idx].set_yticklabels(range(1, n+1))\n",
    "    \n",
    "    ax_idx += 1\n",
    "\n",
    "plt.tight_layout()\n",
    "#plt.savefig(\"../data/figures/time_series_dimensions.png\", dpi=300)\n",
    "plt.show()"
   ]
  }
 ],
 "metadata": {
  "kernelspec": {
   "display_name": "Python [conda env:miniconda3-snowflakes]",
   "language": "python",
   "name": "conda-env-miniconda3-snowflakes-py"
  },
  "language_info": {
   "codemirror_mode": {
    "name": "ipython",
    "version": 3
   },
   "file_extension": ".py",
   "mimetype": "text/x-python",
   "name": "python",
   "nbconvert_exporter": "python",
   "pygments_lexer": "ipython3",
   "version": "3.10.6"
  }
 },
 "nbformat": 4,
 "nbformat_minor": 5
}
