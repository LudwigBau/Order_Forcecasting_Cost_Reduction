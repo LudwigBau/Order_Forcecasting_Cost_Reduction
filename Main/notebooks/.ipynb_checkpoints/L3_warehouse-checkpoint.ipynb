{
 "cells": [
  {
   "cell_type": "code",
   "execution_count": 1,
   "id": "a49da1c6-af97-4dd1-a018-2aa68ed7611b",
   "metadata": {},
   "outputs": [],
   "source": [
    "# Libaries\n",
    "import warnings\n",
    "warnings.filterwarnings('ignore')\n",
    "\n",
    "import pandas as pd\n",
    "import sys\n",
    "\n",
    "# Setting up path for custom modules \n",
    "sys.path.append('/Users/ludwigbaunach/Documents/Studium/PhD/Alaiko/Paper_1_Project/Main/src')\n",
    "from time_features import to_cyclical_time_features\n",
    "from momentum_features import momentum_grouped\n",
    "from join_weather_holiday import join_weather_holiday"
   ]
  },
  {
   "cell_type": "code",
   "execution_count": null,
   "id": "cd4e54e3-c5d5-4a4b-8023-2c3cb2f9bd83",
   "metadata": {},
   "outputs": [],
   "source": [
    "# Load Dataset (Select B2C Sales)\n",
    "\n",
    "### ORDER DATA ###\n",
    "df = pd.read_csv(\"../data/processed/b2c_orders_clean.csv\")\n",
    "### HOLIDAY DATA ###\n",
    "holiday_df = pd.read_csv(\"../data/intermediate/calender.csv\")\n",
    "### WEATHER DATA ### \n",
    "weather_df = pd.read_csv(\"../data/intermediate/weather.csv\")"
   ]
  },
  {
   "cell_type": "code",
   "execution_count": null,
   "id": "7c6e9985-5751-44f3-8ee0-55a9f46bd7c8",
   "metadata": {},
   "outputs": [],
   "source": [
    "warehouse_df = df.groupby([\"date\",\"warehouse_chain\"]).sum().quantity.reset_index()"
   ]
  },
  {
   "cell_type": "code",
   "execution_count": null,
   "id": "f299c8e9-521e-4ce9-8552-7282751355ab",
   "metadata": {},
   "outputs": [],
   "source": [
    "m_warehouse_df = momentum_grouped(warehouse_df, \"warehouse_chain\")\n",
    "ts_m_warehouse_df = to_cyclical_time_features(m_warehouse_df)"
   ]
  },
  {
   "cell_type": "code",
   "execution_count": null,
   "id": "de989ded-4282-48b0-8e34-959d742adfc1",
   "metadata": {},
   "outputs": [],
   "source": [
    "# Join all\n",
    "final_df = join_weather_holiday(ts_m_warehouse_df, weather_df, holiday_df)"
   ]
  },
  {
   "cell_type": "code",
   "execution_count": null,
   "id": "f0165fda-ff97-4e1f-b0ce-112872d6b809",
   "metadata": {},
   "outputs": [],
   "source": [
    "final_df"
   ]
  },
  {
   "cell_type": "code",
   "execution_count": null,
   "id": "c0e6ea22-fbda-4c5f-b7ce-0f95f0e8349d",
   "metadata": {},
   "outputs": [],
   "source": [
    "# save as picke\n",
    "final_df.to_pickle(\"../data/final/3_warehouse_sales.pkl\") "
   ]
  },
  {
   "cell_type": "code",
   "execution_count": null,
   "id": "52774589-8e90-454f-ba9f-2b08949e35b7",
   "metadata": {},
   "outputs": [],
   "source": [
    "# Save as csv\n",
    "#final_df.to_csv(\"../data/final/warehouse_sales.csv\")"
   ]
  }
 ],
 "metadata": {
  "kernelspec": {
   "display_name": "Python [conda env:miniconda3-snowflakes]",
   "language": "python",
   "name": "conda-env-miniconda3-snowflakes-py"
  },
  "language_info": {
   "codemirror_mode": {
    "name": "ipython",
    "version": 3
   },
   "file_extension": ".py",
   "mimetype": "text/x-python",
   "name": "python",
   "nbconvert_exporter": "python",
   "pygments_lexer": "ipython3",
   "version": "3.10.6"
  }
 },
 "nbformat": 4,
 "nbformat_minor": 5
}
